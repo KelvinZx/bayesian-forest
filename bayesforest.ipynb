{
 "metadata": {
  "name": "",
  "signature": "sha256:c895615f537e897dc8322b9365132baac4fda47d2033703cec8a7b3f15de822e"
 },
 "nbformat": 3,
 "nbformat_minor": 0,
 "worksheets": [
  {
   "cells": [
    {
     "cell_type": "heading",
     "level": 1,
     "metadata": {},
     "source": [
      "Bayesian Forests"
     ]
    },
    {
     "cell_type": "markdown",
     "metadata": {},
     "source": [
      "<br><br>\n",
      "__Abstract:__  We interpret random forests, and bagging ensemble estimators in general, via the framework of nonparametric Bayesian (npB) analysis. The ensemble strategies are revealed as approximations to posterior mean inference for complex summaries of the population data generating process. This insight motivates a class of fully Bayesian forest algorithms that provide gains in interpretability (from a Bayesian perspective) and predictive performance over their classically bagged predecessors. The npB framework is then used to reinterpret common distributed algorithms for efficient forest estimation on Big Data. From this, we propose a novel blocking strategy for fitting tree ensemble predictors on internet-scale data stored in a distributed file system (such as HDFS).\n",
      "<br><br>"
     ]
    },
    {
     "cell_type": "markdown",
     "metadata": {},
     "source": [
      "## Introduction\n",
      "\n",
      "Decision trees are a fundamental tool for machine learning.  Such trees partition the feature (input) space into regions of response homogenaity, such that the response (output) value associated with any point in a given region can be predicted from the average of other observations in that region.  The classification and regression tree (CART) algorithm of Breiman et al (1984) is a common and useful recipe for building trees; it greedily grows a tree through a series of partitions on input features, each of which maximizes reduction in some measure of inpurity at the current tree leaves (terminal nodes; i.e., the implied imput space partitioning).  The development of _random forests_ (RF) by Brieman in 2001, which predict through the average of many CART trees fit to bootstrap re-samples of the data, provided an early archetype for the hugely successful strategy of _tree ensemble learning._  For prediction problems with relatively small input dimensions, or in conjunction with dimension reduction strategies, properly trained ensembles of trees -- or forests -- can often predict out-of-the-box as well as any carefully tuned, application-specific alternative.\n",
      "\n",
      "This review details a straightforward, but not well-recognized, nonparametric Bayesian interpretation of random forests.  Imagine the CART fit for a _population_ data generating process (DGP) with finite support.  This CART greedily partitions the feature support to minimize impurity of the response distribtion conditional on each partition region, and we suppose it terminates while each leaf node has probability greater than some threshold. If we agree that such a population-CART is of interest -- or would be useful for prediction -- then the optimal Bayesian estimate of this useful statistic is its posterior mean.   The posterior distribution of CART fits is induced by our nonparametric Bayesian posterior over random DGPs.\n",
      "The random forest set of trees is an approximate sample from this posterior, such that the RF predictor is a _posterior mean_ prediction rule.  A simple alteration of the RF algorithm leads to an exact sample from the posterior, which we label as a _Bayesian forest_.  \n",
      "\n",
      "Other Bayesian studies of bagging [Clyde+Lee 2003, etc] have focused on its interpretation as _model averaging_, which arises when $\\mathcal{T}$ is a _parameter_ of the data generating process.  We will also compare against a set of Bayesian procedures that interprets the tree in this way -- as an unknown model parameter [the Clyde+Lee paper considers a Bayesian bagging treatment of CART, but their desire to interpret the tree as a model parameter leads to quite different algorithm and analysis].  The set of Bayesian tree models range from a limited to restrictive set of mdoeling assumptions.  All of these models are fit with MCMC, rather than through a bootstrap algorithm.  We also consider non-Bayesian algorithms, such as extremely random trees, that have parallels in this Bayesian tree-model world.  In contrast, the BF/RF framework remains completely nonparametric -- a big strength, which we've moved away from with standard Bayesian treatments.\n",
      "\n",
      "The altered BF algorithm offers a small but reliable improvement on RFs.  However, the big gain is interpretability: when should R/B forests work, and when should we expect the more restrictive Bayesian tree models to be preferable?  This is an important point, as the literature is full of contradictory bake-offs showing that one tree ensemble is preferable to another in OOS prediction.  But we cannot tell when.  The tree structure is so complex that it defies simple analysis, making theoretical guidance rare and weak.  The Bayesian interpretations make it possible to forecast which algorithm will be preferable based upon some basic problem context.  We illustrate this in two simple examples.\n",
      "\n",
      "The interpretable model also allows us to assess appropriateness of various Big Data distributed computing schemes for their ability to recover the posterior mean. From this, we propose a novel blocking strategy for fitting tree ensemble predictors on internet-scale data stored in a distributed file system (such as HDFS), and illustrate the algorithm on an application of user behavior prediction at eBay.\n",
      "\n",
      "\n"
     ]
    },
    {
     "cell_type": "markdown",
     "metadata": {},
     "source": [
      "## Nonparametric Bayesian Forests\n",
      "\n",
      "The classical _distribution free_ framework of nonparametric inference <cite data-cite=\"hollander_nonparametric_1999\">(see, e.g., Hollander + Wolfe, 1999) has two components:\n",
      "1. find a _nonparametric statistic_ $\\mathcal{T}(\\text{DGP})$ that is of interest in your application regardless of the true data generating process (DGP),\n",
      "2. and derive a sampling distribution on $\\mathcal{T}$ under minimal assumptions on the DGP.\n",
      "\n",
      "The Bayesian version of this procedure replaces step 2 with \n",
      "\n",
      "&nbsp;&nbsp;2b.  build a flexible model for the DGP, and derive the posterior distribution on $\\mathcal{T}(\\text{DGP})$ from the posterior distribution on possible DGPs.\n",
      "\n",
      "As detailed below, a simple and powerful nonparametric Bayesian framework models the data generating process through a multinomial probability\n",
      "function on a large number of possible $\\mathbf{z} = \\{\\mathbf{x},y\\}$ input-output points. We apply a limiting\n",
      "non-informative prior, which implies using the observed data as our\n",
      "approximation for the population support.  This provides a posterior over\n",
      "possible DGPs.\n",
      "\n",
      "In the context of this article, 1. is clearly referring to decision trees.   Indeed, trees are useful precisely because they are good predictors regardless of the underlying data distribution -- they do not rely upon distributional assumptions to share information across training observations.  In particular, we'll define $\\mathcal{T}$ as the greedy CART fit for a decision tree that terminates at some minimum leaf probability threshold.  For any realization of the DGP -- which will be a probability function over finite support -- the CART tree $\\mathcal{T}(\\text{DGP})$\n",
      "greedily splits to minimize impurity of the response distribtion conditional on each partition region.\n",
      "If we can sample from the posterior over DGPs (i.e., sample weights on the support), then a forest is constructed by fitting CART to each posterior DGP draw.  The forest is a posterior sample of tree statistics, and  the ensemble average prediction is interpretable as a posterior mean.\n",
      "\n",
      "\n",
      "The forest predictor is a posterior mean for the population CART tree.  This makes it clear when we should expect such forests to do a good job in prediction: when this tree provides a good summary of the conditional response distribution.  This will be the case when the greedy algorithm leads to a good partitioning -- for example, when you have lots of data and a relatively low dimensional feature space.  It will not do as well when the greedy algorithm is unreliable; e.g., in high dimensions, especially when many feature dimensions have little or no influence on the response (i.e., in situations were, even if nonparametric partitioning is the correct approach, the greedy algorithm is likely to converge to a minor mode much worse than best).  More importantly, a forest predictor will also be the inappropriate choice whenever compared against models with properties reflected in the true data generating process.  For example, if the response is a linear function of the features, then knowing the equation for this line through the population is _much more useful_ than any partitioning summary.  Or if the idiosynchratic error around the unknown conditional mean function is homoskedastic, we will get better predictions if we use that information when summarizing the conditional response distribution.  The use of Random or Bayesian forests should thus be reserved for situations where we _need_ to be distribution free -- when the conditional response function defies parametric representation. \n"
     ]
    },
    {
     "cell_type": "markdown",
     "metadata": {},
     "source": [
      "\n",
      "### Model for the data generating process\n",
      "\n",
      "We  employ a Dirichlet-multinomial sampling model in nonparametric Bayesian (NPB) analysis.  The approach dates back to <cite data-cite=\"ferguson_bayesian_1973\">Ferguson (1973)</cite>. \n",
      "<cite data-cite=\"chamberlain_nonparametric_2003\">Chamberlain + Imbens (2003)</cite> provide an overview in the context of\n",
      "econometric problems.\n",
      "<cite data-cite=\"rubin_bayesian_1981\">Rubin (1981)</cite> proposed the Bayesian bootstrap as an algorithm for\n",
      "sampling from versions of the posterior implied by this strategy, and the\n",
      "algorithm has since become closely associated with this model.\n",
      "\n",
      "Use $\\mathbf{z}_i = \\{\\mathbf{x}_i,y_i\\}$ to denote the complete feature and response observation for unit $i$. We suppose that data are drawn _independently_ from a finite number $L$ of possible values,\n",
      "\n",
      "\\begin{equation}\n",
      "\\mathrm{p}(\\mathbf{z}) = \\sum_{l=1}^L \\omega_l \\mathbb{1}{[\\mathbf{z} = \\boldsymbol{\\zeta}_l]}\n",
      "\\end{equation}\n",
      "\n",
      "where $\\omega_l\\geq0\\forall l$ and $\\sum_l \\omega_l = 1$.  Thus the generating process for observation $i$ samples $l_i$ from a multinomial with probability $\\omega_{l_i}$, and this indexes one of the $L$ support points.  Since $L$ can be arbitrarily large, and all data are stored as discrete (up to machine tolerance), this so-far implies no restrictive assumptions beyond that of independence.\n",
      "\n",
      "The conjugate prior for $\\boldsymbol{\\omega}$ is a Dirichlet distribution, written\n",
      "$\\mathrm{Dir}(\\boldsymbol{\\omega}; \\boldsymbol{\\nu}) \\propto \\prod_{l=1}^L\\omega_j^{\\nu_l-1}$.  We\n",
      "will parametrize the prior with a single concentration parameter $\\boldsymbol{\\nu} =\n",
      "a >0$, such that $\\mathbb{E}[\\omega_l] = a/La = 1/L$ and $\\mathrm{var}(\\omega_l) =\n",
      "(L-1)/[L^2(La+1)]$. Suppose you have the observed sample $\\mathbf{Z} = [\\mathbf{z}_1\n",
      "\\cdots \\mathbf{z}_n]'$.  For convenience, we allow $\\boldsymbol{\\zeta}_l=\\boldsymbol{\\zeta}_k$ for $l \\neq k$\n",
      "in the case of repeated values. Write $l_1 \\dots l_n = 1 \\dots n$ so\n",
      "that $\\mathbf{z}_i = \\boldsymbol{\\zeta}_i$ and $\\mathbf{Z} = [\\boldsymbol{\\zeta}_1 \\cdots \\boldsymbol{\\zeta}_n]'$.  Then the posterior\n",
      "distribution for $\\boldsymbol{\\omega}$ has $\\omega_i = a+1$ for $i\\leq n$ and $\\omega_l = a$ for $l>n$, so that\n",
      "\n",
      "\\begin{equation}\n",
      "\\mathrm{p}(\\boldsymbol{\\omega} ) \\propto \\prod_{i=1}^n \\omega_i^{a} \\prod_{l=n+1}^L \\omega_l^{a-1}.\n",
      "\\end{equation}\n",
      "\n",
      "This, in turn, defines our posterior for the data generating process through our sampling model above.\n",
      "\n",
      "There are many possible strategies for specification of $a$ and $\\zeta_l$ for\n",
      "$l>n$. (The unobserved $\\zeta_l$ act as data we imagine we might have\n",
      "seen, to smooth the posterior away from the data we have actually observed.\n",
      "See <cite data-cite=\"poirier_bayesian_2011\">Poirier (2011)</cite> for discussion of how such values can be\n",
      "useful in application.)  The non-informative prior that arises as\n",
      "$a\\rightarrow 0$ is a default with massive computational\n",
      "convenience: in this limit, $\\omega_l = 0$ with probability one for\n",
      "$l>n$. (To see this, note that for $l>n$ the posterior has\n",
      "$\\mathbb{E}[\\omega_l]=0$ with variance $\\mathrm{var}(\\omega_l) = \\lim_{a \\to 0}\n",
      "a[n+a(L-1)]/[(n+La)^2(n+La+1)] = 0$.)  We apply this limiting prior\n",
      "throughout, such that our posterior for the data generating process is\n",
      "a multinomial draw from the _observed data points_, with a uniform\n",
      "$\\mathrm{Dir}(\\boldsymbol{1})$ distribution on the $\\boldsymbol{\\omega} = [\\omega_1 \\dots\n",
      "\\omega_n]'$ sampling probabilities.\n"
     ]
    },
    {
     "cell_type": "markdown",
     "metadata": {},
     "source": [
      "### Posterior inference and Bayesian forests\n",
      "\n",
      "Conditional upon $\\boldsymbol{\\omega}$, the population tree $\\mathcal{T}(\\text{DGP})$ is defined through a weighted-sample of the CART version.  In particular, given data $\\mathbf{Z}^\\eta = \\{\\mathbf{X}^\\eta,\\mathbf{y}^\\eta\\}$ in node $\\eta$, sort through all dimensions of all observations in $\\mathbf{Z}^\\eta$ to find the split that minimizes the average of some $\\boldsymbol{\\omega}$ impurity metric across the two new child nodes.  For example, in the case of regression trees (which we focus on), the impurity to minimize is weighted-squared error\n",
      "\n",
      "\\begin{equation}\n",
      "\\mathcal{I}(\\mathbf{y}^\\eta) = \\sum_{i\\in \\eta} \\omega_i (y_i - \\bar y^\\eta )^2\n",
      "\\end{equation}\n",
      "\n",
      "with $\\bar y^\\eta =\\omega_i y_i/\\|\\boldsymbol{\\omega}^\\eta\\|_0$.  This is repeated on every leaf of the tree, and the algorithm terminates when no split leads to a new child $\\|\\boldsymbol{\\omega}^{\\eta^c}\\|_0$ with $\\|\\boldsymbol{\\omega}^{\\eta^{c}}\\|_0$ greater than some threshold.  We'll refer to the resulting weighted CART as $\\mathcal{T}(\\boldsymbol{\\omega})$.\n",
      "\n",
      "Following <cite data-cite=\"rubin_bayesian_1981\">Rubin (1981)</cite> we can obtain a sample from the posterior\n",
      "on $\\mathcal{T}(\\boldsymbol{\\omega})$ through a simple Bayesian bootstrap: for $b=1,\\dots, B$,\n",
      "\n",
      " * draw $\\boldsymbol{\\omega}^b \\sim \\mathrm{Exp}(\\mathbf{1})$, and set $\\boldsymbol{\\Omega}^b = \\mathrm{diag}(\\boldsymbol{\\omega}^b)$; then\n",
      " * run CART to get $\\mathcal{T}(\\boldsymbol{\\omega})$\n",
      "\n",
      "We call this a Bayesian Forest, and it differs from a traditional random forest only in that the weights are drawn from a Dirichlet distribution rather than a multinomial distribution.  To the extent that RF sampling provides a coarse approximation to the BF samples, the former is a convenient (and computationally advantageous, since fewer observations need to be optimized over) approximation.\n"
     ]
    },
    {
     "cell_type": "markdown",
     "metadata": {},
     "source": [
      "### Implementation via scikit-learn\n",
      "\n",
      "We can implement a BF through simple adjustement of the `ensemble` module of `scikit-learn` (`sklearn`).  Upon altering the forest `sample_counts` when bootsrapping to be exponential rather than binomial, we get a bayesian bootstrap. We flag this alternative Bayesian bootstrap by passing `boostrap=2` in any forest class construction (this is documented as a boolean, so we're taking advantage of easy conversion to int).\n",
      "\n",
      "\n",
      "In detail, lines 88-89 of [forest.py](https://github.com/scikit-learn/scikit-learn/blob/master/sklearn/ensemble/forest.py) change from \n",
      "\n",
      "``\n",
      "indices = random_state.randint(0, n_samples, n_samples)\n",
      "sample_counts = np.bincount(indices, minlength=n_samples)\n",
      "``\n",
      "\n",
      "to\n",
      "\n",
      "            ### bayesian forest      \n",
      "            if forest.bootstrap == 2:\n",
      "                sample_counts = random_state.exponential(1,n_samples)\n",
      "            else:    \n",
      "                indices = random_state.randint(0, n_samples, n_samples)\n",
      "                sample_counts = np.bincount(indices, minlength=n_samples)\n",
      "            \n",
      "            #print(\"bs of %d and first 5 weights:\" % forest.bootstrap)\n",
      "            #print(sample_counts[0:5])\n",
      "            ###################\n",
      "\n",
      "You can install the updates with\n",
      "`python setup.py install --user`, and\n",
      "see the script below for how to append this local scipy in front of, say, the anaconda standard.  To check that your change is taking effect, add a print statment like      \n",
      "\n",
      "``\n",
      "print(\"bs of %d and first 5 weights:\" % forest.bootstrap)\n",
      "print(sample_counts[0:5])\n",
      "``\n",
      "\n",
      "\n"
     ]
    },
    {
     "cell_type": "markdown",
     "metadata": {},
     "source": [
      "### Motorcycle data illustration"
     ]
    },
    {
     "cell_type": "code",
     "collapsed": false,
     "input": [
      "import sys\n",
      "# give preference to local update\n",
      "sys.path.append(\"~/.local/lib/python3.4/site-packages\")\n",
      "\n",
      "import numpy as np\n",
      "import scipy as sp\n",
      "import pandas as pd\n",
      "import matplotlib.pyplot as plt\n",
      "from sklearn import tree\n",
      "from sklearn import ensemble\n",
      "import numpy.random as rn\n",
      "\n",
      "%matplotlib inline\n",
      "plt.rc('figure', figsize=(14,6))\n",
      "plt.rc('figure.subplot', wspace=.33)"
     ],
     "language": "python",
     "metadata": {},
     "outputs": [],
     "prompt_number": 93
    },
    {
     "cell_type": "code",
     "collapsed": false,
     "input": [
      "mcycle = pd.read_csv('data/mcycle.csv')\n",
      "Xm = mcycle['times'].values.reshape(-1,1)\n",
      "ym = mcycle['accel'].values"
     ],
     "language": "python",
     "metadata": {},
     "outputs": [],
     "prompt_number": 94
    },
    {
     "cell_type": "code",
     "collapsed": false,
     "input": [
      "def mcycle_plot(mod,title,**kwargs):\n",
      "    plt.scatter(mcycle['times'],mcycle['accel'],**kwargs)\n",
      "    plt.xlabel(\"seconds\")\n",
      "    plt.ylabel(\"acceleration\")\n",
      "    plt.title(title)\n",
      "\n",
      "    xgrid = np.arange(0,60,1).reshape(-1,1)\n",
      "    plt.plot(xgrid, mod.predict(xgrid),color=\"red\",linewidth=2)\n"
     ],
     "language": "python",
     "metadata": {},
     "outputs": [],
     "prompt_number": 95
    },
    {
     "cell_type": "code",
     "collapsed": false,
     "input": [
      "# a simple cart fit\n",
      "mcycle_dt = tree.DecisionTreeRegressor(min_samples_leaf=5)\n",
      "mcycle_dt.fit(Xm,ym)\n",
      "# random forest \n",
      "mcycle_rf = ensemble.RandomForestRegressor(100,min_samples_leaf=5)\n",
      "mcycle_rf.fit(Xm,ym)\n",
      "\n",
      "# plot them\n",
      "plt.figure(1)\n",
      "plt.subplot(121)\n",
      "mcycle_plot(mcycle_dt, \"CART\")\n",
      "\n",
      "plt.subplot(122)\n",
      "mcycle_plot(mcycle_rf, \"RF\")\n",
      "plt.plot(xgrid, mcycle_rf.predict(xgrid),color=\"red\",linewidth=2)\n"
     ],
     "language": "python",
     "metadata": {},
     "outputs": [
      {
       "metadata": {},
       "output_type": "pyout",
       "prompt_number": 96,
       "text": [
        "[<matplotlib.lines.Line2D at 0x7fa411206128>]"
       ]
      },
      {
       "metadata": {},
       "output_type": "display_data",
       "png": "[encoded data removed]",
       "text": [
        "<matplotlib.figure.Figure at 0x7fa4118da630>"
       ]
      }
     ],
     "prompt_number": 96
    },
    {
     "cell_type": "code",
     "collapsed": false,
     "input": [
      "# single bayesian cart draw\n",
      "omega = rn.exponential(1,mcycle.shape[0])\n",
      "mcycle_bt = tree.DecisionTreeRegressor(min_samples_leaf=5)\n",
      "mcycle_bt.fit(Xm, ym, sample_weight=omega)\n",
      "# bayesian forest\n",
      "mcycle_bf = ensemble.RandomForestRegressor(100,min_samples_leaf=5, bootstrap=2)\n",
      "mcycle_bf.fit(Xm,ym)\n",
      "\n",
      "plt.subplot(131)\n",
      "plt.hist(omega,normed=1,color=\"aliceblue\")\n",
      "plt.title(\"omega\")\n",
      "\n",
      "plt.subplot(132)\n",
      "mcycle_plot(mcycle_bt, \"Bayesian tree draw\", s=omega*20)\n",
      "\n",
      "plt.subplot(133)\n",
      "mcycle_plot(mcycle_bf, \"Bayesian Forest\")\n"
     ],
     "language": "python",
     "metadata": {},
     "outputs": [
      {
       "metadata": {},
       "output_type": "display_data",
       "png": "[encoded data removed]",
       "text": [
        "<matplotlib.figure.Figure at 0x7fa4110d8c50>"
       ]
      }
     ],
     "prompt_number": 97
    },
    {
     "cell_type": "markdown",
     "metadata": {},
     "source": [
      "## Comparison to other Bayesian treatments\n",
      "\n",
      "* Seems that something like extra trees, which fits a greedy tree choosing only a [small] subset of covariates for evaluation at each split, is ideal. Then the bayesian object of interest is actually itself a forest of random trees on the population data (i.e., randomness comes only from choice of split location).\n",
      "* describe focus on \"implicit regularization\", from Breiman through to ExtraTrees.  This then ties naturally to ideas of a Bayesian posterior mean being best for prediction."
     ]
    },
    {
     "cell_type": "markdown",
     "metadata": {},
     "source": [
      "### Connection to extremely random trees"
     ]
    },
    {
     "cell_type": "markdown",
     "metadata": {},
     "source": [
      "### Two contrasting examples"
     ]
    },
    {
     "cell_type": "markdown",
     "metadata": {},
     "source": [
      "## Multitrunk trees\n",
      "\n",
      "What does the npB model tell us about strategies for distribution?  \n",
      "* little justification for sub-sampling without replacement.  That corresponds to very unlikely posterior weightings.\n",
      "* consider the variance of the target.  e.g., can the mean tree be replaced with tree-at-mean for its trunik?\n",
      "* when the trees are fit to blocks, we have implicitly split on these blocks as a first stage.  \n",
      "* there is motivation for future work on shrinking them together.\n"
     ]
    },
    {
     "cell_type": "markdown",
     "metadata": {},
     "source": [
      "### Uncertainty about simple trees\n",
      "\n",
      "Also, consistency theory in, e.g., CART book."
     ]
    },
    {
     "cell_type": "markdown",
     "metadata": {},
     "source": [
      "### Example: California Housing"
     ]
    },
    {
     "cell_type": "markdown",
     "metadata": {},
     "source": [
      "### Example: user heterogenaity at eBay"
     ]
    },
    {
     "cell_type": "markdown",
     "metadata": {},
     "source": [
      "## Discussion\n",
      "\n",
      "Given a reliance upon cross validation experiments (and simulation studies) for evaluating prediction algorithms, \n",
      "the field has introduced a _sociological_ component to the understanding and development of machine learning tools.  Are the datasets a representative sample of the problems in our domain?  Would that be appropriate?  What does it even mean?\n",
      "\n",
      "<br><br>"
     ]
    },
    {
     "cell_type": "markdown",
     "metadata": {},
     "source": [
      "## Simulation experiments\n",
      "\n",
      "* use Friedman's simulated data, and california housing data\n",
      "\n",
      "* compare against extra trees (http://orbi.ulg.ac.be/bitstream/2268/9357/1/geurts-mlj-advance.pdf), random forests (with and without random support), and BART (http://www.rob-mcculloch.org/some_papers_and_talks/papers/published/BART.pdf).\n",
      "\n",
      "The friedman function is \n",
      "$$\n",
      "y = 10\\mathrm{sin}(\\pi x_1 x_2) + 20 (x_3-0.5)^2 + 10x_4 + 5x_5 + \\varepsilon\n",
      "$$\n",
      "where $\\varepsilon \\sim \\mathrm{N}(0,1)$ and $x_j \\sim \\mathrm{U}(0,1)$.  We include as features the spurrious $x_6 \\dots x_{p}$, matching Friedman with MARS.  \n"
     ]
    },
    {
     "cell_type": "markdown",
     "metadata": {},
     "source": [
      "BART sims used n=100, with p=10,100, and 1000.  They use 3000 MCMC iterations after a burn-in of 1000.  For their OOS experiment, they looked at 100 datasets with n=100 each.  To evaluate each, they drew 1000 new x and calculate \n",
      "\n",
      "$$\n",
      "RMSE = \\sqrt{(1/1000)\\sum_{i}(\\hat f (x_i) - f(x_i))^2}\n",
      "$$\n",
      "\n",
      "Note that this is RMSE on function, not function plus noise."
     ]
    },
    {
     "cell_type": "heading",
     "level": 2,
     "metadata": {},
     "source": [
      "Friedman example"
     ]
    },
    {
     "cell_type": "code",
     "collapsed": false,
     "input": [
      "def fried(x, noisy=True):\n",
      "    f = 10*np.sin(np.pi*x[:,0]*x[:,1]) + 20*(x[:,2]-0.5)**2 + 10*x[:,3]+5*x[:,4]\n",
      "    if noisy: \n",
      "        f += rn.normal(size=n)\n",
      "    return f\n"
     ],
     "language": "python",
     "metadata": {},
     "outputs": [],
     "prompt_number": 12
    },
    {
     "cell_type": "code",
     "collapsed": false,
     "input": [
      "n = 100\n",
      "p = 10\n",
      "X = rn.uniform(0,1,n*p).reshape(n,p)\n",
      "y = fried(X)\n",
      "f = fried(X,noisy=False)"
     ],
     "language": "python",
     "metadata": {},
     "outputs": [],
     "prompt_number": 13
    },
    {
     "cell_type": "code",
     "collapsed": false,
     "input": [
      "msl = 3"
     ],
     "language": "python",
     "metadata": {},
     "outputs": [],
     "prompt_number": 14
    },
    {
     "cell_type": "code",
     "collapsed": false,
     "input": [
      "#DT\n",
      "dt = tree.DecisionTreeRegressor(min_samples_leaf=20)\n",
      "dt.fit(X,y)\n",
      "dtp = dt.predict(X)\n",
      "tree.export_graphviz(dt)\n",
      "!dot -Tpdf tree.dot -o friedtree.pdf\n"
     ],
     "language": "python",
     "metadata": {},
     "outputs": [],
     "prompt_number": 15
    },
    {
     "cell_type": "code",
     "collapsed": false,
     "input": [
      "b = 1\n",
      "for l in range(dt.tree_.value.shape[0]):\n",
      "    if dt.tree_.value[l,0,0] != 0.:\n",
      "        dt.tree_.value[l,0,0] = b\n",
      "        b+=1"
     ],
     "language": "python",
     "metadata": {},
     "outputs": [],
     "prompt_number": 16
    },
    {
     "cell_type": "code",
     "collapsed": false,
     "input": [
      "dt.predict(X[0:10])\n",
      "tree.export_graphviz(dt,out_file=\"graphs/friedtree.dot\")\n",
      "!dot -Tpdf graphs/friedtree.dot -o graphs/friedtree.pdf\n"
     ],
     "language": "python",
     "metadata": {},
     "outputs": [],
     "prompt_number": 17
    },
    {
     "cell_type": "code",
     "collapsed": false,
     "input": [
      "dir(dt.tree_)\n",
      "dt.tree_.node_count"
     ],
     "language": "python",
     "metadata": {},
     "outputs": [
      {
       "metadata": {},
       "output_type": "pyout",
       "prompt_number": 18,
       "text": [
        "7"
       ]
      }
     ],
     "prompt_number": 18
    },
    {
     "cell_type": "code",
     "collapsed": false,
     "input": [
      "\n",
      "set(dt.tree_.apply(X[0:10].astype(tree._tree.DTYPE)))"
     ],
     "language": "python",
     "metadata": {},
     "outputs": [
      {
       "metadata": {},
       "output_type": "pyout",
       "prompt_number": 19,
       "text": [
        "{1, 3, 5, 6}"
       ]
      }
     ],
     "prompt_number": 19
    },
    {
     "cell_type": "code",
     "collapsed": false,
     "input": [
      "#RF\n",
      "rf = ensemble.RandomForestRegressor(100,min_samples_leaf=msl)\n",
      "rf.fit(X,y)\n",
      "rfp = rf.predict(X)"
     ],
     "language": "python",
     "metadata": {},
     "outputs": [],
     "prompt_number": 20
    },
    {
     "cell_type": "code",
     "collapsed": false,
     "input": [
      "#ET\n",
      "et = ensemble.ExtraTreesRegressor(100,min_samples_leaf=msl)\n",
      "et.fit(X,y)\n",
      "etp = et.predict(X)"
     ],
     "language": "python",
     "metadata": {},
     "outputs": [],
     "prompt_number": 21
    },
    {
     "cell_type": "code",
     "collapsed": false,
     "input": [
      "#BF\n",
      "bf = ensemble.RandomForestRegressor(100,min_samples_leaf=msl,bootstrap=2)\n",
      "bf.fit(X,y)\n",
      "bfp = bf.predict(X)"
     ],
     "language": "python",
     "metadata": {},
     "outputs": [],
     "prompt_number": 22
    },
    {
     "cell_type": "code",
     "collapsed": false,
     "input": [
      "plt.scatter(f, dtp, c=\"dodgerblue\", label=\"DT\",s=20,edgecolors='none')\n",
      "plt.scatter(f, rfp, c=\"orange\", label=\"RF\",s=20,edgecolors='none')\n",
      "plt.scatter(f, etp, c=\"fuchsia\", label=\"ET\",s=20,edgecolors='none')\n",
      "plt.scatter(f, bfp, c=\"green\", label=\"BF\",s=20,edgecolors='none')\n",
      "plt.xlabel(\"response\")\n",
      "plt.ylabel(\"prediction\")\n",
      "plt.legend(frameon=False,loc=4)\n",
      "plt.xlim(4,26)\n",
      "plt.ylim(4,26)\n"
     ],
     "language": "python",
     "metadata": {},
     "outputs": [
      {
       "metadata": {},
       "output_type": "pyout",
       "prompt_number": 23,
       "text": [
        "(4, 26)"
       ]
      },
      {
       "metadata": {},
       "output_type": "display_data",
       "png": "[encoded data removed]",
       "text": [
        "<matplotlib.figure.Figure at 0x7f7f8be6b160>"
       ]
      }
     ],
     "prompt_number": 23
    },
    {
     "cell_type": "code",
     "collapsed": false,
     "input": [
      "def rmse(f,fhat):\n",
      "    return np.sqrt(np.mean( (f-fhat)**2 ))\n"
     ],
     "language": "python",
     "metadata": {},
     "outputs": [],
     "prompt_number": 11
    },
    {
     "cell_type": "code",
     "collapsed": false,
     "input": [
      "ne = 100\n",
      "n = 100\n",
      "p = 10\n",
      "B = 100\n",
      "msl = 1\n",
      "RMSE = {key: [] for key in ['DT','RF','ET','BF']}\n",
      "for b in range(B):\n",
      "    ### data\n",
      "    Xtrain = rn.uniform(0,1,n*p).reshape(n,p)\n",
      "    Xtest = rn.uniform(0,1,1000*p).reshape(1000,p)\n",
      "    y = fried(Xtrain)\n",
      "    f = fried(Xtest,noisy=False)\n",
      "    \n",
      "    #DT\n",
      "    dt = tree.DecisionTreeRegressor(min_samples_leaf=msl)\n",
      "    dt.fit(Xtrain,y)\n",
      "    dtp = dt.predict(Xtest)\n",
      "    RMSE['DT'] += [rmse(f,dtp)]\n",
      "    \n",
      "    #RF\n",
      "    rf = ensemble.RandomForestRegressor(n_estimators=ne,min_samples_leaf=msl)\n",
      "    rf.fit(Xtrain,y)\n",
      "    rfp = rf.predict(Xtest)\n",
      "    RMSE['RF'] += [rmse(f,rfp)]\n",
      "\n",
      "    #ET\n",
      "    et = ensemble.ExtraTreesRegressor(n_estimators=ne,min_samples_leaf=msl)\n",
      "    et.fit(Xtrain,y)\n",
      "    etp = et.predict(Xtest)\n",
      "    RMSE['ET'] += [rmse(f,etp)]\n",
      "\n",
      "    #BF\n",
      "    bf = ensemble.RandomForestRegressor(n_estimators=ne,bootstrap=2,min_samples_leaf=msl)\n",
      "    bf.fit(Xtrain,y)\n",
      "    bfp = bf.predict(Xtest)\n",
      "    RMSE['BF'] += [rmse(f,bfp)]\n",
      "\n",
      "    print(b,end=\" \")\n",
      "\n",
      "RMSE = pd.DataFrame(RMSE)\n",
      "RMSE.boxplot(return_type='axes')\n",
      "\n",
      "print()\n",
      "from operator import itemgetter\n",
      "mrmse = [ (mod,np.mean(RMSE[mod])) for mod in RMSE]\n",
      "sorted(mrmse, key=lambda x: x[1])    "
     ],
     "language": "python",
     "metadata": {},
     "outputs": [
      {
       "output_type": "stream",
       "stream": "stdout",
       "text": [
        "0 1"
       ]
      },
      {
       "output_type": "stream",
       "stream": "stdout",
       "text": [
        " 2"
       ]
      },
      {
       "output_type": "stream",
       "stream": "stdout",
       "text": [
        " 3"
       ]
      },
      {
       "output_type": "stream",
       "stream": "stdout",
       "text": [
        " 4"
       ]
      },
      {
       "output_type": "stream",
       "stream": "stdout",
       "text": [
        " 5"
       ]
      },
      {
       "output_type": "stream",
       "stream": "stdout",
       "text": [
        " 6"
       ]
      },
      {
       "output_type": "stream",
       "stream": "stdout",
       "text": [
        " 7"
       ]
      },
      {
       "output_type": "stream",
       "stream": "stdout",
       "text": [
        " 8"
       ]
      },
      {
       "output_type": "stream",
       "stream": "stdout",
       "text": [
        " 9"
       ]
      },
      {
       "output_type": "stream",
       "stream": "stdout",
       "text": [
        " 10"
       ]
      },
      {
       "output_type": "stream",
       "stream": "stdout",
       "text": [
        " 11"
       ]
      },
      {
       "output_type": "stream",
       "stream": "stdout",
       "text": [
        " 12"
       ]
      },
      {
       "output_type": "stream",
       "stream": "stdout",
       "text": [
        " 13"
       ]
      },
      {
       "output_type": "stream",
       "stream": "stdout",
       "text": [
        " 14"
       ]
      },
      {
       "output_type": "stream",
       "stream": "stdout",
       "text": [
        " 15"
       ]
      },
      {
       "output_type": "stream",
       "stream": "stdout",
       "text": [
        " 16"
       ]
      },
      {
       "output_type": "stream",
       "stream": "stdout",
       "text": [
        " 17"
       ]
      },
      {
       "output_type": "stream",
       "stream": "stdout",
       "text": [
        " 18"
       ]
      },
      {
       "output_type": "stream",
       "stream": "stdout",
       "text": [
        " 19"
       ]
      },
      {
       "output_type": "stream",
       "stream": "stdout",
       "text": [
        " 20"
       ]
      },
      {
       "output_type": "stream",
       "stream": "stdout",
       "text": [
        " 21"
       ]
      },
      {
       "output_type": "stream",
       "stream": "stdout",
       "text": [
        " 22"
       ]
      },
      {
       "output_type": "stream",
       "stream": "stdout",
       "text": [
        " 23"
       ]
      },
      {
       "output_type": "stream",
       "stream": "stdout",
       "text": [
        " 24"
       ]
      },
      {
       "output_type": "stream",
       "stream": "stdout",
       "text": [
        " 25"
       ]
      },
      {
       "output_type": "stream",
       "stream": "stdout",
       "text": [
        " 26"
       ]
      },
      {
       "output_type": "stream",
       "stream": "stdout",
       "text": [
        " 27"
       ]
      },
      {
       "output_type": "stream",
       "stream": "stdout",
       "text": [
        " 28"
       ]
      },
      {
       "output_type": "stream",
       "stream": "stdout",
       "text": [
        " 29"
       ]
      },
      {
       "output_type": "stream",
       "stream": "stdout",
       "text": [
        " 30"
       ]
      },
      {
       "output_type": "stream",
       "stream": "stdout",
       "text": [
        " 31"
       ]
      },
      {
       "output_type": "stream",
       "stream": "stdout",
       "text": [
        " 32"
       ]
      },
      {
       "output_type": "stream",
       "stream": "stdout",
       "text": [
        " 33"
       ]
      },
      {
       "output_type": "stream",
       "stream": "stdout",
       "text": [
        " 34"
       ]
      },
      {
       "output_type": "stream",
       "stream": "stdout",
       "text": [
        " 35"
       ]
      },
      {
       "output_type": "stream",
       "stream": "stdout",
       "text": [
        " 36"
       ]
      },
      {
       "output_type": "stream",
       "stream": "stdout",
       "text": [
        " 37"
       ]
      },
      {
       "output_type": "stream",
       "stream": "stdout",
       "text": [
        " 38"
       ]
      },
      {
       "output_type": "stream",
       "stream": "stdout",
       "text": [
        " 39"
       ]
      },
      {
       "output_type": "stream",
       "stream": "stdout",
       "text": [
        " 40"
       ]
      },
      {
       "output_type": "stream",
       "stream": "stdout",
       "text": [
        " 41"
       ]
      },
      {
       "output_type": "stream",
       "stream": "stdout",
       "text": [
        " 42"
       ]
      },
      {
       "output_type": "stream",
       "stream": "stdout",
       "text": [
        " 43"
       ]
      },
      {
       "output_type": "stream",
       "stream": "stdout",
       "text": [
        " 44"
       ]
      },
      {
       "output_type": "stream",
       "stream": "stdout",
       "text": [
        " 45"
       ]
      },
      {
       "output_type": "stream",
       "stream": "stdout",
       "text": [
        " 46"
       ]
      },
      {
       "output_type": "stream",
       "stream": "stdout",
       "text": [
        " 47"
       ]
      },
      {
       "output_type": "stream",
       "stream": "stdout",
       "text": [
        " 48"
       ]
      },
      {
       "output_type": "stream",
       "stream": "stdout",
       "text": [
        " 49"
       ]
      },
      {
       "output_type": "stream",
       "stream": "stdout",
       "text": [
        " 50"
       ]
      },
      {
       "output_type": "stream",
       "stream": "stdout",
       "text": [
        " 51"
       ]
      },
      {
       "output_type": "stream",
       "stream": "stdout",
       "text": [
        " 52"
       ]
      },
      {
       "output_type": "stream",
       "stream": "stdout",
       "text": [
        " 53"
       ]
      },
      {
       "output_type": "stream",
       "stream": "stdout",
       "text": [
        " 54"
       ]
      },
      {
       "output_type": "stream",
       "stream": "stdout",
       "text": [
        " 55"
       ]
      },
      {
       "output_type": "stream",
       "stream": "stdout",
       "text": [
        " 56"
       ]
      },
      {
       "output_type": "stream",
       "stream": "stdout",
       "text": [
        " 57"
       ]
      },
      {
       "output_type": "stream",
       "stream": "stdout",
       "text": [
        " 58"
       ]
      },
      {
       "output_type": "stream",
       "stream": "stdout",
       "text": [
        " 59"
       ]
      },
      {
       "output_type": "stream",
       "stream": "stdout",
       "text": [
        " 60"
       ]
      },
      {
       "output_type": "stream",
       "stream": "stdout",
       "text": [
        " 61"
       ]
      },
      {
       "output_type": "stream",
       "stream": "stdout",
       "text": [
        " 62"
       ]
      },
      {
       "output_type": "stream",
       "stream": "stdout",
       "text": [
        " 63"
       ]
      },
      {
       "output_type": "stream",
       "stream": "stdout",
       "text": [
        " 64"
       ]
      },
      {
       "output_type": "stream",
       "stream": "stdout",
       "text": [
        " 65"
       ]
      },
      {
       "output_type": "stream",
       "stream": "stdout",
       "text": [
        " 66"
       ]
      },
      {
       "output_type": "stream",
       "stream": "stdout",
       "text": [
        " 67"
       ]
      },
      {
       "output_type": "stream",
       "stream": "stdout",
       "text": [
        " 68"
       ]
      },
      {
       "output_type": "stream",
       "stream": "stdout",
       "text": [
        " 69"
       ]
      },
      {
       "output_type": "stream",
       "stream": "stdout",
       "text": [
        " 70"
       ]
      },
      {
       "output_type": "stream",
       "stream": "stdout",
       "text": [
        " 71"
       ]
      },
      {
       "output_type": "stream",
       "stream": "stdout",
       "text": [
        " 72"
       ]
      },
      {
       "output_type": "stream",
       "stream": "stdout",
       "text": [
        " 73"
       ]
      },
      {
       "output_type": "stream",
       "stream": "stdout",
       "text": [
        " 74"
       ]
      },
      {
       "output_type": "stream",
       "stream": "stdout",
       "text": [
        " 75"
       ]
      },
      {
       "output_type": "stream",
       "stream": "stdout",
       "text": [
        " 76"
       ]
      },
      {
       "output_type": "stream",
       "stream": "stdout",
       "text": [
        " 77"
       ]
      },
      {
       "output_type": "stream",
       "stream": "stdout",
       "text": [
        " 78"
       ]
      },
      {
       "output_type": "stream",
       "stream": "stdout",
       "text": [
        " 79"
       ]
      },
      {
       "output_type": "stream",
       "stream": "stdout",
       "text": [
        " 80"
       ]
      },
      {
       "output_type": "stream",
       "stream": "stdout",
       "text": [
        " 81"
       ]
      },
      {
       "output_type": "stream",
       "stream": "stdout",
       "text": [
        " 82"
       ]
      },
      {
       "output_type": "stream",
       "stream": "stdout",
       "text": [
        " 83"
       ]
      },
      {
       "output_type": "stream",
       "stream": "stdout",
       "text": [
        " 84"
       ]
      },
      {
       "output_type": "stream",
       "stream": "stdout",
       "text": [
        " 85"
       ]
      },
      {
       "output_type": "stream",
       "stream": "stdout",
       "text": [
        " 86"
       ]
      },
      {
       "output_type": "stream",
       "stream": "stdout",
       "text": [
        " 87"
       ]
      },
      {
       "output_type": "stream",
       "stream": "stdout",
       "text": [
        " 88"
       ]
      },
      {
       "output_type": "stream",
       "stream": "stdout",
       "text": [
        " 89"
       ]
      },
      {
       "output_type": "stream",
       "stream": "stdout",
       "text": [
        " 90"
       ]
      },
      {
       "output_type": "stream",
       "stream": "stdout",
       "text": [
        " 91"
       ]
      },
      {
       "output_type": "stream",
       "stream": "stdout",
       "text": [
        " 92"
       ]
      },
      {
       "output_type": "stream",
       "stream": "stdout",
       "text": [
        " 93"
       ]
      },
      {
       "output_type": "stream",
       "stream": "stdout",
       "text": [
        " 94"
       ]
      },
      {
       "output_type": "stream",
       "stream": "stdout",
       "text": [
        " 95"
       ]
      },
      {
       "output_type": "stream",
       "stream": "stdout",
       "text": [
        " 96"
       ]
      },
      {
       "output_type": "stream",
       "stream": "stdout",
       "text": [
        " 97"
       ]
      },
      {
       "output_type": "stream",
       "stream": "stdout",
       "text": [
        " 98"
       ]
      },
      {
       "output_type": "stream",
       "stream": "stdout",
       "text": [
        " 99"
       ]
      },
      {
       "output_type": "stream",
       "stream": "stdout",
       "text": [
        " \n"
       ]
      },
      {
       "metadata": {},
       "output_type": "pyout",
       "prompt_number": 223,
       "text": [
        "[('ET', 2.4760455115806561),\n",
        " ('BF', 2.631447875187511),\n",
        " ('RF', 2.6891921845419673),\n",
        " ('DT', 3.9702091345725936)]"
       ]
      },
      {
       "metadata": {},
       "output_type": "display_data",
       "png": "[encoded data removed]",
       "text": [
        "<matplotlib.figure.Figure at 0x7f7f8b542588>"
       ]
      }
     ],
     "prompt_number": 223
    },
    {
     "cell_type": "markdown",
     "metadata": {},
     "source": [
      "## California housing dataset\n",
      "\n",
      "http://www.dcc.fc.up.pt/~ltorgo/Regression/cal_housing.html\n"
     ]
    },
    {
     "cell_type": "code",
     "collapsed": false,
     "input": [
      "## same data as:\n",
      "# from sklearn.datasets import fetch_california_housing\n",
      "# cah = fetch_california_housing(data_home=\"data\")\n",
      "# Xh = cah['data']\n",
      "# yh = cah[\"target\"]*1e5"
     ],
     "language": "python",
     "metadata": {},
     "outputs": [],
     "prompt_number": 7
    },
    {
     "cell_type": "code",
     "collapsed": false,
     "input": [
      "cah = pd.read_csv('data/CAhousing.csv')\n",
      "print(list(cah))\n",
      "cah[\"medianIncome\"] = cah[\"medianIncome\"]*1e4\n",
      "cahist = plt.hist(cah[\"medianHouseValue\"],color=\"lemonchiffon\")"
     ],
     "language": "python",
     "metadata": {},
     "outputs": [
      {
       "output_type": "stream",
       "stream": "stdout",
       "text": [
        "['longitude', 'latitude', 'housingMedianAge', 'totalRooms', 'totalBedrooms', 'population', 'households', 'medianIncome', 'medianHouseValue']\n"
       ]
      },
      {
       "metadata": {},
       "output_type": "display_data",
       "png": "[encoded data removed]",
       "text": [
        "<matplotlib.figure.Figure at 0x7f3125888d68>"
       ]
      }
     ],
     "prompt_number": 8
    },
    {
     "cell_type": "code",
     "collapsed": false,
     "input": [
      "Xh = cah.drop(\"medianHouseValue\",axis=1)\n",
      "yh = cah[\"medianHouseValue\"] ## it appears this was capped at 500k??"
     ],
     "language": "python",
     "metadata": {},
     "outputs": [],
     "prompt_number": 9
    },
    {
     "cell_type": "code",
     "collapsed": false,
     "input": [
      "ne = 100\n",
      "msl = 1\n",
      "RMSE = {key: [] for key in ['DT','RF','ET','BF']}\n",
      "\n",
      "from sklearn.cross_validation import KFold\n",
      "kf = KFold(len(yh), n_folds=10,shuffle=True,random_state=5807)\n",
      "## output for bart\n",
      "import os\n",
      "os.makedirs(\"data/cafolds\", exist_ok=True)\n",
      "k=0\n",
      "for train, test in kf:\n",
      "    np.savetxt(\"data/cafolds/%d.txt\"%k,test,fmt='%d')\n",
      "    k+=1\n",
      "\n",
      "## run our loop\n",
      "for train, test in kf:\n",
      "    \n",
      "    ### data\n",
      "    Xtrain = Xh.iloc[train].values\n",
      "    Xtest = Xh.iloc[test].values\n",
      "    y = yh[train]\n",
      "    f = yh[test]\n",
      "    \n",
      "    #DT\n",
      "    dt = tree.DecisionTreeRegressor(min_samples_leaf=msl)\n",
      "    dt.fit(Xtrain,y)\n",
      "    dtp = dt.predict(Xtest)\n",
      "    RMSE['DT'] += [rmse(f,dtp)]\n",
      "    \n",
      "    #RF\n",
      "    rf = ensemble.RandomForestRegressor(n_estimators=ne,min_samples_leaf=msl,n_jobs=4)\n",
      "    rf.fit(Xtrain,y)\n",
      "    rfp = rf.predict(Xtest)\n",
      "    RMSE['RF'] += [rmse(f,rfp)]\n",
      "\n",
      "    #ET\n",
      "    et = ensemble.ExtraTreesRegressor(n_estimators=ne,min_samples_leaf=msl,n_jobs=4)\n",
      "    et.fit(Xtrain,y)\n",
      "    etp = et.predict(Xtest)\n",
      "    RMSE['ET'] += [rmse(f,etp)]\n",
      "\n",
      "    #BF\n",
      "    bf = ensemble.RandomForestRegressor(n_estimators=ne,bootstrap=2,\n",
      "                                        min_weight_fraction_leaf=1e-4, n_jobs=4)\n",
      "    %time bf.fit(Xtrain,y)\n",
      "    bfp = bf.predict(Xtest)\n",
      "    RMSE['BF'] += [rmse(f,bfp)]\n",
      "\n",
      "RMSE = pd.DataFrame(RMSE)\n",
      "RMSE.boxplot(return_type='axes')\n",
      "\n",
      "print()\n",
      "from operator import itemgetter\n",
      "mrmse = [ (mod,np.mean(RMSE[mod])) for mod in RMSE]\n",
      "sorted(mrmse, key=lambda x: x[1])    \n"
     ],
     "language": "python",
     "metadata": {},
     "outputs": [
      {
       "output_type": "stream",
       "stream": "stdout",
       "text": [
        "CPU times: user 17.5 s, sys: 15.9 ms, total: 17.5 s\n",
        "Wall time: 4.46 s\n",
        "CPU times: user 19.2 s, sys: 32 ms, total: 19.3 s"
       ]
      },
      {
       "output_type": "stream",
       "stream": "stdout",
       "text": [
        "\n",
        "Wall time: 4.95 s\n",
        "CPU times: user 16.8 s, sys: 0 ns, total: 16.8 s"
       ]
      },
      {
       "output_type": "stream",
       "stream": "stdout",
       "text": [
        "\n",
        "Wall time: 4.35 s\n",
        "CPU times: user 16.7 s, sys: 3.94 ms, total: 16.7 s"
       ]
      },
      {
       "output_type": "stream",
       "stream": "stdout",
       "text": [
        "\n",
        "Wall time: 4.25 s\n",
        "CPU times: user 16.9 s, sys: 12 ms, total: 16.9 s"
       ]
      },
      {
       "output_type": "stream",
       "stream": "stdout",
       "text": [
        "\n",
        "Wall time: 4.35 s\n",
        "CPU times: user 16.8 s, sys: 8.02 ms, total: 16.8 s"
       ]
      },
      {
       "output_type": "stream",
       "stream": "stdout",
       "text": [
        "\n",
        "Wall time: 4.35 s\n",
        "CPU times: user 18.5 s, sys: 16 ms, total: 18.5 s"
       ]
      },
      {
       "output_type": "stream",
       "stream": "stdout",
       "text": [
        "\n",
        "Wall time: 4.75 s\n",
        "CPU times: user 16.6 s, sys: 16 ms, total: 16.6 s"
       ]
      },
      {
       "output_type": "stream",
       "stream": "stdout",
       "text": [
        "\n",
        "Wall time: 4.25 s\n",
        "CPU times: user 17.6 s, sys: 4.04 ms, total: 17.7 s"
       ]
      },
      {
       "output_type": "stream",
       "stream": "stdout",
       "text": [
        "\n",
        "Wall time: 4.56 s\n",
        "CPU times: user 19.7 s, sys: 16 ms, total: 19.7 s"
       ]
      },
      {
       "output_type": "stream",
       "stream": "stdout",
       "text": [
        "\n",
        "Wall time: 5.05 s\n",
        "\n"
       ]
      },
      {
       "metadata": {},
       "output_type": "pyout",
       "prompt_number": 12,
       "text": [
        "[('BF', 48344.75548498211),\n",
        " ('RF', 48674.467699466622),\n",
        " ('ET', 52088.262965168091),\n",
        " ('DT', 68587.017138133495)]"
       ]
      },
      {
       "metadata": {},
       "output_type": "display_data",
       "png": "[encoded data removed]",
       "text": [
        "<matplotlib.figure.Figure at 0x7f31254b0d30>"
       ]
      }
     ],
     "prompt_number": 12
    },
    {
     "cell_type": "code",
     "collapsed": false,
     "input": [
      "mrmse\n",
      "round((mrmse['RF']-mrmse['BF'])/mrmse['BF']*100)"
     ],
     "language": "python",
     "metadata": {},
     "outputs": [
      {
       "metadata": {},
       "output_type": "pyout",
       "prompt_number": 23,
       "text": [
        "1.0"
       ]
      }
     ],
     "prompt_number": 23
    },
    {
     "cell_type": "code",
     "collapsed": false,
     "input": [
      "## add bart\n",
      "## note that bart fit takes around 75 sec, vs 15 sec for BF run in serial.\n",
      "## bart's mean errors are 13% worse than BF\n",
      "## ET's are 8% worse\n",
      "## RF's are 1% worse\n",
      "barterr = pd.read_table(\"graphs/bartca.txt\",header=None)\n",
      "RMSE['bart'] = barterr\n",
      "RMSE.boxplot(return_type='axes')\n",
      "mrmse = RMSE.mean()\n",
      "print(round((mrmse['bart']-mrmse['BF'])/mrmse['BF']*100))\n",
      "RMSE"
     ],
     "language": "python",
     "metadata": {},
     "outputs": [
      {
       "output_type": "stream",
       "stream": "stdout",
       "text": [
        "13.0\n"
       ]
      },
      {
       "html": [
        "<div style=\"max-height:1000px;max-width:1500px;overflow:auto;\">\n",
        "<table border=\"1\" class=\"dataframe\">\n",
        "  <thead>\n",
        "    <tr style=\"text-align: right;\">\n",
        "      <th></th>\n",
        "      <th>BF</th>\n",
        "      <th>DT</th>\n",
        "      <th>ET</th>\n",
        "      <th>RF</th>\n",
        "      <th>bart</th>\n",
        "    </tr>\n",
        "  </thead>\n",
        "  <tbody>\n",
        "    <tr>\n",
        "      <th>0</th>\n",
        "      <td> 50522.541448</td>\n",
        "      <td> 69129.138021</td>\n",
        "      <td> 52431.696000</td>\n",
        "      <td> 51008.035905</td>\n",
        "      <td> 53710.044473</td>\n",
        "    </tr>\n",
        "    <tr>\n",
        "      <th>1</th>\n",
        "      <td> 48939.400480</td>\n",
        "      <td> 68798.080836</td>\n",
        "      <td> 53222.970095</td>\n",
        "      <td> 49261.302058</td>\n",
        "      <td> 58805.580878</td>\n",
        "    </tr>\n",
        "    <tr>\n",
        "      <th>2</th>\n",
        "      <td> 47822.062307</td>\n",
        "      <td> 70161.995000</td>\n",
        "      <td> 51546.655455</td>\n",
        "      <td> 48242.675059</td>\n",
        "      <td> 52950.428088</td>\n",
        "    </tr>\n",
        "    <tr>\n",
        "      <th>3</th>\n",
        "      <td> 46532.020364</td>\n",
        "      <td> 66529.568635</td>\n",
        "      <td> 49613.970756</td>\n",
        "      <td> 46689.973646</td>\n",
        "      <td> 56284.656840</td>\n",
        "    </tr>\n",
        "    <tr>\n",
        "      <th>4</th>\n",
        "      <td> 46579.451859</td>\n",
        "      <td> 66339.527979</td>\n",
        "      <td> 50174.010054</td>\n",
        "      <td> 46664.882936</td>\n",
        "      <td> 55902.760175</td>\n",
        "    </tr>\n",
        "    <tr>\n",
        "      <th>5</th>\n",
        "      <td> 47911.711364</td>\n",
        "      <td> 69271.129771</td>\n",
        "      <td> 51812.792231</td>\n",
        "      <td> 48503.146498</td>\n",
        "      <td> 53970.567991</td>\n",
        "    </tr>\n",
        "    <tr>\n",
        "      <th>6</th>\n",
        "      <td> 49132.294838</td>\n",
        "      <td> 67472.022128</td>\n",
        "      <td> 54086.574932</td>\n",
        "      <td> 49733.884232</td>\n",
        "      <td> 53018.342735</td>\n",
        "    </tr>\n",
        "    <tr>\n",
        "      <th>7</th>\n",
        "      <td> 49242.741528</td>\n",
        "      <td> 69378.149744</td>\n",
        "      <td> 53355.943974</td>\n",
        "      <td> 49370.161622</td>\n",
        "      <td> 54069.884637</td>\n",
        "    </tr>\n",
        "    <tr>\n",
        "      <th>8</th>\n",
        "      <td> 48203.838429</td>\n",
        "      <td> 73397.228252</td>\n",
        "      <td> 52381.625663</td>\n",
        "      <td> 48548.415109</td>\n",
        "      <td> 55371.438503</td>\n",
        "    </tr>\n",
        "    <tr>\n",
        "      <th>9</th>\n",
        "      <td> 48561.492233</td>\n",
        "      <td> 65393.331016</td>\n",
        "      <td> 52256.390493</td>\n",
        "      <td> 48722.199930</td>\n",
        "      <td> 52519.297447</td>\n",
        "    </tr>\n",
        "  </tbody>\n",
        "</table>\n",
        "</div>"
       ],
       "metadata": {},
       "output_type": "pyout",
       "prompt_number": 21,
       "text": [
        "             BF            DT            ET            RF          bart\n",
        "0  50522.541448  69129.138021  52431.696000  51008.035905  53710.044473\n",
        "1  48939.400480  68798.080836  53222.970095  49261.302058  58805.580878\n",
        "2  47822.062307  70161.995000  51546.655455  48242.675059  52950.428088\n",
        "3  46532.020364  66529.568635  49613.970756  46689.973646  56284.656840\n",
        "4  46579.451859  66339.527979  50174.010054  46664.882936  55902.760175\n",
        "5  47911.711364  69271.129771  51812.792231  48503.146498  53970.567991\n",
        "6  49132.294838  67472.022128  54086.574932  49733.884232  53018.342735\n",
        "7  49242.741528  69378.149744  53355.943974  49370.161622  54069.884637\n",
        "8  48203.838429  73397.228252  52381.625663  48548.415109  55371.438503\n",
        "9  48561.492233  65393.331016  52256.390493  48722.199930  52519.297447"
       ]
      },
      {
       "metadata": {},
       "output_type": "display_data",
       "png": "[encoded data removed]",
       "text": [
        "<matplotlib.figure.Figure at 0x7f3125505668>"
       ]
      }
     ],
     "prompt_number": 21
    },
    {
     "cell_type": "markdown",
     "metadata": {},
     "source": [
      "### Shallow trees"
     ]
    },
    {
     "cell_type": "code",
     "collapsed": false,
     "input": [
      "dt = tree.DecisionTreeRegressor(min_samples_leaf=3500)\n",
      "dt.fit(Xh,yh)"
     ],
     "language": "python",
     "metadata": {},
     "outputs": [
      {
       "metadata": {},
       "output_type": "pyout",
       "prompt_number": 24,
       "text": [
        "DecisionTreeRegressor(criterion='mse', max_depth=None, max_features=None,\n",
        "           max_leaf_nodes=None, min_samples_leaf=3500, min_samples_split=2,\n",
        "           min_weight_fraction_leaf=0.0, random_state=None,\n",
        "           splitter='best')"
       ]
      }
     ],
     "prompt_number": 24
    },
    {
     "cell_type": "code",
     "collapsed": false,
     "input": [
      "dt.predict(Xh)"
     ],
     "language": "python",
     "metadata": {},
     "outputs": [
      {
       "metadata": {},
       "output_type": "pyout",
       "prompt_number": 25,
       "text": [
        "array([ 330551.04857469,  330551.04857469,  330551.04857469, ...,\n",
        "        115275.96449704,  115275.96449704,  115275.96449704])"
       ]
      }
     ],
     "prompt_number": 25
    },
    {
     "cell_type": "code",
     "collapsed": false,
     "input": [
      "for i in range(dt.tree_.node_count):\n",
      "    dt.tree_.value[i,0,0] = round(dt.tree_.value[i,0,0])\n",
      "    # dt.tree_.impurity[i] = round(np.sqrt(dt.tree_.impurity[i]),4)"
     ],
     "language": "python",
     "metadata": {},
     "outputs": [],
     "prompt_number": 26
    },
    {
     "cell_type": "code",
     "collapsed": false,
     "input": [
      "tree.export_graphviz(dt,feature_names=list(Xh),out_file=\"graphs/cahtree.dot\")\n",
      "#!sed -i 's/mse/rmse/g' graphs/cahtree.dot\n",
      "!sed -i 's/mse = [0-9]*\\.[0-9]*\\\\n/ /g' graphs/cahtree.dot\n",
      "!sed -i 's/samples/size/g' graphs/cahtree.dot\n",
      "!sed -i 's/\\[ /\\$/g' graphs/cahtree.dot\n",
      "!sed -i 's/\\.\\]//g' graphs/cahtree.dot\n",
      "!sed -i 's/value/mean/g' graphs/cahtree.dot\n",
      "\n",
      "\n",
      "!dot -Tpdf graphs/cahtree.dot -o graphs/cahtree.pdf"
     ],
     "language": "python",
     "metadata": {},
     "outputs": [],
     "prompt_number": 27
    },
    {
     "cell_type": "markdown",
     "metadata": {},
     "source": [
      "_note that 34.5 degrees north is just north of santa barbara_"
     ]
    },
    {
     "cell_type": "code",
     "collapsed": false,
     "input": [
      "ne = 100\n",
      "msl = 3500\n",
      "shorte = {key: [] for key in ['DT','BF']}\n",
      "\n",
      "## run our loop\n",
      "for train, test in kf:\n",
      "    \n",
      "    ### data\n",
      "    Xtrain = Xh.iloc[train].values\n",
      "    Xtest = Xh.iloc[test].values\n",
      "    y = yh[train]\n",
      "    f = yh[test]\n",
      "    \n",
      "    #DT\n",
      "    dt = tree.DecisionTreeRegressor(min_samples_leaf=msl)\n",
      "    dt.fit(Xtrain,y)\n",
      "    dtp = dt.predict(Xtest)\n",
      "    shorte['DT'] += [rmse(f,dtp)]\n",
      "    \n",
      "    #BF\n",
      "    bf = ensemble.RandomForestRegressor(n_estimators=ne,bootstrap=2,min_samples_leaf=msl)\n",
      "    %time bf.fit(Xtrain,y)\n",
      "    bfp = bf.predict(Xtest)\n",
      "    shorte['BF'] += [rmse(f,bfp)]\n",
      "\n",
      "shorte = pd.DataFrame(shorte)\n",
      "shorte.boxplot(return_type='axes')\n",
      "\n",
      "print()\n",
      "from operator import itemgetter\n",
      "mshorte = [ (mod,np.mean(shorte[mod])) for mod in shorte]\n",
      "sorted(mshorte, key=lambda x: x[1])    \n"
     ],
     "language": "python",
     "metadata": {},
     "outputs": [
      {
       "output_type": "stream",
       "stream": "stdout",
       "text": [
        "CPU times: user 2.26 s, sys: 2 \u00b5s, total: 2.26 s\n",
        "Wall time: 2.26 s\n",
        "CPU times: user 2.26 s, sys: 0 ns, total: 2.26 s"
       ]
      },
      {
       "output_type": "stream",
       "stream": "stdout",
       "text": [
        "\n",
        "Wall time: 2.26 s\n",
        "CPU times: user 2.25 s, sys: 0 ns, total: 2.25 s"
       ]
      },
      {
       "output_type": "stream",
       "stream": "stdout",
       "text": [
        "\n",
        "Wall time: 2.24 s\n",
        "CPU times: user 2.24 s, sys: 0 ns, total: 2.24 s"
       ]
      },
      {
       "output_type": "stream",
       "stream": "stdout",
       "text": [
        "\n",
        "Wall time: 2.24 s\n",
        "CPU times: user 2.23 s, sys: 0 ns, total: 2.23 s"
       ]
      },
      {
       "output_type": "stream",
       "stream": "stdout",
       "text": [
        "\n",
        "Wall time: 2.23 s\n",
        "CPU times: user 2.3 s, sys: 0 ns, total: 2.3 s"
       ]
      },
      {
       "output_type": "stream",
       "stream": "stdout",
       "text": [
        "\n",
        "Wall time: 2.3 s\n",
        "CPU times: user 2.37 s, sys: 0 ns, total: 2.37 s"
       ]
      },
      {
       "output_type": "stream",
       "stream": "stdout",
       "text": [
        "\n",
        "Wall time: 2.37 s\n",
        "CPU times: user 2.26 s, sys: 0 ns, total: 2.26 s"
       ]
      },
      {
       "output_type": "stream",
       "stream": "stdout",
       "text": [
        "\n",
        "Wall time: 2.26 s\n",
        "CPU times: user 2.27 s, sys: 0 ns, total: 2.27 s"
       ]
      },
      {
       "output_type": "stream",
       "stream": "stdout",
       "text": [
        "\n",
        "Wall time: 2.27 s\n",
        "CPU times: user 2.31 s, sys: 0 ns, total: 2.31 s"
       ]
      },
      {
       "output_type": "stream",
       "stream": "stdout",
       "text": [
        "\n",
        "Wall time: 2.31 s\n",
        "\n"
       ]
      },
      {
       "metadata": {},
       "output_type": "pyout",
       "prompt_number": 285,
       "text": [
        "[('BF', 87635.288925772722), ('DT', 88671.327571455593)]"
       ]
      },
      {
       "metadata": {},
       "output_type": "display_data",
       "png": "[encoded data removed]",
       "text": [
        "<matplotlib.figure.Figure at 0x7f7f8b605198>"
       ]
      }
     ],
     "prompt_number": 285
    },
    {
     "cell_type": "code",
     "collapsed": false,
     "input": [
      "err= {a:b for (a,b) in mshorte}\n",
      "round((err['DT']-err['BF'])/err['BF']*100)"
     ],
     "language": "python",
     "metadata": {},
     "outputs": [
      {
       "metadata": {},
       "output_type": "pyout",
       "prompt_number": 287,
       "text": [
        "1.0"
       ]
      }
     ],
     "prompt_number": 287
    },
    {
     "cell_type": "heading",
     "level": 3,
     "metadata": {},
     "source": [
      "Sub-tree experiment"
     ]
    },
    {
     "cell_type": "code",
     "collapsed": false,
     "input": [
      "def multitrunk(x,y,test,f,k=None,pretree=True,ntree=100):\n",
      "    if pretree: \n",
      "        dt = tree.DecisionTreeRegressor(min_samples_leaf=3000)\n",
      "        dt.fit(x,y)\n",
      "        bvec = dt.tree_.apply(x.astype(tree._tree.DTYPE))\n",
      "        print(\"%d nodes\" % dt.tree_.node_count, end=\" \")\n",
      "        tree.export_graphviz(dt,\n",
      "                            feature_names=list(Xh),\n",
      "                            out_file=\"data/cafolds/tree%d.dot\"%k)\n",
      "        #\n",
      "    else:\n",
      "        bvec = rn.random_integers(0,4,x.shape[0])\n",
      "        print(\"%d obs in train\" % x.shape[0], end=\" \")\n",
      "    bset = set(bvec)\n",
      "    forest = {}\n",
      "    for b in bset:\n",
      "        print(b, end=\" \")\n",
      "        forest[b] = ensemble.RandomForestRegressor(\n",
      "                        ntree,bootstrap=1,min_samples_leaf=3,n_jobs=4)\n",
      "        isb = bvec==b\n",
      "        forest[b].fit(x[isb,:],y[isb])\n",
      "    \n",
      "    if pretree:\n",
      "        yhat = np.empty(test.shape[0])\n",
      "        btest = dt.tree_.apply(test.astype(tree._tree.DTYPE))\n",
      "        for b in bset:\n",
      "            print(b, end=\" \")\n",
      "            isb = btest==b\n",
      "            yhat[isb] = forest[b].predict(test[isb,:])\n",
      "    else:\n",
      "        yhat = np.zeros(test.shape[0])\n",
      "        for b in bset:\n",
      "            print(b, end=\" \")\n",
      "            yhat += forest[b].predict(test)/5.0\n",
      "            \n",
      "    err = rmse(f,yhat)\n",
      "    print(err)\n",
      "    return err\n"
     ],
     "language": "python",
     "metadata": {},
     "outputs": [],
     "prompt_number": 43
    },
    {
     "cell_type": "code",
     "collapsed": false,
     "input": [
      "sube = {key: [] for key in ['pretree','randsamp']}\n",
      "k = 0\n",
      "for train, test in kf:\n",
      "    print(k)\n",
      "\n",
      "    Xtrain = Xh.iloc[train].values\n",
      "    Xtest = Xh.iloc[test].values\n",
      "    y = yh[train]\n",
      "    f = yh[test]\n",
      "    \n",
      "    sube['pretree'] += [multitrunk(Xtrain,y,Xtest,f,k=k)]\n",
      "    sube['randsamp'] += [multitrunk(Xtrain,y,Xtest,f,k=k,pretree=False)]\n",
      "    \n",
      "    k+=1\n",
      "\n"
     ],
     "language": "python",
     "metadata": {},
     "outputs": [
      {
       "output_type": "stream",
       "stream": "stdout",
       "text": [
        "0\n",
        "9 nodes 8 3"
       ]
      },
      {
       "output_type": "stream",
       "stream": "stdout",
       "text": [
        " 4"
       ]
      },
      {
       "output_type": "stream",
       "stream": "stdout",
       "text": [
        " 6"
       ]
      },
      {
       "output_type": "stream",
       "stream": "stdout",
       "text": [
        " 7"
       ]
      },
      {
       "output_type": "stream",
       "stream": "stdout",
       "text": [
        " 8"
       ]
      },
      {
       "output_type": "stream",
       "stream": "stdout",
       "text": [
        " 3"
       ]
      },
      {
       "output_type": "stream",
       "stream": "stdout",
       "text": [
        " 4"
       ]
      },
      {
       "output_type": "stream",
       "stream": "stdout",
       "text": [
        " 6"
       ]
      },
      {
       "output_type": "stream",
       "stream": "stdout",
       "text": [
        " 7"
       ]
      },
      {
       "output_type": "stream",
       "stream": "stdout",
       "text": [
        " 50850.9770172"
       ]
      },
      {
       "output_type": "stream",
       "stream": "stdout",
       "text": [
        "\n",
        "18576 obs in train 0 1"
       ]
      },
      {
       "output_type": "stream",
       "stream": "stdout",
       "text": [
        " 2"
       ]
      },
      {
       "output_type": "stream",
       "stream": "stdout",
       "text": [
        " 3"
       ]
      },
      {
       "output_type": "stream",
       "stream": "stdout",
       "text": [
        " 4"
       ]
      },
      {
       "output_type": "stream",
       "stream": "stdout",
       "text": [
        " 0"
       ]
      },
      {
       "output_type": "stream",
       "stream": "stdout",
       "text": [
        " 1"
       ]
      },
      {
       "output_type": "stream",
       "stream": "stdout",
       "text": [
        " 2"
       ]
      },
      {
       "output_type": "stream",
       "stream": "stdout",
       "text": [
        " 3"
       ]
      },
      {
       "output_type": "stream",
       "stream": "stdout",
       "text": [
        " 4"
       ]
      },
      {
       "output_type": "stream",
       "stream": "stdout",
       "text": [
        " 54473.1038477"
       ]
      },
      {
       "output_type": "stream",
       "stream": "stdout",
       "text": [
        "\n",
        "1\n",
        "9 nodes 8 3"
       ]
      },
      {
       "output_type": "stream",
       "stream": "stdout",
       "text": [
        " 4"
       ]
      },
      {
       "output_type": "stream",
       "stream": "stdout",
       "text": [
        " 6"
       ]
      },
      {
       "output_type": "stream",
       "stream": "stdout",
       "text": [
        " 7"
       ]
      },
      {
       "output_type": "stream",
       "stream": "stdout",
       "text": [
        " 8"
       ]
      },
      {
       "output_type": "stream",
       "stream": "stdout",
       "text": [
        " 3"
       ]
      },
      {
       "output_type": "stream",
       "stream": "stdout",
       "text": [
        " 4"
       ]
      },
      {
       "output_type": "stream",
       "stream": "stdout",
       "text": [
        " 6"
       ]
      },
      {
       "output_type": "stream",
       "stream": "stdout",
       "text": [
        " 7"
       ]
      },
      {
       "output_type": "stream",
       "stream": "stdout",
       "text": [
        " 49543.8486838"
       ]
      },
      {
       "output_type": "stream",
       "stream": "stdout",
       "text": [
        "\n",
        "18576 obs in train 0 1"
       ]
      },
      {
       "output_type": "stream",
       "stream": "stdout",
       "text": [
        " 2"
       ]
      },
      {
       "output_type": "stream",
       "stream": "stdout",
       "text": [
        " 3"
       ]
      },
      {
       "output_type": "stream",
       "stream": "stdout",
       "text": [
        " 4"
       ]
      },
      {
       "output_type": "stream",
       "stream": "stdout",
       "text": [
        " 0"
       ]
      },
      {
       "output_type": "stream",
       "stream": "stdout",
       "text": [
        " 1"
       ]
      },
      {
       "output_type": "stream",
       "stream": "stdout",
       "text": [
        " 2"
       ]
      },
      {
       "output_type": "stream",
       "stream": "stdout",
       "text": [
        " 3"
       ]
      },
      {
       "output_type": "stream",
       "stream": "stdout",
       "text": [
        " 4"
       ]
      },
      {
       "output_type": "stream",
       "stream": "stdout",
       "text": [
        " 54562.9093341"
       ]
      },
      {
       "output_type": "stream",
       "stream": "stdout",
       "text": [
        "\n",
        "2\n",
        "9 nodes 8 3"
       ]
      },
      {
       "output_type": "stream",
       "stream": "stdout",
       "text": [
        " 4"
       ]
      },
      {
       "output_type": "stream",
       "stream": "stdout",
       "text": [
        " 6"
       ]
      },
      {
       "output_type": "stream",
       "stream": "stdout",
       "text": [
        " 7"
       ]
      },
      {
       "output_type": "stream",
       "stream": "stdout",
       "text": [
        " 8"
       ]
      },
      {
       "output_type": "stream",
       "stream": "stdout",
       "text": [
        " 3"
       ]
      },
      {
       "output_type": "stream",
       "stream": "stdout",
       "text": [
        " 4"
       ]
      },
      {
       "output_type": "stream",
       "stream": "stdout",
       "text": [
        " 6"
       ]
      },
      {
       "output_type": "stream",
       "stream": "stdout",
       "text": [
        " 7"
       ]
      },
      {
       "output_type": "stream",
       "stream": "stdout",
       "text": [
        " 48323.5384051"
       ]
      },
      {
       "output_type": "stream",
       "stream": "stdout",
       "text": [
        "\n",
        "18576 obs in train 0 1"
       ]
      },
      {
       "output_type": "stream",
       "stream": "stdout",
       "text": [
        " 2"
       ]
      },
      {
       "output_type": "stream",
       "stream": "stdout",
       "text": [
        " 3"
       ]
      },
      {
       "output_type": "stream",
       "stream": "stdout",
       "text": [
        " 4"
       ]
      },
      {
       "output_type": "stream",
       "stream": "stdout",
       "text": [
        " 0"
       ]
      },
      {
       "output_type": "stream",
       "stream": "stdout",
       "text": [
        " 1"
       ]
      },
      {
       "output_type": "stream",
       "stream": "stdout",
       "text": [
        " 2"
       ]
      },
      {
       "output_type": "stream",
       "stream": "stdout",
       "text": [
        " 3"
       ]
      },
      {
       "output_type": "stream",
       "stream": "stdout",
       "text": [
        " 4"
       ]
      },
      {
       "output_type": "stream",
       "stream": "stdout",
       "text": [
        " 52252.8172759"
       ]
      },
      {
       "output_type": "stream",
       "stream": "stdout",
       "text": [
        "\n",
        "3\n",
        "9 nodes 8 3"
       ]
      },
      {
       "output_type": "stream",
       "stream": "stdout",
       "text": [
        " 4"
       ]
      },
      {
       "output_type": "stream",
       "stream": "stdout",
       "text": [
        " 6"
       ]
      },
      {
       "output_type": "stream",
       "stream": "stdout",
       "text": [
        " 7"
       ]
      },
      {
       "output_type": "stream",
       "stream": "stdout",
       "text": [
        " 8"
       ]
      },
      {
       "output_type": "stream",
       "stream": "stdout",
       "text": [
        " 3"
       ]
      },
      {
       "output_type": "stream",
       "stream": "stdout",
       "text": [
        " 4"
       ]
      },
      {
       "output_type": "stream",
       "stream": "stdout",
       "text": [
        " 6"
       ]
      },
      {
       "output_type": "stream",
       "stream": "stdout",
       "text": [
        " 7"
       ]
      },
      {
       "output_type": "stream",
       "stream": "stdout",
       "text": [
        " 47129.3545371"
       ]
      },
      {
       "output_type": "stream",
       "stream": "stdout",
       "text": [
        "\n",
        "18576 obs in train 0 1"
       ]
      },
      {
       "output_type": "stream",
       "stream": "stdout",
       "text": [
        " 2"
       ]
      },
      {
       "output_type": "stream",
       "stream": "stdout",
       "text": [
        " 3"
       ]
      },
      {
       "output_type": "stream",
       "stream": "stdout",
       "text": [
        " 4"
       ]
      },
      {
       "output_type": "stream",
       "stream": "stdout",
       "text": [
        " 0"
       ]
      },
      {
       "output_type": "stream",
       "stream": "stdout",
       "text": [
        " 1"
       ]
      },
      {
       "output_type": "stream",
       "stream": "stdout",
       "text": [
        " 2"
       ]
      },
      {
       "output_type": "stream",
       "stream": "stdout",
       "text": [
        " 3"
       ]
      },
      {
       "output_type": "stream",
       "stream": "stdout",
       "text": [
        " 4"
       ]
      },
      {
       "output_type": "stream",
       "stream": "stdout",
       "text": [
        " 50814.1076651"
       ]
      },
      {
       "output_type": "stream",
       "stream": "stdout",
       "text": [
        "\n",
        "4\n",
        "9 nodes 8 3"
       ]
      },
      {
       "output_type": "stream",
       "stream": "stdout",
       "text": [
        " 4"
       ]
      },
      {
       "output_type": "stream",
       "stream": "stdout",
       "text": [
        " 6"
       ]
      },
      {
       "output_type": "stream",
       "stream": "stdout",
       "text": [
        " 7"
       ]
      },
      {
       "output_type": "stream",
       "stream": "stdout",
       "text": [
        " 8"
       ]
      },
      {
       "output_type": "stream",
       "stream": "stdout",
       "text": [
        " 3"
       ]
      },
      {
       "output_type": "stream",
       "stream": "stdout",
       "text": [
        " 4"
       ]
      },
      {
       "output_type": "stream",
       "stream": "stdout",
       "text": [
        " 6"
       ]
      },
      {
       "output_type": "stream",
       "stream": "stdout",
       "text": [
        " 7"
       ]
      },
      {
       "output_type": "stream",
       "stream": "stdout",
       "text": [
        " 47455.8247979"
       ]
      },
      {
       "output_type": "stream",
       "stream": "stdout",
       "text": [
        "\n",
        "18576 obs in train 0 1"
       ]
      },
      {
       "output_type": "stream",
       "stream": "stdout",
       "text": [
        " 2"
       ]
      },
      {
       "output_type": "stream",
       "stream": "stdout",
       "text": [
        " 3"
       ]
      },
      {
       "output_type": "stream",
       "stream": "stdout",
       "text": [
        " 4"
       ]
      },
      {
       "output_type": "stream",
       "stream": "stdout",
       "text": [
        " 0"
       ]
      },
      {
       "output_type": "stream",
       "stream": "stdout",
       "text": [
        " 1"
       ]
      },
      {
       "output_type": "stream",
       "stream": "stdout",
       "text": [
        " 2"
       ]
      },
      {
       "output_type": "stream",
       "stream": "stdout",
       "text": [
        " 3"
       ]
      },
      {
       "output_type": "stream",
       "stream": "stdout",
       "text": [
        " 4"
       ]
      },
      {
       "output_type": "stream",
       "stream": "stdout",
       "text": [
        " 51572.2532404"
       ]
      },
      {
       "output_type": "stream",
       "stream": "stdout",
       "text": [
        "\n",
        "5\n",
        "9 nodes 8 3"
       ]
      },
      {
       "output_type": "stream",
       "stream": "stdout",
       "text": [
        " 4"
       ]
      },
      {
       "output_type": "stream",
       "stream": "stdout",
       "text": [
        " 6"
       ]
      },
      {
       "output_type": "stream",
       "stream": "stdout",
       "text": [
        " 7"
       ]
      },
      {
       "output_type": "stream",
       "stream": "stdout",
       "text": [
        " 8"
       ]
      },
      {
       "output_type": "stream",
       "stream": "stdout",
       "text": [
        " 3"
       ]
      },
      {
       "output_type": "stream",
       "stream": "stdout",
       "text": [
        " 4"
       ]
      },
      {
       "output_type": "stream",
       "stream": "stdout",
       "text": [
        " 6"
       ]
      },
      {
       "output_type": "stream",
       "stream": "stdout",
       "text": [
        " 7"
       ]
      },
      {
       "output_type": "stream",
       "stream": "stdout",
       "text": [
        " 49181.1527581"
       ]
      },
      {
       "output_type": "stream",
       "stream": "stdout",
       "text": [
        "\n",
        "18576 obs in train 0 1"
       ]
      },
      {
       "output_type": "stream",
       "stream": "stdout",
       "text": [
        " 2"
       ]
      },
      {
       "output_type": "stream",
       "stream": "stdout",
       "text": [
        " 3"
       ]
      },
      {
       "output_type": "stream",
       "stream": "stdout",
       "text": [
        " 4"
       ]
      },
      {
       "output_type": "stream",
       "stream": "stdout",
       "text": [
        " 0"
       ]
      },
      {
       "output_type": "stream",
       "stream": "stdout",
       "text": [
        " 1"
       ]
      },
      {
       "output_type": "stream",
       "stream": "stdout",
       "text": [
        " 2"
       ]
      },
      {
       "output_type": "stream",
       "stream": "stdout",
       "text": [
        " 3"
       ]
      },
      {
       "output_type": "stream",
       "stream": "stdout",
       "text": [
        " 4"
       ]
      },
      {
       "output_type": "stream",
       "stream": "stdout",
       "text": [
        " 52570.8949951"
       ]
      },
      {
       "output_type": "stream",
       "stream": "stdout",
       "text": [
        "\n",
        "6\n",
        "9 nodes 8 3"
       ]
      },
      {
       "output_type": "stream",
       "stream": "stdout",
       "text": [
        " 4"
       ]
      },
      {
       "output_type": "stream",
       "stream": "stdout",
       "text": [
        " 6"
       ]
      },
      {
       "output_type": "stream",
       "stream": "stdout",
       "text": [
        " 7"
       ]
      },
      {
       "output_type": "stream",
       "stream": "stdout",
       "text": [
        " 8"
       ]
      },
      {
       "output_type": "stream",
       "stream": "stdout",
       "text": [
        " 3"
       ]
      },
      {
       "output_type": "stream",
       "stream": "stdout",
       "text": [
        " 4"
       ]
      },
      {
       "output_type": "stream",
       "stream": "stdout",
       "text": [
        " 6"
       ]
      },
      {
       "output_type": "stream",
       "stream": "stdout",
       "text": [
        " 7"
       ]
      },
      {
       "output_type": "stream",
       "stream": "stdout",
       "text": [
        " 50228.1951001"
       ]
      },
      {
       "output_type": "stream",
       "stream": "stdout",
       "text": [
        "\n",
        "18576 obs in train 0 1"
       ]
      },
      {
       "output_type": "stream",
       "stream": "stdout",
       "text": [
        " 2"
       ]
      },
      {
       "output_type": "stream",
       "stream": "stdout",
       "text": [
        " 3"
       ]
      },
      {
       "output_type": "stream",
       "stream": "stdout",
       "text": [
        " 4"
       ]
      },
      {
       "output_type": "stream",
       "stream": "stdout",
       "text": [
        " 0"
       ]
      },
      {
       "output_type": "stream",
       "stream": "stdout",
       "text": [
        " 1"
       ]
      },
      {
       "output_type": "stream",
       "stream": "stdout",
       "text": [
        " 2"
       ]
      },
      {
       "output_type": "stream",
       "stream": "stdout",
       "text": [
        " 3"
       ]
      },
      {
       "output_type": "stream",
       "stream": "stdout",
       "text": [
        " 4"
       ]
      },
      {
       "output_type": "stream",
       "stream": "stdout",
       "text": [
        " 54310.4346857"
       ]
      },
      {
       "output_type": "stream",
       "stream": "stdout",
       "text": [
        "\n",
        "7\n",
        "9 nodes 8 3"
       ]
      },
      {
       "output_type": "stream",
       "stream": "stdout",
       "text": [
        " 4"
       ]
      },
      {
       "output_type": "stream",
       "stream": "stdout",
       "text": [
        " 6"
       ]
      },
      {
       "output_type": "stream",
       "stream": "stdout",
       "text": [
        " 7"
       ]
      },
      {
       "output_type": "stream",
       "stream": "stdout",
       "text": [
        " 8"
       ]
      },
      {
       "output_type": "stream",
       "stream": "stdout",
       "text": [
        " 3"
       ]
      },
      {
       "output_type": "stream",
       "stream": "stdout",
       "text": [
        " 4"
       ]
      },
      {
       "output_type": "stream",
       "stream": "stdout",
       "text": [
        " 6"
       ]
      },
      {
       "output_type": "stream",
       "stream": "stdout",
       "text": [
        " 7"
       ]
      },
      {
       "output_type": "stream",
       "stream": "stdout",
       "text": [
        " 50128.3863823"
       ]
      },
      {
       "output_type": "stream",
       "stream": "stdout",
       "text": [
        "\n",
        "18576 obs in train 0 1"
       ]
      },
      {
       "output_type": "stream",
       "stream": "stdout",
       "text": [
        " 2"
       ]
      },
      {
       "output_type": "stream",
       "stream": "stdout",
       "text": [
        " 3"
       ]
      },
      {
       "output_type": "stream",
       "stream": "stdout",
       "text": [
        " 4"
       ]
      },
      {
       "output_type": "stream",
       "stream": "stdout",
       "text": [
        " 0"
       ]
      },
      {
       "output_type": "stream",
       "stream": "stdout",
       "text": [
        " 1"
       ]
      },
      {
       "output_type": "stream",
       "stream": "stdout",
       "text": [
        " 2"
       ]
      },
      {
       "output_type": "stream",
       "stream": "stdout",
       "text": [
        " 3"
       ]
      },
      {
       "output_type": "stream",
       "stream": "stdout",
       "text": [
        " 4"
       ]
      },
      {
       "output_type": "stream",
       "stream": "stdout",
       "text": [
        " 55003.6288555"
       ]
      },
      {
       "output_type": "stream",
       "stream": "stdout",
       "text": [
        "\n",
        "8\n",
        "9 nodes 8 3"
       ]
      },
      {
       "output_type": "stream",
       "stream": "stdout",
       "text": [
        " 4"
       ]
      },
      {
       "output_type": "stream",
       "stream": "stdout",
       "text": [
        " 6"
       ]
      },
      {
       "output_type": "stream",
       "stream": "stdout",
       "text": [
        " 7"
       ]
      },
      {
       "output_type": "stream",
       "stream": "stdout",
       "text": [
        " 8"
       ]
      },
      {
       "output_type": "stream",
       "stream": "stdout",
       "text": [
        " 3"
       ]
      },
      {
       "output_type": "stream",
       "stream": "stdout",
       "text": [
        " 4"
       ]
      },
      {
       "output_type": "stream",
       "stream": "stdout",
       "text": [
        " 6"
       ]
      },
      {
       "output_type": "stream",
       "stream": "stdout",
       "text": [
        " 7"
       ]
      },
      {
       "output_type": "stream",
       "stream": "stdout",
       "text": [
        " 49827.2745518"
       ]
      },
      {
       "output_type": "stream",
       "stream": "stdout",
       "text": [
        "\n",
        "18576 obs in train 0 1"
       ]
      },
      {
       "output_type": "stream",
       "stream": "stdout",
       "text": [
        " 2"
       ]
      },
      {
       "output_type": "stream",
       "stream": "stdout",
       "text": [
        " 3"
       ]
      },
      {
       "output_type": "stream",
       "stream": "stdout",
       "text": [
        " 4"
       ]
      },
      {
       "output_type": "stream",
       "stream": "stdout",
       "text": [
        " 0"
       ]
      },
      {
       "output_type": "stream",
       "stream": "stdout",
       "text": [
        " 1"
       ]
      },
      {
       "output_type": "stream",
       "stream": "stdout",
       "text": [
        " 2"
       ]
      },
      {
       "output_type": "stream",
       "stream": "stdout",
       "text": [
        " 3"
       ]
      },
      {
       "output_type": "stream",
       "stream": "stdout",
       "text": [
        " 4"
       ]
      },
      {
       "output_type": "stream",
       "stream": "stdout",
       "text": [
        " 54137.5053191"
       ]
      },
      {
       "output_type": "stream",
       "stream": "stdout",
       "text": [
        "\n",
        "9\n",
        "9 nodes 8 3"
       ]
      },
      {
       "output_type": "stream",
       "stream": "stdout",
       "text": [
        " 4"
       ]
      },
      {
       "output_type": "stream",
       "stream": "stdout",
       "text": [
        " 6"
       ]
      },
      {
       "output_type": "stream",
       "stream": "stdout",
       "text": [
        " 7"
       ]
      },
      {
       "output_type": "stream",
       "stream": "stdout",
       "text": [
        " 8"
       ]
      },
      {
       "output_type": "stream",
       "stream": "stdout",
       "text": [
        " 3"
       ]
      },
      {
       "output_type": "stream",
       "stream": "stdout",
       "text": [
        " 4"
       ]
      },
      {
       "output_type": "stream",
       "stream": "stdout",
       "text": [
        " 6"
       ]
      },
      {
       "output_type": "stream",
       "stream": "stdout",
       "text": [
        " 7"
       ]
      },
      {
       "output_type": "stream",
       "stream": "stdout",
       "text": [
        " 49785.2413569"
       ]
      },
      {
       "output_type": "stream",
       "stream": "stdout",
       "text": [
        "\n",
        "18576 obs in train 0 1"
       ]
      },
      {
       "output_type": "stream",
       "stream": "stdout",
       "text": [
        " 2"
       ]
      },
      {
       "output_type": "stream",
       "stream": "stdout",
       "text": [
        " 3"
       ]
      },
      {
       "output_type": "stream",
       "stream": "stdout",
       "text": [
        " 4"
       ]
      },
      {
       "output_type": "stream",
       "stream": "stdout",
       "text": [
        " 0"
       ]
      },
      {
       "output_type": "stream",
       "stream": "stdout",
       "text": [
        " 1"
       ]
      },
      {
       "output_type": "stream",
       "stream": "stdout",
       "text": [
        " 2"
       ]
      },
      {
       "output_type": "stream",
       "stream": "stdout",
       "text": [
        " 3"
       ]
      },
      {
       "output_type": "stream",
       "stream": "stdout",
       "text": [
        " 4"
       ]
      },
      {
       "output_type": "stream",
       "stream": "stdout",
       "text": [
        " 52962.9407848"
       ]
      },
      {
       "output_type": "stream",
       "stream": "stdout",
       "text": [
        "\n"
       ]
      }
     ],
     "prompt_number": 44
    },
    {
     "cell_type": "code",
     "collapsed": false,
     "input": [
      "!for K in `seq 0 9`; do dot -Tpdf data/cafolds/tree$K.dot -o data/cafolds/tree$K.pdf; done\n",
      "\n",
      "sube = pd.DataFrame(sube)\n",
      "sube.boxplot(return_type='axes')\n",
      "msube = sube.mean()\n",
      "print(msube)\n",
      "print(round((msube['randsamp']-msube['pretree'])/msube['pretree']*100))\n",
      "sube"
     ],
     "language": "python",
     "metadata": {},
     "outputs": [
      {
       "output_type": "stream",
       "stream": "stdout",
       "text": [
        "pretree     49245.379359\n",
        "randsamp    53266.059600\n",
        "dtype: float64\n",
        "8.0\n"
       ]
      },
      {
       "html": [
        "<div style=\"max-height:1000px;max-width:1500px;overflow:auto;\">\n",
        "<table border=\"1\" class=\"dataframe\">\n",
        "  <thead>\n",
        "    <tr style=\"text-align: right;\">\n",
        "      <th></th>\n",
        "      <th>pretree</th>\n",
        "      <th>randsamp</th>\n",
        "    </tr>\n",
        "  </thead>\n",
        "  <tbody>\n",
        "    <tr>\n",
        "      <th>0</th>\n",
        "      <td> 50850.977017</td>\n",
        "      <td> 54473.103848</td>\n",
        "    </tr>\n",
        "    <tr>\n",
        "      <th>1</th>\n",
        "      <td> 49543.848684</td>\n",
        "      <td> 54562.909334</td>\n",
        "    </tr>\n",
        "    <tr>\n",
        "      <th>2</th>\n",
        "      <td> 48323.538405</td>\n",
        "      <td> 52252.817276</td>\n",
        "    </tr>\n",
        "    <tr>\n",
        "      <th>3</th>\n",
        "      <td> 47129.354537</td>\n",
        "      <td> 50814.107665</td>\n",
        "    </tr>\n",
        "    <tr>\n",
        "      <th>4</th>\n",
        "      <td> 47455.824798</td>\n",
        "      <td> 51572.253240</td>\n",
        "    </tr>\n",
        "    <tr>\n",
        "      <th>5</th>\n",
        "      <td> 49181.152758</td>\n",
        "      <td> 52570.894995</td>\n",
        "    </tr>\n",
        "    <tr>\n",
        "      <th>6</th>\n",
        "      <td> 50228.195100</td>\n",
        "      <td> 54310.434686</td>\n",
        "    </tr>\n",
        "    <tr>\n",
        "      <th>7</th>\n",
        "      <td> 50128.386382</td>\n",
        "      <td> 55003.628855</td>\n",
        "    </tr>\n",
        "    <tr>\n",
        "      <th>8</th>\n",
        "      <td> 49827.274552</td>\n",
        "      <td> 54137.505319</td>\n",
        "    </tr>\n",
        "    <tr>\n",
        "      <th>9</th>\n",
        "      <td> 49785.241357</td>\n",
        "      <td> 52962.940785</td>\n",
        "    </tr>\n",
        "  </tbody>\n",
        "</table>\n",
        "</div>"
       ],
       "metadata": {},
       "output_type": "pyout",
       "prompt_number": 45,
       "text": [
        "        pretree      randsamp\n",
        "0  50850.977017  54473.103848\n",
        "1  49543.848684  54562.909334\n",
        "2  48323.538405  52252.817276\n",
        "3  47129.354537  50814.107665\n",
        "4  47455.824798  51572.253240\n",
        "5  49181.152758  52570.894995\n",
        "6  50228.195100  54310.434686\n",
        "7  50128.386382  55003.628855\n",
        "8  49827.274552  54137.505319\n",
        "9  49785.241357  52962.940785"
       ]
      },
      {
       "metadata": {},
       "output_type": "display_data",
       "png": "[encoded data removed]",
       "text": [
        "<matplotlib.figure.Figure at 0x7f3125465b38>"
       ]
      }
     ],
     "prompt_number": 45
    },
    {
     "cell_type": "code",
     "collapsed": false,
     "input": [
      "print(round((msube['pretree']-mrmse['BF'])/mrmse['BF']*100))\n",
      "print(round((msube['randsamp']-mrmse['BF'])/mrmse['BF']*100))\n"
     ],
     "language": "python",
     "metadata": {},
     "outputs": [
      {
       "output_type": "stream",
       "stream": "stdout",
       "text": [
        "2.0\n",
        "10.0\n"
       ]
      }
     ],
     "prompt_number": 46
    }
   ],
   "metadata": {}
  }
 ]
}