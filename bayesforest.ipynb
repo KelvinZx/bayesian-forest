{
 "metadata": {
  "name": "",
  "signature": "sha256:00af9f1ee3f93e2973a6d1057dffe51ba350f884940019144be52cd82be73ff6"
 },
 "nbformat": 3,
 "nbformat_minor": 0,
 "worksheets": [
  {
   "cells": [
    {
     "cell_type": "code",
     "collapsed": false,
     "input": [
      "### import relevant stuff\n",
      "# to give preference to my local overwrites\n",
      "import sys\n",
      "sys.path.append(\"~/.local/lib/python3.4/site-packages\")\n",
      "\n",
      "import numpy as np\n",
      "import scipy as sp\n",
      "import pandas as pd\n",
      "import matplotlib.pyplot as plt\n",
      "from sklearn import tree\n",
      "from sklearn import ensemble\n",
      "import numpy.random as rn\n",
      "\n",
      "%matplotlib inline"
     ],
     "language": "python",
     "metadata": {},
     "outputs": [],
     "prompt_number": 1
    },
    {
     "cell_type": "code",
     "collapsed": false,
     "input": [
      "mcycle = pd.read_csv('data/mcycle.csv')"
     ],
     "language": "python",
     "metadata": {},
     "outputs": [],
     "prompt_number": 3
    },
    {
     "cell_type": "code",
     "collapsed": false,
     "input": [
      "mcycle[0:5]"
     ],
     "language": "python",
     "metadata": {},
     "outputs": [
      {
       "html": [
        "<div style=\"max-height:1000px;max-width:1500px;overflow:auto;\">\n",
        "<table border=\"1\" class=\"dataframe\">\n",
        "  <thead>\n",
        "    <tr style=\"text-align: right;\">\n",
        "      <th></th>\n",
        "      <th>times</th>\n",
        "      <th>accel</th>\n",
        "    </tr>\n",
        "  </thead>\n",
        "  <tbody>\n",
        "    <tr>\n",
        "      <th>0</th>\n",
        "      <td> 2.4</td>\n",
        "      <td> 0.0</td>\n",
        "    </tr>\n",
        "    <tr>\n",
        "      <th>1</th>\n",
        "      <td> 2.6</td>\n",
        "      <td>-1.3</td>\n",
        "    </tr>\n",
        "    <tr>\n",
        "      <th>2</th>\n",
        "      <td> 3.2</td>\n",
        "      <td>-2.7</td>\n",
        "    </tr>\n",
        "    <tr>\n",
        "      <th>3</th>\n",
        "      <td> 3.6</td>\n",
        "      <td> 0.0</td>\n",
        "    </tr>\n",
        "    <tr>\n",
        "      <th>4</th>\n",
        "      <td> 4.0</td>\n",
        "      <td>-2.7</td>\n",
        "    </tr>\n",
        "  </tbody>\n",
        "</table>\n",
        "</div>"
       ],
       "metadata": {},
       "output_type": "pyout",
       "prompt_number": 3,
       "text": [
        "   times  accel\n",
        "0    2.4    0.0\n",
        "1    2.6   -1.3\n",
        "2    3.2   -2.7\n",
        "3    3.6    0.0\n",
        "4    4.0   -2.7"
       ]
      }
     ],
     "prompt_number": 3
    },
    {
     "cell_type": "code",
     "collapsed": false,
     "input": [
      "Xm = mcycle['times'].values.reshape(-1,1)\n",
      "ym = mcycle['accel'].values"
     ],
     "language": "python",
     "metadata": {},
     "outputs": [],
     "prompt_number": 4
    },
    {
     "cell_type": "code",
     "collapsed": false,
     "input": [
      "plt.scatter(mcycle['times'],mcycle['accel'])\n",
      "plt.xlabel(\"seconds\")\n",
      "plt.ylabel(\"acceleration\")\n",
      "\n",
      "onetree = tree.DecisionTreeRegressor(min_samples_leaf=5)\n",
      "onetree.fit(Xm,ym)\n",
      "xgrid = np.arange(0,60,1).reshape(-1,1)\n",
      "yhat1 = onetree.predict(xgrid)\n",
      "plt.plot(xgrid,yhat1,color=\"red\",linewidth=2)"
     ],
     "language": "python",
     "metadata": {},
     "outputs": [
      {
       "metadata": {},
       "output_type": "pyout",
       "prompt_number": 5,
       "text": [
        "[<matplotlib.lines.Line2D at 0x7f28d27e6668>]"
       ]
      },
      {
       "metadata": {},
       "output_type": "display_data",
       "png": "[encoded data removed]",
       "text": [
        "<matplotlib.figure.Figure at 0x7f28d2874438>"
       ]
      }
     ],
     "prompt_number": 5
    },
    {
     "cell_type": "code",
     "collapsed": false,
     "input": [
      "plt.scatter(mcycle['times'],mcycle['accel'])\n",
      "plt.xlabel(\"seconds\")\n",
      "plt.ylabel(\"acceleration\")\n",
      "\n",
      "rf = ensemble.RandomForestRegressor(100,min_samples_leaf=5,bootstrap=2)\n",
      "rf.fit(Xm,ym)\n",
      "xgrid = np.arange(0,60,1).reshape(-1,1)\n",
      "yhatrf = rf.predict(xgrid)\n",
      "plt.plot(xgrid,yhatrf,color=\"red\",linewidth=2)\n"
     ],
     "language": "python",
     "metadata": {},
     "outputs": [
      {
       "metadata": {},
       "output_type": "pyout",
       "prompt_number": 6,
       "text": [
        "[<matplotlib.lines.Line2D at 0x7f28d2706c50>]"
       ]
      },
      {
       "metadata": {},
       "output_type": "display_data",
       "png": "[encoded data removed]",
       "text": [
        "<matplotlib.figure.Figure at 0x7f28d2736128>"
       ]
      }
     ],
     "prompt_number": 6
    },
    {
     "cell_type": "code",
     "collapsed": false,
     "input": [
      "omega = rn.exponential(1,mcycle.shape[0])\n",
      "\n",
      "plt.figure(1)\n",
      "plt.subplot(121)\n",
      "plt.hist(omega,normed=1,color=\"0.75\")\n",
      "\n",
      "plt.subplot(122)\n",
      "plt.scatter(mcycle['times'],mcycle['accel'],s=omega*20)\n",
      "plt.xlabel(\"seconds\")\n",
      "plt.ylabel(\"acceleration\")\n",
      "wtree = tree.DecisionTreeRegressor(min_samples_leaf=5)\n",
      "wtree.fit(Xm,ym, sample_weight=omega)\n",
      "yhatw = wtree.predict(xgrid)\n",
      "plt.plot(xgrid,yhatw,color=\"red\",linewidth=2)"
     ],
     "language": "python",
     "metadata": {},
     "outputs": [
      {
       "metadata": {},
       "output_type": "pyout",
       "prompt_number": 7,
       "text": [
        "[<matplotlib.lines.Line2D at 0x7f28d26c5f28>]"
       ]
      },
      {
       "metadata": {},
       "output_type": "display_data",
       "png": "[encoded data removed]",
       "text": [
        "<matplotlib.figure.Figure at 0x7f28d2750ac8>"
       ]
      }
     ],
     "prompt_number": 7
    },
    {
     "cell_type": "markdown",
     "metadata": {},
     "source": [
      "#### BF\n",
      "\n",
      "We can create a new forest regressor class in `scikit-learn/ensemble` which fits Bayesian forest.\n",
      "* see `/opt/anaconda3/lib/python3.4/site-packages/sklearn/ensemble/forest.py` for code.\n",
      "* the sample weights are drawn inside the function. the base class's `sample_weight` argument will be used as potential non-uniform priors for the exponential weights.\n",
      "* the bayesian interpretation makes it clear: when is the posterior average of some stat useless?  when the population stat is useless.  This is the case for a greedy tree in high dimensions.  In that case, what are the alternative stats?\n",
      "    * Seems that something like extra trees, which fits a greedy tree choosing only a [small] subset of covariates for evaluation at each split, is ideal. Then the bayesian object of interest is actually itself a forest of random trees on the population data (i.e., randomness comes only from choice of split location).\n",
      "* describe focus on \"implicit regularization\", from Breiman through to ExtraTrees.  This then ties naturally to ideas of a Bayesian posterior mean being best for prediction.\n",
      "* when the trees are fit to blocks, we have implicitly split on these blocks as a first stage.  The Bayesian interpretation of the overall average is then as the target if you don't know which block a new observation should be a member of.  If the blocks are meaninful beyond just as random indices, then there is motivation for future work on shrinking them together.\n",
      "godo info on efficiency: http://www.slideshare.net/glouppe/accelerating-random-forests-in-scikitlearn.\n",
      "* Could compare to BART, and make through simulation the point about homoskedastic variance.\n"
     ]
    },
    {
     "cell_type": "markdown",
     "metadata": {},
     "source": [
      "__Notes on code__\n",
      "\n",
      "ExtraTrees and RandomForest are essentially the same in the code.  The only difference is the argument `splitter` passed to base tree class.  For RF's this is `best`, which chooses the best split point among `max_features` possibly random features.  For ETs this is `random`, which chooses the best of `max_features` completely random splits (random feature, random location).  Thus the only difference is whether the split-given-feature is optimized or randomized.\n",
      "\n",
      "In any case, avoid specifying max_leaf_nodes, because it leads to a less efficient 'best first' fitting algorithm (instead of 'depth first')\n",
      "\n",
      "`_parallel_build_trees` in `forest.py` is where bootstrap weights are provided.  Upon altering the` `sample_counts` to be exponential rather than binomial, we get a bayesian bootstrap where `sample_weights` (default of one) are the _scale_ $\\beta$ of each observation weight.\n",
      "\n",
      "In detail, lines 88-89 change from \n",
      "\n",
      "``\n",
      "indices = random_state.randint(0, n_samples, n_samples)\n",
      "sample_counts = np.bincount(indices, minlength=n_samples)\n",
      "``\n",
      "\n",
      "to\n",
      "\n",
      "            ### bayesian forest      \n",
      "            if forest.bootstrap == 2:\n",
      "                sample_counts = random_state.exponential(1,n_samples)\n",
      "            else:    \n",
      "                indices = random_state.randint(0, n_samples, n_samples)\n",
      "                sample_counts = np.bincount(indices, minlength=n_samples)\n",
      "            \n",
      "            #print(\"bs of %d and first 5 weights:\" % forest.bootstrap)\n",
      "            #print(sample_counts[0:5])\n",
      "            ###################\n",
      "\n",
      "We just pass `bootstrap=2` to get the bayesian version.  \n",
      "\n",
      "To check results in debugging, add            \n",
      "\n",
      "``\n",
      "print(\"bs of %d and first 5 weights:\" % forest.bootstrap)\n",
      "print(sample_counts[0:5])\n",
      "``\n",
      "\n",
      "I ended up forking sklearn and making the changes in my branch.  After fork, do\n",
      "\n",
      "``\n",
      "git remote add upstream git@github.com:scikit-learn/scikit-learn.git\n",
      "``\n",
      "\n",
      "so that you can stay current as in https://help.github.com/articles/syncing-a-fork/.  After an initial build (repeated for any changes to cython, e.g. for a new splitter) you can install the updates with\n",
      "\n",
      "``\n",
      "python setup.py install --user\n",
      "``\n",
      "\n",
      "See top of this script for how to append this local scipy in front of the anaconda default.\n"
     ]
    },
    {
     "cell_type": "markdown",
     "metadata": {},
     "source": [
      "### Simulation experiments\n",
      "\n",
      "* use Friedman's simulated data, and california housing data\n",
      "\n",
      "* compare against extra trees (http://orbi.ulg.ac.be/bitstream/2268/9357/1/geurts-mlj-advance.pdf), random forests (with and without random support), and BART (http://www.rob-mcculloch.org/some_papers_and_talks/papers/published/BART.pdf).\n",
      "\n",
      "The friedman function is \n",
      "$$\n",
      "y = 10\\mathrm{sin}(\\pi x_1 x_2) + 20 (x_3-0.5)^2 + 10x_4 + 5x_5 + \\varepsilon\n",
      "$$\n",
      "where $\\varepsilon \\sim \\mathrm{N}(0,1)$ and $x_j \\sim \\mathrm{U}(0,1)$.  We include as features the spurrious $x_6 \\dots x_{p}$, matching Friedman with MARS.  \n"
     ]
    },
    {
     "cell_type": "markdown",
     "metadata": {},
     "source": [
      "BART sims used n=100, with p=10,100, and 1000.  They use 3000 MCMC iterations after a burn-in of 1000.  For their OOS experiment, they looked at 100 datasets with n=100 each.  To evaluate each, they drew 1000 new x and calculate \n",
      "\n",
      "$$\n",
      "RMSE = \\sqrt{(1/1000)\\sum_{i}(\\hat f (x_i) - f(x_i))^2}\n",
      "$$\n",
      "\n",
      "Note that this is RMSE on function, not function plus noise."
     ]
    },
    {
     "cell_type": "code",
     "collapsed": false,
     "input": [
      "def fried(x, noisy=True):\n",
      "    f = 10*np.sin(np.pi*x[:,0]*x[:,1]) + 20*(x[:,2]-0.5)**2 + 10*x[:,3]+5*x[:,4]\n",
      "    if noisy: \n",
      "        f += rn.normal(size=n)\n",
      "    return f\n"
     ],
     "language": "python",
     "metadata": {},
     "outputs": [],
     "prompt_number": 5
    },
    {
     "cell_type": "code",
     "collapsed": false,
     "input": [
      "n = 100\n",
      "p = 10\n",
      "X = rn.uniform(0,1,n*p).reshape(n,p)\n",
      "y = fried(X)\n",
      "f = fried(X,noisy=False)"
     ],
     "language": "python",
     "metadata": {},
     "outputs": [],
     "prompt_number": 60
    },
    {
     "cell_type": "code",
     "collapsed": false,
     "input": [
      "msl = 3"
     ],
     "language": "python",
     "metadata": {},
     "outputs": [],
     "prompt_number": 7
    },
    {
     "cell_type": "code",
     "collapsed": false,
     "input": [
      "#DT\n",
      "dt = tree.DecisionTreeRegressor(min_samples_leaf=20)\n",
      "dt.fit(X,y)\n",
      "dtp = dt.predict(X)\n",
      "tree.export_graphviz(dt)\n",
      "!dot -Tpdf tree.dot -o friedtree.pdf\n"
     ],
     "language": "python",
     "metadata": {},
     "outputs": [],
     "prompt_number": 87
    },
    {
     "cell_type": "code",
     "collapsed": false,
     "input": [
      "b = 1\n",
      "for l in range(dt.tree_.value.shape[0]):\n",
      "    if dt.tree_.value[l,0,0] != 0.:\n",
      "        dt.tree_.value[l,0,0] = b\n",
      "        b+=1"
     ],
     "language": "python",
     "metadata": {},
     "outputs": [],
     "prompt_number": 85
    },
    {
     "cell_type": "code",
     "collapsed": false,
     "input": [
      "dt.predict(X[0:10])\n",
      "tree.export_graphviz(dt)\n",
      "!dot -Tpdf tree.dot -o friedtree.pdf\n"
     ],
     "language": "python",
     "metadata": {},
     "outputs": [],
     "prompt_number": 86
    },
    {
     "cell_type": "code",
     "collapsed": false,
     "input": [
      "dir(dt.tree_)\n",
      "dt.tree_.node_count"
     ],
     "language": "python",
     "metadata": {},
     "outputs": [
      {
       "metadata": {},
       "output_type": "pyout",
       "prompt_number": 103,
       "text": [
        "7"
       ]
      }
     ],
     "prompt_number": 103
    },
    {
     "cell_type": "code",
     "collapsed": false,
     "input": [
      "\n",
      "set(dt.tree_.apply(X[0:10].astype(tree._tree.DTYPE)))"
     ],
     "language": "python",
     "metadata": {},
     "outputs": [
      {
       "metadata": {},
       "output_type": "pyout",
       "prompt_number": 104,
       "text": [
        "{2, 3, 5, 6}"
       ]
      }
     ],
     "prompt_number": 104
    },
    {
     "cell_type": "code",
     "collapsed": false,
     "input": [
      "#RF\n",
      "rf = ensemble.RandomForestRegressor(100,min_samples_leaf=msl)\n",
      "rf.fit(X,y)\n",
      "rfp = rf.predict(X)"
     ],
     "language": "python",
     "metadata": {},
     "outputs": [],
     "prompt_number": 12
    },
    {
     "cell_type": "code",
     "collapsed": false,
     "input": [
      "#ET\n",
      "et = ensemble.ExtraTreesRegressor(100,min_samples_leaf=msl)\n",
      "et.fit(X,y)\n",
      "etp = et.predict(X)"
     ],
     "language": "python",
     "metadata": {},
     "outputs": [],
     "prompt_number": 13
    },
    {
     "cell_type": "code",
     "collapsed": false,
     "input": [
      "#BF\n",
      "bf = ensemble.RandomForestRegressor(100,min_samples_leaf=msl,bootstrap=2)\n",
      "bf.fit(X,y)\n",
      "bfp = bf.predict(X)"
     ],
     "language": "python",
     "metadata": {},
     "outputs": [],
     "prompt_number": 14
    },
    {
     "cell_type": "code",
     "collapsed": false,
     "input": [
      "plt.scatter(f, dtp, c=\"dodgerblue\", label=\"DT\",s=20,edgecolors='none')\n",
      "plt.scatter(f, rfp, c=\"orange\", label=\"RF\",s=20,edgecolors='none')\n",
      "plt.scatter(f, etp, c=\"fuchsia\", label=\"ET\",s=20,edgecolors='none')\n",
      "plt.scatter(f, bfp, c=\"green\", label=\"BF\",s=20,edgecolors='none')\n",
      "plt.xlabel(\"response\")\n",
      "plt.ylabel(\"prediction\")\n",
      "plt.legend(frameon=False,loc=4)\n",
      "plt.xlim(4,26)\n",
      "plt.ylim(4,26)\n"
     ],
     "language": "python",
     "metadata": {},
     "outputs": [
      {
       "metadata": {},
       "output_type": "pyout",
       "prompt_number": 15,
       "text": [
        "(4, 26)"
       ]
      },
      {
       "metadata": {},
       "output_type": "display_data",
       "png": "[encoded data removed]",
       "text": [
        "<matplotlib.figure.Figure at 0x7f28d2660fd0>"
       ]
      }
     ],
     "prompt_number": 15
    },
    {
     "cell_type": "code",
     "collapsed": false,
     "input": [
      "def rmse(f,fhat):\n",
      "    return np.sqrt(np.mean( (f-fhat)**2 ))\n"
     ],
     "language": "python",
     "metadata": {},
     "outputs": [],
     "prompt_number": 41
    },
    {
     "cell_type": "code",
     "collapsed": false,
     "input": [
      "ne = 10\n",
      "n = 100\n",
      "p = 10\n",
      "B = 100\n",
      "msl = 1\n",
      "RMSE = {key: [] for key in ['DT','RF','ET','BF']}\n",
      "for b in range(B):\n",
      "    ### data\n",
      "    Xtrain = rn.uniform(0,1,n*p).reshape(n,p)\n",
      "    Xtest = rn.uniform(0,1,1000*p).reshape(1000,p)\n",
      "    y = fried(Xtrain)\n",
      "    f = fried(Xtest,noisy=False)\n",
      "    \n",
      "    #DT\n",
      "    dt = tree.DecisionTreeRegressor(min_samples_leaf=msl)\n",
      "    dt.fit(Xtrain,y)\n",
      "    dtp = dt.predict(Xtest)\n",
      "    RMSE['DT'] += [rmse(f,dtp)]\n",
      "    \n",
      "    #RF\n",
      "    rf = ensemble.RandomForestRegressor(n_estimators=ne,min_samples_leaf=msl)\n",
      "    rf.fit(Xtrain,y)\n",
      "    rfp = rf.predict(Xtest)\n",
      "    RMSE['RF'] += [rmse(f,rfp)]\n",
      "\n",
      "    #ET\n",
      "    et = ensemble.ExtraTreesRegressor(n_estimators=ne,min_samples_leaf=msl)\n",
      "    et.fit(Xtrain,y)\n",
      "    etp = et.predict(Xtest)\n",
      "    RMSE['ET'] += [rmse(f,etp)]\n",
      "\n",
      "    #BF\n",
      "    bf = ensemble.RandomForestRegressor(n_estimators=ne,bootstrap=2,min_samples_leaf=msl)\n",
      "    bf.fit(Xtrain,y)\n",
      "    bfp = bf.predict(Xtest)\n",
      "    RMSE['BF'] += [rmse(f,bfp)]\n",
      "\n",
      "    print(b,end=\" \")\n",
      "\n",
      "RMSE = pd.DataFrame(RMSE)\n",
      "RMSE.boxplot(return_type='axes')\n",
      "\n",
      "print()\n",
      "from operator import itemgetter\n",
      "mrmse = [ (mod,np.mean(RMSE[mod])) for mod in RMSE]\n",
      "sorted(mrmse, key=lambda x: x[1])    "
     ],
     "language": "python",
     "metadata": {},
     "outputs": [
      {
       "output_type": "stream",
       "stream": "stdout",
       "text": [
        "0 1 2"
       ]
      },
      {
       "output_type": "stream",
       "stream": "stdout",
       "text": [
        " 3 4"
       ]
      },
      {
       "output_type": "stream",
       "stream": "stdout",
       "text": [
        " 5 6"
       ]
      },
      {
       "output_type": "stream",
       "stream": "stdout",
       "text": [
        " 7 8"
       ]
      },
      {
       "output_type": "stream",
       "stream": "stdout",
       "text": [
        " 9 10"
       ]
      },
      {
       "output_type": "stream",
       "stream": "stdout",
       "text": [
        " 11 12"
       ]
      },
      {
       "output_type": "stream",
       "stream": "stdout",
       "text": [
        " 13 14"
       ]
      },
      {
       "output_type": "stream",
       "stream": "stdout",
       "text": [
        " 15 16"
       ]
      },
      {
       "output_type": "stream",
       "stream": "stdout",
       "text": [
        " 17 18"
       ]
      },
      {
       "output_type": "stream",
       "stream": "stdout",
       "text": [
        " 19 20"
       ]
      },
      {
       "output_type": "stream",
       "stream": "stdout",
       "text": [
        " 21 22"
       ]
      },
      {
       "output_type": "stream",
       "stream": "stdout",
       "text": [
        " 23 24"
       ]
      },
      {
       "output_type": "stream",
       "stream": "stdout",
       "text": [
        " 25 26"
       ]
      },
      {
       "output_type": "stream",
       "stream": "stdout",
       "text": [
        " 27 28"
       ]
      },
      {
       "output_type": "stream",
       "stream": "stdout",
       "text": [
        " 29 30"
       ]
      },
      {
       "output_type": "stream",
       "stream": "stdout",
       "text": [
        " 31 32"
       ]
      },
      {
       "output_type": "stream",
       "stream": "stdout",
       "text": [
        " 33 34"
       ]
      },
      {
       "output_type": "stream",
       "stream": "stdout",
       "text": [
        " 35 36"
       ]
      },
      {
       "output_type": "stream",
       "stream": "stdout",
       "text": [
        " 37 38"
       ]
      },
      {
       "output_type": "stream",
       "stream": "stdout",
       "text": [
        " 39 40"
       ]
      },
      {
       "output_type": "stream",
       "stream": "stdout",
       "text": [
        " 41 42"
       ]
      },
      {
       "output_type": "stream",
       "stream": "stdout",
       "text": [
        " 43 44"
       ]
      },
      {
       "output_type": "stream",
       "stream": "stdout",
       "text": [
        " 45 46"
       ]
      },
      {
       "output_type": "stream",
       "stream": "stdout",
       "text": [
        " 47 48"
       ]
      },
      {
       "output_type": "stream",
       "stream": "stdout",
       "text": [
        " 49 50"
       ]
      },
      {
       "output_type": "stream",
       "stream": "stdout",
       "text": [
        " 51 52"
       ]
      },
      {
       "output_type": "stream",
       "stream": "stdout",
       "text": [
        " 53 54"
       ]
      },
      {
       "output_type": "stream",
       "stream": "stdout",
       "text": [
        " 55 56"
       ]
      },
      {
       "output_type": "stream",
       "stream": "stdout",
       "text": [
        " 57 58"
       ]
      },
      {
       "output_type": "stream",
       "stream": "stdout",
       "text": [
        " 59 60"
       ]
      },
      {
       "output_type": "stream",
       "stream": "stdout",
       "text": [
        " 61 62"
       ]
      },
      {
       "output_type": "stream",
       "stream": "stdout",
       "text": [
        " 63 64"
       ]
      },
      {
       "output_type": "stream",
       "stream": "stdout",
       "text": [
        " 65 66"
       ]
      },
      {
       "output_type": "stream",
       "stream": "stdout",
       "text": [
        " 67 68"
       ]
      },
      {
       "output_type": "stream",
       "stream": "stdout",
       "text": [
        " 69 70"
       ]
      },
      {
       "output_type": "stream",
       "stream": "stdout",
       "text": [
        " 71 72"
       ]
      },
      {
       "output_type": "stream",
       "stream": "stdout",
       "text": [
        " 73 74"
       ]
      },
      {
       "output_type": "stream",
       "stream": "stdout",
       "text": [
        " 75 76"
       ]
      },
      {
       "output_type": "stream",
       "stream": "stdout",
       "text": [
        " 77 78"
       ]
      },
      {
       "output_type": "stream",
       "stream": "stdout",
       "text": [
        " 79 80"
       ]
      },
      {
       "output_type": "stream",
       "stream": "stdout",
       "text": [
        " 81 82"
       ]
      },
      {
       "output_type": "stream",
       "stream": "stdout",
       "text": [
        " 83 84"
       ]
      },
      {
       "output_type": "stream",
       "stream": "stdout",
       "text": [
        " 85 86"
       ]
      },
      {
       "output_type": "stream",
       "stream": "stdout",
       "text": [
        " 87 88"
       ]
      },
      {
       "output_type": "stream",
       "stream": "stdout",
       "text": [
        " 89 90"
       ]
      },
      {
       "output_type": "stream",
       "stream": "stdout",
       "text": [
        " 91 92"
       ]
      },
      {
       "output_type": "stream",
       "stream": "stdout",
       "text": [
        " 93 94"
       ]
      },
      {
       "output_type": "stream",
       "stream": "stdout",
       "text": [
        " 95 96"
       ]
      },
      {
       "output_type": "stream",
       "stream": "stdout",
       "text": [
        " 97 98"
       ]
      },
      {
       "output_type": "stream",
       "stream": "stdout",
       "text": [
        " 99 \n"
       ]
      },
      {
       "metadata": {},
       "output_type": "pyout",
       "prompt_number": 105,
       "text": [
        "[('ET', 2.6645687494273047),\n",
        " ('BF', 2.7690991891694203),\n",
        " ('RF', 2.8464895065707867),\n",
        " ('DT', 3.9278977545232929)]"
       ]
      },
      {
       "metadata": {},
       "output_type": "display_data",
       "png": "[encoded data removed]",
       "text": [
        "<matplotlib.figure.Figure at 0x7fbdd30ba6d8>"
       ]
      }
     ],
     "prompt_number": 105
    },
    {
     "cell_type": "code",
     "collapsed": false,
     "input": [
      "cah = pd.read_csv('data/CAhousing.csv')"
     ],
     "language": "python",
     "metadata": {},
     "outputs": [],
     "prompt_number": 36
    },
    {
     "cell_type": "code",
     "collapsed": false,
     "input": [
      "list(cah)"
     ],
     "language": "python",
     "metadata": {},
     "outputs": [
      {
       "metadata": {},
       "output_type": "pyout",
       "prompt_number": 37,
       "text": [
        "['longitude',\n",
        " 'latitude',\n",
        " 'housingMedianAge',\n",
        " 'totalRooms',\n",
        " 'totalBedrooms',\n",
        " 'population',\n",
        " 'households',\n",
        " 'medianIncome',\n",
        " 'medianHouseValue']"
       ]
      }
     ],
     "prompt_number": 37
    },
    {
     "cell_type": "code",
     "collapsed": false,
     "input": [
      "Xh = cah.drop(\"medianHouseValue\",axis=1)\n",
      "yh = cah[\"medianHouseValue\"]"
     ],
     "language": "python",
     "metadata": {},
     "outputs": [],
     "prompt_number": 38
    },
    {
     "cell_type": "code",
     "collapsed": false,
     "input": [
      "len(yh)*1e-4"
     ],
     "language": "python",
     "metadata": {},
     "outputs": [
      {
       "metadata": {},
       "output_type": "pyout",
       "prompt_number": 39,
       "text": [
        "2.064"
       ]
      }
     ],
     "prompt_number": 39
    },
    {
     "cell_type": "code",
     "collapsed": false,
     "input": [
      "ne = 10\n",
      "msl = 1\n",
      "RMSE = {key: [] for key in ['DT','RF','ET','BFg','BFr']}\n",
      "\n",
      "from sklearn.cross_validation import KFold\n",
      "kf = KFold(len(yh), n_folds=10,shuffle=True)\n",
      "\n",
      "for train, test in kf:\n",
      "    print(\"%s %s\" % (train, test))\n",
      "    \n",
      "    ### data\n",
      "    Xtrain = Xh.iloc[train].values\n",
      "    Xtest = Xh.iloc[test].values\n",
      "    y = yh[train]\n",
      "    f = yh[test]\n",
      "    \n",
      "    #DT\n",
      "    dt = tree.DecisionTreeRegressor(min_samples_leaf=msl)\n",
      "    %time dt.fit(Xtrain,y)\n",
      "    dtp = dt.predict(Xtest)\n",
      "    RMSE['DT'] += [rmse(f,dtp)]\n",
      "    \n",
      "    #RF\n",
      "    rf = ensemble.RandomForestRegressor(n_estimators=ne,min_samples_leaf=msl)\n",
      "    %time rf.fit(Xtrain,y)\n",
      "    rfp = rf.predict(Xtest)\n",
      "    RMSE['RF'] += [rmse(f,rfp)]\n",
      "\n",
      "    #ET\n",
      "    et = ensemble.ExtraTreesRegressor(n_estimators=ne,min_samples_leaf=msl)\n",
      "    %time et.fit(Xtrain,y)\n",
      "    etp = et.predict(Xtest)\n",
      "    RMSE['ET'] += [rmse(f,etp)]\n",
      "\n",
      "    #BFg\n",
      "    bfg = ensemble.RandomForestRegressor(n_estimators=ne,bootstrap=2,min_weight_fraction_leaf=1e-4)\n",
      "    %time bfg.fit(Xtrain,y)\n",
      "    bfgp = bfg.predict(Xtest)\n",
      "    RMSE['BFg'] += [rmse(f,bfgp)]\n",
      "\n",
      "    #BFr\n",
      "    bfr = ensemble.ExtraTreesRegressor(n_estimators=ne,bootstrap=2,min_weight_fraction_leaf=1e-4)\n",
      "    %time bfr.fit(Xtrain,y)\n",
      "    bfrp = bfr.predict(Xtest)\n",
      "    RMSE['BFr'] += [rmse(f,bfrp)]\n",
      "\n",
      "RMSE = pd.DataFrame(RMSE)\n",
      "RMSE.boxplot(return_type='axes')\n",
      "\n",
      "print()\n",
      "from operator import itemgetter\n",
      "mrmse = [ (mod,np.mean(RMSE[mod])) for mod in RMSE]\n",
      "sorted(mrmse, key=lambda x: x[1])    \n"
     ],
     "language": "python",
     "metadata": {},
     "outputs": [
      {
       "output_type": "stream",
       "stream": "stdout",
       "text": [
        "[    1     2     3 ..., 20636 20637 20638] [    0    13    18 ..., 20608 20615 20639]\n",
        "CPU times: user 171 ms, sys: 3.62 ms, total: 175 ms"
       ]
      },
      {
       "output_type": "stream",
       "stream": "stdout",
       "text": [
        "\n",
        "Wall time: 174 ms\n",
        "CPU times: user 1.1 s, sys: 0 ns, total: 1.1 s"
       ]
      },
      {
       "output_type": "stream",
       "stream": "stdout",
       "text": [
        "\n",
        "Wall time: 1.1 s\n",
        "CPU times: user 418 ms, sys: 489 \u00b5s, total: 418 ms"
       ]
      },
      {
       "output_type": "stream",
       "stream": "stdout",
       "text": [
        "\n",
        "Wall time: 421 ms\n",
        "CPU times: user 1.61 s, sys: 0 ns, total: 1.61 s"
       ]
      },
      {
       "output_type": "stream",
       "stream": "stdout",
       "text": [
        "\n",
        "Wall time: 1.6 s\n",
        "CPU times: user 334 ms, sys: 2.43 ms, total: 336 ms"
       ]
      },
      {
       "output_type": "stream",
       "stream": "stdout",
       "text": [
        "\n",
        "Wall time: 337 ms\n",
        "[    0     1     2 ..., 20637 20638 20639] [    6     8    12 ..., 20630 20633 20634]\n",
        "CPU times: user 179 ms, sys: 0 ns, total: 179 ms"
       ]
      },
      {
       "output_type": "stream",
       "stream": "stdout",
       "text": [
        "\n",
        "Wall time: 179 ms\n",
        "CPU times: user 1.08 s, sys: 0 ns, total: 1.08 s"
       ]
      },
      {
       "output_type": "stream",
       "stream": "stdout",
       "text": [
        "\n",
        "Wall time: 1.08 s\n",
        "CPU times: user 418 ms, sys: 3.4 ms, total: 422 ms"
       ]
      },
      {
       "output_type": "stream",
       "stream": "stdout",
       "text": [
        "\n",
        "Wall time: 421 ms\n",
        "CPU times: user 1.62 s, sys: 0 ns, total: 1.62 s"
       ]
      },
      {
       "output_type": "stream",
       "stream": "stdout",
       "text": [
        "\n",
        "Wall time: 1.62 s\n",
        "CPU times: user 345 ms, sys: 0 ns, total: 345 ms"
       ]
      },
      {
       "output_type": "stream",
       "stream": "stdout",
       "text": [
        "\n",
        "Wall time: 345 ms\n",
        "[    0     1     2 ..., 20636 20638 20639] [    9    19    24 ..., 20629 20635 20637]\n",
        "CPU times: user 176 ms, sys: 0 ns, total: 176 ms"
       ]
      },
      {
       "output_type": "stream",
       "stream": "stdout",
       "text": [
        "\n",
        "Wall time: 176 ms\n",
        "CPU times: user 1.09 s, sys: 0 ns, total: 1.09 s"
       ]
      },
      {
       "output_type": "stream",
       "stream": "stdout",
       "text": [
        "\n",
        "Wall time: 1.09 s\n",
        "CPU times: user 413 ms, sys: 0 ns, total: 413 ms"
       ]
      },
      {
       "output_type": "stream",
       "stream": "stdout",
       "text": [
        "\n",
        "Wall time: 413 ms\n",
        "CPU times: user 1.62 s, sys: 0 ns, total: 1.62 s"
       ]
      },
      {
       "output_type": "stream",
       "stream": "stdout",
       "text": [
        "\n",
        "Wall time: 1.61 s\n",
        "CPU times: user 343 ms, sys: 0 ns, total: 343 ms"
       ]
      },
      {
       "output_type": "stream",
       "stream": "stdout",
       "text": [
        "\n",
        "Wall time: 342 ms\n",
        "[    0     1     2 ..., 20637 20638 20639] [   10    15    28 ..., 20601 20604 20619]\n",
        "CPU times: user 176 ms, sys: 0 ns, total: 176 ms"
       ]
      },
      {
       "output_type": "stream",
       "stream": "stdout",
       "text": [
        "\n",
        "Wall time: 176 ms\n",
        "CPU times: user 1.09 s, sys: 0 ns, total: 1.09 s"
       ]
      },
      {
       "output_type": "stream",
       "stream": "stdout",
       "text": [
        "\n",
        "Wall time: 1.09 s\n",
        "CPU times: user 406 ms, sys: 8.04 ms, total: 414 ms"
       ]
      },
      {
       "output_type": "stream",
       "stream": "stdout",
       "text": [
        "\n",
        "Wall time: 413 ms\n",
        "CPU times: user 1.62 s, sys: 0 ns, total: 1.62 s"
       ]
      },
      {
       "output_type": "stream",
       "stream": "stdout",
       "text": [
        "\n",
        "Wall time: 1.62 s\n",
        "CPU times: user 336 ms, sys: 0 ns, total: 336 ms"
       ]
      },
      {
       "output_type": "stream",
       "stream": "stdout",
       "text": [
        "\n",
        "Wall time: 336 ms\n",
        "[    0     1     3 ..., 20637 20638 20639] [    2     7    29 ..., 20612 20632 20636]\n",
        "CPU times: user 178 ms, sys: 0 ns, total: 178 ms"
       ]
      },
      {
       "output_type": "stream",
       "stream": "stdout",
       "text": [
        "\n",
        "Wall time: 178 ms\n",
        "CPU times: user 1.08 s, sys: 3.83 ms, total: 1.08 s"
       ]
      },
      {
       "output_type": "stream",
       "stream": "stdout",
       "text": [
        "\n",
        "Wall time: 1.08 s\n",
        "CPU times: user 419 ms, sys: 0 ns, total: 419 ms"
       ]
      },
      {
       "output_type": "stream",
       "stream": "stdout",
       "text": [
        "\n",
        "Wall time: 418 ms\n",
        "CPU times: user 1.62 s, sys: 0 ns, total: 1.62 s"
       ]
      },
      {
       "output_type": "stream",
       "stream": "stdout",
       "text": [
        "\n",
        "Wall time: 1.62 s\n",
        "CPU times: user 347 ms, sys: 0 ns, total: 347 ms"
       ]
      },
      {
       "output_type": "stream",
       "stream": "stdout",
       "text": [
        "\n",
        "Wall time: 347 ms\n",
        "[    0     1     2 ..., 20637 20638 20639] [   20    34    39 ..., 20625 20626 20627]\n",
        "CPU times: user 179 ms, sys: 0 ns, total: 179 ms"
       ]
      },
      {
       "output_type": "stream",
       "stream": "stdout",
       "text": [
        "\n",
        "Wall time: 179 ms\n",
        "CPU times: user 1.1 s, sys: 0 ns, total: 1.1 s"
       ]
      },
      {
       "output_type": "stream",
       "stream": "stdout",
       "text": [
        "\n",
        "Wall time: 1.1 s\n",
        "CPU times: user 428 ms, sys: 3.95 ms, total: 432 ms"
       ]
      },
      {
       "output_type": "stream",
       "stream": "stdout",
       "text": [
        "\n",
        "Wall time: 432 ms\n",
        "CPU times: user 1.61 s, sys: 0 ns, total: 1.61 s"
       ]
      },
      {
       "output_type": "stream",
       "stream": "stdout",
       "text": [
        "\n",
        "Wall time: 1.61 s\n",
        "CPU times: user 347 ms, sys: 0 ns, total: 347 ms"
       ]
      },
      {
       "output_type": "stream",
       "stream": "stdout",
       "text": [
        "\n",
        "Wall time: 346 ms\n",
        "[    0     1     2 ..., 20636 20637 20639] [    3     5    41 ..., 20592 20621 20638]\n",
        "CPU times: user 175 ms, sys: 0 ns, total: 175 ms"
       ]
      },
      {
       "output_type": "stream",
       "stream": "stdout",
       "text": [
        "\n",
        "Wall time: 175 ms\n",
        "CPU times: user 1.08 s, sys: 0 ns, total: 1.08 s"
       ]
      },
      {
       "output_type": "stream",
       "stream": "stdout",
       "text": [
        "\n",
        "Wall time: 1.08 s\n",
        "CPU times: user 417 ms, sys: 4.01 ms, total: 421 ms"
       ]
      },
      {
       "output_type": "stream",
       "stream": "stdout",
       "text": [
        "\n",
        "Wall time: 420 ms\n",
        "CPU times: user 1.62 s, sys: 0 ns, total: 1.62 s"
       ]
      },
      {
       "output_type": "stream",
       "stream": "stdout",
       "text": [
        "\n",
        "Wall time: 1.61 s\n",
        "CPU times: user 347 ms, sys: 11 \u00b5s, total: 347 ms"
       ]
      },
      {
       "output_type": "stream",
       "stream": "stdout",
       "text": [
        "\n",
        "Wall time: 346 ms\n",
        "[    0     2     3 ..., 20637 20638 20639] [    1     4    17 ..., 20595 20610 20624]\n",
        "CPU times: user 177 ms, sys: 0 ns, total: 177 ms"
       ]
      },
      {
       "output_type": "stream",
       "stream": "stdout",
       "text": [
        "\n",
        "Wall time: 177 ms\n",
        "CPU times: user 1.09 s, sys: 0 ns, total: 1.09 s"
       ]
      },
      {
       "output_type": "stream",
       "stream": "stdout",
       "text": [
        "\n",
        "Wall time: 1.09 s\n",
        "CPU times: user 416 ms, sys: 3.98 ms, total: 420 ms"
       ]
      },
      {
       "output_type": "stream",
       "stream": "stdout",
       "text": [
        "\n",
        "Wall time: 420 ms\n",
        "CPU times: user 1.61 s, sys: 0 ns, total: 1.61 s"
       ]
      },
      {
       "output_type": "stream",
       "stream": "stdout",
       "text": [
        "\n",
        "Wall time: 1.61 s\n",
        "CPU times: user 342 ms, sys: 0 ns, total: 342 ms"
       ]
      },
      {
       "output_type": "stream",
       "stream": "stdout",
       "text": [
        "\n",
        "Wall time: 341 ms\n",
        "[    0     1     2 ..., 20637 20638 20639] [   11    30    38 ..., 20606 20614 20620]\n",
        "CPU times: user 177 ms, sys: 0 ns, total: 177 ms"
       ]
      },
      {
       "output_type": "stream",
       "stream": "stdout",
       "text": [
        "\n",
        "Wall time: 177 ms\n",
        "CPU times: user 1.08 s, sys: 0 ns, total: 1.08 s"
       ]
      },
      {
       "output_type": "stream",
       "stream": "stdout",
       "text": [
        "\n",
        "Wall time: 1.07 s\n",
        "CPU times: user 414 ms, sys: 0 ns, total: 414 ms"
       ]
      },
      {
       "output_type": "stream",
       "stream": "stdout",
       "text": [
        "\n",
        "Wall time: 413 ms\n",
        "CPU times: user 1.61 s, sys: 0 ns, total: 1.61 s"
       ]
      },
      {
       "output_type": "stream",
       "stream": "stdout",
       "text": [
        "\n",
        "Wall time: 1.61 s\n",
        "CPU times: user 340 ms, sys: 0 ns, total: 340 ms"
       ]
      },
      {
       "output_type": "stream",
       "stream": "stdout",
       "text": [
        "\n",
        "Wall time: 340 ms\n",
        "[    0     1     2 ..., 20637 20638 20639] [   16    42    62 ..., 20575 20588 20631]\n",
        "CPU times: user 175 ms, sys: 0 ns, total: 175 ms"
       ]
      },
      {
       "output_type": "stream",
       "stream": "stdout",
       "text": [
        "\n",
        "Wall time: 174 ms\n",
        "CPU times: user 1.08 s, sys: 0 ns, total: 1.08 s"
       ]
      },
      {
       "output_type": "stream",
       "stream": "stdout",
       "text": [
        "\n",
        "Wall time: 1.08 s\n",
        "CPU times: user 421 ms, sys: 0 ns, total: 421 ms"
       ]
      },
      {
       "output_type": "stream",
       "stream": "stdout",
       "text": [
        "\n",
        "Wall time: 420 ms\n",
        "CPU times: user 1.61 s, sys: 0 ns, total: 1.61 s"
       ]
      },
      {
       "output_type": "stream",
       "stream": "stdout",
       "text": [
        "\n",
        "Wall time: 1.61 s\n",
        "CPU times: user 346 ms, sys: 0 ns, total: 346 ms"
       ]
      },
      {
       "output_type": "stream",
       "stream": "stdout",
       "text": [
        "\n",
        "Wall time: 346 ms\n",
        "\n"
       ]
      },
      {
       "metadata": {},
       "output_type": "pyout",
       "prompt_number": 42,
       "text": [
        "[('BFg', 49864.376903917459),\n",
        " ('RF', 51004.987509628452),\n",
        " ('ET', 55001.853349031473),\n",
        " ('BFr', 55890.275392919662),\n",
        " ('DT', 68133.8042729632)]"
       ]
      },
      {
       "metadata": {},
       "output_type": "display_data",
       "png": "[encoded data removed]",
       "text": [
        "<matplotlib.figure.Figure at 0x7fbdd3d7e358>"
       ]
      }
     ],
     "prompt_number": 42
    },
    {
     "cell_type": "markdown",
     "metadata": {},
     "source": [
      "* The Bayes forest idea is quite general: you could have any good in-sample partitioning algorithm as the target.  For example, we could run a couple steps of stochastic search to improve the trees.  \n",
      "* The relevant splitter code, in which we could add methods to improve the individual trees, is in `_tree.pyx`. Looking in here, e.g., we found the undocumented option `min_weight_fraction_leaf`, the minimum weighted fraction of data in a leaf, as the more reasonable way of limiting leaf size in the Bayesian bootstrap.\n",
      "* see y below; it is not too strange, and could easily be modelled as a mixture of normals.  What if we move to web data?"
     ]
    },
    {
     "cell_type": "code",
     "collapsed": false,
     "input": [
      "dt = tree.DecisionTreeRegressor(min_samples_leaf=100)\n",
      "dt.fit(Xh,yh)\n"
     ],
     "language": "python",
     "metadata": {},
     "outputs": [],
     "prompt_number": 47
    },
    {
     "cell_type": "code",
     "collapsed": false,
     "input": [
      "\n",
      "tree.export_graphviz(dt,feature_names=list(Xh))\n",
      "!dot -Tpdf tree.dot -o tree.pdf"
     ],
     "language": "python",
     "metadata": {},
     "outputs": [],
     "prompt_number": 52
    },
    {
     "cell_type": "code",
     "collapsed": false,
     "input": [
      "dt.tree_.value"
     ],
     "language": "python",
     "metadata": {},
     "outputs": [
      {
       "metadata": {},
       "output_type": "pyout",
       "prompt_number": 58,
       "text": [
        "array([[[      0.        ]],\n",
        "\n",
        "       [[      0.        ]],\n",
        "\n",
        "       [[      0.        ]],\n",
        "\n",
        "       [[      0.        ]],\n",
        "\n",
        "       [[      0.        ]],\n",
        "\n",
        "       [[      0.        ]],\n",
        "\n",
        "       [[ 297398.80379747]],\n",
        "\n",
        "       [[      0.        ]],\n",
        "\n",
        "       [[ 226475.18120805]],\n",
        "\n",
        "       [[ 184665.83333333]],\n",
        "\n",
        "       [[      0.        ]],\n",
        "\n",
        "       [[ 158107.27272727]],\n",
        "\n",
        "       [[ 263587.53846154]],\n",
        "\n",
        "       [[      0.        ]],\n",
        "\n",
        "       [[      0.        ]],\n",
        "\n",
        "       [[      0.        ]],\n",
        "\n",
        "       [[      0.        ]],\n",
        "\n",
        "       [[ 157818.5483871 ]],\n",
        "\n",
        "       [[      0.        ]],\n",
        "\n",
        "       [[ 206282.18811881]],\n",
        "\n",
        "       [[ 179129.72972973]],\n",
        "\n",
        "       [[      0.        ]],\n",
        "\n",
        "       [[      0.        ]],\n",
        "\n",
        "       [[      0.        ]],\n",
        "\n",
        "       [[  99093.40101523]],\n",
        "\n",
        "       [[ 115065.        ]],\n",
        "\n",
        "       [[ 133442.65441176]],\n",
        "\n",
        "       [[      0.        ]],\n",
        "\n",
        "       [[      0.        ]],\n",
        "\n",
        "       [[ 139181.81818182]],\n",
        "\n",
        "       [[ 148797.14285714]],\n",
        "\n",
        "       [[ 169600.59171598]],\n",
        "\n",
        "       [[      0.        ]],\n",
        "\n",
        "       [[      0.        ]],\n",
        "\n",
        "       [[ 198523.30097087]],\n",
        "\n",
        "       [[ 219957.94392523]],\n",
        "\n",
        "       [[      0.        ]],\n",
        "\n",
        "       [[ 151161.71875   ]],\n",
        "\n",
        "       [[ 182470.27179487]],\n",
        "\n",
        "       [[      0.        ]],\n",
        "\n",
        "       [[      0.        ]],\n",
        "\n",
        "       [[      0.        ]],\n",
        "\n",
        "       [[      0.        ]],\n",
        "\n",
        "       [[ 172939.63366337]],\n",
        "\n",
        "       [[ 218118.62745098]],\n",
        "\n",
        "       [[      0.        ]],\n",
        "\n",
        "       [[ 109046.74556213]],\n",
        "\n",
        "       [[      0.        ]],\n",
        "\n",
        "       [[ 129015.67164179]],\n",
        "\n",
        "       [[ 143131.96721311]],\n",
        "\n",
        "       [[      0.        ]],\n",
        "\n",
        "       [[ 124400.00724638]],\n",
        "\n",
        "       [[      0.        ]],\n",
        "\n",
        "       [[      0.        ]],\n",
        "\n",
        "       [[ 101757.57575758]],\n",
        "\n",
        "       [[  83348.7012987 ]],\n",
        "\n",
        "       [[ 116336.31111111]],\n",
        "\n",
        "       [[  77144.9197861 ]],\n",
        "\n",
        "       [[      0.        ]],\n",
        "\n",
        "       [[      0.        ]],\n",
        "\n",
        "       [[      0.        ]],\n",
        "\n",
        "       [[ 282369.86163522]],\n",
        "\n",
        "       [[      0.        ]],\n",
        "\n",
        "       [[      0.        ]],\n",
        "\n",
        "       [[ 234421.20338983]],\n",
        "\n",
        "       [[ 191568.62745098]],\n",
        "\n",
        "       [[      0.        ]],\n",
        "\n",
        "       [[      0.        ]],\n",
        "\n",
        "       [[ 114147.00854701]],\n",
        "\n",
        "       [[ 151855.66129032]],\n",
        "\n",
        "       [[ 178017.68292683]],\n",
        "\n",
        "       [[      0.        ]],\n",
        "\n",
        "       [[      0.        ]],\n",
        "\n",
        "       [[ 167529.09090909]],\n",
        "\n",
        "       [[      0.        ]],\n",
        "\n",
        "       [[ 136411.76470588]],\n",
        "\n",
        "       [[ 114007.25806452]],\n",
        "\n",
        "       [[      0.        ]],\n",
        "\n",
        "       [[      0.        ]],\n",
        "\n",
        "       [[  87983.73170732]],\n",
        "\n",
        "       [[      0.        ]],\n",
        "\n",
        "       [[  68794.33018868]],\n",
        "\n",
        "       [[  78568.21705426]],\n",
        "\n",
        "       [[ 100482.4       ]],\n",
        "\n",
        "       [[      0.        ]],\n",
        "\n",
        "       [[      0.        ]],\n",
        "\n",
        "       [[ 165614.7704918 ]],\n",
        "\n",
        "       [[      0.        ]],\n",
        "\n",
        "       [[      0.        ]],\n",
        "\n",
        "       [[ 112528.98130841]],\n",
        "\n",
        "       [[      0.        ]],\n",
        "\n",
        "       [[  99008.64197531]],\n",
        "\n",
        "       [[      0.        ]],\n",
        "\n",
        "       [[      0.        ]],\n",
        "\n",
        "       [[  72264.59627329]],\n",
        "\n",
        "       [[  83218.60465116]],\n",
        "\n",
        "       [[      0.        ]],\n",
        "\n",
        "       [[  92785.12396694]],\n",
        "\n",
        "       [[  80505.71428571]],\n",
        "\n",
        "       [[      0.        ]],\n",
        "\n",
        "       [[      0.        ]],\n",
        "\n",
        "       [[      0.        ]],\n",
        "\n",
        "       [[ 117335.71428571]],\n",
        "\n",
        "       [[ 125033.33333333]],\n",
        "\n",
        "       [[ 109457.27272727]],\n",
        "\n",
        "       [[      0.        ]],\n",
        "\n",
        "       [[      0.        ]],\n",
        "\n",
        "       [[ 102851.48514851]],\n",
        "\n",
        "       [[  96232.67326733]],\n",
        "\n",
        "       [[ 112554.45544554]],\n",
        "\n",
        "       [[      0.        ]],\n",
        "\n",
        "       [[      0.        ]],\n",
        "\n",
        "       [[      0.        ]],\n",
        "\n",
        "       [[      0.        ]],\n",
        "\n",
        "       [[  55478.26086957]],\n",
        "\n",
        "       [[  60790.0990099 ]],\n",
        "\n",
        "       [[  67646.875     ]],\n",
        "\n",
        "       [[  78304.99      ]],\n",
        "\n",
        "       [[      0.        ]],\n",
        "\n",
        "       [[  94784.44444444]],\n",
        "\n",
        "       [[      0.        ]],\n",
        "\n",
        "       [[  83871.42857143]],\n",
        "\n",
        "       [[  73325.83333333]],\n",
        "\n",
        "       [[      0.        ]],\n",
        "\n",
        "       [[      0.        ]],\n",
        "\n",
        "       [[      0.        ]],\n",
        "\n",
        "       [[      0.        ]],\n",
        "\n",
        "       [[      0.        ]],\n",
        "\n",
        "       [[      0.        ]],\n",
        "\n",
        "       [[ 317292.12871287]],\n",
        "\n",
        "       [[ 276072.67521368]],\n",
        "\n",
        "       [[      0.        ]],\n",
        "\n",
        "       [[      0.        ]],\n",
        "\n",
        "       [[ 291809.56190476]],\n",
        "\n",
        "       [[      0.        ]],\n",
        "\n",
        "       [[ 254904.        ]],\n",
        "\n",
        "       [[ 266411.        ]],\n",
        "\n",
        "       [[      0.        ]],\n",
        "\n",
        "       [[ 220770.        ]],\n",
        "\n",
        "       [[ 195890.4       ]],\n",
        "\n",
        "       [[      0.        ]],\n",
        "\n",
        "       [[      0.        ]],\n",
        "\n",
        "       [[      0.        ]],\n",
        "\n",
        "       [[      0.        ]],\n",
        "\n",
        "       [[      0.        ]],\n",
        "\n",
        "       [[ 354766.45544554]],\n",
        "\n",
        "       [[ 384564.64423077]],\n",
        "\n",
        "       [[ 273778.89142857]],\n",
        "\n",
        "       [[      0.        ]],\n",
        "\n",
        "       [[ 281158.47524752]],\n",
        "\n",
        "       [[      0.        ]],\n",
        "\n",
        "       [[ 192452.75590551]],\n",
        "\n",
        "       [[      0.        ]],\n",
        "\n",
        "       [[ 242524.34234234]],\n",
        "\n",
        "       [[ 215447.4025974 ]],\n",
        "\n",
        "       [[      0.        ]],\n",
        "\n",
        "       [[ 271940.80555556]],\n",
        "\n",
        "       [[      0.        ]],\n",
        "\n",
        "       [[      0.        ]],\n",
        "\n",
        "       [[      0.        ]],\n",
        "\n",
        "       [[ 183628.08988764]],\n",
        "\n",
        "       [[ 215500.55555556]],\n",
        "\n",
        "       [[      0.        ]],\n",
        "\n",
        "       [[ 163084.17266187]],\n",
        "\n",
        "       [[ 183440.54054054]],\n",
        "\n",
        "       [[      0.        ]],\n",
        "\n",
        "       [[      0.        ]],\n",
        "\n",
        "       [[ 265930.06      ]],\n",
        "\n",
        "       [[ 227076.78571429]],\n",
        "\n",
        "       [[      0.        ]],\n",
        "\n",
        "       [[      0.        ]],\n",
        "\n",
        "       [[ 209602.80373832]],\n",
        "\n",
        "       [[      0.        ]],\n",
        "\n",
        "       [[ 172549.55752212]],\n",
        "\n",
        "       [[ 195614.89361702]],\n",
        "\n",
        "       [[ 223625.        ]],\n",
        "\n",
        "       [[      0.        ]],\n",
        "\n",
        "       [[      0.        ]],\n",
        "\n",
        "       [[      0.        ]],\n",
        "\n",
        "       [[ 194359.73154362]],\n",
        "\n",
        "       [[ 231807.15873016]],\n",
        "\n",
        "       [[      0.        ]],\n",
        "\n",
        "       [[ 189384.76190476]],\n",
        "\n",
        "       [[ 138725.73099415]],\n",
        "\n",
        "       [[      0.        ]],\n",
        "\n",
        "       [[      0.        ]],\n",
        "\n",
        "       [[ 105312.19512195]],\n",
        "\n",
        "       [[  92598.14814815]],\n",
        "\n",
        "       [[ 126726.34730539]],\n",
        "\n",
        "       [[      0.        ]],\n",
        "\n",
        "       [[      0.        ]],\n",
        "\n",
        "       [[      0.        ]],\n",
        "\n",
        "       [[ 210643.65454545]],\n",
        "\n",
        "       [[ 260265.57931034]],\n",
        "\n",
        "       [[      0.        ]],\n",
        "\n",
        "       [[      0.        ]],\n",
        "\n",
        "       [[      0.        ]],\n",
        "\n",
        "       [[ 137057.94392523]],\n",
        "\n",
        "       [[ 153530.08849558]],\n",
        "\n",
        "       [[ 170434.18803419]],\n",
        "\n",
        "       [[ 190599.07407407]],\n",
        "\n",
        "       [[      0.        ]],\n",
        "\n",
        "       [[      0.        ]],\n",
        "\n",
        "       [[      0.        ]],\n",
        "\n",
        "       [[ 135927.01      ]],\n",
        "\n",
        "       [[ 126215.07936508]],\n",
        "\n",
        "       [[ 107559.45945946]],\n",
        "\n",
        "       [[      0.        ]],\n",
        "\n",
        "       [[ 162996.08823529]],\n",
        "\n",
        "       [[ 145448.90510949]],\n",
        "\n",
        "       [[      0.        ]],\n",
        "\n",
        "       [[      0.        ]],\n",
        "\n",
        "       [[ 223629.37853107]],\n",
        "\n",
        "       [[ 141938.23529412]],\n",
        "\n",
        "       [[      0.        ]],\n",
        "\n",
        "       [[      0.        ]],\n",
        "\n",
        "       [[      0.        ]],\n",
        "\n",
        "       [[ 116862.16216216]],\n",
        "\n",
        "       [[ 132097.7443609 ]],\n",
        "\n",
        "       [[      0.        ]],\n",
        "\n",
        "       [[ 146291.39072848]],\n",
        "\n",
        "       [[ 132713.59223301]],\n",
        "\n",
        "       [[      0.        ]],\n",
        "\n",
        "       [[      0.        ]],\n",
        "\n",
        "       [[ 172415.44715447]],\n",
        "\n",
        "       [[ 140662.37623762]],\n",
        "\n",
        "       [[ 179700.92592593]],\n",
        "\n",
        "       [[      0.        ]],\n",
        "\n",
        "       [[      0.        ]],\n",
        "\n",
        "       [[ 277987.46285714]],\n",
        "\n",
        "       [[      0.        ]],\n",
        "\n",
        "       [[ 311000.88034188]],\n",
        "\n",
        "       [[ 411229.4017094 ]],\n",
        "\n",
        "       [[      0.        ]],\n",
        "\n",
        "       [[      0.        ]],\n",
        "\n",
        "       [[      0.        ]],\n",
        "\n",
        "       [[      0.        ]],\n",
        "\n",
        "       [[ 243007.0959596 ]],\n",
        "\n",
        "       [[      0.        ]],\n",
        "\n",
        "       [[ 170100.58381503]],\n",
        "\n",
        "       [[ 214133.04347826]],\n",
        "\n",
        "       [[ 163882.22222222]],\n",
        "\n",
        "       [[      0.        ]],\n",
        "\n",
        "       [[ 286134.3627451 ]],\n",
        "\n",
        "       [[ 230701.63709677]],\n",
        "\n",
        "       [[      0.        ]],\n",
        "\n",
        "       [[      0.        ]],\n",
        "\n",
        "       [[      0.        ]],\n",
        "\n",
        "       [[ 265832.46621622]],\n",
        "\n",
        "       [[ 233166.33663366]],\n",
        "\n",
        "       [[ 298926.27184466]],\n",
        "\n",
        "       [[ 328833.09      ]],\n",
        "\n",
        "       [[      0.        ]],\n",
        "\n",
        "       [[      0.        ]],\n",
        "\n",
        "       [[      0.        ]],\n",
        "\n",
        "       [[      0.        ]],\n",
        "\n",
        "       [[      0.        ]],\n",
        "\n",
        "       [[      0.        ]],\n",
        "\n",
        "       [[ 265414.7       ]],\n",
        "\n",
        "       [[ 214014.39041096]],\n",
        "\n",
        "       [[      0.        ]],\n",
        "\n",
        "       [[ 235367.97385621]],\n",
        "\n",
        "       [[ 172185.14851485]],\n",
        "\n",
        "       [[      0.        ]],\n",
        "\n",
        "       [[      0.        ]],\n",
        "\n",
        "       [[ 349844.70588235]],\n",
        "\n",
        "       [[      0.        ]],\n",
        "\n",
        "       [[ 306925.3313253 ]],\n",
        "\n",
        "       [[      0.        ]],\n",
        "\n",
        "       [[      0.        ]],\n",
        "\n",
        "       [[ 293651.82733813]],\n",
        "\n",
        "       [[ 234470.        ]],\n",
        "\n",
        "       [[ 217860.        ]],\n",
        "\n",
        "       [[      0.        ]],\n",
        "\n",
        "       [[ 236208.96842105]],\n",
        "\n",
        "       [[ 261911.88983051]],\n",
        "\n",
        "       [[      0.        ]],\n",
        "\n",
        "       [[      0.        ]],\n",
        "\n",
        "       [[      0.        ]],\n",
        "\n",
        "       [[ 250374.63076923]],\n",
        "\n",
        "       [[      0.        ]],\n",
        "\n",
        "       [[      0.        ]],\n",
        "\n",
        "       [[ 310190.37864078]],\n",
        "\n",
        "       [[ 283699.13392857]],\n",
        "\n",
        "       [[ 269093.14705882]],\n",
        "\n",
        "       [[      0.        ]],\n",
        "\n",
        "       [[      0.        ]],\n",
        "\n",
        "       [[ 291028.02      ]],\n",
        "\n",
        "       [[ 303474.2970297 ]],\n",
        "\n",
        "       [[ 328892.0942029 ]],\n",
        "\n",
        "       [[      0.        ]],\n",
        "\n",
        "       [[ 332675.98192771]],\n",
        "\n",
        "       [[ 380834.95535714]],\n",
        "\n",
        "       [[      0.        ]],\n",
        "\n",
        "       [[      0.        ]],\n",
        "\n",
        "       [[ 302373.61157025]],\n",
        "\n",
        "       [[ 350452.128     ]],\n",
        "\n",
        "       [[      0.        ]],\n",
        "\n",
        "       [[ 360812.13      ]],\n",
        "\n",
        "       [[ 407851.22580645]],\n",
        "\n",
        "       [[      0.        ]],\n",
        "\n",
        "       [[      0.        ]],\n",
        "\n",
        "       [[      0.        ]],\n",
        "\n",
        "       [[ 322760.94927536]],\n",
        "\n",
        "       [[ 354410.63819095]],\n",
        "\n",
        "       [[      0.        ]],\n",
        "\n",
        "       [[ 410104.74774775]],\n",
        "\n",
        "       [[ 429953.94642857]],\n",
        "\n",
        "       [[      0.        ]],\n",
        "\n",
        "       [[      0.        ]],\n",
        "\n",
        "       [[      0.        ]],\n",
        "\n",
        "       [[ 415399.44628099]],\n",
        "\n",
        "       [[ 379383.08      ]],\n",
        "\n",
        "       [[ 476503.84810127]],\n",
        "\n",
        "       [[      0.        ]],\n",
        "\n",
        "       [[ 456169.35294118]],\n",
        "\n",
        "       [[      0.        ]],\n",
        "\n",
        "       [[ 475058.5       ]],\n",
        "\n",
        "       [[ 497121.97435897]]])"
       ]
      }
     ],
     "prompt_number": 58
    },
    {
     "cell_type": "code",
     "collapsed": false,
     "input": [
      "plt.hist(yh,color=\"lavender\")"
     ],
     "language": "python",
     "metadata": {},
     "outputs": [
      {
       "metadata": {},
       "output_type": "pyout",
       "prompt_number": 45,
       "text": [
        "(array([  877.,  3612.,  4099.,  3771.,  2799.,  1769.,  1239.,   752.,\n",
        "          479.,  1243.]),\n",
        " array([  14999. ,   63499.2,  111999.4,  160499.6,  208999.8,  257500. ,\n",
        "         306000.2,  354500.4,  403000.6,  451500.8,  500001. ]),\n",
        " <a list of 10 Patch objects>)"
       ]
      },
      {
       "metadata": {},
       "output_type": "display_data",
       "png": "[encoded data removed]",
       "text": [
        "<matplotlib.figure.Figure at 0x7fbdd3da9d68>"
       ]
      }
     ],
     "prompt_number": 45
    },
    {
     "cell_type": "code",
     "collapsed": false,
     "input": [
      "## E5422 example\n",
      "varnames = pd.read_table('data/E5422/varnames.txt', header=None)\n",
      "varnames = varnames.squeeze().tolist()\n",
      "\n",
      "# with open('data/E5422/varnames.txt','r') as fin:\n",
      "#     varnames=fin.read().splitlines()\n",
      "for v in varnames:\n",
      "    print(v, end=\"  \")"
     ],
     "language": "python",
     "metadata": {},
     "outputs": [
      {
       "output_type": "stream",
       "stream": "stdout",
       "text": [
        "y  d  a2c_cnt  a2l_cnt  asq_cnt  asqfa_cnt  BACO_cnt  BCO__cnt  bi_auct  bi_bin  bi_BnI  bi_Collectibles  bid_cnt  bids_total  bids_total_BnI  bids_total_Collectibles  bids_total_Electronics  bids_total_Fashion  bids_total_HnG  bids_total_Lifestyle  bids_total_Media  bids_total_Other  bids_total_Unknown  bi_Electronics  bi_Fashion  bi_HnG  bi_Lifestyle  bi_Media  bin_cnt  bi_Other  bi_total  bi_Unknown  BO_cnt  cart_views  gmb_auct  gmb_bin  gmb_BnI  gmb_Collectibles  gmb_Electronics  gmb_Fashion  gmb_HnG  gmb_Lifestyle  gmb_Media  gmb_Other  gmb_total  gmb_Unknown  gmv_auct  gmv_bin  gmv_BnI  gmv_Collectibles  gmv_Electronics  gmv_Fashion  gmv_HnG  gmv_Lifestyle  gmv_Media  gmv_Other  gmv_total  gmv_Unknown  myebay_page_views  myebay_sess_count  purch_lastmonth  purch_lastquarter  purch_lastyear  si_auct  si_bin  si_BnI  si_Collectibles  si_Electronics  si_Fashion  si_HnG  si_Lifestyle  si_Media  si_Other  si_total  si_Unknown  SRP_page_views  SRP_sess_count  SYI_page_views  view_syi_BnI  view_syi_Collectibles  view_syi_Electronics  view_syi_Fashion  view_syi_HnG  view_syi_Lifestyle  view_syi_Media  view_syi_Other  view_syi_total  view_syi_Unknown  VI_page_views  VI_sess_count  watch_cnt  xo_page_views  gpi_total  "
       ]
      }
     ],
     "prompt_number": 30
    },
    {
     "cell_type": "code",
     "collapsed": false,
     "input": [
      "ydx = pd.read_table('data/E5422/ydx.txt', header=None, sep=\" \")"
     ],
     "language": "python",
     "metadata": {},
     "outputs": [],
     "prompt_number": 31
    },
    {
     "cell_type": "code",
     "collapsed": false,
     "input": [
      "row = ydx.ix[:,0].values.astype(int)-1\n",
      "col = ydx.ix[:,1].values.astype(int)-1\n",
      "v = ydx.ix[:,2].values.squeeze()"
     ],
     "language": "python",
     "metadata": {},
     "outputs": [],
     "prompt_number": 32
    },
    {
     "cell_type": "code",
     "collapsed": false,
     "input": [
      "ydxmat = sp.sparse.csr_matrix((v,(row,col)))"
     ],
     "language": "python",
     "metadata": {},
     "outputs": [],
     "prompt_number": 33
    },
    {
     "cell_type": "code",
     "collapsed": false,
     "input": [
      "ye = ydxmat[:,0].toarray().squeeze()\n",
      "Xe = ydxmat[:,1:]"
     ],
     "language": "python",
     "metadata": {},
     "outputs": [],
     "prompt_number": 34
    },
    {
     "cell_type": "code",
     "collapsed": false,
     "input": [
      "ydxmat = ydx = None"
     ],
     "language": "python",
     "metadata": {},
     "outputs": [],
     "prompt_number": 37
    },
    {
     "cell_type": "code",
     "collapsed": false,
     "input": [
      "ne = 10\n",
      "msl = 1000\n",
      "RMSE = {key: [] for key in ['ET','BF']}\n",
      "kf = KFold(len(ye), n_folds=10)"
     ],
     "language": "python",
     "metadata": {},
     "outputs": [],
     "prompt_number": 38
    },
    {
     "cell_type": "code",
     "collapsed": false,
     "input": [
      "for test,train in kf:\n",
      "    print(\"%s %s\" % (len(train), len(test)))\n",
      "    \n",
      "    ### data\n",
      "    Xtrain = Xe[train,:]\n",
      "    Xtest = Xe[test,:]\n",
      "    y = ye[train]\n",
      "    f = ye[test]\n",
      "    \n",
      "    #ET\n",
      "    et = ensemble.ExtraTreesRegressor(n_estimators=ne,min_samples_leaf=msl)\n",
      "    %time et.fit(Xtrain,y)\n",
      "    etp = et.predict(Xtest)\n",
      "    RMSE['ET'] += [rmse(f,etp)]\n",
      "\n",
      "    #BF\n",
      "    bf = ensemble.ExtraTreesRegressor(n_estimators=ne,bootstrap=2,min_samples_leaf=msl,min_weight_fraction_leaf=1e-4)\n",
      "    %time bf.fit(Xtrain,y)\n",
      "    bfp = bf.predict(Xtest)\n",
      "    RMSE['BF'] += [rmse(f,bfp)]\n"
     ],
     "language": "python",
     "metadata": {},
     "outputs": [
      {
       "output_type": "stream",
       "stream": "stdout",
       "text": [
        "1322444 11901990\n",
        "CPU times: user 3min 48s, sys: 36 ms, total: 3min 48s"
       ]
      },
      {
       "output_type": "stream",
       "stream": "stdout",
       "text": [
        "\n",
        "Wall time: 3min 48s\n",
        "CPU times: user 3min 39s, sys: 60 ms, total: 3min 39s"
       ]
      },
      {
       "output_type": "stream",
       "stream": "stdout",
       "text": [
        "\n",
        "Wall time: 3min 39s\n",
        "1322444 11901990"
       ]
      },
      {
       "output_type": "stream",
       "stream": "stdout",
       "text": [
        "\n",
        "CPU times: user 3min 35s, sys: 56.1 ms, total: 3min 35s"
       ]
      },
      {
       "output_type": "stream",
       "stream": "stdout",
       "text": [
        "\n",
        "Wall time: 3min 35s\n",
        "CPU times: user 3min 47s, sys: 60.1 ms, total: 3min 48s"
       ]
      },
      {
       "output_type": "stream",
       "stream": "stdout",
       "text": [
        "\n",
        "Wall time: 3min 47s\n",
        "1322444 11901990"
       ]
      },
      {
       "output_type": "stream",
       "stream": "stdout",
       "text": [
        "\n",
        "CPU times: user 3min 46s, sys: 36 ms, total: 3min 46s"
       ]
      },
      {
       "output_type": "stream",
       "stream": "stdout",
       "text": [
        "\n",
        "Wall time: 3min 46s\n",
        "CPU times: user 3min 45s, sys: 32 ms, total: 3min 45s"
       ]
      },
      {
       "output_type": "stream",
       "stream": "stdout",
       "text": [
        "\n",
        "Wall time: 3min 45s\n",
        "1322444 11901990"
       ]
      },
      {
       "output_type": "stream",
       "stream": "stdout",
       "text": [
        "\n",
        "CPU times: user 3min 19s, sys: 48 ms, total: 3min 19s"
       ]
      },
      {
       "output_type": "stream",
       "stream": "stdout",
       "text": [
        "\n",
        "Wall time: 3min 19s\n",
        "CPU times: user 2min 57s, sys: 40 ms, total: 2min 57s"
       ]
      },
      {
       "output_type": "stream",
       "stream": "stdout",
       "text": [
        "\n",
        "Wall time: 2min 57s\n",
        "1322443 11901991"
       ]
      },
      {
       "output_type": "stream",
       "stream": "stdout",
       "text": [
        "\n",
        "CPU times: user 3min 49s, sys: 40 ms, total: 3min 49s"
       ]
      },
      {
       "output_type": "stream",
       "stream": "stdout",
       "text": [
        "\n",
        "Wall time: 3min 49s\n",
        "CPU times: user 3min 40s, sys: 52.1 ms, total: 3min 40s"
       ]
      },
      {
       "output_type": "stream",
       "stream": "stdout",
       "text": [
        "\n",
        "Wall time: 3min 40s\n",
        "1322443 11901991"
       ]
      },
      {
       "output_type": "stream",
       "stream": "stdout",
       "text": [
        "\n",
        "CPU times: user 3min 20s, sys: 24 ms, total: 3min 20s"
       ]
      },
      {
       "output_type": "stream",
       "stream": "stdout",
       "text": [
        "\n",
        "Wall time: 3min 20s\n",
        "CPU times: user 3min 43s, sys: 44 ms, total: 3min 43s"
       ]
      },
      {
       "output_type": "stream",
       "stream": "stdout",
       "text": [
        "\n",
        "Wall time: 3min 42s\n",
        "1322443 11901991"
       ]
      },
      {
       "output_type": "stream",
       "stream": "stdout",
       "text": [
        "\n",
        "CPU times: user 3min 35s, sys: 48 ms, total: 3min 35s"
       ]
      },
      {
       "output_type": "stream",
       "stream": "stdout",
       "text": [
        "\n",
        "Wall time: 3min 35s\n",
        "CPU times: user 3min 47s, sys: 36 ms, total: 3min 47s"
       ]
      },
      {
       "output_type": "stream",
       "stream": "stdout",
       "text": [
        "\n",
        "Wall time: 3min 47s\n",
        "1322443 11901991"
       ]
      },
      {
       "output_type": "stream",
       "stream": "stdout",
       "text": [
        "\n",
        "CPU times: user 3min 18s, sys: 36 ms, total: 3min 18s"
       ]
      },
      {
       "output_type": "stream",
       "stream": "stdout",
       "text": [
        "\n",
        "Wall time: 3min 18s\n",
        "CPU times: user 3min 32s, sys: 32 ms, total: 3min 32s"
       ]
      },
      {
       "output_type": "stream",
       "stream": "stdout",
       "text": [
        "\n",
        "Wall time: 3min 32s\n",
        "1322443 11901991"
       ]
      },
      {
       "output_type": "stream",
       "stream": "stdout",
       "text": [
        "\n",
        "CPU times: user 3min 33s, sys: 44 ms, total: 3min 33s"
       ]
      },
      {
       "output_type": "stream",
       "stream": "stdout",
       "text": [
        "\n",
        "Wall time: 3min 33s\n",
        "CPU times: user 3min 20s, sys: 92.1 ms, total: 3min 20s"
       ]
      },
      {
       "output_type": "stream",
       "stream": "stdout",
       "text": [
        "\n",
        "Wall time: 3min 20s\n",
        "1322443 11901991"
       ]
      },
      {
       "output_type": "stream",
       "stream": "stdout",
       "text": [
        "\n",
        "CPU times: user 3min 39s, sys: 80 ms, total: 3min 39s"
       ]
      },
      {
       "output_type": "stream",
       "stream": "stdout",
       "text": [
        "\n",
        "Wall time: 3min 39s\n",
        "CPU times: user 3min 40s, sys: 28 ms, total: 3min 40s"
       ]
      },
      {
       "output_type": "stream",
       "stream": "stdout",
       "text": [
        "\n",
        "Wall time: 3min 40s\n"
       ]
      }
     ],
     "prompt_number": 52
    },
    {
     "cell_type": "code",
     "collapsed": false,
     "input": [
      "RMSE = pd.DataFrame(RMSE)\n",
      "RMSE.boxplot(return_type='axes')\n",
      "\n",
      "mrmse = [ (mod,np.mean(RMSE[mod])) for mod in RMSE]\n",
      "sorted(mrmse, key=lambda x: x[1])    \n"
     ],
     "language": "python",
     "metadata": {},
     "outputs": [
      {
       "metadata": {},
       "output_type": "pyout",
       "prompt_number": 53,
       "text": [
        "[('ET', 75505.571792861796), ('BF', 75508.190280521187)]"
       ]
      },
      {
       "metadata": {},
       "output_type": "display_data",
       "png": "[encoded data removed]",
       "text": [
        "<matplotlib.figure.Figure at 0x7f28d237a2b0>"
       ]
      }
     ],
     "prompt_number": 53
    },
    {
     "cell_type": "code",
     "collapsed": false,
     "input": [],
     "language": "python",
     "metadata": {},
     "outputs": []
    }
   ],
   "metadata": {}
  }
 ]
}