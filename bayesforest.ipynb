{
 "metadata": {
  "name": "",
  "signature": "sha256:b89cb9f109bc825b0faece69d9a826e526fc6342a3d6bb0179247abd3bfb318a"
 },
 "nbformat": 3,
 "nbformat_minor": 0,
 "worksheets": [
  {
   "cells": [
    {
     "cell_type": "heading",
     "level": 1,
     "metadata": {},
     "source": [
      "Bayesian Forests"
     ]
    },
    {
     "cell_type": "markdown",
     "metadata": {},
     "source": [
      "<br><br>\n",
      "__Abstract:__  We interpret random forests, and bagging ensemble estimators in general, via the framework of nonparametric Bayesian (npB) analysis. The ensemble strategies are revealed as approximations to posterior mean inference for complex summaries of the population data generating process. This insight motivates a class of fully Bayesian forest algorithms that provide small gains in predictive performance and large gains in interpretability (from a Bayesian perspective) over their classically bagged predecessors. The framework is then applied to derive Emperical Bayesian Forests, in which a single short tree \"trunk\" is estimated and Bayesian Forests are fit to the data at each leaf of the trunk. This implies a novel blocking strategyfor fitting tree ensemble predictors on internet-scale data stored in a distributed file system (such as HDFS), and we provide an example on predicting user experience at ebay.com.\n",
      "<br><br>"
     ]
    },
    {
     "cell_type": "markdown",
     "metadata": {},
     "source": [
      "## Introduction\n",
      "\n",
      "Decision trees are a fundamental tool for machine learning.  Such trees partition the attribute (input) space into regions of response homogenaity, such that the response (output) value associated with any point in a given region can be predicted from the average of other observations in that region.  The classification and regression tree (CART) algorithm of Breiman et al (1984) is a common and useful recipe for building trees; it greedily grows a tree through a series of partitions on input features, each of which maximizes reduction in some measure of inpurity at the current tree leaves (terminal nodes; i.e., the implied imput space partitioning).  The development of _random forests_ (RF) by Brieman in 2001, which predict through the average of many CART trees fit to bootstrap re-samples of the data, provided an  archetype for the hugely successful strategy of _tree ensemble learning._  For prediction problems with relatively small input dimensions (or in conjunction with dimension reduction strategies) properly trained ensembles of trees -- or forests -- can predict out-of-the-box as well as any carefully tuned, application-specific alternative.\n",
      "\n",
      "This review details a straightforward, but not well-recognized, nonparametric Bayesian interpretation of random forests.  Imagine the CART fit for a _population_ data generating process (DGP) with finite support.  This CART greedily partitions the feature support to minimize impurity of the response distribtion conditional on each partition region, and we suppose it terminates while each leaf node has probability greater than some threshold. If we agree that such a population-CART is an useful statistic (i.e., would be useful for prediction) then its posterior mean is of interest as the optimal Bayesian estimator of a useful statistic.   The posterior distribution of CART fits is induced by our nonparametric Bayesian posterior over random DGPs.\n",
      "The random forest set of trees is an approximate sample from this posterior, such that the RF predictor is a _posterior mean_ prediction rule.  A simple alteration of the RF algorithm leads to an exact sample from the posterior, which we label as a _Bayesian forest_.  \n",
      "\n",
      "The altered BF algorithm offers a small but reliable improvement on RFs.  However, the big gain is interpretability: when should R/B forests work, and when should we expect the more restrictive Bayesian tree models to be preferable?  This is an important point, as the literature is full of contradictory bake-offs showing that one tree ensemble is preferable to another in OOS prediction.  The tree structure is so complex that it defies simple analysis, making theoretical guidance rare and weak.  The Bayesian interpretations make it possible to forecast which algorithm will be preferable based upon some basic problem context.  We illustrate this in two simple examples.\n",
      "\n",
      "The interpretable model also allows us to assess appropriateness of various Big Data distributed computing schemes for their ability to recover the posterior mean. This leads us to propose Emperical Bayesian Forests, in which a single short tree \"trunk\" is estimated and Bayesian Forests are fit to the data at each leaf of the trunk.  This implies novel blocking strategy for fitting tree ensemble predictors on internet-scale data stored in a distributed file system (such as HDFS), and illustrate the algorithm while predicting user experience at ebay.com.\n",
      "\n",
      "\n"
     ]
    },
    {
     "cell_type": "markdown",
     "metadata": {},
     "source": [
      "## Nonparametric Bayesian Forests\n",
      "\n",
      "The classical _distribution free_ framework of nonparametric inference <cite data-cite=\"hollander_nonparametric_1999\">(see, e.g., Hollander + Wolfe, 1999) has two components:\n",
      "1. find a _nonparametric statistic_ $\\mathcal{T}(\\text{DGP})$ that is of interest in your application regardless of the true data generating process (DGP),\n",
      "2. and derive a sampling distribution on $\\mathcal{T}$ under minimal assumptions on the DGP.\n",
      "\n",
      "The Bayesian version of this procedure replaces step 2 with \n",
      "\n",
      "&nbsp;&nbsp;2b.  build a flexible model for the DGP, and derive the posterior distribution on $\\mathcal{T}(\\text{DGP})$ from the posterior distribution on possible DGPs.\n",
      "\n",
      "As detailed below, a simple and powerful nonparametric Bayesian framework models the data generating process through a multinomial probability\n",
      "function on a large number of possible $\\mathbf{z} = \\{\\mathbf{x},y\\}$ input-output points. We apply a limiting\n",
      "non-informative prior, which implies using the observed data as our\n",
      "approximation for the population support.  This provides a posterior over\n",
      "possible DGPs.\n",
      "\n",
      "In the context of this article, 1. is clearly referring to decision trees.   Indeed, trees are useful precisely because they are good predictors regardless of the underlying data distribution -- they do not rely upon distributional assumptions to share information across training observations.  In particular, we'll define $\\mathcal{T}$ as the greedy CART fit for a decision tree that terminates at some minimum leaf probability threshold.  For any realization of the DGP -- which will be a probability function over finite support -- the CART tree $\\mathcal{T}(\\text{DGP})$\n",
      "greedily splits to minimize impurity of the response distribtion conditional on each partition region.\n",
      "If we can sample from the posterior over DGPs (i.e., sample weights on the support), then a forest is constructed by fitting CART to each posterior DGP draw.  The forest is a posterior sample of tree statistics, and  the ensemble average prediction is interpretable as a posterior mean.\n",
      "\n",
      "\n",
      "The forest predictor is a posterior mean for the population CART tree.  This makes it clear when we should expect such forests to do a good job in prediction: when this tree provides a good summary of the conditional response distribution.  This will be the case when the greedy algorithm leads to a good partitioning -- for example, when you have lots of data and a relatively low dimensional feature space.  It will not do as well when the greedy algorithm is unreliable; e.g., in high dimensions, especially when many feature dimensions have little or no influence on the response (i.e., in situations were, even if nonparametric partitioning is the correct approach, the greedy algorithm is likely to converge to a minor mode much worse than best).  More importantly, a forest predictor will also be the inappropriate choice whenever compared against models with properties reflected in the true data generating process.  For example, if the response is a linear function of the features, then knowing the equation for this line through the population is _much more useful_ than any partitioning summary.  Or if the idiosynchratic error around the unknown conditional mean function is homoskedastic, we will get better predictions if we use that information when summarizing the conditional response distribution.  The use of Random or Bayesian forests should thus be reserved for situations where we _need_ to be distribution free -- when the conditional response function defies parametric representation. \n"
     ]
    },
    {
     "cell_type": "markdown",
     "metadata": {},
     "source": [
      "\n",
      "### Model for the data generating process\n",
      "\n",
      "We  employ a Dirichlet-multinomial sampling model in nonparametric Bayesian (NPB) analysis.  The approach dates back to <cite data-cite=\"ferguson_bayesian_1973\">Ferguson (1973)</cite>. \n",
      "<cite data-cite=\"chamberlain_nonparametric_2003\">Chamberlain + Imbens (2003)</cite> provide an overview in the context of\n",
      "econometric problems.\n",
      "<cite data-cite=\"rubin_bayesian_1981\">Rubin (1981)</cite> proposed the Bayesian bootstrap as an algorithm for\n",
      "sampling from versions of the posterior implied by this strategy, and the\n",
      "algorithm has since become closely associated with this model.\n",
      "\n",
      "Use $\\mathbf{z}_i = \\{\\mathbf{x}_i,y_i\\}$ to denote the complete feature and response observation for unit $i$. We suppose that data are drawn _independently_ from a finite number $L$ of possible values,\n",
      "\n",
      "\\begin{equation}\n",
      "\\mathrm{p}(\\mathbf{z}) = \\sum_{l=1}^L \\omega_l \\mathbb{1}{[\\mathbf{z} = \\boldsymbol{\\zeta}_l]}\n",
      "\\end{equation}\n",
      "\n",
      "where $\\omega_l\\geq0\\forall l$ and $\\sum_l \\omega_l = 1$.  Thus the generating process for observation $i$ samples $l_i$ from a multinomial with probability $\\omega_{l_i}$, and this indexes one of the $L$ support points.  Since $L$ can be arbitrarily large, and all data are stored as discrete (up to machine tolerance), this so-far implies no restrictive assumptions beyond that of independence.\n",
      "\n",
      "The conjugate prior for $\\boldsymbol{\\omega}$ is a Dirichlet distribution, written\n",
      "$\\mathrm{Dir}(\\boldsymbol{\\omega}; \\boldsymbol{\\nu}) \\propto \\prod_{l=1}^L\\omega_j^{\\nu_l-1}$.  We\n",
      "will parametrize the prior with a single concentration parameter $\\boldsymbol{\\nu} =\n",
      "a >0$, such that $\\mathbb{E}[\\omega_l] = a/La = 1/L$ and $\\mathrm{var}(\\omega_l) =\n",
      "(L-1)/[L^2(La+1)]$. Suppose you have the observed sample $\\mathbf{Z} = [\\mathbf{z}_1\n",
      "\\cdots \\mathbf{z}_n]'$.  For convenience, we allow $\\boldsymbol{\\zeta}_l=\\boldsymbol{\\zeta}_k$ for $l \\neq k$\n",
      "in the case of repeated values. Write $l_1 \\dots l_n = 1 \\dots n$ so\n",
      "that $\\mathbf{z}_i = \\boldsymbol{\\zeta}_i$ and $\\mathbf{Z} = [\\boldsymbol{\\zeta}_1 \\cdots \\boldsymbol{\\zeta}_n]'$.  Then the posterior\n",
      "distribution for $\\boldsymbol{\\omega}$ has $\\omega_i = a+1$ for $i\\leq n$ and $\\omega_l = a$ for $l>n$, so that\n",
      "\n",
      "\\begin{equation}\n",
      "\\mathrm{p}(\\boldsymbol{\\omega} ) \\propto \\prod_{i=1}^n \\omega_i^{a} \\prod_{l=n+1}^L \\omega_l^{a-1}.\n",
      "\\end{equation}\n",
      "\n",
      "This, in turn, defines our posterior for the data generating process through our sampling model above.\n",
      "\n",
      "There are many possible strategies for specification of $a$ and $\\zeta_l$ for\n",
      "$l>n$. (The unobserved $\\zeta_l$ act as data we imagine we might have\n",
      "seen, to smooth the posterior away from the data we have actually observed.\n",
      "See <cite data-cite=\"poirier_bayesian_2011\">Poirier (2011)</cite> for discussion of how such values can be\n",
      "useful in application.)  The non-informative prior that arises as\n",
      "$a\\rightarrow 0$ is a default with massive computational\n",
      "convenience: in this limit, $\\omega_l = 0$ with probability one for\n",
      "$l>n$. (To see this, note that for $l>n$ the posterior has\n",
      "$\\mathbb{E}[\\omega_l]=0$ with variance $\\mathrm{var}(\\omega_l) = \\lim_{a \\to 0}\n",
      "a[n+a(L-1)]/[(n+La)^2(n+La+1)] = 0$.)  We apply this limiting prior\n",
      "throughout, such that our posterior for the data generating process is\n",
      "a multinomial draw from the _observed data points_, with a uniform\n",
      "$\\mathrm{Dir}(\\boldsymbol{1})$ distribution on the $\\boldsymbol{\\omega} = [\\omega_1 \\dots\n",
      "\\omega_n]'$ sampling probabilities.\n"
     ]
    },
    {
     "cell_type": "markdown",
     "metadata": {},
     "source": [
      "### Posterior inference and Bayesian forests\n",
      "\n",
      "Conditional upon $\\boldsymbol{\\omega}$, the population tree $\\mathcal{T}(\\text{DGP})$ is defined through a weighted-sample of the CART version.  In particular, given data $\\mathbf{Z}^\\eta = \\{\\mathbf{X}^\\eta,\\mathbf{y}^\\eta\\}$ in node $\\eta$, sort through all dimensions of all observations in $\\mathbf{Z}^\\eta$ to find the split that minimizes the average of some $\\boldsymbol{\\omega}$ impurity metric across the two new child nodes.  For example, in the case of regression trees (which we focus on), the impurity to minimize is weighted-squared error\n",
      "\n",
      "\\begin{equation}\n",
      "\\mathcal{I}(\\mathbf{y}^\\eta) = \\sum_{i\\in \\eta} \\omega_i (y_i - \\bar y^\\eta )^2\n",
      "\\end{equation}\n",
      "\n",
      "with $\\bar y^\\eta =\\omega_i y_i/\\|\\boldsymbol{\\omega}^\\eta\\|_0$.  This is repeated on every leaf of the tree, and the algorithm terminates when no split leads to a new child $\\|\\boldsymbol{\\omega}^{\\eta^c}\\|_0$ with $\\|\\boldsymbol{\\omega}^{\\eta^{c}}\\|_0$ greater than some threshold.  We'll refer to the resulting weighted CART as $\\mathcal{T}(\\boldsymbol{\\omega})$.\n",
      "\n",
      "Following <cite data-cite=\"rubin_bayesian_1981\">Rubin (1981)</cite> we can obtain a sample from the posterior\n",
      "on $\\mathcal{T}(\\boldsymbol{\\omega})$ through a simple Bayesian bootstrap: for $b=1,\\dots, B$,\n",
      "\n",
      " * draw $\\boldsymbol{\\omega}^b \\sim \\mathrm{Exp}(\\mathbf{1})$, and set $\\boldsymbol{\\Omega}^b = \\mathrm{diag}(\\boldsymbol{\\omega}^b)$; then\n",
      " * run CART to get $\\mathcal{T}(\\boldsymbol{\\omega})$\n",
      "\n",
      "We call this a Bayesian Forest, and it differs from a traditional random forest only in that the weights are drawn from a Dirichlet distribution rather than a multinomial distribution.  To the extent that RF sampling provides a coarse approximation to the BF samples, the former is a convenient (and computationally advantageous, since fewer observations need to be optimized over) approximation. "
     ]
    },
    {
     "cell_type": "markdown",
     "metadata": {},
     "source": [
      "### Implementation via scikit-learn\n",
      "\n",
      "We can implement a BF through simple adjustement of the `ensemble` module of `scikit-learn` (`sklearn`).  Upon altering the forest `sample_counts` when bootsrapping to be exponential rather than binomial, we get a bayesian bootstrap. We flag this alternative Bayesian bootstrap by passing `boostrap=2` in any forest class construction (this is documented as a boolean, so we're taking advantage of easy conversion to int).\n",
      "\n",
      "\n",
      "In detail, lines 88-89 of [forest.py](https://github.com/scikit-learn/scikit-learn/blob/master/sklearn/ensemble/forest.py) change from \n",
      "\n",
      "``\n",
      "indices = random_state.randint(0, n_samples, n_samples)\n",
      "sample_counts = np.bincount(indices, minlength=n_samples)\n",
      "``\n",
      "\n",
      "to\n",
      "\n",
      "            ### bayesian forest      \n",
      "            if forest.bootstrap == 2:\n",
      "                sample_counts = random_state.exponential(1,n_samples)\n",
      "            else:    \n",
      "                indices = random_state.randint(0, n_samples, n_samples)\n",
      "                sample_counts = np.bincount(indices, minlength=n_samples)\n",
      "            \n",
      "            #print(\"bs of %d and first 5 weights:\" % forest.bootstrap)\n",
      "            #print(sample_counts[0:5])\n",
      "            ###################\n",
      "\n",
      "You can install the updates with\n",
      "`python setup.py install --user`, and\n",
      "see the script below for how to append this local scipy in front of, say, the anaconda standard.  To check that your change is taking effect, add a print statment like      \n",
      "\n",
      "``\n",
      "print(\"bs of %d and first 5 weights:\" % forest.bootstrap)\n",
      "print(sample_counts[0:5])\n",
      "``\n",
      "\n",
      "\n"
     ]
    },
    {
     "cell_type": "markdown",
     "metadata": {},
     "source": [
      "### Motorcycle data illustration\n",
      "\n",
      "We illustrate the various models with a simple one-dimensional prediction problem: what is the velocity of a motorcyle helmet after impact in a crash?  This data, taken from the MASS library for R, provides a series of measurements of crash-test-dummy head acceleration in simulated motorcycle accidents."
     ]
    },
    {
     "cell_type": "code",
     "collapsed": false,
     "input": [
      "import sys\n",
      "# give preference to local update\n",
      "sys.path.append(\"~/.local/lib/python3.4/site-packages\")\n",
      "\n",
      "import numpy as np\n",
      "import scipy as sp\n",
      "import pandas as pd\n",
      "import matplotlib.pyplot as plt\n",
      "from sklearn import tree\n",
      "from sklearn import ensemble\n",
      "import numpy.random as rn\n",
      "\n",
      "%matplotlib inline\n",
      "plt.rc('figure', figsize=(14,6))\n",
      "plt.rc('figure.subplot', wspace=.33)"
     ],
     "language": "python",
     "metadata": {},
     "outputs": [],
     "prompt_number": 16
    },
    {
     "cell_type": "code",
     "collapsed": false,
     "input": [
      "mcycle = pd.read_csv('data/mcycle.csv')\n",
      "Xm = mcycle['times'].values.reshape(-1,1)\n",
      "ym = mcycle['accel'].values"
     ],
     "language": "python",
     "metadata": {},
     "outputs": [],
     "prompt_number": 94
    },
    {
     "cell_type": "code",
     "collapsed": false,
     "input": [
      "def mcycle_plot(mod,title,**kwargs):\n",
      "    plt.scatter(mcycle['times'],mcycle['accel'],**kwargs)\n",
      "    plt.xlabel(\"seconds\")\n",
      "    plt.ylabel(\"acceleration\")\n",
      "    plt.title(title)\n",
      "\n",
      "    xgrid = np.arange(0,60,1).reshape(-1,1)\n",
      "    plt.plot(xgrid, mod.predict(xgrid),color=\"red\",linewidth=2)\n"
     ],
     "language": "python",
     "metadata": {},
     "outputs": [],
     "prompt_number": 95
    },
    {
     "cell_type": "code",
     "collapsed": false,
     "input": [
      "# a simple cart fit\n",
      "mcycle_dt = tree.DecisionTreeRegressor(min_samples_leaf=5)\n",
      "mcycle_dt.fit(Xm,ym)\n",
      "# random forest \n",
      "mcycle_rf = ensemble.RandomForestRegressor(100,min_samples_leaf=5)\n",
      "mcycle_rf.fit(Xm,ym)\n",
      "\n",
      "# plot them\n",
      "plt.figure(1)\n",
      "plt.subplot(121)\n",
      "mcycle_plot(mcycle_dt, \"CART\")\n",
      "\n",
      "plt.subplot(122)\n",
      "mcycle_plot(mcycle_rf, \"RF\")\n",
      "plt.plot(xgrid, mcycle_rf.predict(xgrid),color=\"red\",linewidth=2)\n"
     ],
     "language": "python",
     "metadata": {},
     "outputs": [
      {
       "metadata": {},
       "output_type": "pyout",
       "prompt_number": 96,
       "text": [
        "[<matplotlib.lines.Line2D at 0x7fa411206128>]"
       ]
      },
      {
       "metadata": {},
       "output_type": "display_data",
       "png": "[encoded data removed]",
       "text": [
        "<matplotlib.figure.Figure at 0x7fa4118da630>"
       ]
      }
     ],
     "prompt_number": 96
    },
    {
     "cell_type": "code",
     "collapsed": false,
     "input": [
      "# single bayesian cart draw\n",
      "omega = rn.exponential(1,mcycle.shape[0])\n",
      "mcycle_bt = tree.DecisionTreeRegressor(min_samples_leaf=5)\n",
      "mcycle_bt.fit(Xm, ym, sample_weight=omega)\n",
      "# bayesian forest\n",
      "mcycle_bf = ensemble.RandomForestRegressor(100,min_samples_leaf=5, bootstrap=2)\n",
      "mcycle_bf.fit(Xm,ym)\n",
      "\n",
      "plt.subplot(131)\n",
      "plt.hist(omega,normed=1,color=\"aliceblue\")\n",
      "plt.title(\"omega\")\n",
      "\n",
      "plt.subplot(132)\n",
      "mcycle_plot(mcycle_bt, \"Bayesian tree draw\", s=omega*20)\n",
      "\n",
      "plt.subplot(133)\n",
      "mcycle_plot(mcycle_bf, \"Bayesian Forest\")\n"
     ],
     "language": "python",
     "metadata": {},
     "outputs": [
      {
       "metadata": {},
       "output_type": "display_data",
       "png": "[encoded data removed]",
       "text": [
        "<matplotlib.figure.Figure at 0x7fa4110d8c50>"
       ]
      }
     ],
     "prompt_number": 97
    },
    {
     "cell_type": "markdown",
     "metadata": {},
     "source": [
      "## Bayesian tree-as-parameter models\n",
      "\n",
      "Our multinomial-sampling npB analysis, inspired by classical distribution-free strategies, can be viewed as a minimal-assumption baseline Bayesian treatment.  There are plenty of other Bayesian analyses of decision trees in the literature. All of these methods treat the tree as a _parameter_ which governs the DGP, rather than a functional thereof, and thus place some set of restrictions on the functional form of the distributional  relationship between inputs and outputs.   This section will survey these models and estimators, emphasizing that our Bayesian Forest framework allows us to place some intuition underneath the question of when each of these methods will be more appropriate that the completely nonparametric BF (or RF) baseline.    \n",
      "\n",
      "The original Bayesian tree model is the _Bayesian CART_ (BCART) of <cite cite-info=\"chipman_bayesian_1198\">Chipman, George, and McCulloch (1998)</cite>. BCART treats the set of all possible decision tree fits as the support for their target parameter, and they devise a prior on trees in this set that has tree probability decreasing with its complexity (maximum depth and number of node, such that trees that are equivalent on these properties are equally likely in the prior).  The data model is specified for response $y$ _conditional upon_ $\\mathbf{x}$, and holds that conditional upon a given tree the responses for all observations who are allocated (via $\\mathbf{x}$) to the same leaf node are IID from some parametric family.  For regression trees, observations in each leaf node are IID Normal with shared variance and mean.  For classification trees, each leaf represents single probability function over outcome classes.\n",
      "\n",
      "BCART is fit through Markov chain Monte Carlo (MCMC).  The algorithm draws a (correlated) posterior sample by proposing a number of possible changes to existing tree fit (e.g. grow or prune a given leaf node in the current tree) and accepting those changes (and thus move to new posterior tree draw) with probabilities proportional to the tree prior times leaf likelihood.  A natural extension of this framework is to consider alternative leaf models.  The original BART authors proposed linear regression at leaves, while the Treed Gaussian Processes of <cite data-cite=\"gramacy_bayesian_2008\">Gramacy+Lee (TGP; 2008)</cite> use Gaussian procees regression at each leaf node.  The TGP models, in particular, are very appealing in that they use the tree structure (one flexible regression model) to allow for nonstationarity in the Gaussian processes (another flexible regression model).  As an alternative to MCMC-based tree frameworks, <cite data-cite=\"taddy_dynamic_2011\">Taddy, Gramacy, + Polson (2011)</cite> proposed dynamic regression trees (dynaTree) fit through sequential Monte Carlo (SMC).  In particular, dynaTree uses a particle-filtering to sequentially update a particle set of potential trees for the arrival of new data with basic (grow, prune) tree operations -- they allow the tree to grow naturally with streaming data.\n",
      "\n",
      "MCMC and SMC seem naturally suited to analysis of CART, as their sampling of tree space relies upon the same incremental moves that are familiar from the construction of classical CART fits.  However, this also means that these sampling algorithms are subject to the same _problems_ CART has: they tend to get stuck in small regions of tree-space.  For dynaTree SMC, the quality of the particle set degrades quickly (although for truly streaming data, particle rejuvination can help dramatically and has the secondary benefit of allowing tree structure to change in time).    The issue is alleviated by having more complex leaf models, as in TGP, since then shorter (easier to sample efficiently) trees are required for fitting the data.  Standard Monte Carlo algorithm enhancements, such as multiple parallel chains, can also help.  But a full exploration of BCART-style tree space remains very difficult and requires extremely large Markov samples to have any chance of convergence.  \n",
      "\n",
      "As a solution to these mixing issues, the original BCART authors proposed Bayesian Additive Regression Trees <cite data-cite=\"chipman_bart:_2010\">(BART; 2010)</cite>, which replaces the single tree model with the sum of many small trees.  Thus, a single observation is allocated via its features to a leaf node in each of, say, $T$ trees; the associated response is then distributed with mean equal to the average of each leaf node value and with a _shared variance across observations_.  The original BART model assumes Normal response, and later extensions allow alternative response families (including nonparametric mixtures of Normals).    BART solves the mixing issue by only working with very short (depth 2-5) trees.  This stubby tree space is not difficult to explore, and the authors provide a fast and well-mixing MCMC algorithm.  However, this resolution comes at a steep price: by specifying a data model that has shared variance for all observations, BART loses an important feature of CART, BCART, and the others: the ability to fit fitting heteroskedastic data.  While the other BCART-style Bayesian trees made assumptions about the parametric distribution at each leaf node,  they all (as CART does) allow completely different specifications (e.g., distinct mean and variance) at each leaf. BART's shared variance removes this property.\n",
      "\n",
      "Despite the assumed homoskedasticity, extensive simulations have shown BART to outperform alternative flexible prediction rules.  The emperical evidence of BARTS performance is strong enough that it has gained support as a default Bayesian method for flexible prediction <cite data-cite=\"hill_bayesian_2011\">(e.g., Hill 2011)</cite>.  From our perspective, this success occurs when an estimate of the BART model on the population, with its homoskedastic Normal error variance, is a good summary of the population conditional response distribution. Many datasets, especially those analyzed by academics (and after the transformations, e.g., log, that academic statisticians apply to get better behaved response), have the property that they are well fit by flexible regression with homoskedastic errors.   For the same reasons, the BCART/TGP/dynaTree models have been shown repeatedly to outperform  RF in academic bake-offs; this occurs on data were their parametric response model (e.g. Normal) fits well enough to be a better summary of the data than the posterior mean CART tree.  The purpose of the current article is not at all to argue against such strong performance.  Rather, we wish to add intuition about the models that would allow you to consider your data applications and predict, given some basic knowledge of the DGP, whether you can leverage any of the semiparametric assumptions in BART, BCART, TGP, dynaTree, etc; or whether a distribution free summary (BF or RF) will be more useful. \n",
      "\n",
      "Finally, we note that the Bayesian bootstrap framework can also applied to parameters of an assumed parametric DGP, and thus can apply to tree-as-parameter models.  In such a framework, outlined as Bayesian bagging in <cite data-cite=\"clyde_bagging_2001\">Clyde+Lee (2001)</cite>, the bootstrap mean (and related bootstrap summaries) have  interpretation as _Bayesian model averaging_.  However, this framework becomes difficult to interpret when the target parameter is  infinite dimensional (as it is for tree models), and the MCMC or SMC sampling strategies mentioned above are much more common. The Clyde+Lee paper does consider a Bayesian bagging (model averaging) treatment of CART, but their desire to interpret the tree as a model parameter leads to quite different algorithm and analysis.  \n",
      "\n"
     ]
    },
    {
     "cell_type": "markdown",
     "metadata": {},
     "source": [
      "## Compare and contrast\n",
      "\n",
      "The spectrum of Bayesian analysis of trees moves from distribution free BF and RF, through \n",
      "the Bayesian nonparametrics-via-many-parameters approach of BCART, TGP, and dynaTree, \n",
      "to semi-parametric BART which makes truly restrictive assumptions about the response distribution.   Instead of blindly picking the method which has performed best in past studies of arbitrary data (e.g., bake-offs in academic papers), we can use this information to predict which methods will suit our application.\n",
      "\n",
      "In this section, we illustrate with two examples that have very different properties.  The first is a simulation study with known homoskedastic errors in the target.  The second considers raw dollar-value home prices in california as the response of interest.  On these examples, we fit a CART, RF, BF, BART, and BCART as described above.  We also include the extremely random trees (ET) of <cite data-cite=\"geurts_extremely_2006\">Geurts, Ernst, and Wehenkel (2006)</cite>, which are similar to random forests except that (a) instead of optimizing greedy splits, candidate splits are chosen randomly and the best is used and (b) all of the data is used to fit each tree (there is no bootstrap resampling or reweighting).  ETs perform well on small datasets, where CART has a high tendancy to overfit without careful pruning.  On such small datasets (e.g. our Friedman example) the restriction of population support to observed support (assumed in our nonparametric analysis) becomes less acceptable and we might expect the Random and Bayesian forests to suffer.\n",
      "\n",
      "### Friedman example\n",
      "\n",
      "A common simulation experiment in evaluating flexible predictors is based around the so-called Friedman function, first proposed for this purpose in <cite data-cite=\"friedman_multivariate_1991\">Friedman's 1991</cite> MARS paper.\n",
      "The function is \n",
      "\n",
      "$$\n",
      "y = f(\\mathbf{x}) +  \\varepsilon = 10\\mathrm{sin}(\\pi x_1 x_2) + 20 (x_3-0.5)^2 + 10x_4 + 5x_5 + \\varepsilon\n",
      "$$\n",
      "\n",
      "where $\\varepsilon \\sim \\mathrm{N}(0,1)$ and $x_j \\sim \\mathrm{U}(0,1)$.  We include as features for training the spurrious $x_6 \\dots x_{p}$, matching Friedman with MARS and Chipman et al with BART.  Each candidate regression model is fit to 100 random draws from the Friedman function, and tested at 1000 new x locations (simulated uniformly as in the training data).  We calculate the root mean square error between predicted values and true $f(\\mathbf{x})$ as a measure predictive performance.\n"
     ]
    },
    {
     "cell_type": "code",
     "collapsed": false,
     "input": [
      "import sys\n",
      "# give preference to local update\n",
      "sys.path.append(\"~/.local/lib/python3.4/site-packages\")\n",
      "\n",
      "import numpy as np\n",
      "import scipy as sp\n",
      "import pandas as pd\n",
      "import matplotlib.pyplot as plt\n",
      "from sklearn import tree\n",
      "from sklearn import ensemble\n",
      "import numpy.random as rn\n",
      "\n",
      "%matplotlib inline\n",
      "plt.rc('figure', figsize=(14,6))\n",
      "plt.rc('figure.subplot', wspace=.33)\n",
      "\n",
      "def fried(x, noisy=True):\n",
      "    f = 10*np.sin(np.pi*x[:,0]*x[:,1]) + 20*(x[:,2]-0.5)**2 + 10*x[:,3]+5*x[:,4]\n",
      "    if noisy: \n",
      "        f += rn.normal(size=n)\n",
      "    return f\n"
     ],
     "language": "python",
     "metadata": {},
     "outputs": [],
     "prompt_number": 6
    },
    {
     "cell_type": "code",
     "collapsed": false,
     "input": [
      "## a single analysis\n",
      "\n",
      "n = 100\n",
      "p = 10\n",
      "X = rn.uniform(0,1,n*p).reshape(n,p)\n",
      "y = fried(X)\n",
      "f = fried(X,noisy=False)\n",
      "\n",
      "#DT\n",
      "fried_dt = tree.DecisionTreeRegressor(min_samples_leaf=3)\n",
      "fried_dt.fit(X,y)\n",
      "fried_dtp = fried_dt.predict(X)\n",
      "\n",
      "#RF3\n",
      "fried_rf = ensemble.RandomForestRegressor(100,min_samples_leaf=3)\n",
      "fried_rf.fit(X,y)\n",
      "fried_rfp = fried_rf.predict(X)\n",
      "\n",
      "#ET\n",
      "fried_et = ensemble.ExtraTreesRegressor(100,min_samples_leaf=3)\n",
      "fried_et.fit(X,y)\n",
      "fried_etp = fried_et.predict(X)\n",
      "\n",
      "#BF\n",
      "fried_bf = ensemble.RandomForestRegressor(100,min_samples_leaf=3,bootstrap=2)\n",
      "fried_bf.fit(X,y)\n",
      "fried_bfp = fried_bf.predict(X)\n",
      "\n",
      "plt.scatter(f, fried_dtp, c=\"dodgerblue\", label=\"DT\",s=20,edgecolors='none')\n",
      "plt.scatter(f, fried_rfp, c=\"orange\", label=\"RF\",s=20,edgecolors='none')\n",
      "plt.scatter(f, fried_etp, c=\"fuchsia\", label=\"ET\",s=20,edgecolors='none')\n",
      "plt.scatter(f, fried_bfp, c=\"green\", label=\"BF\",s=20,edgecolors='none')\n",
      "plt.xlabel(\"response\")\n",
      "plt.ylabel(\"prediction\")\n",
      "plt.legend(frameon=False,loc=4)\n",
      "plt.xlim(4,26)\n",
      "plt.ylim(4,26)\n",
      "\n"
     ],
     "language": "python",
     "metadata": {},
     "outputs": [
      {
       "metadata": {},
       "output_type": "pyout",
       "prompt_number": 7,
       "text": [
        "(4, 26)"
       ]
      },
      {
       "metadata": {},
       "output_type": "display_data",
       "png": "[encoded data removed]",
       "text": [
        "<matplotlib.figure.Figure at 0x7f2070160048>"
       ]
      }
     ],
     "prompt_number": 7
    },
    {
     "cell_type": "code",
     "collapsed": false,
     "input": [
      "def rmse(f,fhat):\n",
      "    return np.sqrt(np.mean( (f-fhat)**2 ))\n",
      "\n",
      "ne = 100\n",
      "n = 100\n",
      "p = 10\n",
      "B = 100\n",
      "msl = 3\n",
      "fried_RMSE = {key: [] for key in ['DT','RF','ET','BF']}\n",
      "for b in range(B):\n",
      "    ### data\n",
      "    Xtrain = rn.uniform(0,1,n*p).reshape(n,p)\n",
      "    Xtest = rn.uniform(0,1,1000*p).reshape(1000,p)\n",
      "    y = fried(Xtrain)\n",
      "    f = fried(Xtest,noisy=False)\n",
      "    \n",
      "    #DT\n",
      "    fried_dt = tree.DecisionTreeRegressor(min_samples_leaf=msl)\n",
      "    fried_dt.fit(Xtrain,y)\n",
      "    fried_dtp = fried_dt.predict(Xtest)\n",
      "    fried_RMSE['DT'] += [rmse(f,fried_dtp)]\n",
      "    \n",
      "    #RF\n",
      "    fried_rf = ensemble.RandomForestRegressor(n_estimators=ne,min_samples_leaf=msl)\n",
      "    fried_rf.fit(Xtrain,y)\n",
      "    fried_rfp = fried_rf.predict(Xtest)\n",
      "    fried_RMSE['RF'] += [rmse(f,fried_rfp)]\n",
      "\n",
      "    #ET\n",
      "    fried_et = ensemble.ExtraTreesRegressor(n_estimators=ne,min_samples_leaf=msl)\n",
      "    fried_et.fit(Xtrain,y)\n",
      "    fried_etp = et.predict(Xtest)\n",
      "    fried_RMSE['ET'] += [rmse(f,fried_etp)]\n",
      "\n",
      "    #BF\n",
      "    fried_bf = ensemble.RandomForestRegressor(n_estimators=ne,bootstrap=2,min_samples_leaf=msl)\n",
      "    fried_bf.fit(Xtrain,y)\n",
      "    fried_bfp = fried_bf.predict(Xtest)\n",
      "    fried_RMSE['BF'] += [rmse(f,fried_bfp)]\n",
      "\n",
      "    print(b,end=\" \")\n",
      "\n",
      "fried_RMSE = pd.DataFrame(fried_RMSE)\n"
     ],
     "language": "python",
     "metadata": {},
     "outputs": [
      {
       "output_type": "stream",
       "stream": "stdout",
       "text": [
        "0 1"
       ]
      },
      {
       "output_type": "stream",
       "stream": "stdout",
       "text": [
        " 2"
       ]
      },
      {
       "output_type": "stream",
       "stream": "stdout",
       "text": [
        " 3"
       ]
      },
      {
       "output_type": "stream",
       "stream": "stdout",
       "text": [
        " 4"
       ]
      },
      {
       "output_type": "stream",
       "stream": "stdout",
       "text": [
        " 5"
       ]
      },
      {
       "output_type": "stream",
       "stream": "stdout",
       "text": [
        " 6"
       ]
      },
      {
       "output_type": "stream",
       "stream": "stdout",
       "text": [
        " 7"
       ]
      },
      {
       "output_type": "stream",
       "stream": "stdout",
       "text": [
        " 8"
       ]
      },
      {
       "output_type": "stream",
       "stream": "stdout",
       "text": [
        " 9"
       ]
      },
      {
       "output_type": "stream",
       "stream": "stdout",
       "text": [
        " 10"
       ]
      },
      {
       "output_type": "stream",
       "stream": "stdout",
       "text": [
        " 11"
       ]
      },
      {
       "output_type": "stream",
       "stream": "stdout",
       "text": [
        " 12"
       ]
      },
      {
       "output_type": "stream",
       "stream": "stdout",
       "text": [
        " 13"
       ]
      },
      {
       "output_type": "stream",
       "stream": "stdout",
       "text": [
        " 14"
       ]
      },
      {
       "output_type": "stream",
       "stream": "stdout",
       "text": [
        " 15"
       ]
      },
      {
       "output_type": "stream",
       "stream": "stdout",
       "text": [
        " 16"
       ]
      },
      {
       "output_type": "stream",
       "stream": "stdout",
       "text": [
        " 17"
       ]
      },
      {
       "output_type": "stream",
       "stream": "stdout",
       "text": [
        " 18"
       ]
      },
      {
       "output_type": "stream",
       "stream": "stdout",
       "text": [
        " 19"
       ]
      },
      {
       "output_type": "stream",
       "stream": "stdout",
       "text": [
        " 20"
       ]
      },
      {
       "output_type": "stream",
       "stream": "stdout",
       "text": [
        " 21"
       ]
      },
      {
       "output_type": "stream",
       "stream": "stdout",
       "text": [
        " 22"
       ]
      },
      {
       "output_type": "stream",
       "stream": "stdout",
       "text": [
        " 23"
       ]
      },
      {
       "output_type": "stream",
       "stream": "stdout",
       "text": [
        " 24"
       ]
      },
      {
       "output_type": "stream",
       "stream": "stdout",
       "text": [
        " 25"
       ]
      },
      {
       "output_type": "stream",
       "stream": "stdout",
       "text": [
        " 26"
       ]
      },
      {
       "output_type": "stream",
       "stream": "stdout",
       "text": [
        " 27"
       ]
      },
      {
       "output_type": "stream",
       "stream": "stdout",
       "text": [
        " 28"
       ]
      },
      {
       "output_type": "stream",
       "stream": "stdout",
       "text": [
        " 29"
       ]
      },
      {
       "output_type": "stream",
       "stream": "stdout",
       "text": [
        " 30"
       ]
      },
      {
       "output_type": "stream",
       "stream": "stdout",
       "text": [
        " 31"
       ]
      },
      {
       "output_type": "stream",
       "stream": "stdout",
       "text": [
        " 32"
       ]
      },
      {
       "output_type": "stream",
       "stream": "stdout",
       "text": [
        " 33"
       ]
      },
      {
       "output_type": "stream",
       "stream": "stdout",
       "text": [
        " 34"
       ]
      },
      {
       "output_type": "stream",
       "stream": "stdout",
       "text": [
        " 35"
       ]
      },
      {
       "output_type": "stream",
       "stream": "stdout",
       "text": [
        " 36"
       ]
      },
      {
       "output_type": "stream",
       "stream": "stdout",
       "text": [
        " 37"
       ]
      },
      {
       "output_type": "stream",
       "stream": "stdout",
       "text": [
        " 38"
       ]
      },
      {
       "output_type": "stream",
       "stream": "stdout",
       "text": [
        " 39"
       ]
      },
      {
       "output_type": "stream",
       "stream": "stdout",
       "text": [
        " 40"
       ]
      },
      {
       "output_type": "stream",
       "stream": "stdout",
       "text": [
        " 41"
       ]
      },
      {
       "output_type": "stream",
       "stream": "stdout",
       "text": [
        " 42"
       ]
      },
      {
       "output_type": "stream",
       "stream": "stdout",
       "text": [
        " 43"
       ]
      },
      {
       "output_type": "stream",
       "stream": "stdout",
       "text": [
        " 44"
       ]
      },
      {
       "output_type": "stream",
       "stream": "stdout",
       "text": [
        " 45"
       ]
      },
      {
       "output_type": "stream",
       "stream": "stdout",
       "text": [
        " 46"
       ]
      },
      {
       "output_type": "stream",
       "stream": "stdout",
       "text": [
        " 47"
       ]
      },
      {
       "output_type": "stream",
       "stream": "stdout",
       "text": [
        " 48"
       ]
      },
      {
       "output_type": "stream",
       "stream": "stdout",
       "text": [
        " 49"
       ]
      },
      {
       "output_type": "stream",
       "stream": "stdout",
       "text": [
        " 50"
       ]
      },
      {
       "output_type": "stream",
       "stream": "stdout",
       "text": [
        " 51"
       ]
      },
      {
       "output_type": "stream",
       "stream": "stdout",
       "text": [
        " 52"
       ]
      },
      {
       "output_type": "stream",
       "stream": "stdout",
       "text": [
        " 53"
       ]
      },
      {
       "output_type": "stream",
       "stream": "stdout",
       "text": [
        " 54"
       ]
      },
      {
       "output_type": "stream",
       "stream": "stdout",
       "text": [
        " 55"
       ]
      },
      {
       "output_type": "stream",
       "stream": "stdout",
       "text": [
        " 56"
       ]
      },
      {
       "output_type": "stream",
       "stream": "stdout",
       "text": [
        " 57"
       ]
      },
      {
       "output_type": "stream",
       "stream": "stdout",
       "text": [
        " 58"
       ]
      },
      {
       "output_type": "stream",
       "stream": "stdout",
       "text": [
        " 59"
       ]
      },
      {
       "output_type": "stream",
       "stream": "stdout",
       "text": [
        " 60"
       ]
      },
      {
       "output_type": "stream",
       "stream": "stdout",
       "text": [
        " 61"
       ]
      },
      {
       "output_type": "stream",
       "stream": "stdout",
       "text": [
        " 62"
       ]
      },
      {
       "output_type": "stream",
       "stream": "stdout",
       "text": [
        " 63"
       ]
      },
      {
       "output_type": "stream",
       "stream": "stdout",
       "text": [
        " 64"
       ]
      },
      {
       "output_type": "stream",
       "stream": "stdout",
       "text": [
        " 65"
       ]
      },
      {
       "output_type": "stream",
       "stream": "stdout",
       "text": [
        " 66"
       ]
      },
      {
       "output_type": "stream",
       "stream": "stdout",
       "text": [
        " 67"
       ]
      },
      {
       "output_type": "stream",
       "stream": "stdout",
       "text": [
        " 68"
       ]
      },
      {
       "output_type": "stream",
       "stream": "stdout",
       "text": [
        " 69"
       ]
      },
      {
       "output_type": "stream",
       "stream": "stdout",
       "text": [
        " 70"
       ]
      },
      {
       "output_type": "stream",
       "stream": "stdout",
       "text": [
        " 71"
       ]
      },
      {
       "output_type": "stream",
       "stream": "stdout",
       "text": [
        " 72"
       ]
      },
      {
       "output_type": "stream",
       "stream": "stdout",
       "text": [
        " 73"
       ]
      },
      {
       "output_type": "stream",
       "stream": "stdout",
       "text": [
        " 74"
       ]
      },
      {
       "output_type": "stream",
       "stream": "stdout",
       "text": [
        " 75"
       ]
      },
      {
       "output_type": "stream",
       "stream": "stdout",
       "text": [
        " 76"
       ]
      },
      {
       "output_type": "stream",
       "stream": "stdout",
       "text": [
        " 77"
       ]
      },
      {
       "output_type": "stream",
       "stream": "stdout",
       "text": [
        " 78"
       ]
      },
      {
       "output_type": "stream",
       "stream": "stdout",
       "text": [
        " 79"
       ]
      },
      {
       "output_type": "stream",
       "stream": "stdout",
       "text": [
        " 80"
       ]
      },
      {
       "output_type": "stream",
       "stream": "stdout",
       "text": [
        " 81"
       ]
      },
      {
       "output_type": "stream",
       "stream": "stdout",
       "text": [
        " 82"
       ]
      },
      {
       "output_type": "stream",
       "stream": "stdout",
       "text": [
        " 83"
       ]
      },
      {
       "output_type": "stream",
       "stream": "stdout",
       "text": [
        " 84"
       ]
      },
      {
       "output_type": "stream",
       "stream": "stdout",
       "text": [
        " 85"
       ]
      },
      {
       "output_type": "stream",
       "stream": "stdout",
       "text": [
        " 86"
       ]
      },
      {
       "output_type": "stream",
       "stream": "stdout",
       "text": [
        " 87"
       ]
      },
      {
       "output_type": "stream",
       "stream": "stdout",
       "text": [
        " 88"
       ]
      },
      {
       "output_type": "stream",
       "stream": "stdout",
       "text": [
        " 89"
       ]
      },
      {
       "output_type": "stream",
       "stream": "stdout",
       "text": [
        " 90"
       ]
      },
      {
       "output_type": "stream",
       "stream": "stdout",
       "text": [
        " 91"
       ]
      },
      {
       "output_type": "stream",
       "stream": "stdout",
       "text": [
        " 92"
       ]
      },
      {
       "output_type": "stream",
       "stream": "stdout",
       "text": [
        " 93"
       ]
      },
      {
       "output_type": "stream",
       "stream": "stdout",
       "text": [
        " 94"
       ]
      },
      {
       "output_type": "stream",
       "stream": "stdout",
       "text": [
        " 95"
       ]
      },
      {
       "output_type": "stream",
       "stream": "stdout",
       "text": [
        " 96"
       ]
      },
      {
       "output_type": "stream",
       "stream": "stdout",
       "text": [
        " 97"
       ]
      },
      {
       "output_type": "stream",
       "stream": "stdout",
       "text": [
        " 98"
       ]
      },
      {
       "output_type": "stream",
       "stream": "stdout",
       "text": [
        " 99"
       ]
      },
      {
       "output_type": "stream",
       "stream": "stdout",
       "text": [
        " "
       ]
      }
     ],
     "prompt_number": 18
    },
    {
     "cell_type": "code",
     "collapsed": false,
     "input": [
      "## cobine with output from code/bart.R, since this is not implemented in python\n",
      "rdata = pd.read_table(\"graphs/bartfried.txt\", sep=\" \")\n",
      "fried_RMSE = pd.concat([fried_RMSE,rdata])\n",
      "fried_RMSE.boxplot(return_type='axes', column=['DT','RF','BF','ET','bart','bcart'])\n",
      "fried_RMSE.mean().sort(inplace=False)\n"
     ],
     "language": "python",
     "metadata": {},
     "outputs": [
      {
       "metadata": {},
       "output_type": "pyout",
       "prompt_number": 30,
       "text": [
        "bart     1.811829\n",
        "ET       2.335819\n",
        "BF       2.665759\n",
        "RF       2.747895\n",
        "DT       3.695038\n",
        "bcart    3.910470\n",
        "dtype: float64"
       ]
      },
      {
       "metadata": {},
       "output_type": "display_data",
       "png": "[encoded data removed]",
       "text": [
        "<matplotlib.figure.Figure at 0x7f203f6516d8>"
       ]
      }
     ],
     "prompt_number": 30
    },
    {
     "cell_type": "markdown",
     "metadata": {},
     "source": [
      "As predicted, the only model that assumes the (true) homoskedastic error structure, BART, well outperforms all others.  The two forests, BF and RF, are both a large improvement over a single decision tree.  The fully Bayesian BF is only about 1% better than the approximately Bayesian RF, as Bayesian and classical bootstrapping weights differ little in practice.  Both are outperformed slightly by the extremely random trees (ET), which might be expected due to the small sample size (for which the observed support approximation to population support, assumed in our forest interpretation, is poor).   The only suprise for us is the very poor performance of BCART (even worse than a single decision tree); we hypothesis that this is due to the notoriously poor mixing of the BCART MCMC, such that this fit is neither finding a posterior mean (as it is intended to) or optimizing a posterior mode (as DT does)."
     ]
    },
    {
     "cell_type": "markdown",
     "metadata": {},
     "source": [
      "### California housing data\n",
      "\n",
      "For the next example, we consider prediction of median home price by census block in california, based upon eight features of each region (location, income, housing stock).  The data are taken from http://www.dcc.fc.up.pt/~ltorgo/Regression/cal_housing.html.   This problem has a response distribution that is difficult to summarize parametrically.  Standard analysis takes the log price as the response of interest, which at least tames some of the error heteroskedasticity.  Instead, we will attempt to model the conditional expection of raw dollar home values.  This mimics the setting common in the analysis of online transaction data (e.g. clicks or dollars spent), where the variable average effects and predictive performance on raw $ or click scale are of primary interest."
     ]
    },
    {
     "cell_type": "code",
     "collapsed": false,
     "input": [
      "#### NB: this is the same data as:\n",
      "# from sklearn.datasets import fetch_california_housing\n",
      "# cah = fetch_california_housing(data_home=\"data\")\n",
      "# Xh = cah['data']\n",
      "# yh = cah[\"target\"]*1e5\n",
      "\n",
      "cah = pd.read_csv('data/CAhousing.csv')\n",
      "print(list(cah))\n",
      "cah[\"medianIncome\"] = cah[\"medianIncome\"]*1e4\n",
      "Xh = cah.drop(\"medianHouseValue\",axis=1)\n",
      "yh = cah[\"medianHouseValue\"] \n",
      "cahist = plt.hist(cah[\"medianHouseValue\"],color=\"lemonchiffon\")"
     ],
     "language": "python",
     "metadata": {},
     "outputs": [
      {
       "output_type": "stream",
       "stream": "stdout",
       "text": [
        "['longitude', 'latitude', 'housingMedianAge', 'totalRooms', 'totalBedrooms', 'population', 'households', 'medianIncome', 'medianHouseValue']\n"
       ]
      },
      {
       "metadata": {},
       "output_type": "display_data",
       "png": "[encoded data removed]",
       "text": [
        "<matplotlib.figure.Figure at 0x7f203f30ef98>"
       ]
      }
     ],
     "prompt_number": 32
    },
    {
     "cell_type": "markdown",
     "metadata": {},
     "source": [
      "It appears from the histogram (and investigating the raw values) that the data has been capped at 500k.  In any case, the unconditional response has a long right tail, but is much more regular than what we commonly see in digital commerce applications (e.g., see Taddy et al, 2014, for transaction data with massive spikes at zero and at psychological price thresholds, as well as a tail that includes values 50k times larger than the mean)."
     ]
    },
    {
     "cell_type": "code",
     "collapsed": false,
     "input": [
      "ne = 100\n",
      "msl = 1\n",
      "RMSE = {key: [] for key in ['DT','RF','ET','BF']}\n",
      "\n",
      "from sklearn.cross_validation import KFold\n",
      "kf = KFold(len(yh), n_folds=10,shuffle=True,random_state=5807)\n",
      "## folds output for bart in R\n",
      "import os\n",
      "os.makedirs(\"data/cafolds\", exist_ok=True)\n",
      "k=0\n",
      "for train, test in kf:\n",
      "    np.savetxt(\"data/cafolds/%d.txt\"%k,test,fmt='%d')\n",
      "    k+=1\n",
      "\n",
      "## run our loop\n",
      "for train, test in kf:\n",
      "    \n",
      "    ### data\n",
      "    Xtrain = Xh.iloc[train].values\n",
      "    Xtest = Xh.iloc[test].values\n",
      "    y = yh[train]\n",
      "    f = yh[test]\n",
      "    \n",
      "    #DT\n",
      "    dt = tree.DecisionTreeRegressor(min_samples_leaf=msl)\n",
      "    dt.fit(Xtrain,y)\n",
      "    dtp = dt.predict(Xtest)\n",
      "    RMSE['DT'] += [rmse(f,dtp)]\n",
      "    \n",
      "    #RF\n",
      "    rf = ensemble.RandomForestRegressor(n_estimators=ne,min_samples_leaf=msl,n_jobs=4)\n",
      "    rf.fit(Xtrain,y)\n",
      "    rfp = rf.predict(Xtest)\n",
      "    RMSE['RF'] += [rmse(f,rfp)]\n",
      "\n",
      "    #ET\n",
      "    et = ensemble.ExtraTreesRegressor(n_estimators=ne,min_samples_leaf=msl,n_jobs=4)\n",
      "    et.fit(Xtrain,y)\n",
      "    etp = et.predict(Xtest)\n",
      "    RMSE['ET'] += [rmse(f,etp)]\n",
      "\n",
      "    #BF\n",
      "    bf = ensemble.RandomForestRegressor(n_estimators=ne,bootstrap=2,\n",
      "                                        min_weight_fraction_leaf=1e-4, n_jobs=4)\n",
      "    %time bf.fit(Xtrain,y)\n",
      "    bfp = bf.predict(Xtest)\n",
      "    RMSE['BF'] += [rmse(f,bfp)]\n",
      "\n",
      "RMSE = pd.DataFrame(RMSE)\n",
      "RMSE.boxplot(return_type='axes')\n",
      "\n",
      "print()\n",
      "from operator import itemgetter\n",
      "mrmse = [ (mod,np.mean(RMSE[mod])) for mod in RMSE]\n",
      "sorted(mrmse, key=lambda x: x[1])    \n",
      "\n",
      "mrmse\n",
      "round((mrmse['RF']-mrmse['BF'])/mrmse['BF']*100)\n",
      "## add bart\n",
      "## note that bart fit takes around 75 sec, vs 15 sec for BF run in serial.\n",
      "## bart's mean errors are 13% worse than BF\n",
      "## ET's are 8% worse\n",
      "## RF's are 1% worse\n",
      "barterr = pd.read_table(\"graphs/bartca.txt\",header=None)\n",
      "RMSE['bart'] = barterr\n",
      "RMSE.boxplot(return_type='axes')\n",
      "mrmse = RMSE.mean()\n",
      "print(round((mrmse['bart']-mrmse['BF'])/mrmse['BF']*100))\n",
      "RMSE"
     ],
     "language": "python",
     "metadata": {},
     "outputs": []
    },
    {
     "cell_type": "markdown",
     "metadata": {},
     "source": [
      "## Emperical Bayesian Forests\n",
      "\n",
      "What does the npB model tell us about strategies for distribution?  \n",
      "* little justification for sub-sampling without replacement.  That corresponds to very unlikely posterior weightings.\n",
      "* consider the variance of the target.  e.g., can the mean tree be replaced with tree-at-mean for its trunik?\n",
      "* when the trees are fit to blocks, we have implicitly split on these blocks as a first stage.  \n",
      "* there is motivation for future work on shrinking them together.\n"
     ]
    },
    {
     "cell_type": "markdown",
     "metadata": {},
     "source": [
      "### Uncertainty about simple trees\n",
      "\n",
      "Port to this section consistency theory results, and material adapted from CART results."
     ]
    },
    {
     "cell_type": "markdown",
     "metadata": {},
     "source": [
      "### Re-visit the california housing data"
     ]
    },
    {
     "cell_type": "markdown",
     "metadata": {},
     "source": [
      "#### Shallow tree variance"
     ]
    },
    {
     "cell_type": "code",
     "collapsed": false,
     "input": [
      "dt = tree.DecisionTreeRegressor(min_samples_leaf=3500)\n",
      "dt.fit(Xh,yh)\n",
      "dt.predict(Xh)\n",
      "for i in range(dt.tree_.node_count):\n",
      "    dt.tree_.value[i,0,0] = round(dt.tree_.value[i,0,0])\n",
      "    # dt.tree_.impurity[i] = round(np.sqrt(dt.tree_.impurity[i]),4)\n",
      "tree.export_graphviz(dt,feature_names=list(Xh),out_file=\"graphs/cahtree.dot\")\n",
      "#!sed -i 's/mse/rmse/g' graphs/cahtree.dot\n",
      "!sed -i 's/mse = [0-9]*\\.[0-9]*\\\\n/ /g' graphs/cahtree.dot\n",
      "!sed -i 's/samples/size/g' graphs/cahtree.dot\n",
      "!sed -i 's/\\[ /\\$/g' graphs/cahtree.dot\n",
      "!sed -i 's/\\.\\]//g' graphs/cahtree.dot\n",
      "!sed -i 's/value/mean/g' graphs/cahtree.dot\n",
      "\n",
      "\n",
      "!dot -Tpdf graphs/cahtree.dot -o graphs/cahtree.pdf\n",
      "_note that 34.5 degrees north is just north of santa barbara_\n",
      "ne = 100\n",
      "msl = 3500\n",
      "shorte = {key: [] for key in ['DT','BF']}\n",
      "\n",
      "## run our loop\n",
      "for train, test in kf:\n",
      "    \n",
      "    ### data\n",
      "    Xtrain = Xh.iloc[train].values\n",
      "    Xtest = Xh.iloc[test].values\n",
      "    y = yh[train]\n",
      "    f = yh[test]\n",
      "    \n",
      "    #DT\n",
      "    dt = tree.DecisionTreeRegressor(min_samples_leaf=msl)\n",
      "    dt.fit(Xtrain,y)\n",
      "    dtp = dt.predict(Xtest)\n",
      "    shorte['DT'] += [rmse(f,dtp)]\n",
      "    \n",
      "    #BF\n",
      "    bf = ensemble.RandomForestRegressor(n_estimators=ne,bootstrap=2,min_samples_leaf=msl)\n",
      "    %time bf.fit(Xtrain,y)\n",
      "    bfp = bf.predict(Xtest)\n",
      "    shorte['BF'] += [rmse(f,bfp)]\n",
      "\n",
      "shorte = pd.DataFrame(shorte)\n",
      "shorte.boxplot(return_type='axes')\n",
      "\n",
      "print()\n",
      "from operator import itemgetter\n",
      "mshorte = [ (mod,np.mean(shorte[mod])) for mod in shorte]\n",
      "sorted(mshorte, key=lambda x: x[1])    \n",
      "\n",
      "err= {a:b for (a,b) in mshorte}\n",
      "round((err['DT']-err['BF'])/err['BF']*100)"
     ],
     "language": "python",
     "metadata": {},
     "outputs": []
    },
    {
     "cell_type": "markdown",
     "metadata": {},
     "source": [
      "#### OOS experiment"
     ]
    },
    {
     "cell_type": "code",
     "collapsed": false,
     "input": [
      "def multitrunk(x,y,test,f,k=None,pretree=True,ntree=100):\n",
      "    if pretree: \n",
      "        dt = tree.DecisionTreeRegressor(min_samples_leaf=3000)\n",
      "        dt.fit(x,y)\n",
      "        bvec = dt.tree_.apply(x.astype(tree._tree.DTYPE))\n",
      "        print(\"%d nodes\" % dt.tree_.node_count, end=\" \")\n",
      "        tree.export_graphviz(dt,\n",
      "                            feature_names=list(Xh),\n",
      "                            out_file=\"data/cafolds/tree%d.dot\"%k)\n",
      "        #\n",
      "    else:\n",
      "        bvec = rn.random_integers(0,4,x.shape[0])\n",
      "        print(\"%d obs in train\" % x.shape[0], end=\" \")\n",
      "    bset = set(bvec)\n",
      "    forest = {}\n",
      "    for b in bset:\n",
      "        print(b, end=\" \")\n",
      "        forest[b] = ensemble.RandomForestRegressor(\n",
      "                        ntree,bootstrap=1,min_samples_leaf=3,n_jobs=4)\n",
      "        isb = bvec==b\n",
      "        forest[b].fit(x[isb,:],y[isb])\n",
      "    \n",
      "    if pretree:\n",
      "        yhat = np.empty(test.shape[0])\n",
      "        btest = dt.tree_.apply(test.astype(tree._tree.DTYPE))\n",
      "        for b in bset:\n",
      "            print(b, end=\" \")\n",
      "            isb = btest==b\n",
      "            yhat[isb] = forest[b].predict(test[isb,:])\n",
      "    else:\n",
      "        yhat = np.zeros(test.shape[0])\n",
      "        for b in bset:\n",
      "            print(b, end=\" \")\n",
      "            yhat += forest[b].predict(test)/5.0\n",
      "            \n",
      "    err = rmse(f,yhat)\n",
      "    print(err)\n",
      "    return err\n",
      "\n",
      "\n",
      "\n",
      "sube = {key: [] for key in ['pretree','randsamp']}\n",
      "k = 0\n",
      "for train, test in kf:\n",
      "    print(k)\n",
      "\n",
      "    Xtrain = Xh.iloc[train].values\n",
      "    Xtest = Xh.iloc[test].values\n",
      "    y = yh[train]\n",
      "    f = yh[test]\n",
      "    \n",
      "    sube['pretree'] += [multitrunk(Xtrain,y,Xtest,f,k=k)]\n",
      "    sube['randsamp'] += [multitrunk(Xtrain,y,Xtest,f,k=k,pretree=False)]\n",
      "    \n",
      "    k+=1\n",
      "\n",
      "\n",
      "!for K in `seq 0 9`; do dot -Tpdf data/cafolds/tree$K.dot -o data/cafolds/tree$K.pdf; done\n",
      "\n",
      "sube = pd.DataFrame(sube)\n",
      "sube.boxplot(return_type='axes')\n",
      "msube = sube.mean()\n",
      "print(msube)\n",
      "print(round((msube['randsamp']-msube['pretree'])/msube['pretree']*100))\n",
      "sube\n",
      "print(round((msube['pretree']-mrmse['BF'])/mrmse['BF']*100))\n",
      "print(round((msube['randsamp']-mrmse['BF'])/mrmse['BF']*100))\n"
     ],
     "language": "python",
     "metadata": {},
     "outputs": []
    },
    {
     "cell_type": "markdown",
     "metadata": {},
     "source": [
      "## Discussion\n",
      "\n",
      "Given a reliance upon cross validation experiments (and simulation studies) for evaluating prediction algorithms, \n",
      "the field has introduced a _sociological_ component to the understanding and development of machine learning tools.  Are the datasets a representative sample of the problems in our domain?  When possible, it is preferable to input some intuition about the underlying methods.  For massive datasets, where the distribution free support approximation is less restrictive, this npB framework provides a nice vehicle for such intuition.\n",
      "\n",
      "<br><br>"
     ]
    }
   ],
   "metadata": {}
  }
 ]
}