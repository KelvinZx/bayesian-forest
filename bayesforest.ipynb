{
 "metadata": {
  "name": "",
  "signature": "sha256:6bfbab7e5a51a93beb2ae0ec9512bf2bd8d729608d3bfe56f9eeacc6b5e4c75e"
 },
 "nbformat": 3,
 "nbformat_minor": 0,
 "worksheets": [
  {
   "cells": [
    {
     "cell_type": "code",
     "collapsed": false,
     "input": [
      "### import relevant stuff\n",
      "# to give preference to my local overwrites\n",
      "import sys\n",
      "sys.path.append(\"~/.local/lib/python3.4/site-packages\")\n",
      "\n",
      "import numpy as np\n",
      "import scipy as sp\n",
      "import pandas as pd\n",
      "import matplotlib.pyplot as plt\n",
      "from sklearn import tree\n",
      "from sklearn import ensemble\n",
      "import numpy.random as rn\n",
      "\n",
      "%matplotlib inline"
     ],
     "language": "python",
     "metadata": {},
     "outputs": [],
     "prompt_number": 5
    },
    {
     "cell_type": "code",
     "collapsed": false,
     "input": [
      "mcycle = pd.read_csv('data/mcycle.csv')"
     ],
     "language": "python",
     "metadata": {},
     "outputs": [],
     "prompt_number": 6
    },
    {
     "cell_type": "code",
     "collapsed": false,
     "input": [
      "mcycle[0:5]"
     ],
     "language": "python",
     "metadata": {},
     "outputs": [
      {
       "html": [
        "<div style=\"max-height:1000px;max-width:1500px;overflow:auto;\">\n",
        "<table border=\"1\" class=\"dataframe\">\n",
        "  <thead>\n",
        "    <tr style=\"text-align: right;\">\n",
        "      <th></th>\n",
        "      <th>times</th>\n",
        "      <th>accel</th>\n",
        "    </tr>\n",
        "  </thead>\n",
        "  <tbody>\n",
        "    <tr>\n",
        "      <th>0</th>\n",
        "      <td> 2.4</td>\n",
        "      <td> 0.0</td>\n",
        "    </tr>\n",
        "    <tr>\n",
        "      <th>1</th>\n",
        "      <td> 2.6</td>\n",
        "      <td>-1.3</td>\n",
        "    </tr>\n",
        "    <tr>\n",
        "      <th>2</th>\n",
        "      <td> 3.2</td>\n",
        "      <td>-2.7</td>\n",
        "    </tr>\n",
        "    <tr>\n",
        "      <th>3</th>\n",
        "      <td> 3.6</td>\n",
        "      <td> 0.0</td>\n",
        "    </tr>\n",
        "    <tr>\n",
        "      <th>4</th>\n",
        "      <td> 4.0</td>\n",
        "      <td>-2.7</td>\n",
        "    </tr>\n",
        "  </tbody>\n",
        "</table>\n",
        "</div>"
       ],
       "metadata": {},
       "output_type": "pyout",
       "prompt_number": 7,
       "text": [
        "   times  accel\n",
        "0    2.4    0.0\n",
        "1    2.6   -1.3\n",
        "2    3.2   -2.7\n",
        "3    3.6    0.0\n",
        "4    4.0   -2.7"
       ]
      }
     ],
     "prompt_number": 7
    },
    {
     "cell_type": "code",
     "collapsed": false,
     "input": [
      "Xm = mcycle['times'].values.reshape(-1,1)\n",
      "ym = mcycle['accel'].values"
     ],
     "language": "python",
     "metadata": {},
     "outputs": [],
     "prompt_number": 8
    },
    {
     "cell_type": "code",
     "collapsed": false,
     "input": [
      "plt.scatter(mcycle['times'],mcycle['accel'])\n",
      "plt.xlabel(\"seconds\")\n",
      "plt.ylabel(\"acceleration\")\n",
      "\n",
      "onetree = tree.DecisionTreeRegressor(min_samples_leaf=5)\n",
      "onetree.fit(Xm,ym)\n",
      "xgrid = np.arange(0,60,1).reshape(-1,1)\n",
      "yhat1 = onetree.predict(xgrid)\n",
      "plt.plot(xgrid,yhat1,color=\"red\",linewidth=2)"
     ],
     "language": "python",
     "metadata": {},
     "outputs": [
      {
       "metadata": {},
       "output_type": "pyout",
       "prompt_number": 9,
       "text": [
        "[<matplotlib.lines.Line2D at 0x7f7fa77b25f8>]"
       ]
      },
      {
       "metadata": {},
       "output_type": "display_data",
       "png": "[encoded data removed]",
       "text": [
        "<matplotlib.figure.Figure at 0x7f7f8c0974a8>"
       ]
      }
     ],
     "prompt_number": 9
    },
    {
     "cell_type": "code",
     "collapsed": false,
     "input": [
      "plt.scatter(mcycle['times'],mcycle['accel'])\n",
      "plt.xlabel(\"seconds\")\n",
      "plt.ylabel(\"acceleration\")\n",
      "\n",
      "rf = ensemble.RandomForestRegressor(100,min_samples_leaf=5,bootstrap=2)\n",
      "rf.fit(Xm,ym)\n",
      "xgrid = np.arange(0,60,1).reshape(-1,1)\n",
      "yhatrf = rf.predict(xgrid)\n",
      "plt.plot(xgrid,yhatrf,color=\"red\",linewidth=2)\n"
     ],
     "language": "python",
     "metadata": {},
     "outputs": [
      {
       "metadata": {},
       "output_type": "pyout",
       "prompt_number": 10,
       "text": [
        "[<matplotlib.lines.Line2D at 0x7f7f8bfa3e10>]"
       ]
      },
      {
       "metadata": {},
       "output_type": "display_data",
       "png": "[encoded data removed]",
       "text": [
        "<matplotlib.figure.Figure at 0x7f7f8c028358>"
       ]
      }
     ],
     "prompt_number": 10
    },
    {
     "cell_type": "code",
     "collapsed": false,
     "input": [
      "omega = rn.exponential(1,mcycle.shape[0])\n",
      "\n",
      "plt.figure(1)\n",
      "plt.subplot(121)\n",
      "plt.hist(omega,normed=1,color=\"0.75\")\n",
      "\n",
      "plt.subplot(122)\n",
      "plt.scatter(mcycle['times'],mcycle['accel'],s=omega*20)\n",
      "plt.xlabel(\"seconds\")\n",
      "plt.ylabel(\"acceleration\")\n",
      "wtree = tree.DecisionTreeRegressor(min_samples_leaf=5)\n",
      "wtree.fit(Xm,ym, sample_weight=omega)\n",
      "yhatw = wtree.predict(xgrid)\n",
      "plt.plot(xgrid,yhatw,color=\"red\",linewidth=2)"
     ],
     "language": "python",
     "metadata": {},
     "outputs": [
      {
       "metadata": {},
       "output_type": "pyout",
       "prompt_number": 11,
       "text": [
        "[<matplotlib.lines.Line2D at 0x7f7f8befbc50>]"
       ]
      },
      {
       "metadata": {},
       "output_type": "display_data",
       "png": "[encoded data removed]",
       "text": [
        "<matplotlib.figure.Figure at 0x7f7f8c0edcc0>"
       ]
      }
     ],
     "prompt_number": 11
    },
    {
     "cell_type": "markdown",
     "metadata": {},
     "source": [
      "## BF\n",
      "\n",
      "We can create a new forest regressor class in `scikit-learn/ensemble` which fits Bayesian forest.\n",
      "* see `/opt/anaconda3/lib/python3.4/site-packages/sklearn/ensemble/forest.py` for code.\n",
      "* the sample weights are drawn inside the function. the base class's `sample_weight` argument will be used as potential non-uniform priors for the exponential weights.\n",
      "* the bayesian interpretation makes it clear: when is the posterior average of some stat useless?  when the population stat is useless.  This is the case for a greedy tree in high dimensions.  In that case, what are the alternative stats?\n",
      "    * Seems that something like extra trees, which fits a greedy tree choosing only a [small] subset of covariates for evaluation at each split, is ideal. Then the bayesian object of interest is actually itself a forest of random trees on the population data (i.e., randomness comes only from choice of split location).\n",
      "* describe focus on \"implicit regularization\", from Breiman through to ExtraTrees.  This then ties naturally to ideas of a Bayesian posterior mean being best for prediction.\n",
      "* when the trees are fit to blocks, we have implicitly split on these blocks as a first stage.  The Bayesian interpretation of the overall average is then as the target if you don't know which block a new observation should be a member of.  If the blocks are meaninful beyond just as random indices, then there is motivation for future work on shrinking them together.\n",
      "godo info on efficiency: http://www.slideshare.net/glouppe/accelerating-random-forests-in-scikitlearn.\n",
      "* Could compare to BART, and make through simulation the point about homoskedastic variance.\n",
      "* The Bayes forest idea is quite general: you could have any good in-sample partitioning algorithm as the target.  For example, we could run a couple steps of stochastic search to improve the trees.  \n",
      "* The relevant splitter code, in which we could add methods to improve the individual trees, is in `_tree.pyx`. Looking in here, e.g., we found the undocumented option `min_weight_fraction_leaf`, the minimum weighted fraction of data in a leaf, as the more reasonable way of limiting leaf size in the Bayesian bootstrap.\n",
      "* see y below; it is not too strange, and could easily be modelled as a mixture of normals.  What if we move to web data?\n"
     ]
    },
    {
     "cell_type": "markdown",
     "metadata": {},
     "source": [
      "## code\n",
      "\n",
      "ExtraTrees and RandomForest are essentially the same in the code.  The only difference is the argument `splitter` passed to base tree class.  For RF's this is `best`, which chooses the best split point among `max_features` possibly random features.  For ETs this is `random`, which chooses the best of `max_features` completely random splits (random feature, random location).  Thus the only difference is whether the split-given-feature is optimized or randomized.\n",
      "\n",
      "In any case, avoid specifying max_leaf_nodes, because it leads to a less efficient 'best first' fitting algorithm (instead of 'depth first')\n",
      "\n",
      "`_parallel_build_trees` in `forest.py` is where bootstrap weights are provided.  Upon altering the` `sample_counts` to be exponential rather than binomial, we get a bayesian bootstrap where `sample_weights` (default of one) are the _scale_ $\\beta$ of each observation weight.\n",
      "\n",
      "In detail, lines 88-89 change from \n",
      "\n",
      "``\n",
      "indices = random_state.randint(0, n_samples, n_samples)\n",
      "sample_counts = np.bincount(indices, minlength=n_samples)\n",
      "``\n",
      "\n",
      "to\n",
      "\n",
      "            ### bayesian forest      \n",
      "            if forest.bootstrap == 2:\n",
      "                sample_counts = random_state.exponential(1,n_samples)\n",
      "            else:    \n",
      "                indices = random_state.randint(0, n_samples, n_samples)\n",
      "                sample_counts = np.bincount(indices, minlength=n_samples)\n",
      "            \n",
      "            #print(\"bs of %d and first 5 weights:\" % forest.bootstrap)\n",
      "            #print(sample_counts[0:5])\n",
      "            ###################\n",
      "\n",
      "We just pass `bootstrap=2` to get the bayesian version.  \n",
      "\n",
      "To check results in debugging, add            \n",
      "\n",
      "``\n",
      "print(\"bs of %d and first 5 weights:\" % forest.bootstrap)\n",
      "print(sample_counts[0:5])\n",
      "``\n",
      "\n",
      "I ended up forking sklearn and making the changes in my branch.  After fork, do\n",
      "\n",
      "``\n",
      "git remote add upstream git@github.com:scikit-learn/scikit-learn.git\n",
      "``\n",
      "\n",
      "so that you can stay current as in https://help.github.com/articles/syncing-a-fork/.  After an initial build (repeated for any changes to cython, e.g. for a new splitter) you can install the updates with\n",
      "\n",
      "``\n",
      "python setup.py install --user\n",
      "``\n",
      "\n",
      "See top of this script for how to append this local scipy in front of the anaconda default.\n"
     ]
    },
    {
     "cell_type": "markdown",
     "metadata": {},
     "source": [
      "## Simulation experiments\n",
      "\n",
      "* use Friedman's simulated data, and california housing data\n",
      "\n",
      "* compare against extra trees (http://orbi.ulg.ac.be/bitstream/2268/9357/1/geurts-mlj-advance.pdf), random forests (with and without random support), and BART (http://www.rob-mcculloch.org/some_papers_and_talks/papers/published/BART.pdf).\n",
      "\n",
      "The friedman function is \n",
      "$$\n",
      "y = 10\\mathrm{sin}(\\pi x_1 x_2) + 20 (x_3-0.5)^2 + 10x_4 + 5x_5 + \\varepsilon\n",
      "$$\n",
      "where $\\varepsilon \\sim \\mathrm{N}(0,1)$ and $x_j \\sim \\mathrm{U}(0,1)$.  We include as features the spurrious $x_6 \\dots x_{p}$, matching Friedman with MARS.  \n"
     ]
    },
    {
     "cell_type": "markdown",
     "metadata": {},
     "source": [
      "BART sims used n=100, with p=10,100, and 1000.  They use 3000 MCMC iterations after a burn-in of 1000.  For their OOS experiment, they looked at 100 datasets with n=100 each.  To evaluate each, they drew 1000 new x and calculate \n",
      "\n",
      "$$\n",
      "RMSE = \\sqrt{(1/1000)\\sum_{i}(\\hat f (x_i) - f(x_i))^2}\n",
      "$$\n",
      "\n",
      "Note that this is RMSE on function, not function plus noise."
     ]
    },
    {
     "cell_type": "heading",
     "level": 2,
     "metadata": {},
     "source": [
      "Friedman example"
     ]
    },
    {
     "cell_type": "code",
     "collapsed": false,
     "input": [
      "def fried(x, noisy=True):\n",
      "    f = 10*np.sin(np.pi*x[:,0]*x[:,1]) + 20*(x[:,2]-0.5)**2 + 10*x[:,3]+5*x[:,4]\n",
      "    if noisy: \n",
      "        f += rn.normal(size=n)\n",
      "    return f\n"
     ],
     "language": "python",
     "metadata": {},
     "outputs": [],
     "prompt_number": 12
    },
    {
     "cell_type": "code",
     "collapsed": false,
     "input": [
      "n = 100\n",
      "p = 10\n",
      "X = rn.uniform(0,1,n*p).reshape(n,p)\n",
      "y = fried(X)\n",
      "f = fried(X,noisy=False)"
     ],
     "language": "python",
     "metadata": {},
     "outputs": [],
     "prompt_number": 13
    },
    {
     "cell_type": "code",
     "collapsed": false,
     "input": [
      "msl = 3"
     ],
     "language": "python",
     "metadata": {},
     "outputs": [],
     "prompt_number": 14
    },
    {
     "cell_type": "code",
     "collapsed": false,
     "input": [
      "#DT\n",
      "dt = tree.DecisionTreeRegressor(min_samples_leaf=20)\n",
      "dt.fit(X,y)\n",
      "dtp = dt.predict(X)\n",
      "tree.export_graphviz(dt)\n",
      "!dot -Tpdf tree.dot -o friedtree.pdf\n"
     ],
     "language": "python",
     "metadata": {},
     "outputs": [],
     "prompt_number": 15
    },
    {
     "cell_type": "code",
     "collapsed": false,
     "input": [
      "b = 1\n",
      "for l in range(dt.tree_.value.shape[0]):\n",
      "    if dt.tree_.value[l,0,0] != 0.:\n",
      "        dt.tree_.value[l,0,0] = b\n",
      "        b+=1"
     ],
     "language": "python",
     "metadata": {},
     "outputs": [],
     "prompt_number": 16
    },
    {
     "cell_type": "code",
     "collapsed": false,
     "input": [
      "dt.predict(X[0:10])\n",
      "tree.export_graphviz(dt,out_file=\"graphs/friedtree.dot\")\n",
      "!dot -Tpdf graphs/friedtree.dot -o graphs/friedtree.pdf\n"
     ],
     "language": "python",
     "metadata": {},
     "outputs": [],
     "prompt_number": 17
    },
    {
     "cell_type": "code",
     "collapsed": false,
     "input": [
      "dir(dt.tree_)\n",
      "dt.tree_.node_count"
     ],
     "language": "python",
     "metadata": {},
     "outputs": [
      {
       "metadata": {},
       "output_type": "pyout",
       "prompt_number": 18,
       "text": [
        "7"
       ]
      }
     ],
     "prompt_number": 18
    },
    {
     "cell_type": "code",
     "collapsed": false,
     "input": [
      "\n",
      "set(dt.tree_.apply(X[0:10].astype(tree._tree.DTYPE)))"
     ],
     "language": "python",
     "metadata": {},
     "outputs": [
      {
       "metadata": {},
       "output_type": "pyout",
       "prompt_number": 19,
       "text": [
        "{1, 3, 5, 6}"
       ]
      }
     ],
     "prompt_number": 19
    },
    {
     "cell_type": "code",
     "collapsed": false,
     "input": [
      "#RF\n",
      "rf = ensemble.RandomForestRegressor(100,min_samples_leaf=msl)\n",
      "rf.fit(X,y)\n",
      "rfp = rf.predict(X)"
     ],
     "language": "python",
     "metadata": {},
     "outputs": [],
     "prompt_number": 20
    },
    {
     "cell_type": "code",
     "collapsed": false,
     "input": [
      "#ET\n",
      "et = ensemble.ExtraTreesRegressor(100,min_samples_leaf=msl)\n",
      "et.fit(X,y)\n",
      "etp = et.predict(X)"
     ],
     "language": "python",
     "metadata": {},
     "outputs": [],
     "prompt_number": 21
    },
    {
     "cell_type": "code",
     "collapsed": false,
     "input": [
      "#BF\n",
      "bf = ensemble.RandomForestRegressor(100,min_samples_leaf=msl,bootstrap=2)\n",
      "bf.fit(X,y)\n",
      "bfp = bf.predict(X)"
     ],
     "language": "python",
     "metadata": {},
     "outputs": [],
     "prompt_number": 22
    },
    {
     "cell_type": "code",
     "collapsed": false,
     "input": [
      "plt.scatter(f, dtp, c=\"dodgerblue\", label=\"DT\",s=20,edgecolors='none')\n",
      "plt.scatter(f, rfp, c=\"orange\", label=\"RF\",s=20,edgecolors='none')\n",
      "plt.scatter(f, etp, c=\"fuchsia\", label=\"ET\",s=20,edgecolors='none')\n",
      "plt.scatter(f, bfp, c=\"green\", label=\"BF\",s=20,edgecolors='none')\n",
      "plt.xlabel(\"response\")\n",
      "plt.ylabel(\"prediction\")\n",
      "plt.legend(frameon=False,loc=4)\n",
      "plt.xlim(4,26)\n",
      "plt.ylim(4,26)\n"
     ],
     "language": "python",
     "metadata": {},
     "outputs": [
      {
       "metadata": {},
       "output_type": "pyout",
       "prompt_number": 23,
       "text": [
        "(4, 26)"
       ]
      },
      {
       "metadata": {},
       "output_type": "display_data",
       "png": "[encoded data removed]",
       "text": [
        "<matplotlib.figure.Figure at 0x7f7f8be6b160>"
       ]
      }
     ],
     "prompt_number": 23
    },
    {
     "cell_type": "code",
     "collapsed": false,
     "input": [
      "def rmse(f,fhat):\n",
      "    return np.sqrt(np.mean( (f-fhat)**2 ))\n"
     ],
     "language": "python",
     "metadata": {},
     "outputs": [],
     "prompt_number": 24
    },
    {
     "cell_type": "code",
     "collapsed": false,
     "input": [
      "ne = 100\n",
      "n = 100\n",
      "p = 10\n",
      "B = 100\n",
      "msl = 1\n",
      "RMSE = {key: [] for key in ['DT','RF','ET','BF']}\n",
      "for b in range(B):\n",
      "    ### data\n",
      "    Xtrain = rn.uniform(0,1,n*p).reshape(n,p)\n",
      "    Xtest = rn.uniform(0,1,1000*p).reshape(1000,p)\n",
      "    y = fried(Xtrain)\n",
      "    f = fried(Xtest,noisy=False)\n",
      "    \n",
      "    #DT\n",
      "    dt = tree.DecisionTreeRegressor(min_samples_leaf=msl)\n",
      "    dt.fit(Xtrain,y)\n",
      "    dtp = dt.predict(Xtest)\n",
      "    RMSE['DT'] += [rmse(f,dtp)]\n",
      "    \n",
      "    #RF\n",
      "    rf = ensemble.RandomForestRegressor(n_estimators=ne,min_samples_leaf=msl)\n",
      "    rf.fit(Xtrain,y)\n",
      "    rfp = rf.predict(Xtest)\n",
      "    RMSE['RF'] += [rmse(f,rfp)]\n",
      "\n",
      "    #ET\n",
      "    et = ensemble.ExtraTreesRegressor(n_estimators=ne,min_samples_leaf=msl)\n",
      "    et.fit(Xtrain,y)\n",
      "    etp = et.predict(Xtest)\n",
      "    RMSE['ET'] += [rmse(f,etp)]\n",
      "\n",
      "    #BF\n",
      "    bf = ensemble.RandomForestRegressor(n_estimators=ne,bootstrap=2,min_samples_leaf=msl)\n",
      "    bf.fit(Xtrain,y)\n",
      "    bfp = bf.predict(Xtest)\n",
      "    RMSE['BF'] += [rmse(f,bfp)]\n",
      "\n",
      "    print(b,end=\" \")\n",
      "\n",
      "RMSE = pd.DataFrame(RMSE)\n",
      "RMSE.boxplot(return_type='axes')\n",
      "\n",
      "print()\n",
      "from operator import itemgetter\n",
      "mrmse = [ (mod,np.mean(RMSE[mod])) for mod in RMSE]\n",
      "sorted(mrmse, key=lambda x: x[1])    "
     ],
     "language": "python",
     "metadata": {},
     "outputs": [
      {
       "output_type": "stream",
       "stream": "stdout",
       "text": [
        "0 1"
       ]
      },
      {
       "output_type": "stream",
       "stream": "stdout",
       "text": [
        " 2"
       ]
      },
      {
       "output_type": "stream",
       "stream": "stdout",
       "text": [
        " 3"
       ]
      },
      {
       "output_type": "stream",
       "stream": "stdout",
       "text": [
        " 4"
       ]
      },
      {
       "output_type": "stream",
       "stream": "stdout",
       "text": [
        " 5"
       ]
      },
      {
       "output_type": "stream",
       "stream": "stdout",
       "text": [
        " 6"
       ]
      },
      {
       "output_type": "stream",
       "stream": "stdout",
       "text": [
        " 7"
       ]
      },
      {
       "output_type": "stream",
       "stream": "stdout",
       "text": [
        " 8"
       ]
      },
      {
       "output_type": "stream",
       "stream": "stdout",
       "text": [
        " 9"
       ]
      },
      {
       "output_type": "stream",
       "stream": "stdout",
       "text": [
        " 10"
       ]
      },
      {
       "output_type": "stream",
       "stream": "stdout",
       "text": [
        " 11"
       ]
      },
      {
       "output_type": "stream",
       "stream": "stdout",
       "text": [
        " 12"
       ]
      },
      {
       "output_type": "stream",
       "stream": "stdout",
       "text": [
        " 13"
       ]
      },
      {
       "output_type": "stream",
       "stream": "stdout",
       "text": [
        " 14"
       ]
      },
      {
       "output_type": "stream",
       "stream": "stdout",
       "text": [
        " 15"
       ]
      },
      {
       "output_type": "stream",
       "stream": "stdout",
       "text": [
        " 16"
       ]
      },
      {
       "output_type": "stream",
       "stream": "stdout",
       "text": [
        " 17"
       ]
      },
      {
       "output_type": "stream",
       "stream": "stdout",
       "text": [
        " 18"
       ]
      },
      {
       "output_type": "stream",
       "stream": "stdout",
       "text": [
        " 19"
       ]
      },
      {
       "output_type": "stream",
       "stream": "stdout",
       "text": [
        " 20"
       ]
      },
      {
       "output_type": "stream",
       "stream": "stdout",
       "text": [
        " 21"
       ]
      },
      {
       "output_type": "stream",
       "stream": "stdout",
       "text": [
        " 22"
       ]
      },
      {
       "output_type": "stream",
       "stream": "stdout",
       "text": [
        " 23"
       ]
      },
      {
       "output_type": "stream",
       "stream": "stdout",
       "text": [
        " 24"
       ]
      },
      {
       "output_type": "stream",
       "stream": "stdout",
       "text": [
        " 25"
       ]
      },
      {
       "output_type": "stream",
       "stream": "stdout",
       "text": [
        " 26"
       ]
      },
      {
       "output_type": "stream",
       "stream": "stdout",
       "text": [
        " 27"
       ]
      },
      {
       "output_type": "stream",
       "stream": "stdout",
       "text": [
        " 28"
       ]
      },
      {
       "output_type": "stream",
       "stream": "stdout",
       "text": [
        " 29"
       ]
      },
      {
       "output_type": "stream",
       "stream": "stdout",
       "text": [
        " 30"
       ]
      },
      {
       "output_type": "stream",
       "stream": "stdout",
       "text": [
        " 31"
       ]
      },
      {
       "output_type": "stream",
       "stream": "stdout",
       "text": [
        " 32"
       ]
      },
      {
       "output_type": "stream",
       "stream": "stdout",
       "text": [
        " 33"
       ]
      },
      {
       "output_type": "stream",
       "stream": "stdout",
       "text": [
        " 34"
       ]
      },
      {
       "output_type": "stream",
       "stream": "stdout",
       "text": [
        " 35"
       ]
      },
      {
       "output_type": "stream",
       "stream": "stdout",
       "text": [
        " 36"
       ]
      },
      {
       "output_type": "stream",
       "stream": "stdout",
       "text": [
        " 37"
       ]
      },
      {
       "output_type": "stream",
       "stream": "stdout",
       "text": [
        " 38"
       ]
      },
      {
       "output_type": "stream",
       "stream": "stdout",
       "text": [
        " 39"
       ]
      },
      {
       "output_type": "stream",
       "stream": "stdout",
       "text": [
        " 40"
       ]
      },
      {
       "output_type": "stream",
       "stream": "stdout",
       "text": [
        " 41"
       ]
      },
      {
       "output_type": "stream",
       "stream": "stdout",
       "text": [
        " 42"
       ]
      },
      {
       "output_type": "stream",
       "stream": "stdout",
       "text": [
        " 43"
       ]
      },
      {
       "output_type": "stream",
       "stream": "stdout",
       "text": [
        " 44"
       ]
      },
      {
       "output_type": "stream",
       "stream": "stdout",
       "text": [
        " 45"
       ]
      },
      {
       "output_type": "stream",
       "stream": "stdout",
       "text": [
        " 46"
       ]
      },
      {
       "output_type": "stream",
       "stream": "stdout",
       "text": [
        " 47"
       ]
      },
      {
       "output_type": "stream",
       "stream": "stdout",
       "text": [
        " 48"
       ]
      },
      {
       "output_type": "stream",
       "stream": "stdout",
       "text": [
        " 49"
       ]
      },
      {
       "output_type": "stream",
       "stream": "stdout",
       "text": [
        " 50"
       ]
      },
      {
       "output_type": "stream",
       "stream": "stdout",
       "text": [
        " 51"
       ]
      },
      {
       "output_type": "stream",
       "stream": "stdout",
       "text": [
        " 52"
       ]
      },
      {
       "output_type": "stream",
       "stream": "stdout",
       "text": [
        " 53"
       ]
      },
      {
       "output_type": "stream",
       "stream": "stdout",
       "text": [
        " 54"
       ]
      },
      {
       "output_type": "stream",
       "stream": "stdout",
       "text": [
        " 55"
       ]
      },
      {
       "output_type": "stream",
       "stream": "stdout",
       "text": [
        " 56"
       ]
      },
      {
       "output_type": "stream",
       "stream": "stdout",
       "text": [
        " 57"
       ]
      },
      {
       "output_type": "stream",
       "stream": "stdout",
       "text": [
        " 58"
       ]
      },
      {
       "output_type": "stream",
       "stream": "stdout",
       "text": [
        " 59"
       ]
      },
      {
       "output_type": "stream",
       "stream": "stdout",
       "text": [
        " 60"
       ]
      },
      {
       "output_type": "stream",
       "stream": "stdout",
       "text": [
        " 61"
       ]
      },
      {
       "output_type": "stream",
       "stream": "stdout",
       "text": [
        " 62"
       ]
      },
      {
       "output_type": "stream",
       "stream": "stdout",
       "text": [
        " 63"
       ]
      },
      {
       "output_type": "stream",
       "stream": "stdout",
       "text": [
        " 64"
       ]
      },
      {
       "output_type": "stream",
       "stream": "stdout",
       "text": [
        " 65"
       ]
      },
      {
       "output_type": "stream",
       "stream": "stdout",
       "text": [
        " 66"
       ]
      },
      {
       "output_type": "stream",
       "stream": "stdout",
       "text": [
        " 67"
       ]
      },
      {
       "output_type": "stream",
       "stream": "stdout",
       "text": [
        " 68"
       ]
      },
      {
       "output_type": "stream",
       "stream": "stdout",
       "text": [
        " 69"
       ]
      },
      {
       "output_type": "stream",
       "stream": "stdout",
       "text": [
        " 70"
       ]
      },
      {
       "output_type": "stream",
       "stream": "stdout",
       "text": [
        " 71"
       ]
      },
      {
       "output_type": "stream",
       "stream": "stdout",
       "text": [
        " 72"
       ]
      },
      {
       "output_type": "stream",
       "stream": "stdout",
       "text": [
        " 73"
       ]
      },
      {
       "output_type": "stream",
       "stream": "stdout",
       "text": [
        " 74"
       ]
      },
      {
       "output_type": "stream",
       "stream": "stdout",
       "text": [
        " 75"
       ]
      },
      {
       "output_type": "stream",
       "stream": "stdout",
       "text": [
        " 76"
       ]
      },
      {
       "output_type": "stream",
       "stream": "stdout",
       "text": [
        " 77"
       ]
      },
      {
       "output_type": "stream",
       "stream": "stdout",
       "text": [
        " 78"
       ]
      },
      {
       "output_type": "stream",
       "stream": "stdout",
       "text": [
        " 79"
       ]
      },
      {
       "output_type": "stream",
       "stream": "stdout",
       "text": [
        " 80"
       ]
      },
      {
       "output_type": "stream",
       "stream": "stdout",
       "text": [
        " 81"
       ]
      },
      {
       "output_type": "stream",
       "stream": "stdout",
       "text": [
        " 82"
       ]
      },
      {
       "output_type": "stream",
       "stream": "stdout",
       "text": [
        " 83"
       ]
      },
      {
       "output_type": "stream",
       "stream": "stdout",
       "text": [
        " 84"
       ]
      },
      {
       "output_type": "stream",
       "stream": "stdout",
       "text": [
        " 85"
       ]
      },
      {
       "output_type": "stream",
       "stream": "stdout",
       "text": [
        " 86"
       ]
      },
      {
       "output_type": "stream",
       "stream": "stdout",
       "text": [
        " 87"
       ]
      },
      {
       "output_type": "stream",
       "stream": "stdout",
       "text": [
        " 88"
       ]
      },
      {
       "output_type": "stream",
       "stream": "stdout",
       "text": [
        " 89"
       ]
      },
      {
       "output_type": "stream",
       "stream": "stdout",
       "text": [
        " 90"
       ]
      },
      {
       "output_type": "stream",
       "stream": "stdout",
       "text": [
        " 91"
       ]
      },
      {
       "output_type": "stream",
       "stream": "stdout",
       "text": [
        " 92"
       ]
      },
      {
       "output_type": "stream",
       "stream": "stdout",
       "text": [
        " 93"
       ]
      },
      {
       "output_type": "stream",
       "stream": "stdout",
       "text": [
        " 94"
       ]
      },
      {
       "output_type": "stream",
       "stream": "stdout",
       "text": [
        " 95"
       ]
      },
      {
       "output_type": "stream",
       "stream": "stdout",
       "text": [
        " 96"
       ]
      },
      {
       "output_type": "stream",
       "stream": "stdout",
       "text": [
        " 97"
       ]
      },
      {
       "output_type": "stream",
       "stream": "stdout",
       "text": [
        " 98"
       ]
      },
      {
       "output_type": "stream",
       "stream": "stdout",
       "text": [
        " 99"
       ]
      },
      {
       "output_type": "stream",
       "stream": "stdout",
       "text": [
        " \n"
       ]
      },
      {
       "metadata": {},
       "output_type": "pyout",
       "prompt_number": 223,
       "text": [
        "[('ET', 2.4760455115806561),\n",
        " ('BF', 2.631447875187511),\n",
        " ('RF', 2.6891921845419673),\n",
        " ('DT', 3.9702091345725936)]"
       ]
      },
      {
       "metadata": {},
       "output_type": "display_data",
       "png": "[encoded data removed]",
       "text": [
        "<matplotlib.figure.Figure at 0x7f7f8b542588>"
       ]
      }
     ],
     "prompt_number": 223
    },
    {
     "cell_type": "markdown",
     "metadata": {},
     "source": [
      "## California housing dataset\n",
      "\n",
      "http://www.dcc.fc.up.pt/~ltorgo/Regression/cal_housing.html\n"
     ]
    },
    {
     "cell_type": "code",
     "collapsed": false,
     "input": [
      "## same data as:\n",
      "# from sklearn.datasets import fetch_california_housing\n",
      "# cah = fetch_california_housing(data_home=\"data\")\n",
      "# Xh = cah['data']\n",
      "# yh = cah[\"target\"]*1e5"
     ],
     "language": "python",
     "metadata": {},
     "outputs": [],
     "prompt_number": 179
    },
    {
     "cell_type": "code",
     "collapsed": false,
     "input": [
      "cah = pd.read_csv('data/CAhousing.csv')\n",
      "print(list(cah))\n",
      "cah[\"medianIncome\"] = cah[\"medianIncome\"]*1e4\n",
      "cahist = plt.hist(cah[\"medianHouseValue\"],color=\"lemonchiffon\")"
     ],
     "language": "python",
     "metadata": {},
     "outputs": [
      {
       "output_type": "stream",
       "stream": "stdout",
       "text": [
        "['longitude', 'latitude', 'housingMedianAge', 'totalRooms', 'totalBedrooms', 'population', 'households', 'medianIncome', 'medianHouseValue']\n"
       ]
      },
      {
       "metadata": {},
       "output_type": "display_data",
       "png": "[encoded data removed]",
       "text": [
        "<matplotlib.figure.Figure at 0x7f7f8b4f0438>"
       ]
      }
     ],
     "prompt_number": 202
    },
    {
     "cell_type": "code",
     "collapsed": false,
     "input": [
      "Xh = cah.drop(\"medianHouseValue\",axis=1)\n",
      "yh = cah[\"medianHouseValue\"] ## it appears this was capped at 500k??"
     ],
     "language": "python",
     "metadata": {},
     "outputs": [],
     "prompt_number": 203
    },
    {
     "cell_type": "code",
     "collapsed": false,
     "input": [
      "ne = 100\n",
      "msl = 1\n",
      "RMSE = {key: [] for key in ['DT','RF','ET','BF']}\n",
      "\n",
      "from sklearn.cross_validation import KFold\n",
      "kf = KFold(len(yh), n_folds=10,shuffle=True,random_state=5807)\n",
      "## output for bart\n",
      "import os\n",
      "os.makedirs(\"data/cafolds\", exist_ok=True)\n",
      "k=0\n",
      "for train, test in kf:\n",
      "    np.savetxt(\"data/cafolds/%d.txt\"%k,test,fmt='%d')\n",
      "    k+=1\n",
      "\n",
      "## run our loop\n",
      "for train, test in kf:\n",
      "    \n",
      "    ### data\n",
      "    Xtrain = Xh.iloc[train].values\n",
      "    Xtest = Xh.iloc[test].values\n",
      "    y = yh[train]\n",
      "    f = yh[test]\n",
      "    \n",
      "    #DT\n",
      "    dt = tree.DecisionTreeRegressor(min_samples_leaf=msl)\n",
      "    dt.fit(Xtrain,y)\n",
      "    dtp = dt.predict(Xtest)\n",
      "    RMSE['DT'] += [rmse(f,dtp)]\n",
      "    \n",
      "    #RF\n",
      "    rf = ensemble.RandomForestRegressor(n_estimators=ne,min_samples_leaf=msl,n_jobs=4)\n",
      "    rf.fit(Xtrain,y)\n",
      "    rfp = rf.predict(Xtest)\n",
      "    RMSE['RF'] += [rmse(f,rfp)]\n",
      "\n",
      "    #ET\n",
      "    et = ensemble.ExtraTreesRegressor(n_estimators=ne,min_samples_leaf=msl,n_jobs=4)\n",
      "    et.fit(Xtrain,y)\n",
      "    etp = et.predict(Xtest)\n",
      "    RMSE['ET'] += [rmse(f,etp)]\n",
      "\n",
      "    #BF\n",
      "    bf = ensemble.RandomForestRegressor(n_estimators=ne,bootstrap=2,\n",
      "                                        min_weight_fraction_leaf=1e-4, n_jobs=4)\n",
      "    %time bf.fit(Xtrain,y)\n",
      "    bfp = bf.predict(Xtest)\n",
      "    RMSE['BF'] += [rmse(f,bfp)]\n",
      "\n",
      "RMSE = pd.DataFrame(RMSE)\n",
      "RMSE.boxplot(return_type='axes')\n",
      "\n",
      "print()\n",
      "from operator import itemgetter\n",
      "mrmse = [ (mod,np.mean(RMSE[mod])) for mod in RMSE]\n",
      "sorted(mrmse, key=lambda x: x[1])    \n"
     ],
     "language": "python",
     "metadata": {},
     "outputs": [
      {
       "output_type": "stream",
       "stream": "stdout",
       "text": [
        "CPU times: user 16.7 s, sys: 12 ms, total: 16.7 s\n",
        "Wall time: 4.25 s\n",
        "CPU times: user 16.7 s, sys: 7.99 ms, total: 16.7 s"
       ]
      },
      {
       "output_type": "stream",
       "stream": "stdout",
       "text": [
        "\n",
        "Wall time: 4.25 s\n",
        "CPU times: user 20.2 s, sys: 0 ns, total: 20.2 s"
       ]
      },
      {
       "output_type": "stream",
       "stream": "stdout",
       "text": [
        "\n",
        "Wall time: 5.25 s\n",
        "CPU times: user 20.3 s, sys: 12 ms, total: 20.3 s"
       ]
      },
      {
       "output_type": "stream",
       "stream": "stdout",
       "text": [
        "\n",
        "Wall time: 5.25 s\n",
        "CPU times: user 20.1 s, sys: 15.9 ms, total: 20.2 s"
       ]
      },
      {
       "output_type": "stream",
       "stream": "stdout",
       "text": [
        "\n",
        "Wall time: 5.26 s\n",
        "CPU times: user 20.3 s, sys: 7.96 ms, total: 20.3 s"
       ]
      },
      {
       "output_type": "stream",
       "stream": "stdout",
       "text": [
        "\n",
        "Wall time: 5.26 s\n",
        "CPU times: user 24.4 s, sys: 8.01 ms, total: 24.4 s"
       ]
      },
      {
       "output_type": "stream",
       "stream": "stdout",
       "text": [
        "\n",
        "Wall time: 6.15 s\n",
        "CPU times: user 19.7 s, sys: 7.99 ms, total: 19.7 s"
       ]
      },
      {
       "output_type": "stream",
       "stream": "stdout",
       "text": [
        "\n",
        "Wall time: 5.05 s\n",
        "CPU times: user 19.8 s, sys: 8.05 ms, total: 19.8 s"
       ]
      },
      {
       "output_type": "stream",
       "stream": "stdout",
       "text": [
        "\n",
        "Wall time: 5.15 s\n",
        "CPU times: user 20.1 s, sys: 8.06 ms, total: 20.1 s"
       ]
      },
      {
       "output_type": "stream",
       "stream": "stdout",
       "text": [
        "\n",
        "Wall time: 5.26 s\n",
        "\n"
       ]
      },
      {
       "metadata": {},
       "output_type": "pyout",
       "prompt_number": 243,
       "text": [
        "[('BF', 48327.180998457457),\n",
        " ('RF', 48677.358423182588),\n",
        " ('ET', 51818.664500272411),\n",
        " ('DT', 68553.218713546448)]"
       ]
      },
      {
       "metadata": {},
       "output_type": "display_data",
       "png": "[encoded data removed]",
       "text": [
        "<matplotlib.figure.Figure at 0x7f7f8b361748>"
       ]
      }
     ],
     "prompt_number": 243
    },
    {
     "cell_type": "code",
     "collapsed": false,
     "input": [
      "err= {a:b for (a,b) in mrmse}\n",
      "round((err['ET']-err['BF'])/err['BF']*100)"
     ],
     "language": "python",
     "metadata": {},
     "outputs": [
      {
       "metadata": {},
       "output_type": "pyout",
       "prompt_number": 245,
       "text": [
        "7.0"
       ]
      }
     ],
     "prompt_number": 245
    },
    {
     "cell_type": "code",
     "collapsed": false,
     "input": [
      "## add bart\n",
      "## note that bart fit takes around 75 sec, vs 15 sec for BF run in serial.\n",
      "## bart's mean errors are 13% worse than BF\n",
      "## ET's are 7% worse\n",
      "## RF's are 1% worse\n",
      "barterr = pd.read_table(\"graphs/bartca.txt\",header=None)\n",
      "RMSE['bart'] = barterr\n",
      "RMSE.boxplot(return_type='axes')\n",
      "mrmse = RMSE.mean()\n",
      "print(round((mrmse['bart']-mrmse['BF'])/mrmse['BF']*100))\n",
      "RMSE"
     ],
     "language": "python",
     "metadata": {},
     "outputs": [
      {
       "output_type": "stream",
       "stream": "stdout",
       "text": [
        "13.0\n"
       ]
      },
      {
       "html": [
        "<div style=\"max-height:1000px;max-width:1500px;overflow:auto;\">\n",
        "<table border=\"1\" class=\"dataframe\">\n",
        "  <thead>\n",
        "    <tr style=\"text-align: right;\">\n",
        "      <th></th>\n",
        "      <th>BF</th>\n",
        "      <th>DT</th>\n",
        "      <th>ET</th>\n",
        "      <th>RF</th>\n",
        "      <th>bart</th>\n",
        "    </tr>\n",
        "  </thead>\n",
        "  <tbody>\n",
        "    <tr>\n",
        "      <th>0</th>\n",
        "      <td> 50502.436886</td>\n",
        "      <td> 66998.807555</td>\n",
        "      <td> 52248.752669</td>\n",
        "      <td> 50795.764044</td>\n",
        "      <td> 53710.044473</td>\n",
        "    </tr>\n",
        "    <tr>\n",
        "      <th>1</th>\n",
        "      <td> 48862.160006</td>\n",
        "      <td> 69346.606636</td>\n",
        "      <td> 53717.684933</td>\n",
        "      <td> 49635.389790</td>\n",
        "      <td> 58805.580878</td>\n",
        "    </tr>\n",
        "    <tr>\n",
        "      <th>2</th>\n",
        "      <td> 47711.366307</td>\n",
        "      <td> 70149.278677</td>\n",
        "      <td> 51296.701867</td>\n",
        "      <td> 48037.502458</td>\n",
        "      <td> 52950.428088</td>\n",
        "    </tr>\n",
        "    <tr>\n",
        "      <th>3</th>\n",
        "      <td> 46674.470448</td>\n",
        "      <td> 67091.058928</td>\n",
        "      <td> 49631.730995</td>\n",
        "      <td> 46530.685531</td>\n",
        "      <td> 56284.656840</td>\n",
        "    </tr>\n",
        "    <tr>\n",
        "      <th>4</th>\n",
        "      <td> 46560.832394</td>\n",
        "      <td> 67491.542522</td>\n",
        "      <td> 50113.866305</td>\n",
        "      <td> 46967.695855</td>\n",
        "      <td> 55902.760175</td>\n",
        "    </tr>\n",
        "    <tr>\n",
        "      <th>5</th>\n",
        "      <td> 48133.468675</td>\n",
        "      <td> 69957.752991</td>\n",
        "      <td> 51785.839067</td>\n",
        "      <td> 48507.233236</td>\n",
        "      <td> 53970.567991</td>\n",
        "    </tr>\n",
        "    <tr>\n",
        "      <th>6</th>\n",
        "      <td> 49153.397526</td>\n",
        "      <td> 68133.825891</td>\n",
        "      <td> 53648.958478</td>\n",
        "      <td> 49745.825282</td>\n",
        "      <td> 53018.342735</td>\n",
        "    </tr>\n",
        "    <tr>\n",
        "      <th>7</th>\n",
        "      <td> 48786.555185</td>\n",
        "      <td> 68643.273573</td>\n",
        "      <td> 52713.606877</td>\n",
        "      <td> 49215.443527</td>\n",
        "      <td> 54069.884637</td>\n",
        "    </tr>\n",
        "    <tr>\n",
        "      <th>8</th>\n",
        "      <td> 48376.778589</td>\n",
        "      <td> 72189.402262</td>\n",
        "      <td> 51490.273341</td>\n",
        "      <td> 48700.859773</td>\n",
        "      <td> 55371.438503</td>\n",
        "    </tr>\n",
        "    <tr>\n",
        "      <th>9</th>\n",
        "      <td> 48510.343968</td>\n",
        "      <td> 65530.638099</td>\n",
        "      <td> 51539.230470</td>\n",
        "      <td> 48637.184736</td>\n",
        "      <td> 52519.297447</td>\n",
        "    </tr>\n",
        "  </tbody>\n",
        "</table>\n",
        "</div>"
       ],
       "metadata": {},
       "output_type": "pyout",
       "prompt_number": 299,
       "text": [
        "             BF            DT            ET            RF          bart\n",
        "0  50502.436886  66998.807555  52248.752669  50795.764044  53710.044473\n",
        "1  48862.160006  69346.606636  53717.684933  49635.389790  58805.580878\n",
        "2  47711.366307  70149.278677  51296.701867  48037.502458  52950.428088\n",
        "3  46674.470448  67091.058928  49631.730995  46530.685531  56284.656840\n",
        "4  46560.832394  67491.542522  50113.866305  46967.695855  55902.760175\n",
        "5  48133.468675  69957.752991  51785.839067  48507.233236  53970.567991\n",
        "6  49153.397526  68133.825891  53648.958478  49745.825282  53018.342735\n",
        "7  48786.555185  68643.273573  52713.606877  49215.443527  54069.884637\n",
        "8  48376.778589  72189.402262  51490.273341  48700.859773  55371.438503\n",
        "9  48510.343968  65530.638099  51539.230470  48637.184736  52519.297447"
       ]
      },
      {
       "metadata": {},
       "output_type": "display_data",
       "png": "[encoded data removed]",
       "text": [
        "<matplotlib.figure.Figure at 0x7f7f8b398b70>"
       ]
      }
     ],
     "prompt_number": 299
    },
    {
     "cell_type": "markdown",
     "metadata": {},
     "source": [
      "### Shallow trees"
     ]
    },
    {
     "cell_type": "code",
     "collapsed": false,
     "input": [
      "dt = tree.DecisionTreeRegressor(min_samples_leaf=3500)\n",
      "dt.fit(Xh,yh)"
     ],
     "language": "python",
     "metadata": {},
     "outputs": [
      {
       "metadata": {},
       "output_type": "pyout",
       "prompt_number": 281,
       "text": [
        "DecisionTreeRegressor(criterion='mse', max_depth=None, max_features=None,\n",
        "           max_leaf_nodes=None, min_samples_leaf=3500, min_samples_split=2,\n",
        "           min_weight_fraction_leaf=0.0, random_state=None,\n",
        "           splitter='best')"
       ]
      }
     ],
     "prompt_number": 281
    },
    {
     "cell_type": "code",
     "collapsed": false,
     "input": [
      "dt.predict(Xh)"
     ],
     "language": "python",
     "metadata": {},
     "outputs": [
      {
       "metadata": {},
       "output_type": "pyout",
       "prompt_number": 282,
       "text": [
        "array([ 330551.04857469,  330551.04857469,  330551.04857469, ...,\n",
        "        115275.96449704,  115275.96449704,  115275.96449704])"
       ]
      }
     ],
     "prompt_number": 282
    },
    {
     "cell_type": "code",
     "collapsed": false,
     "input": [
      "for i in range(dt.tree_.node_count):\n",
      "    dt.tree_.value[i,0,0] = round(dt.tree_.value[i,0,0])\n",
      "    # dt.tree_.impurity[i] = round(np.sqrt(dt.tree_.impurity[i]),4)"
     ],
     "language": "python",
     "metadata": {},
     "outputs": [],
     "prompt_number": 283
    },
    {
     "cell_type": "code",
     "collapsed": false,
     "input": [
      "tree.export_graphviz(dt,feature_names=list(Xh),out_file=\"graphs/cahtree.dot\")\n",
      "#!sed -i 's/mse/rmse/g' graphs/cahtree.dot\n",
      "!sed -i 's/mse = [0-9]*\\.[0-9]*\\\\n/ /g' graphs/cahtree.dot\n",
      "!sed -i 's/samples/size/g' graphs/cahtree.dot\n",
      "!sed -i 's/\\[ /\\$/g' graphs/cahtree.dot\n",
      "!sed -i 's/\\.\\]//g' graphs/cahtree.dot\n",
      "!sed -i 's/value/mean/g' graphs/cahtree.dot\n",
      "\n",
      "\n",
      "!dot -Tpdf graphs/cahtree.dot -o graphs/cahtree.pdf"
     ],
     "language": "python",
     "metadata": {},
     "outputs": [],
     "prompt_number": 284
    },
    {
     "cell_type": "markdown",
     "metadata": {},
     "source": [
      "_note that 34.5 degrees north is just north of santa barbara_"
     ]
    },
    {
     "cell_type": "code",
     "collapsed": false,
     "input": [
      "ne = 100\n",
      "msl = 3500\n",
      "shorte = {key: [] for key in ['DT','BF']}\n",
      "\n",
      "## run our loop\n",
      "for train, test in kf:\n",
      "    \n",
      "    ### data\n",
      "    Xtrain = Xh.iloc[train].values\n",
      "    Xtest = Xh.iloc[test].values\n",
      "    y = yh[train]\n",
      "    f = yh[test]\n",
      "    \n",
      "    #DT\n",
      "    dt = tree.DecisionTreeRegressor(min_samples_leaf=msl)\n",
      "    dt.fit(Xtrain,y)\n",
      "    dtp = dt.predict(Xtest)\n",
      "    shorte['DT'] += [rmse(f,dtp)]\n",
      "    \n",
      "    #BF\n",
      "    bf = ensemble.RandomForestRegressor(n_estimators=ne,bootstrap=2,min_samples_leaf=msl)\n",
      "    %time bf.fit(Xtrain,y)\n",
      "    bfp = bf.predict(Xtest)\n",
      "    shorte['BF'] += [rmse(f,bfp)]\n",
      "\n",
      "shorte = pd.DataFrame(shorte)\n",
      "shorte.boxplot(return_type='axes')\n",
      "\n",
      "print()\n",
      "from operator import itemgetter\n",
      "mshorte = [ (mod,np.mean(shorte[mod])) for mod in shorte]\n",
      "sorted(mshorte, key=lambda x: x[1])    \n"
     ],
     "language": "python",
     "metadata": {},
     "outputs": [
      {
       "output_type": "stream",
       "stream": "stdout",
       "text": [
        "CPU times: user 2.26 s, sys: 2 \u00b5s, total: 2.26 s\n",
        "Wall time: 2.26 s\n",
        "CPU times: user 2.26 s, sys: 0 ns, total: 2.26 s"
       ]
      },
      {
       "output_type": "stream",
       "stream": "stdout",
       "text": [
        "\n",
        "Wall time: 2.26 s\n",
        "CPU times: user 2.25 s, sys: 0 ns, total: 2.25 s"
       ]
      },
      {
       "output_type": "stream",
       "stream": "stdout",
       "text": [
        "\n",
        "Wall time: 2.24 s\n",
        "CPU times: user 2.24 s, sys: 0 ns, total: 2.24 s"
       ]
      },
      {
       "output_type": "stream",
       "stream": "stdout",
       "text": [
        "\n",
        "Wall time: 2.24 s\n",
        "CPU times: user 2.23 s, sys: 0 ns, total: 2.23 s"
       ]
      },
      {
       "output_type": "stream",
       "stream": "stdout",
       "text": [
        "\n",
        "Wall time: 2.23 s\n",
        "CPU times: user 2.3 s, sys: 0 ns, total: 2.3 s"
       ]
      },
      {
       "output_type": "stream",
       "stream": "stdout",
       "text": [
        "\n",
        "Wall time: 2.3 s\n",
        "CPU times: user 2.37 s, sys: 0 ns, total: 2.37 s"
       ]
      },
      {
       "output_type": "stream",
       "stream": "stdout",
       "text": [
        "\n",
        "Wall time: 2.37 s\n",
        "CPU times: user 2.26 s, sys: 0 ns, total: 2.26 s"
       ]
      },
      {
       "output_type": "stream",
       "stream": "stdout",
       "text": [
        "\n",
        "Wall time: 2.26 s\n",
        "CPU times: user 2.27 s, sys: 0 ns, total: 2.27 s"
       ]
      },
      {
       "output_type": "stream",
       "stream": "stdout",
       "text": [
        "\n",
        "Wall time: 2.27 s\n",
        "CPU times: user 2.31 s, sys: 0 ns, total: 2.31 s"
       ]
      },
      {
       "output_type": "stream",
       "stream": "stdout",
       "text": [
        "\n",
        "Wall time: 2.31 s\n",
        "\n"
       ]
      },
      {
       "metadata": {},
       "output_type": "pyout",
       "prompt_number": 285,
       "text": [
        "[('BF', 87635.288925772722), ('DT', 88671.327571455593)]"
       ]
      },
      {
       "metadata": {},
       "output_type": "display_data",
       "png": "[encoded data removed]",
       "text": [
        "<matplotlib.figure.Figure at 0x7f7f8b605198>"
       ]
      }
     ],
     "prompt_number": 285
    },
    {
     "cell_type": "code",
     "collapsed": false,
     "input": [
      "err= {a:b for (a,b) in mshorte}\n",
      "round((err['DT']-err['BF'])/err['BF']*100)"
     ],
     "language": "python",
     "metadata": {},
     "outputs": [
      {
       "metadata": {},
       "output_type": "pyout",
       "prompt_number": 287,
       "text": [
        "1.0"
       ]
      }
     ],
     "prompt_number": 287
    },
    {
     "cell_type": "heading",
     "level": 3,
     "metadata": {},
     "source": [
      "Sub-tree experiment"
     ]
    },
    {
     "cell_type": "code",
     "collapsed": false,
     "input": [
      "def multitrunk(x,y,test,f,pretree=True,ntree=100):\n",
      "    dt = tree.DecisionTreeRegressor(min_samples_leaf=3000)\n",
      "    dt.fit(x,y)\n",
      "    if pretree: \n",
      "        bvec = dt.tree_.apply(x.astype(tree._tree.DTYPE))\n",
      "        print(\"%d nodes\" % dt.tree_.node_count, end=\" \")\n",
      "    else:\n",
      "        bvec = rn.random_integers(0,4,x.shape[0])\n",
      "        print(\"%d obs in train\" % x.shape[0], end=\" \")\n",
      "    bset = set(bvec)\n",
      "    forest = {}\n",
      "    for b in bset:\n",
      "        print(b, end=\" \")\n",
      "        forest[b] = ensemble.RandomForestRegressor(\n",
      "                        ntree,bootstrap=2,min_samples_leaf=3,n_jobs=4)\n",
      "        isb = bvec==b\n",
      "        forest[b].fit(x[isb,:],y[isb])\n",
      "    \n",
      "    if pretree:\n",
      "        yhat = np.empty(test.shape[0])\n",
      "        btest = dt.tree_.apply(test.astype(tree._tree.DTYPE))\n",
      "        for b in bset:\n",
      "            print(b, end=\" \")\n",
      "            isb = btest==b\n",
      "            yhat[isb] = forest[b].predict(test[isb,:])\n",
      "    else:\n",
      "        yhat = np.zeros(test.shape[0])\n",
      "        for b in bset:\n",
      "            print(b, end=\" \")\n",
      "            yhat += forest[b].predict(test)/5.0\n",
      "            \n",
      "    err = rmse(f,yhat)\n",
      "    print(err)\n",
      "    return err\n"
     ],
     "language": "python",
     "metadata": {},
     "outputs": [],
     "prompt_number": 335
    },
    {
     "cell_type": "code",
     "collapsed": false,
     "input": [
      "sube = {key: [] for key in ['pretree','randsamp']}\n",
      "\n",
      "for train, test in kf:\n",
      "\n",
      "    Xtrain = Xh.iloc[train].values\n",
      "    Xtest = Xh.iloc[test].values\n",
      "    y = yh[train]\n",
      "    f = yh[test]\n",
      "    \n",
      "    sube['pretree'] += [multitrunk(Xtrain,y,Xtest,f)]\n",
      "    sube['randsamp'] += [multitrunk(Xtrain,y,Xtest,f,pretree=False)]\n",
      "\n",
      "sube = pd.DataFrame(sube)\n",
      "sube.boxplot(return_type='axes')\n",
      "msube = sube.mean()\n",
      "print(msube)\n",
      "print(round((msube['randsamp']-msube['pretree'])/msube['pretree']*100))\n",
      "sube"
     ],
     "language": "python",
     "metadata": {},
     "outputs": [
      {
       "output_type": "stream",
       "stream": "stdout",
       "text": [
        "9 nodes 8 3"
       ]
      },
      {
       "output_type": "stream",
       "stream": "stdout",
       "text": [
        " 4"
       ]
      },
      {
       "output_type": "stream",
       "stream": "stdout",
       "text": [
        " 6"
       ]
      },
      {
       "output_type": "stream",
       "stream": "stdout",
       "text": [
        " 7"
       ]
      },
      {
       "output_type": "stream",
       "stream": "stdout",
       "text": [
        " 8"
       ]
      },
      {
       "output_type": "stream",
       "stream": "stdout",
       "text": [
        " 3"
       ]
      },
      {
       "output_type": "stream",
       "stream": "stdout",
       "text": [
        " 4"
       ]
      },
      {
       "output_type": "stream",
       "stream": "stdout",
       "text": [
        " 6"
       ]
      },
      {
       "output_type": "stream",
       "stream": "stdout",
       "text": [
        " 7"
       ]
      },
      {
       "output_type": "stream",
       "stream": "stdout",
       "text": [
        " 51378.0696157"
       ]
      },
      {
       "output_type": "stream",
       "stream": "stdout",
       "text": [
        "\n",
        "18576 obs in train 0 1"
       ]
      },
      {
       "output_type": "stream",
       "stream": "stdout",
       "text": [
        " 2"
       ]
      },
      {
       "output_type": "stream",
       "stream": "stdout",
       "text": [
        " 3"
       ]
      },
      {
       "output_type": "stream",
       "stream": "stdout",
       "text": [
        " 4"
       ]
      },
      {
       "output_type": "stream",
       "stream": "stdout",
       "text": [
        " 0"
       ]
      },
      {
       "output_type": "stream",
       "stream": "stdout",
       "text": [
        " 1"
       ]
      },
      {
       "output_type": "stream",
       "stream": "stdout",
       "text": [
        " 2"
       ]
      },
      {
       "output_type": "stream",
       "stream": "stdout",
       "text": [
        " 3"
       ]
      },
      {
       "output_type": "stream",
       "stream": "stdout",
       "text": [
        " 4"
       ]
      },
      {
       "output_type": "stream",
       "stream": "stdout",
       "text": [
        " 53175.5898497"
       ]
      },
      {
       "output_type": "stream",
       "stream": "stdout",
       "text": [
        "\n",
        "9 nodes 8 3"
       ]
      },
      {
       "output_type": "stream",
       "stream": "stdout",
       "text": [
        " 4"
       ]
      },
      {
       "output_type": "stream",
       "stream": "stdout",
       "text": [
        " 6"
       ]
      },
      {
       "output_type": "stream",
       "stream": "stdout",
       "text": [
        " 7"
       ]
      },
      {
       "output_type": "stream",
       "stream": "stdout",
       "text": [
        " 8"
       ]
      },
      {
       "output_type": "stream",
       "stream": "stdout",
       "text": [
        " 3"
       ]
      },
      {
       "output_type": "stream",
       "stream": "stdout",
       "text": [
        " 4"
       ]
      },
      {
       "output_type": "stream",
       "stream": "stdout",
       "text": [
        " 6"
       ]
      },
      {
       "output_type": "stream",
       "stream": "stdout",
       "text": [
        " 7"
       ]
      },
      {
       "output_type": "stream",
       "stream": "stdout",
       "text": [
        " 48752.5323472"
       ]
      },
      {
       "output_type": "stream",
       "stream": "stdout",
       "text": [
        "\n",
        "18576 obs in train 0 1"
       ]
      },
      {
       "output_type": "stream",
       "stream": "stdout",
       "text": [
        " 2"
       ]
      },
      {
       "output_type": "stream",
       "stream": "stdout",
       "text": [
        " 3"
       ]
      },
      {
       "output_type": "stream",
       "stream": "stdout",
       "text": [
        " 4"
       ]
      },
      {
       "output_type": "stream",
       "stream": "stdout",
       "text": [
        " 0"
       ]
      },
      {
       "output_type": "stream",
       "stream": "stdout",
       "text": [
        " 1"
       ]
      },
      {
       "output_type": "stream",
       "stream": "stdout",
       "text": [
        " 2"
       ]
      },
      {
       "output_type": "stream",
       "stream": "stdout",
       "text": [
        " 3"
       ]
      },
      {
       "output_type": "stream",
       "stream": "stdout",
       "text": [
        " 4"
       ]
      },
      {
       "output_type": "stream",
       "stream": "stdout",
       "text": [
        " 53123.961415"
       ]
      },
      {
       "output_type": "stream",
       "stream": "stdout",
       "text": [
        "\n",
        "9 nodes 8 3"
       ]
      },
      {
       "output_type": "stream",
       "stream": "stdout",
       "text": [
        " 4"
       ]
      },
      {
       "output_type": "stream",
       "stream": "stdout",
       "text": [
        " 6"
       ]
      },
      {
       "output_type": "stream",
       "stream": "stdout",
       "text": [
        " 7"
       ]
      },
      {
       "output_type": "stream",
       "stream": "stdout",
       "text": [
        " 8"
       ]
      },
      {
       "output_type": "stream",
       "stream": "stdout",
       "text": [
        " 3"
       ]
      },
      {
       "output_type": "stream",
       "stream": "stdout",
       "text": [
        " 4"
       ]
      },
      {
       "output_type": "stream",
       "stream": "stdout",
       "text": [
        " 6"
       ]
      },
      {
       "output_type": "stream",
       "stream": "stdout",
       "text": [
        " 7"
       ]
      },
      {
       "output_type": "stream",
       "stream": "stdout",
       "text": [
        " 48760.1387486"
       ]
      },
      {
       "output_type": "stream",
       "stream": "stdout",
       "text": [
        "\n",
        "18576 obs in train 0 1"
       ]
      },
      {
       "output_type": "stream",
       "stream": "stdout",
       "text": [
        " 2"
       ]
      },
      {
       "output_type": "stream",
       "stream": "stdout",
       "text": [
        " 3"
       ]
      },
      {
       "output_type": "stream",
       "stream": "stdout",
       "text": [
        " 4"
       ]
      },
      {
       "output_type": "stream",
       "stream": "stdout",
       "text": [
        " 0"
       ]
      },
      {
       "output_type": "stream",
       "stream": "stdout",
       "text": [
        " 1"
       ]
      },
      {
       "output_type": "stream",
       "stream": "stdout",
       "text": [
        " 2"
       ]
      },
      {
       "output_type": "stream",
       "stream": "stdout",
       "text": [
        " 3"
       ]
      },
      {
       "output_type": "stream",
       "stream": "stdout",
       "text": [
        " 4"
       ]
      },
      {
       "output_type": "stream",
       "stream": "stdout",
       "text": [
        " 51098.5082933"
       ]
      },
      {
       "output_type": "stream",
       "stream": "stdout",
       "text": [
        "\n",
        "9 nodes 8 3"
       ]
      },
      {
       "output_type": "stream",
       "stream": "stdout",
       "text": [
        " 4"
       ]
      },
      {
       "output_type": "stream",
       "stream": "stdout",
       "text": [
        " 6"
       ]
      },
      {
       "output_type": "stream",
       "stream": "stdout",
       "text": [
        " 7"
       ]
      },
      {
       "output_type": "stream",
       "stream": "stdout",
       "text": [
        " 8"
       ]
      },
      {
       "output_type": "stream",
       "stream": "stdout",
       "text": [
        " 3"
       ]
      },
      {
       "output_type": "stream",
       "stream": "stdout",
       "text": [
        " 4"
       ]
      },
      {
       "output_type": "stream",
       "stream": "stdout",
       "text": [
        " 6"
       ]
      },
      {
       "output_type": "stream",
       "stream": "stdout",
       "text": [
        " 7"
       ]
      },
      {
       "output_type": "stream",
       "stream": "stdout",
       "text": [
        " 47275.804206"
       ]
      },
      {
       "output_type": "stream",
       "stream": "stdout",
       "text": [
        "\n",
        "18576 obs in train 0 1"
       ]
      },
      {
       "output_type": "stream",
       "stream": "stdout",
       "text": [
        " 2"
       ]
      },
      {
       "output_type": "stream",
       "stream": "stdout",
       "text": [
        " 3"
       ]
      },
      {
       "output_type": "stream",
       "stream": "stdout",
       "text": [
        " 4"
       ]
      },
      {
       "output_type": "stream",
       "stream": "stdout",
       "text": [
        " 0"
       ]
      },
      {
       "output_type": "stream",
       "stream": "stdout",
       "text": [
        " 1"
       ]
      },
      {
       "output_type": "stream",
       "stream": "stdout",
       "text": [
        " 2"
       ]
      },
      {
       "output_type": "stream",
       "stream": "stdout",
       "text": [
        " 3"
       ]
      },
      {
       "output_type": "stream",
       "stream": "stdout",
       "text": [
        " 4"
       ]
      },
      {
       "output_type": "stream",
       "stream": "stdout",
       "text": [
        " 49738.161939"
       ]
      },
      {
       "output_type": "stream",
       "stream": "stdout",
       "text": [
        "\n",
        "9 nodes 8 3"
       ]
      },
      {
       "output_type": "stream",
       "stream": "stdout",
       "text": [
        " 4"
       ]
      },
      {
       "output_type": "stream",
       "stream": "stdout",
       "text": [
        " 6"
       ]
      },
      {
       "output_type": "stream",
       "stream": "stdout",
       "text": [
        " 7"
       ]
      },
      {
       "output_type": "stream",
       "stream": "stdout",
       "text": [
        " 8"
       ]
      },
      {
       "output_type": "stream",
       "stream": "stdout",
       "text": [
        " 3"
       ]
      },
      {
       "output_type": "stream",
       "stream": "stdout",
       "text": [
        " 4"
       ]
      },
      {
       "output_type": "stream",
       "stream": "stdout",
       "text": [
        " 6"
       ]
      },
      {
       "output_type": "stream",
       "stream": "stdout",
       "text": [
        " 7"
       ]
      },
      {
       "output_type": "stream",
       "stream": "stdout",
       "text": [
        " 47343.4884751"
       ]
      },
      {
       "output_type": "stream",
       "stream": "stdout",
       "text": [
        "\n",
        "18576 obs in train 0 1"
       ]
      },
      {
       "output_type": "stream",
       "stream": "stdout",
       "text": [
        " 2"
       ]
      },
      {
       "output_type": "stream",
       "stream": "stdout",
       "text": [
        " 3"
       ]
      },
      {
       "output_type": "stream",
       "stream": "stdout",
       "text": [
        " 4"
       ]
      },
      {
       "output_type": "stream",
       "stream": "stdout",
       "text": [
        " 0"
       ]
      },
      {
       "output_type": "stream",
       "stream": "stdout",
       "text": [
        " 1"
       ]
      },
      {
       "output_type": "stream",
       "stream": "stdout",
       "text": [
        " 2"
       ]
      },
      {
       "output_type": "stream",
       "stream": "stdout",
       "text": [
        " 3"
       ]
      },
      {
       "output_type": "stream",
       "stream": "stdout",
       "text": [
        " 4"
       ]
      },
      {
       "output_type": "stream",
       "stream": "stdout",
       "text": [
        " 50053.9880173"
       ]
      },
      {
       "output_type": "stream",
       "stream": "stdout",
       "text": [
        "\n",
        "9 nodes 8 3"
       ]
      },
      {
       "output_type": "stream",
       "stream": "stdout",
       "text": [
        " 4"
       ]
      },
      {
       "output_type": "stream",
       "stream": "stdout",
       "text": [
        " 6"
       ]
      },
      {
       "output_type": "stream",
       "stream": "stdout",
       "text": [
        " 7"
       ]
      },
      {
       "output_type": "stream",
       "stream": "stdout",
       "text": [
        " 8"
       ]
      },
      {
       "output_type": "stream",
       "stream": "stdout",
       "text": [
        " 3"
       ]
      },
      {
       "output_type": "stream",
       "stream": "stdout",
       "text": [
        " 4"
       ]
      },
      {
       "output_type": "stream",
       "stream": "stdout",
       "text": [
        " 6"
       ]
      },
      {
       "output_type": "stream",
       "stream": "stdout",
       "text": [
        " 7"
       ]
      },
      {
       "output_type": "stream",
       "stream": "stdout",
       "text": [
        " 48958.9052576"
       ]
      },
      {
       "output_type": "stream",
       "stream": "stdout",
       "text": [
        "\n",
        "18576 obs in train 0 1"
       ]
      },
      {
       "output_type": "stream",
       "stream": "stdout",
       "text": [
        " 2"
       ]
      },
      {
       "output_type": "stream",
       "stream": "stdout",
       "text": [
        " 3"
       ]
      },
      {
       "output_type": "stream",
       "stream": "stdout",
       "text": [
        " 4"
       ]
      },
      {
       "output_type": "stream",
       "stream": "stdout",
       "text": [
        " 0"
       ]
      },
      {
       "output_type": "stream",
       "stream": "stdout",
       "text": [
        " 1"
       ]
      },
      {
       "output_type": "stream",
       "stream": "stdout",
       "text": [
        " 2"
       ]
      },
      {
       "output_type": "stream",
       "stream": "stdout",
       "text": [
        " 3"
       ]
      },
      {
       "output_type": "stream",
       "stream": "stdout",
       "text": [
        " 4"
       ]
      },
      {
       "output_type": "stream",
       "stream": "stdout",
       "text": [
        " 51472.823562"
       ]
      },
      {
       "output_type": "stream",
       "stream": "stdout",
       "text": [
        "\n",
        "9 nodes 8 3"
       ]
      },
      {
       "output_type": "stream",
       "stream": "stdout",
       "text": [
        " 4"
       ]
      },
      {
       "output_type": "stream",
       "stream": "stdout",
       "text": [
        " 6"
       ]
      },
      {
       "output_type": "stream",
       "stream": "stdout",
       "text": [
        " 7"
       ]
      },
      {
       "output_type": "stream",
       "stream": "stdout",
       "text": [
        " 8"
       ]
      },
      {
       "output_type": "stream",
       "stream": "stdout",
       "text": [
        " 3"
       ]
      },
      {
       "output_type": "stream",
       "stream": "stdout",
       "text": [
        " 4"
       ]
      },
      {
       "output_type": "stream",
       "stream": "stdout",
       "text": [
        " 6"
       ]
      },
      {
       "output_type": "stream",
       "stream": "stdout",
       "text": [
        " 7"
       ]
      },
      {
       "output_type": "stream",
       "stream": "stdout",
       "text": [
        " 50009.0943434"
       ]
      },
      {
       "output_type": "stream",
       "stream": "stdout",
       "text": [
        "\n",
        "18576 obs in train 0 1"
       ]
      },
      {
       "output_type": "stream",
       "stream": "stdout",
       "text": [
        " 2"
       ]
      },
      {
       "output_type": "stream",
       "stream": "stdout",
       "text": [
        " 3"
       ]
      },
      {
       "output_type": "stream",
       "stream": "stdout",
       "text": [
        " 4"
       ]
      },
      {
       "output_type": "stream",
       "stream": "stdout",
       "text": [
        " 0"
       ]
      },
      {
       "output_type": "stream",
       "stream": "stdout",
       "text": [
        " 1"
       ]
      },
      {
       "output_type": "stream",
       "stream": "stdout",
       "text": [
        " 2"
       ]
      },
      {
       "output_type": "stream",
       "stream": "stdout",
       "text": [
        " 3"
       ]
      },
      {
       "output_type": "stream",
       "stream": "stdout",
       "text": [
        " 4"
       ]
      },
      {
       "output_type": "stream",
       "stream": "stdout",
       "text": [
        " 53220.5266265"
       ]
      },
      {
       "output_type": "stream",
       "stream": "stdout",
       "text": [
        "\n",
        "9 nodes 8 3"
       ]
      },
      {
       "output_type": "stream",
       "stream": "stdout",
       "text": [
        " 4"
       ]
      },
      {
       "output_type": "stream",
       "stream": "stdout",
       "text": [
        " 6"
       ]
      },
      {
       "output_type": "stream",
       "stream": "stdout",
       "text": [
        " 7"
       ]
      },
      {
       "output_type": "stream",
       "stream": "stdout",
       "text": [
        " 8"
       ]
      },
      {
       "output_type": "stream",
       "stream": "stdout",
       "text": [
        " 3"
       ]
      },
      {
       "output_type": "stream",
       "stream": "stdout",
       "text": [
        " 4"
       ]
      },
      {
       "output_type": "stream",
       "stream": "stdout",
       "text": [
        " 6"
       ]
      },
      {
       "output_type": "stream",
       "stream": "stdout",
       "text": [
        " 7"
       ]
      },
      {
       "output_type": "stream",
       "stream": "stdout",
       "text": [
        " 49933.5927759"
       ]
      },
      {
       "output_type": "stream",
       "stream": "stdout",
       "text": [
        "\n",
        "18576 obs in train 0 1"
       ]
      },
      {
       "output_type": "stream",
       "stream": "stdout",
       "text": [
        " 2"
       ]
      },
      {
       "output_type": "stream",
       "stream": "stdout",
       "text": [
        " 3"
       ]
      },
      {
       "output_type": "stream",
       "stream": "stdout",
       "text": [
        " 4"
       ]
      },
      {
       "output_type": "stream",
       "stream": "stdout",
       "text": [
        " 0"
       ]
      },
      {
       "output_type": "stream",
       "stream": "stdout",
       "text": [
        " 1"
       ]
      },
      {
       "output_type": "stream",
       "stream": "stdout",
       "text": [
        " 2"
       ]
      },
      {
       "output_type": "stream",
       "stream": "stdout",
       "text": [
        " 3"
       ]
      },
      {
       "output_type": "stream",
       "stream": "stdout",
       "text": [
        " 4"
       ]
      },
      {
       "output_type": "stream",
       "stream": "stdout",
       "text": [
        " 53690.0834618"
       ]
      },
      {
       "output_type": "stream",
       "stream": "stdout",
       "text": [
        "\n",
        "9 nodes 8 3"
       ]
      },
      {
       "output_type": "stream",
       "stream": "stdout",
       "text": [
        " 4"
       ]
      },
      {
       "output_type": "stream",
       "stream": "stdout",
       "text": [
        " 6"
       ]
      },
      {
       "output_type": "stream",
       "stream": "stdout",
       "text": [
        " 7"
       ]
      },
      {
       "output_type": "stream",
       "stream": "stdout",
       "text": [
        " 8"
       ]
      },
      {
       "output_type": "stream",
       "stream": "stdout",
       "text": [
        " 3"
       ]
      },
      {
       "output_type": "stream",
       "stream": "stdout",
       "text": [
        " 4"
       ]
      },
      {
       "output_type": "stream",
       "stream": "stdout",
       "text": [
        " 6"
       ]
      },
      {
       "output_type": "stream",
       "stream": "stdout",
       "text": [
        " 7"
       ]
      },
      {
       "output_type": "stream",
       "stream": "stdout",
       "text": [
        " 49722.5273101"
       ]
      },
      {
       "output_type": "stream",
       "stream": "stdout",
       "text": [
        "\n",
        "18576 obs in train 0 1"
       ]
      },
      {
       "output_type": "stream",
       "stream": "stdout",
       "text": [
        " 2"
       ]
      },
      {
       "output_type": "stream",
       "stream": "stdout",
       "text": [
        " 3"
       ]
      },
      {
       "output_type": "stream",
       "stream": "stdout",
       "text": [
        " 4"
       ]
      },
      {
       "output_type": "stream",
       "stream": "stdout",
       "text": [
        " 0"
       ]
      },
      {
       "output_type": "stream",
       "stream": "stdout",
       "text": [
        " 1"
       ]
      },
      {
       "output_type": "stream",
       "stream": "stdout",
       "text": [
        " 2"
       ]
      },
      {
       "output_type": "stream",
       "stream": "stdout",
       "text": [
        " 3"
       ]
      },
      {
       "output_type": "stream",
       "stream": "stdout",
       "text": [
        " 4"
       ]
      },
      {
       "output_type": "stream",
       "stream": "stdout",
       "text": [
        " 52737.3552704"
       ]
      },
      {
       "output_type": "stream",
       "stream": "stdout",
       "text": [
        "\n",
        "9 nodes 8 3"
       ]
      },
      {
       "output_type": "stream",
       "stream": "stdout",
       "text": [
        " 4"
       ]
      },
      {
       "output_type": "stream",
       "stream": "stdout",
       "text": [
        " 6"
       ]
      },
      {
       "output_type": "stream",
       "stream": "stdout",
       "text": [
        " 7"
       ]
      },
      {
       "output_type": "stream",
       "stream": "stdout",
       "text": [
        " 8"
       ]
      },
      {
       "output_type": "stream",
       "stream": "stdout",
       "text": [
        " 3"
       ]
      },
      {
       "output_type": "stream",
       "stream": "stdout",
       "text": [
        " 4"
       ]
      },
      {
       "output_type": "stream",
       "stream": "stdout",
       "text": [
        " 6"
       ]
      },
      {
       "output_type": "stream",
       "stream": "stdout",
       "text": [
        " 7"
       ]
      },
      {
       "output_type": "stream",
       "stream": "stdout",
       "text": [
        " 49364.6584765"
       ]
      },
      {
       "output_type": "stream",
       "stream": "stdout",
       "text": [
        "\n",
        "18576 obs in train 0 1"
       ]
      },
      {
       "output_type": "stream",
       "stream": "stdout",
       "text": [
        " 2"
       ]
      },
      {
       "output_type": "stream",
       "stream": "stdout",
       "text": [
        " 3"
       ]
      },
      {
       "output_type": "stream",
       "stream": "stdout",
       "text": [
        " 4"
       ]
      },
      {
       "output_type": "stream",
       "stream": "stdout",
       "text": [
        " 0"
       ]
      },
      {
       "output_type": "stream",
       "stream": "stdout",
       "text": [
        " 1"
       ]
      },
      {
       "output_type": "stream",
       "stream": "stdout",
       "text": [
        " 2"
       ]
      },
      {
       "output_type": "stream",
       "stream": "stdout",
       "text": [
        " 3"
       ]
      },
      {
       "output_type": "stream",
       "stream": "stdout",
       "text": [
        " 4"
       ]
      },
      {
       "output_type": "stream",
       "stream": "stdout",
       "text": [
        " 51961.9015493"
       ]
      },
      {
       "output_type": "stream",
       "stream": "stdout",
       "text": [
        "\n",
        "pretree     49149.881156\n",
        "randsamp    52027.289998\n",
        "dtype: float64\n",
        "6.0\n"
       ]
      },
      {
       "html": [
        "<div style=\"max-height:1000px;max-width:1500px;overflow:auto;\">\n",
        "<table border=\"1\" class=\"dataframe\">\n",
        "  <thead>\n",
        "    <tr style=\"text-align: right;\">\n",
        "      <th></th>\n",
        "      <th>pretree</th>\n",
        "      <th>randsamp</th>\n",
        "    </tr>\n",
        "  </thead>\n",
        "  <tbody>\n",
        "    <tr>\n",
        "      <th>0</th>\n",
        "      <td> 51378.069616</td>\n",
        "      <td> 53175.589850</td>\n",
        "    </tr>\n",
        "    <tr>\n",
        "      <th>1</th>\n",
        "      <td> 48752.532347</td>\n",
        "      <td> 53123.961415</td>\n",
        "    </tr>\n",
        "    <tr>\n",
        "      <th>2</th>\n",
        "      <td> 48760.138749</td>\n",
        "      <td> 51098.508293</td>\n",
        "    </tr>\n",
        "    <tr>\n",
        "      <th>3</th>\n",
        "      <td> 47275.804206</td>\n",
        "      <td> 49738.161939</td>\n",
        "    </tr>\n",
        "    <tr>\n",
        "      <th>4</th>\n",
        "      <td> 47343.488475</td>\n",
        "      <td> 50053.988017</td>\n",
        "    </tr>\n",
        "    <tr>\n",
        "      <th>5</th>\n",
        "      <td> 48958.905258</td>\n",
        "      <td> 51472.823562</td>\n",
        "    </tr>\n",
        "    <tr>\n",
        "      <th>6</th>\n",
        "      <td> 50009.094343</td>\n",
        "      <td> 53220.526627</td>\n",
        "    </tr>\n",
        "    <tr>\n",
        "      <th>7</th>\n",
        "      <td> 49933.592776</td>\n",
        "      <td> 53690.083462</td>\n",
        "    </tr>\n",
        "    <tr>\n",
        "      <th>8</th>\n",
        "      <td> 49722.527310</td>\n",
        "      <td> 52737.355270</td>\n",
        "    </tr>\n",
        "    <tr>\n",
        "      <th>9</th>\n",
        "      <td> 49364.658476</td>\n",
        "      <td> 51961.901549</td>\n",
        "    </tr>\n",
        "  </tbody>\n",
        "</table>\n",
        "</div>"
       ],
       "metadata": {},
       "output_type": "pyout",
       "prompt_number": 336,
       "text": [
        "        pretree      randsamp\n",
        "0  51378.069616  53175.589850\n",
        "1  48752.532347  53123.961415\n",
        "2  48760.138749  51098.508293\n",
        "3  47275.804206  49738.161939\n",
        "4  47343.488475  50053.988017\n",
        "5  48958.905258  51472.823562\n",
        "6  50009.094343  53220.526627\n",
        "7  49933.592776  53690.083462\n",
        "8  49722.527310  52737.355270\n",
        "9  49364.658476  51961.901549"
       ]
      },
      {
       "metadata": {},
       "output_type": "display_data",
       "png": "[encoded data removed]",
       "text": [
        "<matplotlib.figure.Figure at 0x7f7f8b09d898>"
       ]
      }
     ],
     "prompt_number": 336
    },
    {
     "cell_type": "code",
     "collapsed": false,
     "input": [
      "(49149-48327)/49149"
     ],
     "language": "python",
     "metadata": {},
     "outputs": []
    }
   ],
   "metadata": {}
  }
 ]
}