{
 "metadata": {
  "name": "",
  "signature": "sha256:e80965c95418a1477de90830ae257f91340557545a904dadc7945472665794ad"
 },
 "nbformat": 3,
 "nbformat_minor": 0,
 "worksheets": [
  {
   "cells": [
    {
     "cell_type": "code",
     "collapsed": false,
     "input": [
      "### import relevant stuff\n",
      "# to give preference to my local overwrites\n",
      "import sys\n",
      "sys.path.append(\"~/.local/lib/python3.4/site-packages\")\n",
      "\n",
      "import numpy as np\n",
      "import scipy as sp\n",
      "import pandas as pd\n",
      "import matplotlib.pyplot as plt\n",
      "from sklearn import tree\n",
      "from sklearn import ensemble\n",
      "import numpy.random as rn\n",
      "\n",
      "%matplotlib inline"
     ],
     "language": "python",
     "metadata": {},
     "outputs": [],
     "prompt_number": 1
    },
    {
     "cell_type": "code",
     "collapsed": false,
     "input": [
      "mcycle = pd.read_csv('data/mcycle.csv')"
     ],
     "language": "python",
     "metadata": {},
     "outputs": [],
     "prompt_number": 2
    },
    {
     "cell_type": "code",
     "collapsed": false,
     "input": [
      "mcycle[0:5]"
     ],
     "language": "python",
     "metadata": {},
     "outputs": [
      {
       "html": [
        "<div style=\"max-height:1000px;max-width:1500px;overflow:auto;\">\n",
        "<table border=\"1\" class=\"dataframe\">\n",
        "  <thead>\n",
        "    <tr style=\"text-align: right;\">\n",
        "      <th></th>\n",
        "      <th>times</th>\n",
        "      <th>accel</th>\n",
        "    </tr>\n",
        "  </thead>\n",
        "  <tbody>\n",
        "    <tr>\n",
        "      <th>0</th>\n",
        "      <td> 2.4</td>\n",
        "      <td> 0.0</td>\n",
        "    </tr>\n",
        "    <tr>\n",
        "      <th>1</th>\n",
        "      <td> 2.6</td>\n",
        "      <td>-1.3</td>\n",
        "    </tr>\n",
        "    <tr>\n",
        "      <th>2</th>\n",
        "      <td> 3.2</td>\n",
        "      <td>-2.7</td>\n",
        "    </tr>\n",
        "    <tr>\n",
        "      <th>3</th>\n",
        "      <td> 3.6</td>\n",
        "      <td> 0.0</td>\n",
        "    </tr>\n",
        "    <tr>\n",
        "      <th>4</th>\n",
        "      <td> 4.0</td>\n",
        "      <td>-2.7</td>\n",
        "    </tr>\n",
        "  </tbody>\n",
        "</table>\n",
        "</div>"
       ],
       "metadata": {},
       "output_type": "pyout",
       "prompt_number": 3,
       "text": [
        "   times  accel\n",
        "0    2.4    0.0\n",
        "1    2.6   -1.3\n",
        "2    3.2   -2.7\n",
        "3    3.6    0.0\n",
        "4    4.0   -2.7"
       ]
      }
     ],
     "prompt_number": 3
    },
    {
     "cell_type": "code",
     "collapsed": false,
     "input": [
      "Xm = mcycle['times'].values.reshape(-1,1)\n",
      "ym = mcycle['accel'].values"
     ],
     "language": "python",
     "metadata": {},
     "outputs": [],
     "prompt_number": 4
    },
    {
     "cell_type": "code",
     "collapsed": false,
     "input": [
      "plt.scatter(mcycle['times'],mcycle['accel'])\n",
      "plt.xlabel(\"seconds\")\n",
      "plt.ylabel(\"acceleration\")\n",
      "\n",
      "onetree = tree.DecisionTreeRegressor(min_samples_leaf=5)\n",
      "onetree.fit(Xm,ym)\n",
      "xgrid = np.arange(0,60,1).reshape(-1,1)\n",
      "yhat1 = onetree.predict(xgrid)\n",
      "plt.plot(xgrid,yhat1,color=\"red\",linewidth=2)"
     ],
     "language": "python",
     "metadata": {},
     "outputs": [
      {
       "metadata": {},
       "output_type": "pyout",
       "prompt_number": 5,
       "text": [
        "[<matplotlib.lines.Line2D at 0x7f28d27e6668>]"
       ]
      },
      {
       "metadata": {},
       "output_type": "display_data",
       "png": "[encoded data removed]",
       "text": [
        "<matplotlib.figure.Figure at 0x7f28d2874438>"
       ]
      }
     ],
     "prompt_number": 5
    },
    {
     "cell_type": "code",
     "collapsed": false,
     "input": [
      "plt.scatter(mcycle['times'],mcycle['accel'])\n",
      "plt.xlabel(\"seconds\")\n",
      "plt.ylabel(\"acceleration\")\n",
      "\n",
      "rf = ensemble.RandomForestRegressor(100,min_samples_leaf=5,bootstrap=2)\n",
      "rf.fit(Xm,ym)\n",
      "xgrid = np.arange(0,60,1).reshape(-1,1)\n",
      "yhatrf = rf.predict(xgrid)\n",
      "plt.plot(xgrid,yhatrf,color=\"red\",linewidth=2)\n"
     ],
     "language": "python",
     "metadata": {},
     "outputs": [
      {
       "metadata": {},
       "output_type": "pyout",
       "prompt_number": 6,
       "text": [
        "[<matplotlib.lines.Line2D at 0x7f28d2706c50>]"
       ]
      },
      {
       "metadata": {},
       "output_type": "display_data",
       "png": "[encoded data removed]",
       "text": [
        "<matplotlib.figure.Figure at 0x7f28d2736128>"
       ]
      }
     ],
     "prompt_number": 6
    },
    {
     "cell_type": "code",
     "collapsed": false,
     "input": [
      "omega = rn.exponential(1,mcycle.shape[0])\n",
      "\n",
      "plt.figure(1)\n",
      "plt.subplot(121)\n",
      "plt.hist(omega,normed=1,color=\"0.75\")\n",
      "\n",
      "plt.subplot(122)\n",
      "plt.scatter(mcycle['times'],mcycle['accel'],s=omega*20)\n",
      "plt.xlabel(\"seconds\")\n",
      "plt.ylabel(\"acceleration\")\n",
      "wtree = tree.DecisionTreeRegressor(min_samples_leaf=5)\n",
      "wtree.fit(Xm,ym, sample_weight=omega)\n",
      "yhatw = wtree.predict(xgrid)\n",
      "plt.plot(xgrid,yhatw,color=\"red\",linewidth=2)"
     ],
     "language": "python",
     "metadata": {},
     "outputs": [
      {
       "metadata": {},
       "output_type": "pyout",
       "prompt_number": 7,
       "text": [
        "[<matplotlib.lines.Line2D at 0x7f28d26c5f28>]"
       ]
      },
      {
       "metadata": {},
       "output_type": "display_data",
       "png": "[encoded data removed]",
       "text": [
        "<matplotlib.figure.Figure at 0x7f28d2750ac8>"
       ]
      }
     ],
     "prompt_number": 7
    },
    {
     "cell_type": "markdown",
     "metadata": {},
     "source": [
      "#### BF\n",
      "\n",
      "We can create a new forest regressor class in `scikit-learn/ensemble` which fits Bayesian forest.\n",
      "* see `/opt/anaconda3/lib/python3.4/site-packages/sklearn/ensemble/forest.py` for code.\n",
      "* the sample weights are drawn inside the function. the base class's `sample_weight` argument will be used as potential non-uniform priors for the exponential weights.\n",
      "* the bayesian interpretation makes it clear: when is the posterior average of some stat useless?  when the population stat is useless.  This is the case for a greedy tree in high dimensions.  In that case, what are the alternative stats?\n",
      "    * Seems that something like extra trees, which fits a greedy tree choosing only a [small] subset of covariates for evaluation at each split, is ideal. Then the bayesian object of interest is actually itself a forest of random trees on the population data (i.e., randomness comes only from choice of split location).\n",
      "* describe focus on \"implicit regularization\", from Breiman through to ExtraTrees.  This then ties naturally to ideas of a Bayesian posterior mean being best for prediction.\n",
      "* when the trees are fit to blocks, we have implicitly split on these blocks as a first stage.  The Bayesian interpretation of the overall average is then as the target if you don't know which block a new observation should be a member of.  If the blocks are meaninful beyond just as random indices, then there is motivation for future work on shrinking them together.\n",
      "godo info on efficiency: http://www.slideshare.net/glouppe/accelerating-random-forests-in-scikitlearn.\n",
      "* Could compare to BART, and make through simulation the point about homoskedastic variance.\n"
     ]
    },
    {
     "cell_type": "markdown",
     "metadata": {},
     "source": [
      "__Notes on code__\n",
      "\n",
      "ExtraTrees and RandomForest are essentially the same in the code.  The only difference is the argument `splitter` passed to base tree class.  For RF's this is `best`, which chooses the best split point among `max_features` possibly random features.  For ETs this is `random`, which chooses the best of `max_features` completely random splits (random feature, random location).  Thus the only difference is whether the split-given-feature is optimized or randomized.\n",
      "\n",
      "In any case, avoid specifying max_leaf_nodes, because it leads to a less efficient 'best first' fitting algorithm (instead of 'depth first')\n",
      "\n",
      "`_parallel_build_trees` in `forest.py` is where bootstrap weights are provided.  Upon altering the` `sample_counts` to be exponential rather than binomial, we get a bayesian bootstrap where `sample_weights` (default of one) are the _scale_ $\\beta$ of each observation weight.\n",
      "\n",
      "In detail, lines 88-89 change from \n",
      "\n",
      "``\n",
      "indices = random_state.randint(0, n_samples, n_samples)\n",
      "sample_counts = np.bincount(indices, minlength=n_samples)\n",
      "``\n",
      "\n",
      "to\n",
      "\n",
      "            ### bayesian forest      \n",
      "            if forest.bootstrap == 2:\n",
      "                sample_counts = random_state.exponential(1,n_samples)\n",
      "            else:    \n",
      "                indices = random_state.randint(0, n_samples, n_samples)\n",
      "                sample_counts = np.bincount(indices, minlength=n_samples)\n",
      "            \n",
      "            #print(\"bs of %d and first 5 weights:\" % forest.bootstrap)\n",
      "            #print(sample_counts[0:5])\n",
      "            ###################\n",
      "\n",
      "We just pass `bootstrap=2` to get the bayesian version.  \n",
      "\n",
      "To check results in debugging, add            \n",
      "\n",
      "``\n",
      "print(\"bs of %d and first 5 weights:\" % forest.bootstrap)\n",
      "print(sample_counts[0:5])\n",
      "``\n",
      "\n",
      "I ended up forking sklearn and making the changes in my branch.  After fork, do\n",
      "\n",
      "``\n",
      "git remote add upstream git@github.com:scikit-learn/scikit-learn.git\n",
      "``\n",
      "\n",
      "so that you can stay current as in https://help.github.com/articles/syncing-a-fork/.  After an initial build (repeated for any changes to cython, e.g. for a new splitter) you can install the updates with\n",
      "\n",
      "``\n",
      "python setup.py install --user\n",
      "``\n",
      "\n",
      "See top of this script for how to append this local scipy in front of the anaconda default.\n"
     ]
    },
    {
     "cell_type": "markdown",
     "metadata": {},
     "source": [
      "### Simulation experiments\n",
      "\n",
      "* use Friedman's simulated data, and california housing data\n",
      "\n",
      "* compare against extra trees (http://orbi.ulg.ac.be/bitstream/2268/9357/1/geurts-mlj-advance.pdf), random forests (with and without random support), and BART (http://www.rob-mcculloch.org/some_papers_and_talks/papers/published/BART.pdf).\n",
      "\n",
      "The friedman function is \n",
      "$$\n",
      "y = 10\\mathrm{sin}(\\pi x_1 x_2) + 20 (x_3-0.5)^2 + 10x_4 + 5x_5 + \\varepsilon\n",
      "$$\n",
      "where $\\varepsilon \\sim \\mathrm{N}(0,1)$ and $x_j \\sim \\mathrm{U}(0,1)$.  We include as features the spurrious $x_6 \\dots x_{p}$, matching Friedman with MARS.  \n"
     ]
    },
    {
     "cell_type": "markdown",
     "metadata": {},
     "source": [
      "BART sims used n=100, with p=10,100, and 1000.  They use 3000 MCMC iterations after a burn-in of 1000.  For their OOS experiment, they looked at 100 datasets with n=100 each.  To evaluate each, they drew 1000 new x and calculate \n",
      "\n",
      "$$\n",
      "RMSE = \\sqrt{(1/1000)\\sum_{i}(\\hat f (x_i) - f(x_i))^2}\n",
      "$$\n",
      "\n",
      "Note that this is RMSE on function, not function plus noise."
     ]
    },
    {
     "cell_type": "code",
     "collapsed": false,
     "input": [
      "def fried(x, noisy=True):\n",
      "    f = 10*np.sin(np.pi*x[:,0]*x[:,1]) + 20*(x[:,2]-0.5)**2 + 10*x[:,3]+5*x[:,4]\n",
      "    if noisy: \n",
      "        f += rn.normal(size=n)\n",
      "    return f\n"
     ],
     "language": "python",
     "metadata": {},
     "outputs": [],
     "prompt_number": 8
    },
    {
     "cell_type": "code",
     "collapsed": false,
     "input": [
      "n = 100\n",
      "p = 10\n",
      "X = rn.uniform(0,1,n*p).reshape(n,p)\n",
      "y = fried(X)\n",
      "f = fried(X,noisy=False)"
     ],
     "language": "python",
     "metadata": {},
     "outputs": [],
     "prompt_number": 9
    },
    {
     "cell_type": "code",
     "collapsed": false,
     "input": [
      "msl = 3"
     ],
     "language": "python",
     "metadata": {},
     "outputs": [],
     "prompt_number": 10
    },
    {
     "cell_type": "code",
     "collapsed": false,
     "input": [
      "#DT\n",
      "dt = tree.DecisionTreeRegressor(min_samples_leaf=msl)\n",
      "dt.fit(X,y)\n",
      "dtp = dt.predict(X)"
     ],
     "language": "python",
     "metadata": {},
     "outputs": [],
     "prompt_number": 11
    },
    {
     "cell_type": "code",
     "collapsed": false,
     "input": [
      "#RF\n",
      "rf = ensemble.RandomForestRegressor(100,min_samples_leaf=msl)\n",
      "rf.fit(X,y)\n",
      "rfp = rf.predict(X)"
     ],
     "language": "python",
     "metadata": {},
     "outputs": [],
     "prompt_number": 12
    },
    {
     "cell_type": "code",
     "collapsed": false,
     "input": [
      "#ET\n",
      "et = ensemble.ExtraTreesRegressor(100,min_samples_leaf=msl)\n",
      "et.fit(X,y)\n",
      "etp = et.predict(X)"
     ],
     "language": "python",
     "metadata": {},
     "outputs": [],
     "prompt_number": 13
    },
    {
     "cell_type": "code",
     "collapsed": false,
     "input": [
      "#BF\n",
      "bf = ensemble.RandomForestRegressor(100,min_samples_leaf=msl,bootstrap=2)\n",
      "bf.fit(X,y)\n",
      "bfp = bf.predict(X)"
     ],
     "language": "python",
     "metadata": {},
     "outputs": [],
     "prompt_number": 14
    },
    {
     "cell_type": "code",
     "collapsed": false,
     "input": [
      "plt.scatter(f, dtp, c=\"dodgerblue\", label=\"DT\",s=20,edgecolors='none')\n",
      "plt.scatter(f, rfp, c=\"orange\", label=\"RF\",s=20,edgecolors='none')\n",
      "plt.scatter(f, etp, c=\"fuchsia\", label=\"ET\",s=20,edgecolors='none')\n",
      "plt.scatter(f, bfp, c=\"green\", label=\"BF\",s=20,edgecolors='none')\n",
      "plt.xlabel(\"response\")\n",
      "plt.ylabel(\"prediction\")\n",
      "plt.legend(frameon=False,loc=4)\n",
      "plt.xlim(4,26)\n",
      "plt.ylim(4,26)\n"
     ],
     "language": "python",
     "metadata": {},
     "outputs": [
      {
       "metadata": {},
       "output_type": "pyout",
       "prompt_number": 15,
       "text": [
        "(4, 26)"
       ]
      },
      {
       "metadata": {},
       "output_type": "display_data",
       "png": "[encoded data removed]",
       "text": [
        "<matplotlib.figure.Figure at 0x7f28d2660fd0>"
       ]
      }
     ],
     "prompt_number": 15
    },
    {
     "cell_type": "code",
     "collapsed": false,
     "input": [
      "def rmse(f,fhat):\n",
      "    return np.sqrt(np.mean( (f-fhat)**2 ))\n",
      "\n",
      "ne = 10\n",
      "n = 100\n",
      "p = 10\n",
      "B = 100\n",
      "msl = 1\n",
      "RMSE = {key: [] for key in ['DT','RF','ET','BF']}\n",
      "for b in range(B):\n",
      "    ### data\n",
      "    Xtrain = rn.uniform(0,1,n*p).reshape(n,p)\n",
      "    Xtest = rn.uniform(0,1,1000*p).reshape(1000,p)\n",
      "    y = fried(Xtrain)\n",
      "    f = fried(Xtest,noisy=False)\n",
      "    \n",
      "    #DT\n",
      "    dt = tree.DecisionTreeRegressor(min_samples_leaf=msl)\n",
      "    dt.fit(Xtrain,y)\n",
      "    dtp = dt.predict(Xtest)\n",
      "    RMSE['DT'] += [rmse(f,dtp)]\n",
      "    \n",
      "    #RF\n",
      "    rf = ensemble.RandomForestRegressor(n_estimators=ne,min_samples_leaf=msl)\n",
      "    rf.fit(Xtrain,y)\n",
      "    rfp = rf.predict(Xtest)\n",
      "    RMSE['RF'] += [rmse(f,rfp)]\n",
      "\n",
      "    #ET\n",
      "    et = ensemble.ExtraTreesRegressor(n_estimators=ne,min_samples_leaf=msl)\n",
      "    et.fit(Xtrain,y)\n",
      "    etp = et.predict(Xtest)\n",
      "    RMSE['ET'] += [rmse(f,etp)]\n",
      "\n",
      "    #BF\n",
      "    bf = ensemble.ExtraTreesRegressor(n_estimators=ne,bootstrap=2,min_samples_leaf=msl)\n",
      "    bf.fit(Xtrain,y)\n",
      "    bfp = bf.predict(Xtest)\n",
      "    RMSE['BF'] += [rmse(f,bfp)]\n",
      "\n",
      "    print(b,end=\" \")\n",
      "\n",
      "RMSE = pd.DataFrame(RMSE)\n",
      "RMSE.boxplot(return_type='axes')\n",
      "\n",
      "print()\n",
      "from operator import itemgetter\n",
      "mrmse = [ (mod,np.mean(RMSE[mod])) for mod in RMSE]\n",
      "sorted(mrmse, key=lambda x: x[1])    "
     ],
     "language": "python",
     "metadata": {},
     "outputs": [
      {
       "output_type": "stream",
       "stream": "stdout",
       "text": [
        "0 1 2"
       ]
      },
      {
       "output_type": "stream",
       "stream": "stdout",
       "text": [
        " 3 4"
       ]
      },
      {
       "output_type": "stream",
       "stream": "stdout",
       "text": [
        " 5 6"
       ]
      },
      {
       "output_type": "stream",
       "stream": "stdout",
       "text": [
        " 7 8"
       ]
      },
      {
       "output_type": "stream",
       "stream": "stdout",
       "text": [
        " 9 10"
       ]
      },
      {
       "output_type": "stream",
       "stream": "stdout",
       "text": [
        " 11 12"
       ]
      },
      {
       "output_type": "stream",
       "stream": "stdout",
       "text": [
        " 13 14"
       ]
      },
      {
       "output_type": "stream",
       "stream": "stdout",
       "text": [
        " 15 16"
       ]
      },
      {
       "output_type": "stream",
       "stream": "stdout",
       "text": [
        " 17 18"
       ]
      },
      {
       "output_type": "stream",
       "stream": "stdout",
       "text": [
        " 19 20"
       ]
      },
      {
       "output_type": "stream",
       "stream": "stdout",
       "text": [
        " 21 22"
       ]
      },
      {
       "output_type": "stream",
       "stream": "stdout",
       "text": [
        " 23 24"
       ]
      },
      {
       "output_type": "stream",
       "stream": "stdout",
       "text": [
        " 25 26"
       ]
      },
      {
       "output_type": "stream",
       "stream": "stdout",
       "text": [
        " 27 28"
       ]
      },
      {
       "output_type": "stream",
       "stream": "stdout",
       "text": [
        " 29 30"
       ]
      },
      {
       "output_type": "stream",
       "stream": "stdout",
       "text": [
        " 31 32"
       ]
      },
      {
       "output_type": "stream",
       "stream": "stdout",
       "text": [
        " 33 34"
       ]
      },
      {
       "output_type": "stream",
       "stream": "stdout",
       "text": [
        " 35 36"
       ]
      },
      {
       "output_type": "stream",
       "stream": "stdout",
       "text": [
        " 37 38"
       ]
      },
      {
       "output_type": "stream",
       "stream": "stdout",
       "text": [
        " 39 40"
       ]
      },
      {
       "output_type": "stream",
       "stream": "stdout",
       "text": [
        " 41 42"
       ]
      },
      {
       "output_type": "stream",
       "stream": "stdout",
       "text": [
        " 43 44"
       ]
      },
      {
       "output_type": "stream",
       "stream": "stdout",
       "text": [
        " 45 46"
       ]
      },
      {
       "output_type": "stream",
       "stream": "stdout",
       "text": [
        " 47 48"
       ]
      },
      {
       "output_type": "stream",
       "stream": "stdout",
       "text": [
        " 49 50"
       ]
      },
      {
       "output_type": "stream",
       "stream": "stdout",
       "text": [
        " 51 52"
       ]
      },
      {
       "output_type": "stream",
       "stream": "stdout",
       "text": [
        " 53 54"
       ]
      },
      {
       "output_type": "stream",
       "stream": "stdout",
       "text": [
        " 55 56"
       ]
      },
      {
       "output_type": "stream",
       "stream": "stdout",
       "text": [
        " 57 58"
       ]
      },
      {
       "output_type": "stream",
       "stream": "stdout",
       "text": [
        " 59 60"
       ]
      },
      {
       "output_type": "stream",
       "stream": "stdout",
       "text": [
        " 61 62"
       ]
      },
      {
       "output_type": "stream",
       "stream": "stdout",
       "text": [
        " 63 64"
       ]
      },
      {
       "output_type": "stream",
       "stream": "stdout",
       "text": [
        " 65 66"
       ]
      },
      {
       "output_type": "stream",
       "stream": "stdout",
       "text": [
        " 67 68"
       ]
      },
      {
       "output_type": "stream",
       "stream": "stdout",
       "text": [
        " 69 70"
       ]
      },
      {
       "output_type": "stream",
       "stream": "stdout",
       "text": [
        " 71 72"
       ]
      },
      {
       "output_type": "stream",
       "stream": "stdout",
       "text": [
        " 73 74"
       ]
      },
      {
       "output_type": "stream",
       "stream": "stdout",
       "text": [
        " 75 76"
       ]
      },
      {
       "output_type": "stream",
       "stream": "stdout",
       "text": [
        " 77 78"
       ]
      },
      {
       "output_type": "stream",
       "stream": "stdout",
       "text": [
        " 79 80"
       ]
      },
      {
       "output_type": "stream",
       "stream": "stdout",
       "text": [
        " 81 82"
       ]
      },
      {
       "output_type": "stream",
       "stream": "stdout",
       "text": [
        " 83 84"
       ]
      },
      {
       "output_type": "stream",
       "stream": "stdout",
       "text": [
        " 85 86"
       ]
      },
      {
       "output_type": "stream",
       "stream": "stdout",
       "text": [
        " 87 88"
       ]
      },
      {
       "output_type": "stream",
       "stream": "stdout",
       "text": [
        " 89 90"
       ]
      },
      {
       "output_type": "stream",
       "stream": "stdout",
       "text": [
        " 91 92"
       ]
      },
      {
       "output_type": "stream",
       "stream": "stdout",
       "text": [
        " 93 94"
       ]
      },
      {
       "output_type": "stream",
       "stream": "stdout",
       "text": [
        " 95 96"
       ]
      },
      {
       "output_type": "stream",
       "stream": "stdout",
       "text": [
        " 97 98"
       ]
      },
      {
       "output_type": "stream",
       "stream": "stdout",
       "text": [
        " 99 \n"
       ]
      },
      {
       "metadata": {},
       "output_type": "pyout",
       "prompt_number": 18,
       "text": [
        "[('ET', 2.6817743107677052),\n",
        " ('BF', 2.78733136937635),\n",
        " ('RF', 2.8594554424380756),\n",
        " ('DT', 3.9063159501932319)]"
       ]
      },
      {
       "metadata": {},
       "output_type": "display_data",
       "png": "[encoded data removed]",
       "text": [
        "<matplotlib.figure.Figure at 0x7f28d260eeb8>"
       ]
      }
     ],
     "prompt_number": 18
    },
    {
     "cell_type": "code",
     "collapsed": false,
     "input": [
      "cah = pd.read_csv('data/CAhousing.csv')"
     ],
     "language": "python",
     "metadata": {},
     "outputs": [],
     "prompt_number": 19
    },
    {
     "cell_type": "code",
     "collapsed": false,
     "input": [
      "list(cah)"
     ],
     "language": "python",
     "metadata": {},
     "outputs": [
      {
       "metadata": {},
       "output_type": "pyout",
       "prompt_number": 20,
       "text": [
        "['longitude',\n",
        " 'latitude',\n",
        " 'housingMedianAge',\n",
        " 'totalRooms',\n",
        " 'totalBedrooms',\n",
        " 'population',\n",
        " 'households',\n",
        " 'medianIncome',\n",
        " 'medianHouseValue']"
       ]
      }
     ],
     "prompt_number": 20
    },
    {
     "cell_type": "code",
     "collapsed": false,
     "input": [
      "Xh = cah.drop(\"medianHouseValue\",axis=1)\n",
      "yh = cah[\"medianHouseValue\"]"
     ],
     "language": "python",
     "metadata": {},
     "outputs": [],
     "prompt_number": 21
    },
    {
     "cell_type": "code",
     "collapsed": false,
     "input": [
      "len(yh)*1e-4"
     ],
     "language": "python",
     "metadata": {},
     "outputs": [
      {
       "metadata": {},
       "output_type": "pyout",
       "prompt_number": 27,
       "text": [
        "2.064"
       ]
      }
     ],
     "prompt_number": 27
    },
    {
     "cell_type": "code",
     "collapsed": false,
     "input": [
      "ne = 10\n",
      "msl = 1\n",
      "RMSE = {key: [] for key in ['DT','RF','ET','BFg','BFr']}\n",
      "\n",
      "from sklearn.cross_validation import KFold\n",
      "kf = KFold(len(yh), n_folds=10)\n",
      "\n",
      "for train, test in kf:\n",
      "    print(\"%s %s\" % (train, test))\n",
      "    \n",
      "    ### data\n",
      "    Xtrain = Xh.iloc[train].values\n",
      "    Xtest = Xh.iloc[test].values\n",
      "    y = yh[train]\n",
      "    f = yh[test]\n",
      "    \n",
      "    #DT\n",
      "    dt = tree.DecisionTreeRegressor(min_samples_leaf=msl)\n",
      "    %time dt.fit(Xtrain,y)\n",
      "    dtp = dt.predict(Xtest)\n",
      "    RMSE['DT'] += [rmse(f,dtp)]\n",
      "    \n",
      "    #RF\n",
      "    rf = ensemble.RandomForestRegressor(n_estimators=ne,min_samples_leaf=msl)\n",
      "    %time rf.fit(Xtrain,y)\n",
      "    rfp = rf.predict(Xtest)\n",
      "    RMSE['RF'] += [rmse(f,rfp)]\n",
      "\n",
      "    #ET\n",
      "    et = ensemble.ExtraTreesRegressor(n_estimators=ne,min_samples_leaf=msl)\n",
      "    %time et.fit(Xtrain,y)\n",
      "    etp = et.predict(Xtest)\n",
      "    RMSE['ET'] += [rmse(f,etp)]\n",
      "\n",
      "    #BFg\n",
      "    bfg = ensemble.RandomForestRegressor(n_estimators=ne,bootstrap=2,min_weight_fraction_leaf=1e-4)\n",
      "    %time bfg.fit(Xtrain,y)\n",
      "    bfgp = bfg.predict(Xtest)\n",
      "    RMSE['BFg'] += [rmse(f,bfgp)]\n",
      "\n",
      "    #BFr\n",
      "    bfr = ensemble.ExtraTreesRegressor(n_estimators=ne,bootstrap=2,min_weight_fraction_leaf=1e-4)\n",
      "    %time bfr.fit(Xtrain,y)\n",
      "    bfrp = bfr.predict(Xtest)\n",
      "    RMSE['BFr'] += [rmse(f,bfrp)]\n",
      "\n",
      "RMSE = pd.DataFrame(RMSE)\n",
      "RMSE.boxplot(return_type='axes')\n",
      "\n",
      "print()\n",
      "from operator import itemgetter\n",
      "mrmse = [ (mod,np.mean(RMSE[mod])) for mod in RMSE]\n",
      "sorted(mrmse, key=lambda x: x[1])    \n"
     ],
     "language": "python",
     "metadata": {},
     "outputs": [
      {
       "output_type": "stream",
       "stream": "stdout",
       "text": [
        "[ 2064  2065  2066 ..., 20637 20638 20639] [   0    1    2 ..., 2061 2062 2063]\n",
        "CPU times: user 183 ms, sys: 0 ns, total: 183 ms"
       ]
      },
      {
       "output_type": "stream",
       "stream": "stdout",
       "text": [
        "\n",
        "Wall time: 183 ms\n",
        "CPU times: user 1.13 s, sys: 4.01 ms, total: 1.13 s"
       ]
      },
      {
       "output_type": "stream",
       "stream": "stdout",
       "text": [
        "\n",
        "Wall time: 1.13 s\n",
        "CPU times: user 410 ms, sys: 3.98 ms, total: 414 ms"
       ]
      },
      {
       "output_type": "stream",
       "stream": "stdout",
       "text": [
        "\n",
        "Wall time: 413 ms\n",
        "CPU times: user 1.63 s, sys: 0 ns, total: 1.63 s"
       ]
      },
      {
       "output_type": "stream",
       "stream": "stdout",
       "text": [
        "\n",
        "Wall time: 1.63 s\n",
        "CPU times: user 347 ms, sys: 4 ms, total: 351 ms"
       ]
      },
      {
       "output_type": "stream",
       "stream": "stdout",
       "text": [
        "\n",
        "Wall time: 351 ms\n",
        "[    0     1     2 ..., 20637 20638 20639] [2064 2065 2066 ..., 4125 4126 4127]\n",
        "CPU times: user 176 ms, sys: 0 ns, total: 176 ms"
       ]
      },
      {
       "output_type": "stream",
       "stream": "stdout",
       "text": [
        "\n",
        "Wall time: 175 ms\n",
        "CPU times: user 1.1 s, sys: 0 ns, total: 1.1 s"
       ]
      },
      {
       "output_type": "stream",
       "stream": "stdout",
       "text": [
        "\n",
        "Wall time: 1.1 s\n",
        "CPU times: user 417 ms, sys: 0 ns, total: 417 ms"
       ]
      },
      {
       "output_type": "stream",
       "stream": "stdout",
       "text": [
        "\n",
        "Wall time: 416 ms\n",
        "CPU times: user 1.62 s, sys: 0 ns, total: 1.62 s"
       ]
      },
      {
       "output_type": "stream",
       "stream": "stdout",
       "text": [
        "\n",
        "Wall time: 1.62 s\n",
        "CPU times: user 342 ms, sys: 0 ns, total: 342 ms"
       ]
      },
      {
       "output_type": "stream",
       "stream": "stdout",
       "text": [
        "\n",
        "Wall time: 342 ms\n",
        "[    0     1     2 ..., 20637 20638 20639] [4128 4129 4130 ..., 6189 6190 6191]\n",
        "CPU times: user 176 ms, sys: 0 ns, total: 176 ms"
       ]
      },
      {
       "output_type": "stream",
       "stream": "stdout",
       "text": [
        "\n",
        "Wall time: 176 ms\n",
        "CPU times: user 1.1 s, sys: 0 ns, total: 1.1 s"
       ]
      },
      {
       "output_type": "stream",
       "stream": "stdout",
       "text": [
        "\n",
        "Wall time: 1.1 s\n",
        "CPU times: user 419 ms, sys: 0 ns, total: 419 ms"
       ]
      },
      {
       "output_type": "stream",
       "stream": "stdout",
       "text": [
        "\n",
        "Wall time: 418 ms\n",
        "CPU times: user 1.66 s, sys: 0 ns, total: 1.66 s"
       ]
      },
      {
       "output_type": "stream",
       "stream": "stdout",
       "text": [
        "\n",
        "Wall time: 1.66 s\n",
        "CPU times: user 347 ms, sys: 0 ns, total: 347 ms"
       ]
      },
      {
       "output_type": "stream",
       "stream": "stdout",
       "text": [
        "\n",
        "Wall time: 347 ms\n",
        "[    0     1     2 ..., 20637 20638 20639] [6192 6193 6194 ..., 8253 8254 8255]\n",
        "CPU times: user 173 ms, sys: 0 ns, total: 173 ms"
       ]
      },
      {
       "output_type": "stream",
       "stream": "stdout",
       "text": [
        "\n",
        "Wall time: 173 ms\n",
        "CPU times: user 1.08 s, sys: 0 ns, total: 1.08 s"
       ]
      },
      {
       "output_type": "stream",
       "stream": "stdout",
       "text": [
        "\n",
        "Wall time: 1.08 s\n",
        "CPU times: user 419 ms, sys: 11 \u00b5s, total: 419 ms"
       ]
      },
      {
       "output_type": "stream",
       "stream": "stdout",
       "text": [
        "\n",
        "Wall time: 418 ms\n",
        "CPU times: user 1.62 s, sys: 0 ns, total: 1.62 s"
       ]
      },
      {
       "output_type": "stream",
       "stream": "stdout",
       "text": [
        "\n",
        "Wall time: 1.61 s\n",
        "CPU times: user 359 ms, sys: 0 ns, total: 359 ms"
       ]
      },
      {
       "output_type": "stream",
       "stream": "stdout",
       "text": [
        "\n",
        "Wall time: 358 ms\n",
        "[    0     1     2 ..., 20637 20638 20639] [ 8256  8257  8258 ..., 10317 10318 10319]\n",
        "CPU times: user 179 ms, sys: 0 ns, total: 179 ms"
       ]
      },
      {
       "output_type": "stream",
       "stream": "stdout",
       "text": [
        "\n",
        "Wall time: 179 ms\n",
        "CPU times: user 1.12 s, sys: 14 \u00b5s, total: 1.12 s"
       ]
      },
      {
       "output_type": "stream",
       "stream": "stdout",
       "text": [
        "\n",
        "Wall time: 1.12 s\n",
        "CPU times: user 419 ms, sys: 3.99 ms, total: 423 ms"
       ]
      },
      {
       "output_type": "stream",
       "stream": "stdout",
       "text": [
        "\n",
        "Wall time: 423 ms\n",
        "CPU times: user 1.66 s, sys: 0 ns, total: 1.66 s"
       ]
      },
      {
       "output_type": "stream",
       "stream": "stdout",
       "text": [
        "\n",
        "Wall time: 1.66 s\n",
        "CPU times: user 345 ms, sys: 0 ns, total: 345 ms"
       ]
      },
      {
       "output_type": "stream",
       "stream": "stdout",
       "text": [
        "\n",
        "Wall time: 345 ms\n",
        "[    0     1     2 ..., 20637 20638 20639] [10320 10321 10322 ..., 12381 12382 12383]\n",
        "CPU times: user 178 ms, sys: 0 ns, total: 178 ms"
       ]
      },
      {
       "output_type": "stream",
       "stream": "stdout",
       "text": [
        "\n",
        "Wall time: 178 ms\n",
        "CPU times: user 1.08 s, sys: 0 ns, total: 1.08 s"
       ]
      },
      {
       "output_type": "stream",
       "stream": "stdout",
       "text": [
        "\n",
        "Wall time: 1.08 s\n",
        "CPU times: user 411 ms, sys: 0 ns, total: 411 ms"
       ]
      },
      {
       "output_type": "stream",
       "stream": "stdout",
       "text": [
        "\n",
        "Wall time: 410 ms\n",
        "CPU times: user 1.63 s, sys: 0 ns, total: 1.63 s"
       ]
      },
      {
       "output_type": "stream",
       "stream": "stdout",
       "text": [
        "\n",
        "Wall time: 1.63 s\n",
        "CPU times: user 352 ms, sys: 0 ns, total: 352 ms"
       ]
      },
      {
       "output_type": "stream",
       "stream": "stdout",
       "text": [
        "\n",
        "Wall time: 352 ms\n",
        "[    0     1     2 ..., 20637 20638 20639] [12384 12385 12386 ..., 14445 14446 14447]\n",
        "CPU times: user 182 ms, sys: 0 ns, total: 182 ms"
       ]
      },
      {
       "output_type": "stream",
       "stream": "stdout",
       "text": [
        "\n",
        "Wall time: 182 ms\n",
        "CPU times: user 1.12 s, sys: 0 ns, total: 1.12 s"
       ]
      },
      {
       "output_type": "stream",
       "stream": "stdout",
       "text": [
        "\n",
        "Wall time: 1.11 s\n",
        "CPU times: user 413 ms, sys: 8 ms, total: 421 ms"
       ]
      },
      {
       "output_type": "stream",
       "stream": "stdout",
       "text": [
        "\n",
        "Wall time: 420 ms\n",
        "CPU times: user 1.65 s, sys: 0 ns, total: 1.65 s"
       ]
      },
      {
       "output_type": "stream",
       "stream": "stdout",
       "text": [
        "\n",
        "Wall time: 1.65 s\n",
        "CPU times: user 348 ms, sys: 0 ns, total: 348 ms"
       ]
      },
      {
       "output_type": "stream",
       "stream": "stdout",
       "text": [
        "\n",
        "Wall time: 347 ms\n",
        "[    0     1     2 ..., 20637 20638 20639] [14448 14449 14450 ..., 16509 16510 16511]\n",
        "CPU times: user 176 ms, sys: 0 ns, total: 176 ms"
       ]
      },
      {
       "output_type": "stream",
       "stream": "stdout",
       "text": [
        "\n",
        "Wall time: 176 ms\n",
        "CPU times: user 1.08 s, sys: 0 ns, total: 1.08 s"
       ]
      },
      {
       "output_type": "stream",
       "stream": "stdout",
       "text": [
        "\n",
        "Wall time: 1.08 s\n",
        "CPU times: user 417 ms, sys: 4 ms, total: 421 ms"
       ]
      },
      {
       "output_type": "stream",
       "stream": "stdout",
       "text": [
        "\n",
        "Wall time: 421 ms\n",
        "CPU times: user 1.62 s, sys: 0 ns, total: 1.62 s"
       ]
      },
      {
       "output_type": "stream",
       "stream": "stdout",
       "text": [
        "\n",
        "Wall time: 1.62 s\n",
        "CPU times: user 356 ms, sys: 0 ns, total: 356 ms"
       ]
      },
      {
       "output_type": "stream",
       "stream": "stdout",
       "text": [
        "\n",
        "Wall time: 355 ms\n",
        "[    0     1     2 ..., 20637 20638 20639] [16512 16513 16514 ..., 18573 18574 18575]\n",
        "CPU times: user 176 ms, sys: 0 ns, total: 176 ms"
       ]
      },
      {
       "output_type": "stream",
       "stream": "stdout",
       "text": [
        "\n",
        "Wall time: 176 ms\n",
        "CPU times: user 1.08 s, sys: 0 ns, total: 1.08 s"
       ]
      },
      {
       "output_type": "stream",
       "stream": "stdout",
       "text": [
        "\n",
        "Wall time: 1.08 s\n",
        "CPU times: user 417 ms, sys: 0 ns, total: 417 ms"
       ]
      },
      {
       "output_type": "stream",
       "stream": "stdout",
       "text": [
        "\n",
        "Wall time: 416 ms\n",
        "CPU times: user 1.6 s, sys: 0 ns, total: 1.6 s"
       ]
      },
      {
       "output_type": "stream",
       "stream": "stdout",
       "text": [
        "\n",
        "Wall time: 1.6 s\n",
        "CPU times: user 340 ms, sys: 0 ns, total: 340 ms"
       ]
      },
      {
       "output_type": "stream",
       "stream": "stdout",
       "text": [
        "\n",
        "Wall time: 340 ms\n",
        "[    0     1     2 ..., 18573 18574 18575] [18576 18577 18578 ..., 20637 20638 20639]\n",
        "CPU times: user 175 ms, sys: 0 ns, total: 175 ms"
       ]
      },
      {
       "output_type": "stream",
       "stream": "stdout",
       "text": [
        "\n",
        "Wall time: 175 ms\n",
        "CPU times: user 1.09 s, sys: 0 ns, total: 1.09 s"
       ]
      },
      {
       "output_type": "stream",
       "stream": "stdout",
       "text": [
        "\n",
        "Wall time: 1.08 s\n",
        "CPU times: user 434 ms, sys: 0 ns, total: 434 ms"
       ]
      },
      {
       "output_type": "stream",
       "stream": "stdout",
       "text": [
        "\n",
        "Wall time: 433 ms\n",
        "CPU times: user 1.61 s, sys: 0 ns, total: 1.61 s"
       ]
      },
      {
       "output_type": "stream",
       "stream": "stdout",
       "text": [
        "\n",
        "Wall time: 1.61 s\n",
        "CPU times: user 340 ms, sys: 0 ns, total: 340 ms"
       ]
      },
      {
       "output_type": "stream",
       "stream": "stdout",
       "text": [
        "\n",
        "Wall time: 340 ms\n",
        "\n"
       ]
      },
      {
       "metadata": {},
       "output_type": "pyout",
       "prompt_number": 28,
       "text": [
        "[('BFr', 66995.990910599401),\n",
        " ('ET', 67466.936591819671),\n",
        " ('BFg', 70720.94887411574),\n",
        " ('RF', 70733.202467428855),\n",
        " ('DT', 93087.532726292033)]"
       ]
      },
      {
       "metadata": {},
       "output_type": "display_data",
       "png": "[encoded data removed]",
       "text": [
        "<matplotlib.figure.Figure at 0x7f28d23c14a8>"
       ]
      }
     ],
     "prompt_number": 28
    },
    {
     "cell_type": "markdown",
     "metadata": {},
     "source": [
      "* Extra trees do very well for `msl=1`.  At higher groupings, the greedier random forests and bayesian forests do better.\n",
      "* The Bayes forest idea is quite general: you could have any good in-sample partitioning algorithm as the target.  For example, we could run a couple steps of stochastic search to improve the trees.  \n",
      "* The relevant splitter code, in which we could add methods to improve the individual trees, is in `_tree.pyx`. Looking in here, e.g., we found the undocumented option `min_weight_fraction_leaf`, the minimum weighted fraction of data in a leaf, as the more reasonable way of limiting leaf size in the Bayesian bootstrap.\n",
      "* see y below; it is not too strange, and could easily be modelled as a mixture of normals.  What if we move to web data?"
     ]
    },
    {
     "cell_type": "code",
     "collapsed": false,
     "input": [
      "plt.hist(yh,color=\"lavender\")"
     ],
     "language": "python",
     "metadata": {},
     "outputs": [
      {
       "metadata": {},
       "output_type": "pyout",
       "prompt_number": 29,
       "text": [
        "(array([  877.,  3612.,  4099.,  3771.,  2799.,  1769.,  1239.,   752.,\n",
        "          479.,  1243.]),\n",
        " array([  14999. ,   63499.2,  111999.4,  160499.6,  208999.8,  257500. ,\n",
        "         306000.2,  354500.4,  403000.6,  451500.8,  500001. ]),\n",
        " <a list of 10 Patch objects>)"
       ]
      },
      {
       "metadata": {},
       "output_type": "display_data",
       "png": "[encoded data removed]",
       "text": [
        "<matplotlib.figure.Figure at 0x7f28d260ab00>"
       ]
      }
     ],
     "prompt_number": 29
    },
    {
     "cell_type": "code",
     "collapsed": false,
     "input": [
      "## E5422 example\n",
      "varnames = pd.read_table('data/E5422/varnames.txt', header=None)\n",
      "varnames = varnames.squeeze().tolist()\n",
      "\n",
      "# with open('data/E5422/varnames.txt','r') as fin:\n",
      "#     varnames=fin.read().splitlines()\n",
      "for v in varnames:\n",
      "    print(v, end=\"  \")"
     ],
     "language": "python",
     "metadata": {},
     "outputs": [
      {
       "output_type": "stream",
       "stream": "stdout",
       "text": [
        "y  d  a2c_cnt  a2l_cnt  asq_cnt  asqfa_cnt  BACO_cnt  BCO__cnt  bi_auct  bi_bin  bi_BnI  bi_Collectibles  bid_cnt  bids_total  bids_total_BnI  bids_total_Collectibles  bids_total_Electronics  bids_total_Fashion  bids_total_HnG  bids_total_Lifestyle  bids_total_Media  bids_total_Other  bids_total_Unknown  bi_Electronics  bi_Fashion  bi_HnG  bi_Lifestyle  bi_Media  bin_cnt  bi_Other  bi_total  bi_Unknown  BO_cnt  cart_views  gmb_auct  gmb_bin  gmb_BnI  gmb_Collectibles  gmb_Electronics  gmb_Fashion  gmb_HnG  gmb_Lifestyle  gmb_Media  gmb_Other  gmb_total  gmb_Unknown  gmv_auct  gmv_bin  gmv_BnI  gmv_Collectibles  gmv_Electronics  gmv_Fashion  gmv_HnG  gmv_Lifestyle  gmv_Media  gmv_Other  gmv_total  gmv_Unknown  myebay_page_views  myebay_sess_count  purch_lastmonth  purch_lastquarter  purch_lastyear  si_auct  si_bin  si_BnI  si_Collectibles  si_Electronics  si_Fashion  si_HnG  si_Lifestyle  si_Media  si_Other  si_total  si_Unknown  SRP_page_views  SRP_sess_count  SYI_page_views  view_syi_BnI  view_syi_Collectibles  view_syi_Electronics  view_syi_Fashion  view_syi_HnG  view_syi_Lifestyle  view_syi_Media  view_syi_Other  view_syi_total  view_syi_Unknown  VI_page_views  VI_sess_count  watch_cnt  xo_page_views  gpi_total  "
       ]
      }
     ],
     "prompt_number": 30
    },
    {
     "cell_type": "code",
     "collapsed": false,
     "input": [
      "ydx = pd.read_table('data/E5422/ydx.txt', header=None, sep=\" \")"
     ],
     "language": "python",
     "metadata": {},
     "outputs": [],
     "prompt_number": 31
    },
    {
     "cell_type": "code",
     "collapsed": false,
     "input": [
      "row = ydx.ix[:,0].values.astype(int)-1\n",
      "col = ydx.ix[:,1].values.astype(int)-1\n",
      "v = ydx.ix[:,2].values.squeeze()"
     ],
     "language": "python",
     "metadata": {},
     "outputs": [],
     "prompt_number": 32
    },
    {
     "cell_type": "code",
     "collapsed": false,
     "input": [
      "ydxmat = sp.sparse.csr_matrix((v,(row,col)))"
     ],
     "language": "python",
     "metadata": {},
     "outputs": [],
     "prompt_number": 33
    },
    {
     "cell_type": "code",
     "collapsed": false,
     "input": [
      "ye = ydxmat[:,0].toarray().squeeze()\n",
      "Xe = ydxmat[:,1:]"
     ],
     "language": "python",
     "metadata": {},
     "outputs": [],
     "prompt_number": 34
    },
    {
     "cell_type": "code",
     "collapsed": false,
     "input": [
      "ydxmat = ydx = None"
     ],
     "language": "python",
     "metadata": {},
     "outputs": [],
     "prompt_number": 37
    },
    {
     "cell_type": "code",
     "collapsed": false,
     "input": [
      "ne = 10\n",
      "msl = 1000\n",
      "RMSE = {key: [] for key in ['ET','BF']}\n",
      "kf = KFold(len(ye), n_folds=10)"
     ],
     "language": "python",
     "metadata": {},
     "outputs": [],
     "prompt_number": 38
    },
    {
     "cell_type": "code",
     "collapsed": false,
     "input": [
      "for test,train in kf:\n",
      "    print(\"%s %s\" % (len(train), len(test)))\n",
      "    \n",
      "    ### data\n",
      "    Xtrain = Xe[train,:]\n",
      "    Xtest = Xe[test,:]\n",
      "    y = ye[train]\n",
      "    f = ye[test]\n",
      "    \n",
      "    #ET\n",
      "    et = ensemble.ExtraTreesRegressor(n_estimators=ne,min_samples_leaf=msl)\n",
      "    %time et.fit(Xtrain,y)\n",
      "    etp = et.predict(Xtest)\n",
      "    RMSE['ET'] += [rmse(f,etp)]\n",
      "\n",
      "    #BF\n",
      "    bf = ensemble.ExtraTreesRegressor(n_estimators=ne,bootstrap=2,min_samples_leaf=msl,min_weight_fraction_leaf=1e-4)\n",
      "    %time bf.fit(Xtrain,y)\n",
      "    bfp = bf.predict(Xtest)\n",
      "    RMSE['BF'] += [rmse(f,bfp)]\n"
     ],
     "language": "python",
     "metadata": {},
     "outputs": [
      {
       "output_type": "stream",
       "stream": "stdout",
       "text": [
        "1322444 11901990\n",
        "CPU times: user 3min 48s, sys: 36 ms, total: 3min 48s"
       ]
      },
      {
       "output_type": "stream",
       "stream": "stdout",
       "text": [
        "\n",
        "Wall time: 3min 48s\n",
        "CPU times: user 3min 39s, sys: 60 ms, total: 3min 39s"
       ]
      },
      {
       "output_type": "stream",
       "stream": "stdout",
       "text": [
        "\n",
        "Wall time: 3min 39s\n",
        "1322444 11901990"
       ]
      },
      {
       "output_type": "stream",
       "stream": "stdout",
       "text": [
        "\n",
        "CPU times: user 3min 35s, sys: 56.1 ms, total: 3min 35s"
       ]
      },
      {
       "output_type": "stream",
       "stream": "stdout",
       "text": [
        "\n",
        "Wall time: 3min 35s\n",
        "CPU times: user 3min 47s, sys: 60.1 ms, total: 3min 48s"
       ]
      },
      {
       "output_type": "stream",
       "stream": "stdout",
       "text": [
        "\n",
        "Wall time: 3min 47s\n",
        "1322444 11901990"
       ]
      },
      {
       "output_type": "stream",
       "stream": "stdout",
       "text": [
        "\n",
        "CPU times: user 3min 46s, sys: 36 ms, total: 3min 46s"
       ]
      },
      {
       "output_type": "stream",
       "stream": "stdout",
       "text": [
        "\n",
        "Wall time: 3min 46s\n",
        "CPU times: user 3min 45s, sys: 32 ms, total: 3min 45s"
       ]
      },
      {
       "output_type": "stream",
       "stream": "stdout",
       "text": [
        "\n",
        "Wall time: 3min 45s\n",
        "1322444 11901990"
       ]
      },
      {
       "output_type": "stream",
       "stream": "stdout",
       "text": [
        "\n",
        "CPU times: user 3min 19s, sys: 48 ms, total: 3min 19s"
       ]
      },
      {
       "output_type": "stream",
       "stream": "stdout",
       "text": [
        "\n",
        "Wall time: 3min 19s\n",
        "CPU times: user 2min 57s, sys: 40 ms, total: 2min 57s"
       ]
      },
      {
       "output_type": "stream",
       "stream": "stdout",
       "text": [
        "\n",
        "Wall time: 2min 57s\n",
        "1322443 11901991"
       ]
      },
      {
       "output_type": "stream",
       "stream": "stdout",
       "text": [
        "\n",
        "CPU times: user 3min 49s, sys: 40 ms, total: 3min 49s"
       ]
      },
      {
       "output_type": "stream",
       "stream": "stdout",
       "text": [
        "\n",
        "Wall time: 3min 49s\n",
        "CPU times: user 3min 40s, sys: 52.1 ms, total: 3min 40s"
       ]
      },
      {
       "output_type": "stream",
       "stream": "stdout",
       "text": [
        "\n",
        "Wall time: 3min 40s\n",
        "1322443 11901991"
       ]
      },
      {
       "output_type": "stream",
       "stream": "stdout",
       "text": [
        "\n",
        "CPU times: user 3min 20s, sys: 24 ms, total: 3min 20s"
       ]
      },
      {
       "output_type": "stream",
       "stream": "stdout",
       "text": [
        "\n",
        "Wall time: 3min 20s\n",
        "CPU times: user 3min 43s, sys: 44 ms, total: 3min 43s"
       ]
      },
      {
       "output_type": "stream",
       "stream": "stdout",
       "text": [
        "\n",
        "Wall time: 3min 42s\n",
        "1322443 11901991"
       ]
      },
      {
       "output_type": "stream",
       "stream": "stdout",
       "text": [
        "\n",
        "CPU times: user 3min 35s, sys: 48 ms, total: 3min 35s"
       ]
      },
      {
       "output_type": "stream",
       "stream": "stdout",
       "text": [
        "\n",
        "Wall time: 3min 35s\n",
        "CPU times: user 3min 47s, sys: 36 ms, total: 3min 47s"
       ]
      },
      {
       "output_type": "stream",
       "stream": "stdout",
       "text": [
        "\n",
        "Wall time: 3min 47s\n",
        "1322443 11901991"
       ]
      },
      {
       "output_type": "stream",
       "stream": "stdout",
       "text": [
        "\n",
        "CPU times: user 3min 18s, sys: 36 ms, total: 3min 18s"
       ]
      },
      {
       "output_type": "stream",
       "stream": "stdout",
       "text": [
        "\n",
        "Wall time: 3min 18s\n",
        "CPU times: user 3min 32s, sys: 32 ms, total: 3min 32s"
       ]
      },
      {
       "output_type": "stream",
       "stream": "stdout",
       "text": [
        "\n",
        "Wall time: 3min 32s\n",
        "1322443 11901991"
       ]
      },
      {
       "output_type": "stream",
       "stream": "stdout",
       "text": [
        "\n",
        "CPU times: user 3min 33s, sys: 44 ms, total: 3min 33s"
       ]
      },
      {
       "output_type": "stream",
       "stream": "stdout",
       "text": [
        "\n",
        "Wall time: 3min 33s\n",
        "CPU times: user 3min 20s, sys: 92.1 ms, total: 3min 20s"
       ]
      },
      {
       "output_type": "stream",
       "stream": "stdout",
       "text": [
        "\n",
        "Wall time: 3min 20s\n",
        "1322443 11901991"
       ]
      },
      {
       "output_type": "stream",
       "stream": "stdout",
       "text": [
        "\n",
        "CPU times: user 3min 39s, sys: 80 ms, total: 3min 39s"
       ]
      },
      {
       "output_type": "stream",
       "stream": "stdout",
       "text": [
        "\n",
        "Wall time: 3min 39s\n",
        "CPU times: user 3min 40s, sys: 28 ms, total: 3min 40s"
       ]
      },
      {
       "output_type": "stream",
       "stream": "stdout",
       "text": [
        "\n",
        "Wall time: 3min 40s\n"
       ]
      }
     ],
     "prompt_number": 52
    },
    {
     "cell_type": "code",
     "collapsed": false,
     "input": [
      "RMSE = pd.DataFrame(RMSE)\n",
      "RMSE.boxplot(return_type='axes')\n",
      "\n",
      "mrmse = [ (mod,np.mean(RMSE[mod])) for mod in RMSE]\n",
      "sorted(mrmse, key=lambda x: x[1])    \n"
     ],
     "language": "python",
     "metadata": {},
     "outputs": [
      {
       "metadata": {},
       "output_type": "pyout",
       "prompt_number": 53,
       "text": [
        "[('ET', 75505.571792861796), ('BF', 75508.190280521187)]"
       ]
      },
      {
       "metadata": {},
       "output_type": "display_data",
       "png": "[encoded data removed]",
       "text": [
        "<matplotlib.figure.Figure at 0x7f28d237a2b0>"
       ]
      }
     ],
     "prompt_number": 53
    },
    {
     "cell_type": "code",
     "collapsed": false,
     "input": [],
     "language": "python",
     "metadata": {},
     "outputs": []
    }
   ],
   "metadata": {}
  }
 ]
}