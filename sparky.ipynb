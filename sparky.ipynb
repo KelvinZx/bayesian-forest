{
 "cells": [
  {
   "cell_type": "code",
   "execution_count": 1,
   "metadata": {
    "collapsed": false
   },
   "outputs": [
    {
     "name": "stdout",
     "output_type": "stream",
     "text": [
      "Welcome to\n",
      "      ____              __\n",
      "     / __/__  ___ _____/ /__\n",
      "    _\\ \\/ _ \\/ _ `/ __/  '_/\n",
      "   /__ / .__/\\_,_/_/ /_/\\_\\   version 1.5.0-SNAPSHOT\n",
      "      /_/\n",
      "\n",
      "Using Python version 2.7.9 (default, Mar  9 2015 16:20:48)\n",
      "SparkContext available as sc, SQLContext available as sqlContext.\n"
     ]
    }
   ],
   "source": [
    "import os\n",
    "import sys\n",
    "\n",
    "spark_home = os.environ['SPARK_HOME']\n",
    "sys.path.insert(0, spark_home + \"/python/\")\n",
    "sys.path.insert(0, os.path.join(spark_home, 'python/lib/py4j-0.8.2.1-src.zip'))\n",
    "\n",
    "# Initialize PySpark to predefine the SparkContext variable 'sc'\n",
    "execfile(os.path.join(spark_home, 'python/pyspark/shell.py'))"
   ]
  },
  {
   "cell_type": "code",
   "execution_count": 2,
   "metadata": {
    "collapsed": false
   },
   "outputs": [],
   "source": [
    "import csv\n",
    "import StringIO\n",
    "from pyspark.mllib.regression import LabeledPoint\n",
    "from pyspark.mllib.tree import DecisionTree\n",
    "\n",
    "def loadRecord(line):\n",
    "    \"\"\"Parse a CSV line\"\"\"\n",
    "    input = StringIO.StringIO(line)\n",
    "    reader = csv.reader(input)\n",
    "    row = map(float, reader.next())\n",
    "    return LabeledPoint(row[-1],row[:-1]) \n"
   ]
  },
  {
   "cell_type": "code",
   "execution_count": 3,
   "metadata": {
    "collapsed": false
   },
   "outputs": [
    {
     "name": "stdout",
     "output_type": "stream",
     "text": [
      "0: longitude\n",
      "1: latitude\n",
      "2: housingMedianAge\n",
      "3: totalRooms\n",
      "4: totalBedrooms\n",
      "5: population\n",
      "6: households\n",
      "7: medianIncome\n",
      "8: medianHouseValue\n"
     ]
    }
   ],
   "source": [
    "chf = open('data/CAhousing.csv','r')\n",
    "header = chf.next().rstrip(\"\\n\").split(\",\")\n",
    "for i,j in enumerate(header):\n",
    "    print \"%d: %s\" % (i,j)"
   ]
  },
  {
   "cell_type": "code",
   "execution_count": 4,
   "metadata": {
    "collapsed": false
   },
   "outputs": [
    {
     "data": {
      "text/plain": [
       "LabeledPoint(452600.0, [-122.23,37.88,41.0,880.0,129.0,322.0,126.0,8.3252])"
      ]
     },
     "execution_count": 4,
     "metadata": {},
     "output_type": "execute_result"
    }
   ],
   "source": [
    "chrdd = sc.parallelize(chf).map(lambda line: loadRecord(line))\n",
    "chrdd.persist()\n",
    "chrdd.first()"
   ]
  },
  {
   "cell_type": "code",
   "execution_count": 5,
   "metadata": {
    "collapsed": false
   },
   "outputs": [],
   "source": [
    "(trainingData, testData) = chrdd.randomSplit([0.7, 0.3])"
   ]
  },
  {
   "cell_type": "code",
   "execution_count": 6,
   "metadata": {
    "collapsed": false
   },
   "outputs": [
    {
     "name": "stdout",
     "output_type": "stream",
     "text": [
      "Test Mean Squared Error = 7871958588.08\n",
      "Learned regression tree model:\n",
      "DecisionTreeModel regressor of depth 3 with 9 nodes\n",
      "  If (feature 7 <= 5.0203)\n",
      "   If (feature 7 <= 3.0704)\n",
      "    If (feature 1 <= 34.45)\n",
      "     Predict: 157230.19809160306\n",
      "    Else (feature 1 > 34.45)\n",
      "     Predict: 116681.98932004272\n",
      "   Else (feature 7 > 3.0704)\n",
      "    If (feature 2 <= 30.0)\n",
      "     Predict: 189679.62258064517\n",
      "    Else (feature 2 > 30.0)\n",
      "     Predict: 228940.83941344777\n",
      "  Else (feature 7 > 5.0203)\n",
      "   Predict: 328618.14514578664\n",
      "\n"
     ]
    }
   ],
   "source": [
    "# Train a DecisionTree model.\n",
    "#  Empty categoricalFeaturesInfo indicates all features are continuous.\n",
    "model = DecisionTree.trainRegressor(trainingData, categoricalFeaturesInfo={},\n",
    "                                    impurity='variance', minInstancesPerNode=2500)\n",
    "\n",
    "# Evaluate model on test instances and compute test error\n",
    "predictions = model.predict(testData.map(lambda x: x.features))\n",
    "labelsAndPredictions = testData.map(lambda lp: lp.label).zip(predictions)\n",
    "testMSE = labelsAndPredictions.map(lambda (v, p): (v - p) * (v - p)).sum() / float(testData.count())\n",
    "print('Test Mean Squared Error = ' + str(testMSE))\n",
    "print('Learned regression tree model:')\n",
    "print(model.toDebugString())"
   ]
  },
  {
   "cell_type": "markdown",
   "metadata": {
    "collapsed": true
   },
   "source": [
    "each tree will be slightly different because for continuous inputs spark splits on 32 quantiles of a random subsample of data."
   ]
  },
  {
   "cell_type": "code",
   "execution_count": 7,
   "metadata": {
    "collapsed": false
   },
   "outputs": [
    {
     "data": {
      "text/plain": [
       "['__class__',\n",
       " '__del__',\n",
       " '__delattr__',\n",
       " '__dict__',\n",
       " '__doc__',\n",
       " '__format__',\n",
       " '__getattribute__',\n",
       " '__hash__',\n",
       " '__init__',\n",
       " '__module__',\n",
       " '__new__',\n",
       " '__reduce__',\n",
       " '__reduce_ex__',\n",
       " '__repr__',\n",
       " '__setattr__',\n",
       " '__sizeof__',\n",
       " '__str__',\n",
       " '__subclasshook__',\n",
       " '__weakref__',\n",
       " '_java_loader_class',\n",
       " '_java_model',\n",
       " '_load_java',\n",
       " '_sc',\n",
       " 'call',\n",
       " 'depth',\n",
       " 'load',\n",
       " 'numNodes',\n",
       " 'predict',\n",
       " 'save',\n",
       " 'toDebugString']"
      ]
     },
     "execution_count": 7,
     "metadata": {},
     "output_type": "execute_result"
    }
   ],
   "source": [
    "dir(model)"
   ]
  },
  {
   "cell_type": "code",
   "execution_count": 8,
   "metadata": {
    "collapsed": false
   },
   "outputs": [
    {
     "data": {
      "text/plain": [
       "<bound method DecisionTreeModel.toDebugString of DecisionTreeModel regressor of depth 3 with 9 nodes>"
      ]
     },
     "execution_count": 8,
     "metadata": {},
     "output_type": "execute_result"
    }
   ],
   "source": [
    "model.toDebugString"
   ]
  },
  {
   "cell_type": "code",
   "execution_count": 9,
   "metadata": {
    "collapsed": false
   },
   "outputs": [],
   "source": [
    "from pyspark.mllib.tree import RandomForest, RandomForestModel\n",
    "forest = RandomForest.trainRegressor(trainingData, categoricalFeaturesInfo={},\n",
    "                                     numTrees=20, featureSubsetStrategy=\"all\",\n",
    "                                     impurity='variance', maxDepth=3)\n"
   ]
  },
  {
   "cell_type": "code",
   "execution_count": 10,
   "metadata": {
    "collapsed": true
   },
   "outputs": [],
   "source": [
    "trees = forest._java_model.trees()"
   ]
  },
  {
   "cell_type": "code",
   "execution_count": 11,
   "metadata": {
    "collapsed": false,
    "scrolled": true
   },
   "outputs": [
    {
     "name": "stdout",
     "output_type": "stream",
     "text": [
      "DecisionTreeModel regressor of depth 3 with 15 nodes\n",
      "  If (feature 7 <= 4.9984)\n",
      "   If (feature 7 <= 3.0491)\n",
      "    If (feature 1 <= 34.61)\n",
      "     Predict: 157948.29657794678\n",
      "    Else (feature 1 > 34.61)\n",
      "     Predict: 114825.26924493554\n",
      "   Else (feature 7 > 3.0491)\n",
      "    If (feature 2 <= 42.0)\n",
      "     Predict: 196515.6275020016\n",
      "    Else (feature 2 > 42.0)\n",
      "     Predict: 269141.65628476086\n",
      "  Else (feature 7 > 4.9984)\n",
      "   If (feature 7 <= 6.8643)\n",
      "    If (feature 2 <= 28.0)\n",
      "     Predict: 267667.529588015\n",
      "    Else (feature 2 > 28.0)\n",
      "     Predict: 328001.60185185185\n",
      "   Else (feature 7 > 6.8643)\n",
      "    If (feature 7 <= 8.1657)\n",
      "     Predict: 384889.52391799545\n",
      "    Else (feature 7 > 8.1657)\n",
      "     Predict: 456953.3729216152\n",
      "\n"
     ]
    }
   ],
   "source": [
    "print(trees[1].toDebugString())"
   ]
  },
  {
   "cell_type": "code",
   "execution_count": 12,
   "metadata": {
    "collapsed": false
   },
   "outputs": [],
   "source": [
    "for i in range(20):\n",
    "    with open(\"data/tree%d.txt\"%i, \"w\") as f:\n",
    "        f.write(trees[i].toDebugString())"
   ]
  },
  {
   "cell_type": "code",
   "execution_count": null,
   "metadata": {
    "collapsed": true
   },
   "outputs": [],
   "source": []
  }
 ],
 "metadata": {
  "kernelspec": {
   "display_name": "Python 2",
   "language": "python",
   "name": "python2"
  },
  "language_info": {
   "codemirror_mode": {
    "name": "ipython",
    "version": 2
   },
   "file_extension": ".py",
   "mimetype": "text/x-python",
   "name": "python",
   "nbconvert_exporter": "python",
   "pygments_lexer": "ipython2",
   "version": "2.7.9"
  }
 },
 "nbformat": 4,
 "nbformat_minor": 0
}
