{
 "cells": [
  {
   "cell_type": "code",
   "execution_count": 1,
   "metadata": {
    "collapsed": false
   },
   "outputs": [
    {
     "name": "stdout",
     "output_type": "stream",
     "text": [
      "/home/taddy/lib/spark\n",
      "Welcome to\n",
      "      ____              __\n",
      "     / __/__  ___ _____/ /__\n",
      "    _\\ \\/ _ \\/ _ `/ __/  '_/\n",
      "   /__ / .__/\\_,_/_/ /_/\\_\\   version 1.6.0-SNAPSHOT\n",
      "      /_/\n",
      "\n",
      "Using Python version 2.7.10 (default, May 28 2015 17:02:03)\n",
      "SparkContext available as sc, SQLContext available as sqlContext.\n"
     ]
    }
   ],
   "source": [
    "import os\n",
    "import sys\n",
    "\n",
    "spark_home = os.environ['SPARK_HOME']\n",
    "print spark_home\n",
    "sys.path.insert(0, spark_home + \"/python/\")\n",
    "sys.path.insert(0, os.path.join(spark_home, 'python/lib/py4j-0.8.2.1-src.zip'))\n",
    "\n",
    "# Initialize PySpark to predefine the SparkContext variable 'sc'\n",
    "execfile(os.path.join(spark_home, 'python/pyspark/shell.py'))"
   ]
  },
  {
   "cell_type": "markdown",
   "metadata": {},
   "source": [
    "Function to read the csv data lines"
   ]
  },
  {
   "cell_type": "code",
   "execution_count": 2,
   "metadata": {
    "collapsed": false
   },
   "outputs": [],
   "source": [
    "import csv\n",
    "import StringIO\n",
    "from pyspark.mllib.regression import LabeledPoint\n",
    "\n",
    "def loadRecord(line):\n",
    "    \"\"\"Parse a CSV line\"\"\"\n",
    "    input = StringIO.StringIO(line)\n",
    "    reader = csv.reader(input)\n",
    "    row = map(float, reader.next())\n",
    "    return LabeledPoint(row[-1],row[:-1]) \n"
   ]
  },
  {
   "cell_type": "markdown",
   "metadata": {},
   "source": [
    "And a bunch of functions to translate from the MLLIB DebugString to a nice dot file."
   ]
  },
  {
   "cell_type": "code",
   "execution_count": 3,
   "metadata": {
    "collapsed": true
   },
   "outputs": [],
   "source": [
    "import re\n",
    "from IPython.display import Image\n",
    "\n",
    "def tree2dict(tstr, covariates, i=0):\n",
    "    m = re.search(r\"Predict: (-*\\d+.\\d+)\", tstr[i])\n",
    "    if m is not None:\n",
    "        return {i-1:round(float(m.group(1)),2)}\n",
    "    else:\n",
    "        m = re.search(r\"If \\(feature (\\d+) <= (-*\\d+.\\d+)\", tstr[i])\n",
    "        if m is not None:\n",
    "            label = covariates[int(m.group(1))] + ' > ' + m.group(2)\n",
    "            left = i + 1\n",
    "            right = [re.search(\n",
    "                    \"Else \\(feature %s > %s\"%(m.group(1),m.group(2)),t)\n",
    "                     for t in tstr]\n",
    "            right = [j for j,r in enumerate(right) if r is not None and j > i][0]+1\n",
    "            return {i-1:{\n",
    "                    'label':label, \n",
    "                    'left':tree2dict(tstr,covariates,left), \n",
    "                    'right':tree2dict(tstr,covariates,right)}}\n",
    "        else:\n",
    "            if i < len(tstr)-1:\n",
    "                return tree2dict(tstr,covariates,i+1)\n",
    "\n",
    "def writenode(t,fout):\n",
    "    i = t.keys()[0]\n",
    "    if type(t[i]) is float:\n",
    "        fout.write('%d [label = \"%.2f\", shape=\"oval\", color=\"darkgreen\"] ;\\n'%(i,t[i]))\n",
    "    else:\n",
    "        fout.write('%d [label = \"%s\", shape=\"box\", color=\"brown\"] ;\\n'%(i,t[i]['label']))\n",
    "        fout.write('%d -> %d ;\\n'%(i,t[i]['left'].keys()[0]))\n",
    "        fout.write('%d -> %d ;\\n'%(i,t[i]['right'].keys()[0]))\n",
    "        writenode(t[i]['left'],fout)\n",
    "        writenode(t[i]['right'],fout)\n",
    "\n",
    "def showtree(tree, covariates, name=\"tree\"):\n",
    "    tstr = tree.toDebugString().strip(\"\\n\").split(\"\\n\")\n",
    "    fout = open(\"%s.dot\"%name,'w')\n",
    "    tdict = tree2dict(tstr, covariates)\n",
    "    fout.write(\"digraph Tree {\\n\")\n",
    "    writenode(tdict,fout)\n",
    "    fout.write(\"}\\n\")\n",
    "    fout.close()\n",
    "    os.system(\"dot -Tpng %s.dot -o %s.png\"%(name,name))\n"
   ]
  },
  {
   "cell_type": "markdown",
   "metadata": {},
   "source": [
    "Read the data"
   ]
  },
  {
   "cell_type": "code",
   "execution_count": 4,
   "metadata": {
    "collapsed": false
   },
   "outputs": [
    {
     "name": "stdout",
     "output_type": "stream",
     "text": [
      "0: longitude\n",
      "1: latitude\n",
      "2: housingMedianAge\n",
      "3: totalRooms\n",
      "4: totalBedrooms\n",
      "5: population\n",
      "6: households\n",
      "7: medianIncome\n",
      "8: medianHouseValue\n",
      "\n",
      "20640 observations like (452600.0,[-122.23,37.88,41.0,880.0,129.0,322.0,126.0,8.3252])\n"
     ]
    }
   ],
   "source": [
    "data = sc.textFile(\"data/CAhousing.csv\")\n",
    "header = data.first() \n",
    "data = data.filter(lambda x:x !=header)   \n",
    "data = data.map(loadRecord)\n",
    "data.persist()\n",
    "\n",
    "var = header.split(\",\")\n",
    "for i,j in enumerate(var):\n",
    "    print \"%d: %s\" % (i,j)\n",
    "\n",
    "n = data.count()\n",
    "print \"\\n\", n, \"observations like\", data.first()\n"
   ]
  },
  {
   "cell_type": "code",
   "execution_count": 5,
   "metadata": {
    "collapsed": false
   },
   "outputs": [
    {
     "name": "stdout",
     "output_type": "stream",
     "text": [
      "DecisionTreeModel regressor of depth 3 with 9 nodes\n",
      "  If (feature 7 <= 4.9464)\n",
      "   If (feature 7 <= 3.045)\n",
      "    If (feature 1 <= 34.57)\n",
      "     Predict: 156277.67788461538\n",
      "    Else (feature 1 > 34.57)\n",
      "     Predict: 114964.72533603855\n",
      "   Else (feature 7 > 3.045)\n",
      "    If (feature 2 <= 26.0)\n",
      "     Predict: 185494.69334064127\n",
      "    Else (feature 2 > 26.0)\n",
      "     Predict: 223689.1108742004\n",
      "  Else (feature 7 > 4.9464)\n",
      "   Predict: 326207.72800173383\n",
      "\n"
     ]
    }
   ],
   "source": [
    "# Train a DecisionTree model.\n",
    "from pyspark.mllib.tree import DecisionTree\n",
    "\n",
    "#  Empty categoricalFeaturesInfo indicates all features are continuous.\n",
    "cahtree = DecisionTree.trainRegressor(data, categoricalFeaturesInfo={},\n",
    "                                    impurity='variance', minInstancesPerNode=3500)\n",
    "\n",
    "print cahtree.toDebugString()"
   ]
  },
  {
   "cell_type": "markdown",
   "metadata": {
    "collapsed": true
   },
   "source": [
    "If you re-run each tree will be slightly different because for continuous inputs spark splits on 32 quantiles of a random subsample of data."
   ]
  },
  {
   "cell_type": "code",
   "execution_count": 6,
   "metadata": {
    "collapsed": false
   },
   "outputs": [
    {
     "data": {
      "image/png": "[encoded data removed]",
      "text/plain": [
       "<IPython.core.display.Image object>"
      ]
     },
     "execution_count": 6,
     "metadata": {},
     "output_type": "execute_result"
    }
   ],
   "source": [
    "showtree(cahtree, var, \"cahtree\")\n",
    "Image(filename=\"cahtree.png\")"
   ]
  },
  {
   "cell_type": "markdown",
   "metadata": {},
   "source": [
    "Now, get observation predictions and node memberships."
   ]
  },
  {
   "cell_type": "code",
   "execution_count": 32,
   "metadata": {
    "collapsed": false
   },
   "outputs": [
    {
     "name": "stdout",
     "output_type": "stream",
     "text": [
      "CPU times: user 3.92 ms, sys: 0 ns, total: 3.92 ms\n",
      "Wall time: 9.13 ms\n",
      "CPU times: user 3.44 ms, sys: 0 ns, total: 3.44 ms\n",
      "Wall time: 5.57 ms\n"
     ]
    }
   ],
   "source": [
    "%time leaf = cahtree.getLeafID(data.map(lambda x: x.features))\n",
    "%time leafval = leaf.zip(data)\n",
    "## the below would be better but it's not valid from python...\n",
    "# leafval = data.map(lambda x: (cahtree.getLeafID(x.features), x))"
   ]
  },
  {
   "cell_type": "code",
   "execution_count": 40,
   "metadata": {
    "collapsed": false
   },
   "outputs": [
    {
     "name": "stdout",
     "output_type": "stream",
     "text": [
      "(3, LabeledPoint(452600.0, [-122.23,37.88,41.0,880.0,129.0,322.0,126.0,8.3252]))\n",
      "(452600.0,[-122.23,37.88,41.0,880.0,129.0,322.0,126.0,8.3252])\n",
      "3\n"
     ]
    }
   ],
   "source": [
    "# some sanity checks\n",
    "print leafval.first()\n",
    "print data.first()\n",
    "print cahtree.getLeafID(data.first().features)"
   ]
  },
  {
   "cell_type": "code",
   "execution_count": 48,
   "metadata": {
    "collapsed": false
   },
   "outputs": [
    {
     "data": {
      "text/plain": [
       "[[(8, 3744), (10, 3649)], [(3, 4614), (9, 3943), (11, 4690)]]"
      ]
     },
     "execution_count": 48,
     "metadata": {},
     "output_type": "execute_result"
    }
   ],
   "source": [
    "# we need the groupByKey here for a re-shuffle\n",
    "branches = leafval.groupByKey()\n",
    "branches.mapValues(len).glom().collect()\n"
   ]
  },
  {
   "cell_type": "code",
   "execution_count": 95,
   "metadata": {
    "collapsed": true
   },
   "outputs": [],
   "source": [
    "# if your groups are small enough, just use the in-memory speedy scikit learn forests\n",
    "import numpy as np\n",
    "import scipy as sp\n",
    "from sklearn import ensemble\n",
    "\n",
    "def fitforest(lvi):\n",
    "    y = [p.label for p in lvi]\n",
    "    x = np.array([p.features for p in lvi])\n",
    "    f = ensemble.RandomForestRegressor(n_estimators=100,min_samples_leaf=100)\n",
    "    f.fit(x, y)\n",
    "    return f\n"
   ]
  },
  {
   "cell_type": "code",
   "execution_count": 110,
   "metadata": {
    "collapsed": false,
    "scrolled": true
   },
   "outputs": [
    {
     "data": {
      "text/plain": [
       "5"
      ]
     },
     "execution_count": 110,
     "metadata": {},
     "output_type": "execute_result"
    }
   ],
   "source": [
    "caf = branches.mapValues(fitforest).collectAsMap()\n",
    "len(caf)"
   ]
  },
  {
   "cell_type": "code",
   "execution_count": 125,
   "metadata": {
    "collapsed": true
   },
   "outputs": [],
   "source": [
    "def predforest(key, lvi):\n",
    "    y = [p.label for p in lvi]\n",
    "    x = np.array([p.features for p in lvi])\n",
    "    yhat = caf[key].predict(x).round()\n",
    "    yy = np.array([y,yhat])\n",
    "    return yy.T\n",
    "    \n"
   ]
  },
  {
   "cell_type": "code",
   "execution_count": 126,
   "metadata": {
    "collapsed": false
   },
   "outputs": [
    {
     "data": {
      "text/plain": [
       "[array([[  60800.,   85204.],\n",
       "        [  53400.,  102625.],\n",
       "        [  46700.,   91731.],\n",
       "        ..., \n",
       "        [ 176000.,  240620.],\n",
       "        [ 196400.,  229453.],\n",
       "        [ 325000.,  232023.]]), array([[ 256100.,  253003.],\n",
       "        [ 143800.,  244960.],\n",
       "        [ 228400.,  260350.],\n",
       "        ..., \n",
       "        [ 112000.,  128743.],\n",
       "        [ 107200.,  127131.],\n",
       "        [ 115600.,  126561.]]), array([[ 452600.,  460141.],\n",
       "        [ 358500.,  418952.],\n",
       "        [ 352100.,  423408.],\n",
       "        ..., \n",
       "        [ 286000.,  257096.],\n",
       "        [ 165000.,  212686.],\n",
       "        [ 225000.,  260275.]]), array([[ 226700.,  153341.],\n",
       "        [ 191300.,  160194.],\n",
       "        [ 159200.,  153341.],\n",
       "        ..., \n",
       "        [  92300.,   92147.],\n",
       "        [  84700.,   95014.],\n",
       "        [  89400.,  107065.]]), array([[ 342200.,  217538.],\n",
       "        [ 269700.,  217356.],\n",
       "        [ 299200.,  239107.],\n",
       "        ..., \n",
       "        [ 100000.,  175188.],\n",
       "        [  72000.,  162963.],\n",
       "        [ 116800.,  134144.]])]"
      ]
     },
     "execution_count": 126,
     "metadata": {},
     "output_type": "execute_result"
    }
   ],
   "source": [
    "fits = branches.map( lambda p: predforest(p[0],p[1]) ).collect()\n",
    "fits"
   ]
  }
 ],
 "metadata": {
  "kernelspec": {
   "display_name": "Python 2",
   "language": "python",
   "name": "python2"
  },
  "language_info": {
   "codemirror_mode": {
    "name": "ipython",
    "version": 2
   },
   "file_extension": ".py",
   "mimetype": "text/x-python",
   "name": "python",
   "nbconvert_exporter": "python",
   "pygments_lexer": "ipython2",
   "version": "2.7.10"
  }
 },
 "nbformat": 4,
 "nbformat_minor": 0
}
