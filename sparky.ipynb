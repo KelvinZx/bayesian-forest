{
 "cells": [
  {
   "cell_type": "code",
   "execution_count": 2,
   "metadata": {
    "collapsed": false
   },
   "outputs": [
    {
     "name": "stdout",
     "output_type": "stream",
     "text": [
      "/home/taddy/lib/spark\n",
      "Welcome to\n",
      "      ____              __\n",
      "     / __/__  ___ _____/ /__\n",
      "    _\\ \\/ _ \\/ _ `/ __/  '_/\n",
      "   /__ / .__/\\_,_/_/ /_/\\_\\   version 1.6.0-SNAPSHOT\n",
      "      /_/\n",
      "\n",
      "Using Python version 2.7.10 (default, May 28 2015 17:02:03)\n",
      "SparkContext available as sc, SQLContext available as sqlContext.\n"
     ]
    }
   ],
   "source": [
    "import os\n",
    "import sys\n",
    "\n",
    "spark_home = os.environ['SPARK_HOME']\n",
    "print spark_home\n",
    "sys.path.insert(0, spark_home + \"/python/\")\n",
    "sys.path.insert(0, os.path.join(spark_home, 'python/lib/py4j-0.8.2.1-src.zip'))\n",
    "\n",
    "# Initialize PySpark to predefine the SparkContext variable 'sc'\n",
    "execfile(os.path.join(spark_home, 'python/pyspark/shell.py'))"
   ]
  },
  {
   "cell_type": "markdown",
   "metadata": {},
   "source": [
    "Function to read the csv data lines"
   ]
  },
  {
   "cell_type": "code",
   "execution_count": 3,
   "metadata": {
    "collapsed": false
   },
   "outputs": [],
   "source": [
    "import csv\n",
    "import StringIO\n",
    "from pyspark.mllib.regression import LabeledPoint\n",
    "\n",
    "def loadRecord(line):\n",
    "    \"\"\"Parse a CSV line\"\"\"\n",
    "    input = StringIO.StringIO(line)\n",
    "    reader = csv.reader(input)\n",
    "    row = map(float, reader.next())\n",
    "    return LabeledPoint(row[-1],row[:-1]) \n"
   ]
  },
  {
   "cell_type": "markdown",
   "metadata": {},
   "source": [
    "And a bunch of functions to translate from the MLLIB DebugString to a nice dot file."
   ]
  },
  {
   "cell_type": "code",
   "execution_count": 4,
   "metadata": {
    "collapsed": true
   },
   "outputs": [],
   "source": [
    "import re\n",
    "from IPython.display import Image\n",
    "\n",
    "def tree2dict(tstr, covariates, i=0):\n",
    "    m = re.search(r\"Predict: (-*\\d+.\\d+)\", tstr[i])\n",
    "    if m is not None:\n",
    "        return {i-1:round(float(m.group(1)),2)}\n",
    "    else:\n",
    "        m = re.search(r\"If \\(feature (\\d+) <= (-*\\d+.\\d+)\", tstr[i])\n",
    "        if m is not None:\n",
    "            label = covariates[int(m.group(1))] + ' > ' + m.group(2)\n",
    "            left = i + 1\n",
    "            right = [re.search(\n",
    "                    \"Else \\(feature %s > %s\"%(m.group(1),m.group(2)),t)\n",
    "                     for t in tstr]\n",
    "            right = [j for j,r in enumerate(right) if r is not None and j > i][0]+1\n",
    "            return {i-1:{\n",
    "                    'label':label, \n",
    "                    'left':tree2dict(tstr,covariates,left), \n",
    "                    'right':tree2dict(tstr,covariates,right)}}\n",
    "        else:\n",
    "            if i < len(tstr)-1:\n",
    "                return tree2dict(tstr,covariates,i+1)\n",
    "\n",
    "def writenode(t,fout):\n",
    "    i = t.keys()[0]\n",
    "    if type(t[i]) is float:\n",
    "        fout.write('%d [label = \"%.2f\", shape=\"oval\", color=\"darkgreen\"] ;\\n'%(i,t[i]))\n",
    "    else:\n",
    "        fout.write('%d [label = \"%s\", shape=\"box\", color=\"brown\"] ;\\n'%(i,t[i]['label']))\n",
    "        fout.write('%d -> %d ;\\n'%(i,t[i]['left'].keys()[0]))\n",
    "        fout.write('%d -> %d ;\\n'%(i,t[i]['right'].keys()[0]))\n",
    "        writenode(t[i]['left'],fout)\n",
    "        writenode(t[i]['right'],fout)\n",
    "\n",
    "def showtree(tree, covariates, name=\"tree\"):\n",
    "    tstr = tree.toDebugString().strip(\"\\n\").split(\"\\n\")\n",
    "    fout = open(\"%s.dot\"%name,'w')\n",
    "    tdict = tree2dict(tstr, covariates)\n",
    "    fout.write(\"digraph Tree {\\n\")\n",
    "    writenode(tdict,fout)\n",
    "    fout.write(\"}\\n\")\n",
    "    fout.close()\n",
    "    os.system(\"dot -Tpng %s.dot -o %s.png\"%(name,name))\n"
   ]
  },
  {
   "cell_type": "markdown",
   "metadata": {},
   "source": [
    "Read the data"
   ]
  },
  {
   "cell_type": "code",
   "execution_count": 5,
   "metadata": {
    "collapsed": false
   },
   "outputs": [
    {
     "name": "stdout",
     "output_type": "stream",
     "text": [
      "0: longitude\n",
      "1: latitude\n",
      "2: housingMedianAge\n",
      "3: totalRooms\n",
      "4: totalBedrooms\n",
      "5: population\n",
      "6: households\n",
      "7: medianIncome\n",
      "8: medianHouseValue\n",
      "\n",
      "20640 observations like (452600.0,[-122.23,37.88,41.0,880.0,129.0,322.0,126.0,8.3252])\n"
     ]
    }
   ],
   "source": [
    "data = sc.textFile(\"data/CAhousing.csv\")\n",
    "header = data.first() \n",
    "data = data.filter(lambda x:x !=header)   \n",
    "data = data.map(loadRecord)\n",
    "data.persist()\n",
    "\n",
    "var = header.split(\",\")\n",
    "for i,j in enumerate(var):\n",
    "    print \"%d: %s\" % (i,j)\n",
    "\n",
    "n = data.count()\n",
    "print \"\\n\", n, \"observations like\", data.first()\n"
   ]
  },
  {
   "cell_type": "code",
   "execution_count": 6,
   "metadata": {
    "collapsed": false
   },
   "outputs": [
    {
     "name": "stdout",
     "output_type": "stream",
     "text": [
      "DecisionTreeModel regressor of depth 3 with 9 nodes\n",
      "  If (feature 7 <= 5.0151)\n",
      "   If (feature 7 <= 3.0645)\n",
      "    If (feature 1 <= 35.22)\n",
      "     Predict: 154948.70910007562\n",
      "    Else (feature 1 > 35.22)\n",
      "     Predict: 115452.57131681878\n",
      "   Else (feature 7 > 3.0645)\n",
      "    If (feature 2 <= 26.0)\n",
      "     Predict: 186765.23662048357\n",
      "    Else (feature 2 > 26.0)\n",
      "     Predict: 225220.9203821656\n",
      "  Else (feature 7 > 5.0151)\n",
      "   Predict: 329163.1549359118\n",
      "\n"
     ]
    }
   ],
   "source": [
    "# Train a DecisionTree model.\n",
    "from pyspark.mllib.tree import DecisionTree\n",
    "\n",
    "#  Empty categoricalFeaturesInfo indicates all features are continuous.\n",
    "cahtree = DecisionTree.trainRegressor(data, categoricalFeaturesInfo={},\n",
    "                                    impurity='variance', minInstancesPerNode=3500)\n",
    "\n",
    "print cahtree.toDebugString()"
   ]
  },
  {
   "cell_type": "markdown",
   "metadata": {
    "collapsed": true
   },
   "source": [
    "If you re-run each tree will be slightly different because for continuous inputs spark splits on 32 quantiles of a random subsample of data."
   ]
  },
  {
   "cell_type": "code",
   "execution_count": 7,
   "metadata": {
    "collapsed": false
   },
   "outputs": [
    {
     "data": {
      "image/png": "[encoded data removed]",
      "text/plain": [
       "<IPython.core.display.Image object>"
      ]
     },
     "execution_count": 7,
     "metadata": {},
     "output_type": "execute_result"
    }
   ],
   "source": [
    "showtree(cahtree, var, \"cahtree\")\n",
    "Image(filename=\"cahtree.png\")"
   ]
  },
  {
   "cell_type": "markdown",
   "metadata": {},
   "source": [
    "Now, get observation predictions and node memberships."
   ]
  },
  {
   "cell_type": "code",
   "execution_count": 9,
   "metadata": {
    "collapsed": false
   },
   "outputs": [
    {
     "ename": "AttributeError",
     "evalue": "'DecisionTreeModel' object has no attribute 'predictWithID'",
     "output_type": "error",
     "traceback": [
      "\u001b[1;31m---------------------------------------------------------------------------\u001b[0m",
      "\u001b[1;31mAttributeError\u001b[0m                            Traceback (most recent call last)",
      "\u001b[1;32m<ipython-input-9-1978572b978f>\u001b[0m in \u001b[0;36m<module>\u001b[1;34m()\u001b[0m\n\u001b[1;32m----> 1\u001b[1;33m \u001b[0myhat\u001b[0m \u001b[1;33m=\u001b[0m \u001b[0mcahtree\u001b[0m\u001b[1;33m.\u001b[0m\u001b[0mpredictWithID\u001b[0m\u001b[1;33m(\u001b[0m\u001b[0mdata\u001b[0m\u001b[1;33m.\u001b[0m\u001b[0mmap\u001b[0m\u001b[1;33m(\u001b[0m\u001b[1;32mlambda\u001b[0m \u001b[0mx\u001b[0m\u001b[1;33m:\u001b[0m \u001b[0mx\u001b[0m\u001b[1;33m.\u001b[0m\u001b[0mfeatures\u001b[0m\u001b[1;33m)\u001b[0m\u001b[1;33m)\u001b[0m\u001b[1;33m\u001b[0m\u001b[0m\n\u001b[0m",
      "\u001b[1;31mAttributeError\u001b[0m: 'DecisionTreeModel' object has no attribute 'predictWithID'"
     ]
    }
   ],
   "source": [
    "yhat = cahtree.predictWithID(data.map(lambda x: x.features))\n"
   ]
  },
  {
   "cell_type": "code",
   "execution_count": 7,
   "metadata": {
    "collapsed": false
   },
   "outputs": [
    {
     "data": {
      "text/plain": [
       "['__class__',\n",
       " '__del__',\n",
       " '__delattr__',\n",
       " '__dict__',\n",
       " '__doc__',\n",
       " '__format__',\n",
       " '__getattribute__',\n",
       " '__hash__',\n",
       " '__init__',\n",
       " '__module__',\n",
       " '__new__',\n",
       " '__reduce__',\n",
       " '__reduce_ex__',\n",
       " '__repr__',\n",
       " '__setattr__',\n",
       " '__sizeof__',\n",
       " '__str__',\n",
       " '__subclasshook__',\n",
       " '__weakref__',\n",
       " '_java_loader_class',\n",
       " '_java_model',\n",
       " '_load_java',\n",
       " '_sc',\n",
       " 'call',\n",
       " 'depth',\n",
       " 'load',\n",
       " 'numNodes',\n",
       " 'predict',\n",
       " 'save',\n",
       " 'toDebugString']"
      ]
     },
     "execution_count": 7,
     "metadata": {},
     "output_type": "execute_result"
    }
   ],
   "source": [
    "\n",
    "\n",
    "\n",
    "labelsAndPredictions = testData.map(lambda lp: lp.label).zip(predictions)\n",
    "testMSE = labelsAndPredictions.map(lambda (v, p): (v - p) * (v - p)).sum() / float(testData.count())\n",
    "print('Test Mean Squared Error = ' + str(testMSE))\n",
    "print('Learned regression tree model:')\n",
    "print(model.toDebugString())\n",
    "dir(model)"
   ]
  },
  {
   "cell_type": "code",
   "execution_count": 8,
   "metadata": {
    "collapsed": false
   },
   "outputs": [
    {
     "data": {
      "text/plain": [
       "<bound method DecisionTreeModel.toDebugString of DecisionTreeModel regressor of depth 3 with 9 nodes>"
      ]
     },
     "execution_count": 8,
     "metadata": {},
     "output_type": "execute_result"
    }
   ],
   "source": [
    "model.toDebugString"
   ]
  },
  {
   "cell_type": "code",
   "execution_count": 9,
   "metadata": {
    "collapsed": false
   },
   "outputs": [],
   "source": [
    "from pyspark.mllib.tree import RandomForest, RandomForestModel\n",
    "forest = RandomForest.trainRegressor(trainingData, categoricalFeaturesInfo={},\n",
    "                                     numTrees=20, featureSubsetStrategy=\"all\",\n",
    "                                     impurity='variance', maxDepth=3)\n"
   ]
  },
  {
   "cell_type": "code",
   "execution_count": 10,
   "metadata": {
    "collapsed": true
   },
   "outputs": [],
   "source": [
    "trees = forest._java_model.trees()"
   ]
  }
 ],
 "metadata": {
  "kernelspec": {
   "display_name": "Python 2",
   "language": "python",
   "name": "python2"
  },
  "language_info": {
   "codemirror_mode": {
    "name": "ipython",
    "version": 2
   },
   "file_extension": ".py",
   "mimetype": "text/x-python",
   "name": "python",
   "nbconvert_exporter": "python",
   "pygments_lexer": "ipython2",
   "version": "2.7.10"
  }
 },
 "nbformat": 4,
 "nbformat_minor": 0
}
